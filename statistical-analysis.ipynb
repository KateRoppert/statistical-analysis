{
 "cells": [
  {
   "cell_type": "markdown",
   "id": "cd6f35ac",
   "metadata": {},
   "source": [
    "# Определение перспективного тарифа для телеком-компании"
   ]
  },
  {
   "cell_type": "markdown",
   "id": "ff166950",
   "metadata": {},
   "source": [
    "**Заказчик исследования:** Компания «Мегалайн» — федеральный оператор сотовой связи.   \n",
    "**Описание проекта:** Клиентам предлагают два тарифных плана: «Смарт» и «Ультра». Чтобы скорректировать рекламный бюджет, коммерческий департамент хочет понять, какой тариф приносит больше денег.  \n",
    "**Данные:** В вашем распоряжении данные 500 пользователей «Мегалайна»: кто они, откуда, каким тарифом пользуются, сколько звонков и сообщений каждый отправил за 2018 год.   \n",
    "**Задача:** Проанализировать тарифы и поведение клиентов, использующих их, и сделать вывод — какой тариф лучше."
   ]
  },
  {
   "cell_type": "markdown",
   "id": "d0a4d226",
   "metadata": {},
   "source": [
    "**Описание тарифов**\n",
    "1. ***Тариф «Смарт»***  \n",
    "Ежемесячная плата: 550 рублей  \n",
    "Включено 500 минут разговора, 50 сообщений и 15 Гб интернет-трафика  \n",
    "Стоимость услуг сверх тарифного пакета:  \n",
    "минута разговора: 3 рубля  \n",
    "сообщение: 3 рубля  \n",
    "1 Гб интернет-трафика: 200 рублей  \n",
    "  \n",
    "2. ***Тариф «Ультра»***  \n",
    "Ежемесячная плата: 1950 рублей  \n",
    "Включено 3000 минут разговора, 1000 сообщений и 30 Гб интернет-трафика  \n",
    "Стоимость услуг сверх тарифного пакета:  \n",
    "минута разговора: 1 рубль  \n",
    "сообщение: 1 рубль  \n",
    "1 Гб интернет-трафика: 150 рублей  "
   ]
  },
  {
   "cell_type": "markdown",
   "id": "78cb3ca5",
   "metadata": {},
   "source": [
    "**Примечание**  \n",
    "«Мегалайн» всегда округляет секунды до минут, а мегабайты — до гигабайт. Каждый звонок округляется отдельно: даже если он длился всего 1 секунду, будет засчитан как 1 минута.\n",
    "Для веб-трафика отдельные сессии не считаются. Вместо этого общая сумма за месяц округляется в бо́льшую сторону. Если абонент использует 1025 мегабайт в этом месяце, с него возьмут плату за 2 гигабайта. Неиспользованные за предыдущий месяц звонки, смс, интернет на следующий месяц не переносятся."
   ]
  },
  {
   "cell_type": "markdown",
   "id": "842e382a",
   "metadata": {},
   "source": [
    "**Документация к данным**  \n",
    "  \n",
    "Таблица users (информация о пользователях):\n",
    "- `user_id` — уникальный идентификатор пользователя\n",
    "- `first_name` — имя пользователя\n",
    "- `last_name` — фамилия пользователя\n",
    "- `age` — возраст пользователя (годы)\n",
    "- `reg_date` — дата подключения тарифа (день, месяц, год)\n",
    "- `churn_date` — дата прекращения пользования тарифом (если значение пропущено, то тариф ещё действовал на момент выгрузки данных)\n",
    "- `city` — город проживания пользователя\n",
    "- `tariff` — название тарифного плана\n",
    "  \n",
    "  \n",
    "Таблица calls (информация о звонках):\n",
    "- `id` — уникальный номер звонка\n",
    "- `call_date` — дата звонка\n",
    "- `duration` — длительность звонка в минутах\n",
    "- `user_id` — идентификатор пользователя, сделавшего звонок\n",
    "  \n",
    "  \n",
    "Таблица messages (информация о сообщениях):\n",
    "- `id` — уникальный номер сообщения\n",
    "- `message_date` — дата сообщения\n",
    "- `user_id` — идентификатор пользователя, отправившего сообщение\n",
    "  \n",
    "  \n",
    "Таблица internet (информация об интернет-сессиях):\n",
    "- `id` — уникальный номер сессии\n",
    "- `mb_used` — объём потраченного за сессию интернет-трафика (в мегабайтах)\n",
    "- `session_date` — дата интернет-сессии\n",
    "- `user_id` — идентификатор пользователя\n",
    "  \n",
    "Таблица tariffs (информация о тарифах):\n",
    "- `tariff_name` — название тарифа\n",
    "- `rub_monthly_fee` — ежемесячная абонентская плата в рублях\n",
    "- `minutes_included` — количество минут разговора в месяц, включённых в абонентскую плату\n",
    "- `messages_included` — количество сообщений в месяц, включённых в абонентскую плату\n",
    "- `mb_per_month_included` — объём интернет-трафика, включённого в абонентскую плату (в мегабайтах)\n",
    "- `rub_per_minute` — стоимость минуты разговора сверх тарифного пакета (например, если в тарифе 100 минут разговора в месяц, то со 101 минуты будет взиматься плата)\n",
    "- `rub_per_message` — стоимость отправки сообщения сверх тарифного пакета\n",
    "- `rub_per_gb` — стоимость дополнительного гигабайта интернет-трафика сверх тарифного пакета (1 гигабайт = 1024 мегабайта)"
   ]
  },
  {
   "cell_type": "markdown",
   "id": "052c654c",
   "metadata": {},
   "source": [
    "## Изучение данных"
   ]
  },
  {
   "cell_type": "code",
   "execution_count": 1615,
   "id": "c7065f1c",
   "metadata": {},
   "outputs": [],
   "source": [
    "# импортирование необходимых библиотек и настройка отображения значений\n",
    "import pandas as pd \n",
    "import matplotlib.pyplot as plt\n",
    "import seaborn as sns\n",
    "import math\n",
    "import numpy as np\n",
    "from scipy import stats as st \n",
    "pd.set_option('display.float_format', lambda x: '%.3f' % x)\n",
    "pd.set_option('mode.chained_assignment', None)"
   ]
  },
  {
   "cell_type": "code",
   "execution_count": 1616,
   "id": "75485121",
   "metadata": {},
   "outputs": [],
   "source": [
    "# прочитаем файлы с данными и запишем в переменные\n",
    "calls = pd.read_csv('/datasets/calls.csv')\n",
    "internet = pd.read_csv('/datasets/internet.csv', index_col=0)\n",
    "messages = pd.read_csv('/datasets/messages.csv')\n",
    "tariffs = pd.read_csv('/datasets/tariffs.csv')\n",
    "users = pd.read_csv('/datasets/users.csv')"
   ]
  },
  {
   "cell_type": "code",
   "execution_count": 1617,
   "id": "2a447f12",
   "metadata": {
    "scrolled": true
   },
   "outputs": [
    {
     "data": {
      "text/html": [
       "<div>\n",
       "<style scoped>\n",
       "    .dataframe tbody tr th:only-of-type {\n",
       "        vertical-align: middle;\n",
       "    }\n",
       "\n",
       "    .dataframe tbody tr th {\n",
       "        vertical-align: top;\n",
       "    }\n",
       "\n",
       "    .dataframe thead th {\n",
       "        text-align: right;\n",
       "    }\n",
       "</style>\n",
       "<table border=\"1\" class=\"dataframe\">\n",
       "  <thead>\n",
       "    <tr style=\"text-align: right;\">\n",
       "      <th></th>\n",
       "      <th>id</th>\n",
       "      <th>call_date</th>\n",
       "      <th>duration</th>\n",
       "      <th>user_id</th>\n",
       "    </tr>\n",
       "  </thead>\n",
       "  <tbody>\n",
       "    <tr>\n",
       "      <th>0</th>\n",
       "      <td>1000_0</td>\n",
       "      <td>2018-07-25</td>\n",
       "      <td>0.000</td>\n",
       "      <td>1000</td>\n",
       "    </tr>\n",
       "    <tr>\n",
       "      <th>1</th>\n",
       "      <td>1000_1</td>\n",
       "      <td>2018-08-17</td>\n",
       "      <td>0.000</td>\n",
       "      <td>1000</td>\n",
       "    </tr>\n",
       "    <tr>\n",
       "      <th>2</th>\n",
       "      <td>1000_2</td>\n",
       "      <td>2018-06-11</td>\n",
       "      <td>2.850</td>\n",
       "      <td>1000</td>\n",
       "    </tr>\n",
       "    <tr>\n",
       "      <th>3</th>\n",
       "      <td>1000_3</td>\n",
       "      <td>2018-09-21</td>\n",
       "      <td>13.800</td>\n",
       "      <td>1000</td>\n",
       "    </tr>\n",
       "    <tr>\n",
       "      <th>4</th>\n",
       "      <td>1000_4</td>\n",
       "      <td>2018-12-15</td>\n",
       "      <td>5.180</td>\n",
       "      <td>1000</td>\n",
       "    </tr>\n",
       "  </tbody>\n",
       "</table>\n",
       "</div>"
      ],
      "text/plain": [
       "       id   call_date  duration  user_id\n",
       "0  1000_0  2018-07-25     0.000     1000\n",
       "1  1000_1  2018-08-17     0.000     1000\n",
       "2  1000_2  2018-06-11     2.850     1000\n",
       "3  1000_3  2018-09-21    13.800     1000\n",
       "4  1000_4  2018-12-15     5.180     1000"
      ]
     },
     "execution_count": 1617,
     "metadata": {},
     "output_type": "execute_result"
    }
   ],
   "source": [
    "# получим первые строки calls\n",
    "calls.head()"
   ]
  },
  {
   "cell_type": "code",
   "execution_count": 1618,
   "id": "4ae8b723",
   "metadata": {},
   "outputs": [
    {
     "name": "stdout",
     "output_type": "stream",
     "text": [
      "<class 'pandas.core.frame.DataFrame'>\n",
      "RangeIndex: 202607 entries, 0 to 202606\n",
      "Data columns (total 4 columns):\n",
      " #   Column     Non-Null Count   Dtype  \n",
      "---  ------     --------------   -----  \n",
      " 0   id         202607 non-null  object \n",
      " 1   call_date  202607 non-null  object \n",
      " 2   duration   202607 non-null  float64\n",
      " 3   user_id    202607 non-null  int64  \n",
      "dtypes: float64(1), int64(1), object(2)\n",
      "memory usage: 6.2+ MB\n"
     ]
    }
   ],
   "source": [
    "calls.info()"
   ]
  },
  {
   "cell_type": "code",
   "execution_count": 1619,
   "id": "4ab9ccb0",
   "metadata": {
    "scrolled": true
   },
   "outputs": [
    {
     "data": {
      "text/html": [
       "<div>\n",
       "<style scoped>\n",
       "    .dataframe tbody tr th:only-of-type {\n",
       "        vertical-align: middle;\n",
       "    }\n",
       "\n",
       "    .dataframe tbody tr th {\n",
       "        vertical-align: top;\n",
       "    }\n",
       "\n",
       "    .dataframe thead th {\n",
       "        text-align: right;\n",
       "    }\n",
       "</style>\n",
       "<table border=\"1\" class=\"dataframe\">\n",
       "  <thead>\n",
       "    <tr style=\"text-align: right;\">\n",
       "      <th></th>\n",
       "      <th>id</th>\n",
       "      <th>mb_used</th>\n",
       "      <th>session_date</th>\n",
       "      <th>user_id</th>\n",
       "    </tr>\n",
       "  </thead>\n",
       "  <tbody>\n",
       "    <tr>\n",
       "      <th>0</th>\n",
       "      <td>1000_0</td>\n",
       "      <td>112.950</td>\n",
       "      <td>2018-11-25</td>\n",
       "      <td>1000</td>\n",
       "    </tr>\n",
       "    <tr>\n",
       "      <th>1</th>\n",
       "      <td>1000_1</td>\n",
       "      <td>1052.810</td>\n",
       "      <td>2018-09-07</td>\n",
       "      <td>1000</td>\n",
       "    </tr>\n",
       "    <tr>\n",
       "      <th>2</th>\n",
       "      <td>1000_2</td>\n",
       "      <td>1197.260</td>\n",
       "      <td>2018-06-25</td>\n",
       "      <td>1000</td>\n",
       "    </tr>\n",
       "    <tr>\n",
       "      <th>3</th>\n",
       "      <td>1000_3</td>\n",
       "      <td>550.270</td>\n",
       "      <td>2018-08-22</td>\n",
       "      <td>1000</td>\n",
       "    </tr>\n",
       "    <tr>\n",
       "      <th>4</th>\n",
       "      <td>1000_4</td>\n",
       "      <td>302.560</td>\n",
       "      <td>2018-09-24</td>\n",
       "      <td>1000</td>\n",
       "    </tr>\n",
       "  </tbody>\n",
       "</table>\n",
       "</div>"
      ],
      "text/plain": [
       "       id  mb_used session_date  user_id\n",
       "0  1000_0  112.950   2018-11-25     1000\n",
       "1  1000_1 1052.810   2018-09-07     1000\n",
       "2  1000_2 1197.260   2018-06-25     1000\n",
       "3  1000_3  550.270   2018-08-22     1000\n",
       "4  1000_4  302.560   2018-09-24     1000"
      ]
     },
     "execution_count": 1619,
     "metadata": {},
     "output_type": "execute_result"
    }
   ],
   "source": [
    "# получим первые строки internet\n",
    "internet.head()"
   ]
  },
  {
   "cell_type": "code",
   "execution_count": 1620,
   "id": "5edd98de",
   "metadata": {
    "scrolled": true
   },
   "outputs": [
    {
     "name": "stdout",
     "output_type": "stream",
     "text": [
      "<class 'pandas.core.frame.DataFrame'>\n",
      "Int64Index: 149396 entries, 0 to 149395\n",
      "Data columns (total 4 columns):\n",
      " #   Column        Non-Null Count   Dtype  \n",
      "---  ------        --------------   -----  \n",
      " 0   id            149396 non-null  object \n",
      " 1   mb_used       149396 non-null  float64\n",
      " 2   session_date  149396 non-null  object \n",
      " 3   user_id       149396 non-null  int64  \n",
      "dtypes: float64(1), int64(1), object(2)\n",
      "memory usage: 5.7+ MB\n"
     ]
    }
   ],
   "source": [
    "internet.info()"
   ]
  },
  {
   "cell_type": "code",
   "execution_count": 1621,
   "id": "7fa7e9cf",
   "metadata": {},
   "outputs": [
    {
     "data": {
      "text/html": [
       "<div>\n",
       "<style scoped>\n",
       "    .dataframe tbody tr th:only-of-type {\n",
       "        vertical-align: middle;\n",
       "    }\n",
       "\n",
       "    .dataframe tbody tr th {\n",
       "        vertical-align: top;\n",
       "    }\n",
       "\n",
       "    .dataframe thead th {\n",
       "        text-align: right;\n",
       "    }\n",
       "</style>\n",
       "<table border=\"1\" class=\"dataframe\">\n",
       "  <thead>\n",
       "    <tr style=\"text-align: right;\">\n",
       "      <th></th>\n",
       "      <th>id</th>\n",
       "      <th>message_date</th>\n",
       "      <th>user_id</th>\n",
       "    </tr>\n",
       "  </thead>\n",
       "  <tbody>\n",
       "    <tr>\n",
       "      <th>0</th>\n",
       "      <td>1000_0</td>\n",
       "      <td>2018-06-27</td>\n",
       "      <td>1000</td>\n",
       "    </tr>\n",
       "    <tr>\n",
       "      <th>1</th>\n",
       "      <td>1000_1</td>\n",
       "      <td>2018-10-08</td>\n",
       "      <td>1000</td>\n",
       "    </tr>\n",
       "    <tr>\n",
       "      <th>2</th>\n",
       "      <td>1000_2</td>\n",
       "      <td>2018-08-04</td>\n",
       "      <td>1000</td>\n",
       "    </tr>\n",
       "    <tr>\n",
       "      <th>3</th>\n",
       "      <td>1000_3</td>\n",
       "      <td>2018-06-16</td>\n",
       "      <td>1000</td>\n",
       "    </tr>\n",
       "    <tr>\n",
       "      <th>4</th>\n",
       "      <td>1000_4</td>\n",
       "      <td>2018-12-05</td>\n",
       "      <td>1000</td>\n",
       "    </tr>\n",
       "  </tbody>\n",
       "</table>\n",
       "</div>"
      ],
      "text/plain": [
       "       id message_date  user_id\n",
       "0  1000_0   2018-06-27     1000\n",
       "1  1000_1   2018-10-08     1000\n",
       "2  1000_2   2018-08-04     1000\n",
       "3  1000_3   2018-06-16     1000\n",
       "4  1000_4   2018-12-05     1000"
      ]
     },
     "execution_count": 1621,
     "metadata": {},
     "output_type": "execute_result"
    }
   ],
   "source": [
    "# получим первые строки messages\n",
    "messages.head()"
   ]
  },
  {
   "cell_type": "code",
   "execution_count": 1622,
   "id": "ddbb74d2",
   "metadata": {},
   "outputs": [
    {
     "name": "stdout",
     "output_type": "stream",
     "text": [
      "<class 'pandas.core.frame.DataFrame'>\n",
      "RangeIndex: 123036 entries, 0 to 123035\n",
      "Data columns (total 3 columns):\n",
      " #   Column        Non-Null Count   Dtype \n",
      "---  ------        --------------   ----- \n",
      " 0   id            123036 non-null  object\n",
      " 1   message_date  123036 non-null  object\n",
      " 2   user_id       123036 non-null  int64 \n",
      "dtypes: int64(1), object(2)\n",
      "memory usage: 2.8+ MB\n"
     ]
    }
   ],
   "source": [
    "messages.info()"
   ]
  },
  {
   "cell_type": "code",
   "execution_count": 1623,
   "id": "ca1e3b03",
   "metadata": {
    "scrolled": true
   },
   "outputs": [
    {
     "data": {
      "text/html": [
       "<div>\n",
       "<style scoped>\n",
       "    .dataframe tbody tr th:only-of-type {\n",
       "        vertical-align: middle;\n",
       "    }\n",
       "\n",
       "    .dataframe tbody tr th {\n",
       "        vertical-align: top;\n",
       "    }\n",
       "\n",
       "    .dataframe thead th {\n",
       "        text-align: right;\n",
       "    }\n",
       "</style>\n",
       "<table border=\"1\" class=\"dataframe\">\n",
       "  <thead>\n",
       "    <tr style=\"text-align: right;\">\n",
       "      <th></th>\n",
       "      <th>messages_included</th>\n",
       "      <th>mb_per_month_included</th>\n",
       "      <th>minutes_included</th>\n",
       "      <th>rub_monthly_fee</th>\n",
       "      <th>rub_per_gb</th>\n",
       "      <th>rub_per_message</th>\n",
       "      <th>rub_per_minute</th>\n",
       "      <th>tariff_name</th>\n",
       "    </tr>\n",
       "  </thead>\n",
       "  <tbody>\n",
       "    <tr>\n",
       "      <th>0</th>\n",
       "      <td>50</td>\n",
       "      <td>15360</td>\n",
       "      <td>500</td>\n",
       "      <td>550</td>\n",
       "      <td>200</td>\n",
       "      <td>3</td>\n",
       "      <td>3</td>\n",
       "      <td>smart</td>\n",
       "    </tr>\n",
       "    <tr>\n",
       "      <th>1</th>\n",
       "      <td>1000</td>\n",
       "      <td>30720</td>\n",
       "      <td>3000</td>\n",
       "      <td>1950</td>\n",
       "      <td>150</td>\n",
       "      <td>1</td>\n",
       "      <td>1</td>\n",
       "      <td>ultra</td>\n",
       "    </tr>\n",
       "  </tbody>\n",
       "</table>\n",
       "</div>"
      ],
      "text/plain": [
       "   messages_included  mb_per_month_included  minutes_included  \\\n",
       "0                 50                  15360               500   \n",
       "1               1000                  30720              3000   \n",
       "\n",
       "   rub_monthly_fee  rub_per_gb  rub_per_message  rub_per_minute tariff_name  \n",
       "0              550         200                3               3       smart  \n",
       "1             1950         150                1               1       ultra  "
      ]
     },
     "execution_count": 1623,
     "metadata": {},
     "output_type": "execute_result"
    }
   ],
   "source": [
    "# получим первые строки tariffs\n",
    "tariffs.head()"
   ]
  },
  {
   "cell_type": "code",
   "execution_count": 1624,
   "id": "5eafddc6",
   "metadata": {},
   "outputs": [
    {
     "name": "stdout",
     "output_type": "stream",
     "text": [
      "<class 'pandas.core.frame.DataFrame'>\n",
      "RangeIndex: 2 entries, 0 to 1\n",
      "Data columns (total 8 columns):\n",
      " #   Column                 Non-Null Count  Dtype \n",
      "---  ------                 --------------  ----- \n",
      " 0   messages_included      2 non-null      int64 \n",
      " 1   mb_per_month_included  2 non-null      int64 \n",
      " 2   minutes_included       2 non-null      int64 \n",
      " 3   rub_monthly_fee        2 non-null      int64 \n",
      " 4   rub_per_gb             2 non-null      int64 \n",
      " 5   rub_per_message        2 non-null      int64 \n",
      " 6   rub_per_minute         2 non-null      int64 \n",
      " 7   tariff_name            2 non-null      object\n",
      "dtypes: int64(7), object(1)\n",
      "memory usage: 256.0+ bytes\n"
     ]
    }
   ],
   "source": [
    "tariffs.info()"
   ]
  },
  {
   "cell_type": "code",
   "execution_count": 1625,
   "id": "5e438188",
   "metadata": {},
   "outputs": [
    {
     "data": {
      "text/html": [
       "<div>\n",
       "<style scoped>\n",
       "    .dataframe tbody tr th:only-of-type {\n",
       "        vertical-align: middle;\n",
       "    }\n",
       "\n",
       "    .dataframe tbody tr th {\n",
       "        vertical-align: top;\n",
       "    }\n",
       "\n",
       "    .dataframe thead th {\n",
       "        text-align: right;\n",
       "    }\n",
       "</style>\n",
       "<table border=\"1\" class=\"dataframe\">\n",
       "  <thead>\n",
       "    <tr style=\"text-align: right;\">\n",
       "      <th></th>\n",
       "      <th>user_id</th>\n",
       "      <th>age</th>\n",
       "      <th>churn_date</th>\n",
       "      <th>city</th>\n",
       "      <th>first_name</th>\n",
       "      <th>last_name</th>\n",
       "      <th>reg_date</th>\n",
       "      <th>tariff</th>\n",
       "    </tr>\n",
       "  </thead>\n",
       "  <tbody>\n",
       "    <tr>\n",
       "      <th>0</th>\n",
       "      <td>1000</td>\n",
       "      <td>52</td>\n",
       "      <td>NaN</td>\n",
       "      <td>Краснодар</td>\n",
       "      <td>Рафаил</td>\n",
       "      <td>Верещагин</td>\n",
       "      <td>2018-05-25</td>\n",
       "      <td>ultra</td>\n",
       "    </tr>\n",
       "    <tr>\n",
       "      <th>1</th>\n",
       "      <td>1001</td>\n",
       "      <td>41</td>\n",
       "      <td>NaN</td>\n",
       "      <td>Москва</td>\n",
       "      <td>Иван</td>\n",
       "      <td>Ежов</td>\n",
       "      <td>2018-11-01</td>\n",
       "      <td>smart</td>\n",
       "    </tr>\n",
       "    <tr>\n",
       "      <th>2</th>\n",
       "      <td>1002</td>\n",
       "      <td>59</td>\n",
       "      <td>NaN</td>\n",
       "      <td>Стерлитамак</td>\n",
       "      <td>Евгений</td>\n",
       "      <td>Абрамович</td>\n",
       "      <td>2018-06-17</td>\n",
       "      <td>smart</td>\n",
       "    </tr>\n",
       "    <tr>\n",
       "      <th>3</th>\n",
       "      <td>1003</td>\n",
       "      <td>23</td>\n",
       "      <td>NaN</td>\n",
       "      <td>Москва</td>\n",
       "      <td>Белла</td>\n",
       "      <td>Белякова</td>\n",
       "      <td>2018-08-17</td>\n",
       "      <td>ultra</td>\n",
       "    </tr>\n",
       "    <tr>\n",
       "      <th>4</th>\n",
       "      <td>1004</td>\n",
       "      <td>68</td>\n",
       "      <td>NaN</td>\n",
       "      <td>Новокузнецк</td>\n",
       "      <td>Татьяна</td>\n",
       "      <td>Авдеенко</td>\n",
       "      <td>2018-05-14</td>\n",
       "      <td>ultra</td>\n",
       "    </tr>\n",
       "  </tbody>\n",
       "</table>\n",
       "</div>"
      ],
      "text/plain": [
       "   user_id  age churn_date         city first_name  last_name    reg_date  \\\n",
       "0     1000   52        NaN    Краснодар     Рафаил  Верещагин  2018-05-25   \n",
       "1     1001   41        NaN       Москва       Иван       Ежов  2018-11-01   \n",
       "2     1002   59        NaN  Стерлитамак    Евгений  Абрамович  2018-06-17   \n",
       "3     1003   23        NaN       Москва      Белла   Белякова  2018-08-17   \n",
       "4     1004   68        NaN  Новокузнецк    Татьяна   Авдеенко  2018-05-14   \n",
       "\n",
       "  tariff  \n",
       "0  ultra  \n",
       "1  smart  \n",
       "2  smart  \n",
       "3  ultra  \n",
       "4  ultra  "
      ]
     },
     "execution_count": 1625,
     "metadata": {},
     "output_type": "execute_result"
    }
   ],
   "source": [
    "# получим первые строки users\n",
    "users.head()"
   ]
  },
  {
   "cell_type": "code",
   "execution_count": 1626,
   "id": "5a394844",
   "metadata": {},
   "outputs": [
    {
     "name": "stdout",
     "output_type": "stream",
     "text": [
      "<class 'pandas.core.frame.DataFrame'>\n",
      "RangeIndex: 500 entries, 0 to 499\n",
      "Data columns (total 8 columns):\n",
      " #   Column      Non-Null Count  Dtype \n",
      "---  ------      --------------  ----- \n",
      " 0   user_id     500 non-null    int64 \n",
      " 1   age         500 non-null    int64 \n",
      " 2   churn_date  38 non-null     object\n",
      " 3   city        500 non-null    object\n",
      " 4   first_name  500 non-null    object\n",
      " 5   last_name   500 non-null    object\n",
      " 6   reg_date    500 non-null    object\n",
      " 7   tariff      500 non-null    object\n",
      "dtypes: int64(2), object(6)\n",
      "memory usage: 31.4+ KB\n"
     ]
    }
   ],
   "source": [
    "users.info()"
   ]
  },
  {
   "cell_type": "markdown",
   "id": "7858fcd6",
   "metadata": {},
   "source": [
    "Для дальнейшей работы будет удобно конкретизировать название колонки `id` в каждом датасете, где есть такая колонка."
   ]
  },
  {
   "cell_type": "code",
   "execution_count": 1627,
   "id": "81658957",
   "metadata": {},
   "outputs": [],
   "source": [
    "calls = calls.rename(columns={'id': 'call_id'})\n",
    "messages = messages.rename(columns={'id': 'message_id'})\n",
    "internet = internet.rename(columns={'id': 'session_id'})"
   ]
  },
  {
   "cell_type": "markdown",
   "id": "bdd6414d",
   "metadata": {},
   "source": [
    "### Вывод"
   ]
  },
  {
   "cell_type": "markdown",
   "id": "d841d104",
   "metadata": {},
   "source": [
    "У нас есть несколько датасетов с информацией о пользователях сотовой связи: users содержит справочную информацию о самом пользователе и тарифе, который он выбрал; calls, messages и internet содержат информацию об израсходованных минутах, сообщениях, интернет-траффике соответственно. А так же есть таблица tariffs с информацией о каждом тарифе. В нашем распоряжении информация о 500 пользователях, количество строк в данных со звонками, сообщениями и интернет-траффике везде разное. "
   ]
  },
  {
   "cell_type": "markdown",
   "id": "8ff3653b",
   "metadata": {},
   "source": [
    "## Предобработка данных"
   ]
  },
  {
   "cell_type": "markdown",
   "id": "d21c7ec5",
   "metadata": {},
   "source": [
    "### Проверка типов данных"
   ]
  },
  {
   "cell_type": "markdown",
   "id": "88db8c32",
   "metadata": {},
   "source": [
    "Првоерим каждый датасет в отдельности."
   ]
  },
  {
   "cell_type": "code",
   "execution_count": 1628,
   "id": "e5a3dd65",
   "metadata": {},
   "outputs": [
    {
     "data": {
      "text/plain": [
       "user_id        int64\n",
       "age            int64\n",
       "churn_date    object\n",
       "city          object\n",
       "first_name    object\n",
       "last_name     object\n",
       "reg_date      object\n",
       "tariff        object\n",
       "dtype: object"
      ]
     },
     "execution_count": 1628,
     "metadata": {},
     "output_type": "execute_result"
    }
   ],
   "source": [
    "# типы данных в users\n",
    "users.dtypes"
   ]
  },
  {
   "cell_type": "markdown",
   "id": "23392455",
   "metadata": {},
   "source": [
    "Колонки с датами `churn_date`, `reg_date` содержат даты - приведём их к типу datetime."
   ]
  },
  {
   "cell_type": "code",
   "execution_count": 1629,
   "id": "03d6bf3c",
   "metadata": {},
   "outputs": [],
   "source": [
    "users.churn_date = pd.to_datetime(users.churn_date, format='%Y-%m-%d')\n",
    "users.reg_date = pd.to_datetime(users.reg_date, format='%Y-%m-%d')"
   ]
  },
  {
   "cell_type": "code",
   "execution_count": 1630,
   "id": "255f9ab4",
   "metadata": {},
   "outputs": [
    {
     "data": {
      "text/plain": [
       "call_id       object\n",
       "call_date     object\n",
       "duration     float64\n",
       "user_id        int64\n",
       "dtype: object"
      ]
     },
     "execution_count": 1630,
     "metadata": {},
     "output_type": "execute_result"
    }
   ],
   "source": [
    "# типы данных в calls\n",
    "calls.dtypes"
   ]
  },
  {
   "cell_type": "markdown",
   "id": "7183dac6",
   "metadata": {},
   "source": [
    "Идентификатор `call_id` приведём к числовому типу данных."
   ]
  },
  {
   "cell_type": "code",
   "execution_count": 1631,
   "id": "94a874ab",
   "metadata": {},
   "outputs": [],
   "source": [
    "calls.call_id = calls.call_id.astype('int32')"
   ]
  },
  {
   "cell_type": "markdown",
   "id": "2d0ebf61",
   "metadata": {},
   "source": [
    "Колонку с датой `call_date` приведём к типу datetime."
   ]
  },
  {
   "cell_type": "code",
   "execution_count": 1632,
   "id": "63aeca8a",
   "metadata": {},
   "outputs": [],
   "source": [
    "calls.call_date = pd.to_datetime(calls.call_date, format='%Y-%m-%d')"
   ]
  },
  {
   "cell_type": "markdown",
   "id": "31d188cc",
   "metadata": {},
   "source": [
    "Колонку с длительностью звонка в минутах `duration` приведём к целочисленному типу с округлением вверх, т.к. любое количество секунд в тарифе округляется до минуты."
   ]
  },
  {
   "cell_type": "code",
   "execution_count": 1633,
   "id": "308e3a63",
   "metadata": {},
   "outputs": [],
   "source": [
    "calls.duration = np.ceil(calls.duration)"
   ]
  },
  {
   "cell_type": "code",
   "execution_count": 1634,
   "id": "e3f8b44e",
   "metadata": {},
   "outputs": [
    {
     "data": {
      "text/plain": [
       "message_id      object\n",
       "message_date    object\n",
       "user_id          int64\n",
       "dtype: object"
      ]
     },
     "execution_count": 1634,
     "metadata": {},
     "output_type": "execute_result"
    }
   ],
   "source": [
    "# типы данных в messages\n",
    "messages.dtypes "
   ]
  },
  {
   "cell_type": "markdown",
   "id": "75c302c9",
   "metadata": {},
   "source": [
    "Идентификационный номер `message_id` приведём к числовому формату."
   ]
  },
  {
   "cell_type": "code",
   "execution_count": 1635,
   "id": "b562eefb",
   "metadata": {},
   "outputs": [],
   "source": [
    "messages.message_id = messages.message_id.astype('int32')"
   ]
  },
  {
   "cell_type": "markdown",
   "id": "01edec95",
   "metadata": {},
   "source": [
    "Колонку с датой `message_date` приведём к типу datetime."
   ]
  },
  {
   "cell_type": "code",
   "execution_count": 1636,
   "id": "ac99b33c",
   "metadata": {},
   "outputs": [],
   "source": [
    "messages.message_date = pd.to_datetime(messages.message_date, format='%Y-%m-%d')"
   ]
  },
  {
   "cell_type": "code",
   "execution_count": 1637,
   "id": "0f06ed62",
   "metadata": {},
   "outputs": [
    {
     "data": {
      "text/plain": [
       "session_id       object\n",
       "mb_used         float64\n",
       "session_date     object\n",
       "user_id           int64\n",
       "dtype: object"
      ]
     },
     "execution_count": 1637,
     "metadata": {},
     "output_type": "execute_result"
    }
   ],
   "source": [
    "# типы данных в internet\n",
    "internet.dtypes"
   ]
  },
  {
   "cell_type": "markdown",
   "id": "b9bd17dc",
   "metadata": {},
   "source": [
    "Идентификационный номер `session_id` приведём к числовому формату, `session_date` к типу datetime."
   ]
  },
  {
   "cell_type": "code",
   "execution_count": 1638,
   "id": "ff9bbec8",
   "metadata": {},
   "outputs": [],
   "source": [
    "internet.session_id = internet.session_id.astype('int32')\n",
    "internet.session_date = pd.to_datetime(internet.session_date, format='%Y-%m-%d')"
   ]
  },
  {
   "cell_type": "code",
   "execution_count": 1639,
   "id": "3357bd62",
   "metadata": {},
   "outputs": [
    {
     "data": {
      "text/plain": [
       "messages_included         int64\n",
       "mb_per_month_included     int64\n",
       "minutes_included          int64\n",
       "rub_monthly_fee           int64\n",
       "rub_per_gb                int64\n",
       "rub_per_message           int64\n",
       "rub_per_minute            int64\n",
       "tariff_name              object\n",
       "dtype: object"
      ]
     },
     "execution_count": 1639,
     "metadata": {},
     "output_type": "execute_result"
    }
   ],
   "source": [
    "# типы данных в tariffs\n",
    "tariffs.dtypes"
   ]
  },
  {
   "cell_type": "markdown",
   "id": "9c12af7b",
   "metadata": {},
   "source": [
    "Здесь ничего не нужно менять."
   ]
  },
  {
   "cell_type": "markdown",
   "id": "09f3bfeb",
   "metadata": {},
   "source": [
    "#### Вывод"
   ]
  },
  {
   "cell_type": "markdown",
   "id": "45a6d7f2",
   "metadata": {},
   "source": [
    "В этом разделе изучили все датасеты на типы данных: все даты привели к типу datetime, идентификационные номера - к целочисленному типу, количество минут тоже привели к целочисленному типу с округлением вверх."
   ]
  },
  {
   "cell_type": "markdown",
   "id": "aecdfc8e",
   "metadata": {},
   "source": [
    "### Изучение пропусков"
   ]
  },
  {
   "cell_type": "markdown",
   "id": "a3a80c95",
   "metadata": {},
   "source": [
    "Изучим пропуски в каждом датасете."
   ]
  },
  {
   "cell_type": "code",
   "execution_count": 1640,
   "id": "f9f5c172",
   "metadata": {},
   "outputs": [
    {
     "data": {
      "text/plain": [
       "user_id         0\n",
       "age             0\n",
       "churn_date    462\n",
       "city            0\n",
       "first_name      0\n",
       "last_name       0\n",
       "reg_date        0\n",
       "tariff          0\n",
       "dtype: int64"
      ]
     },
     "execution_count": 1640,
     "metadata": {},
     "output_type": "execute_result"
    }
   ],
   "source": [
    "# пропуски в users\n",
    "users.isna().sum()"
   ]
  },
  {
   "cell_type": "markdown",
   "id": "bae58306",
   "metadata": {},
   "source": [
    "Пропуски есть только в `churn_rate` - это дата прекращения пользования тарифом. Если она пропущена, значит, тариф ещё действовал на момент выгрузки данных."
   ]
  },
  {
   "cell_type": "code",
   "execution_count": 1641,
   "id": "2b169d04",
   "metadata": {},
   "outputs": [
    {
     "data": {
      "text/plain": [
       "call_id      0\n",
       "call_date    0\n",
       "duration     0\n",
       "user_id      0\n",
       "dtype: int64"
      ]
     },
     "execution_count": 1641,
     "metadata": {},
     "output_type": "execute_result"
    }
   ],
   "source": [
    "# пропуски в calls\n",
    "calls.isna().sum()"
   ]
  },
  {
   "cell_type": "code",
   "execution_count": 1642,
   "id": "01489b75",
   "metadata": {},
   "outputs": [
    {
     "data": {
      "text/plain": [
       "message_id      0\n",
       "message_date    0\n",
       "user_id         0\n",
       "dtype: int64"
      ]
     },
     "execution_count": 1642,
     "metadata": {},
     "output_type": "execute_result"
    }
   ],
   "source": [
    "# пропуски в messages\n",
    "messages.isna().sum()"
   ]
  },
  {
   "cell_type": "code",
   "execution_count": 1643,
   "id": "d690fa91",
   "metadata": {},
   "outputs": [
    {
     "data": {
      "text/plain": [
       "session_id      0\n",
       "mb_used         0\n",
       "session_date    0\n",
       "user_id         0\n",
       "dtype: int64"
      ]
     },
     "execution_count": 1643,
     "metadata": {},
     "output_type": "execute_result"
    }
   ],
   "source": [
    "# пропуски в internet\n",
    "internet.isna().sum()"
   ]
  },
  {
   "cell_type": "markdown",
   "id": "6610612f",
   "metadata": {},
   "source": [
    "Итак, пропусков больше нет."
   ]
  },
  {
   "cell_type": "markdown",
   "id": "63b73a21",
   "metadata": {},
   "source": [
    "#### Вывод"
   ]
  },
  {
   "cell_type": "markdown",
   "id": "a04b4499",
   "metadata": {},
   "source": [
    "Пропуски есть только в churn_rate - это дата прекращения пользования тарифом. Если она пропущена, значит, тариф ещё действовал на момент выгрузки данных. Больше пропусков в данных нет."
   ]
  },
  {
   "cell_type": "markdown",
   "id": "d49dda2e",
   "metadata": {},
   "source": [
    "### Изучение значенией по столбцам"
   ]
  },
  {
   "cell_type": "code",
   "execution_count": 1644,
   "id": "b2016efb",
   "metadata": {},
   "outputs": [
    {
     "data": {
      "text/plain": [
       "Index(['city', 'first_name', 'last_name', 'tariff'], dtype='object')"
      ]
     },
     "execution_count": 1644,
     "metadata": {},
     "output_type": "execute_result"
    }
   ],
   "source": [
    "# получим все столбцы users, в которых содержатся категориальные значения\n",
    "users.columns[users.dtypes == object]"
   ]
  },
  {
   "cell_type": "code",
   "execution_count": 1645,
   "id": "0ace0206",
   "metadata": {},
   "outputs": [
    {
     "data": {
      "text/plain": [
       "array(['Краснодар', 'Москва', 'Стерлитамак', 'Новокузнецк',\n",
       "       'Набережные Челны', 'Ульяновск', 'Челябинск', 'Пермь', 'Тюмень',\n",
       "       'Самара', 'Санкт-Петербург', 'Иваново', 'Чебоксары', 'Омск', 'Уфа',\n",
       "       'Томск', 'Чита', 'Мурманск', 'Петрозаводск', 'Тверь',\n",
       "       'Екатеринбург', 'Махачкала', 'Вологда', 'Череповец', 'Ярославль',\n",
       "       'Сочи', 'Хабаровск', 'Ставрополь', 'Рязань', 'Улан-Удэ', 'Тула',\n",
       "       'Саратов', 'Ростов-на-Дону', 'Казань', 'Иркутск', 'Курск',\n",
       "       'Калуга', 'Якутск', 'Астрахань', 'Химки', 'Владикавказ',\n",
       "       'Волгоград', 'Саранск', 'Ижевск', 'Новосибирск', 'Брянск',\n",
       "       'Тольятти', 'Нижний Тагил', 'Орёл', 'Белгород', 'Воронеж',\n",
       "       'Волжский', 'Курган', 'Барнаул', 'Красноярск', 'Архангельск',\n",
       "       'Липецк', 'Кемерово', 'Киров', 'Сургут', 'Пенза', 'Магнитогорск',\n",
       "       'Нижний Новгород', 'Кострома', 'Владивосток', 'Тамбов', 'Балашиха',\n",
       "       'Севастополь', 'Калининград', 'Оренбург', 'Смоленск',\n",
       "       'Нижневартовск', 'Владимир', 'Новороссийск', 'Грозный', 'Подольск'],\n",
       "      dtype=object)"
      ]
     },
     "execution_count": 1645,
     "metadata": {},
     "output_type": "execute_result"
    }
   ],
   "source": [
    "# изучим значения city\n",
    "users.city.unique()"
   ]
  },
  {
   "cell_type": "code",
   "execution_count": 1646,
   "id": "a946c6aa",
   "metadata": {},
   "outputs": [
    {
     "data": {
      "text/plain": [
       "array(['Рафаил', 'Иван', 'Евгений', 'Белла', 'Татьяна', 'Афанасий',\n",
       "       'Леонид', 'Юна', 'Рустэм', 'Василиса', 'Эдуард', 'Веселина',\n",
       "       'Варлам', 'Борис', 'Яков', 'Рузана', 'Марица', 'Мария', 'Матвей',\n",
       "       'Игнатий', 'Тала', 'Святослав', 'Людмила', 'Иулиан', 'Владислав',\n",
       "       'Рустем', 'Алексей', 'Мариетта', 'Лаврентий', 'Инна', 'Лия',\n",
       "       'Розалия', 'Анжелика', 'Изольда', 'Агнесса', 'Юрий', 'Михаил',\n",
       "       'Константин', 'Марианна', 'Иннокентий', 'Джемма', 'Екатерина',\n",
       "       'Милица', 'Лола', 'Габриель', 'Кристина', 'Павел', 'Ренальд',\n",
       "       'Луиза', 'Радислав', 'Динара', 'Лукий', 'Глеб', 'Тамара',\n",
       "       'Александр', 'Таира', 'Роза', 'Исак', 'Юзефа', 'Ким', 'Гордей',\n",
       "       'Эльза', 'Гектор', 'Андрей', 'Рафаэль', 'Фёдор', 'Харитон',\n",
       "       'Еремей', 'Всеволод', 'Софья', 'Авксентий', 'Виолетта', 'Ириней',\n",
       "       'Гелена', 'Ксения', 'Вера', 'Вениамин', 'Вероника', 'Даниэла',\n",
       "       'Алла', 'Элеонора', 'Аюна', 'Руслан', 'Онисим', 'Марта', 'Эльвира',\n",
       "       'Габриэль', 'Исаак', 'Милана', 'Арнольд', 'Маргарита', 'Рашид',\n",
       "       'Альберта', 'Дана', 'Олег', 'Альбин', 'Сабина', 'Яна', 'Анвар',\n",
       "       'Инара', 'Нина', 'Надежда', 'Марьяна', 'Милена', 'Пётр', 'Леся',\n",
       "       'Светлана', 'Клариса', 'Симона', 'Арсен', 'Ефим', 'Юлий',\n",
       "       'Владимир', 'Евдокия', 'Алиса', 'Майя', 'Лариса', 'Марина',\n",
       "       'Валерий', 'Виктория', 'Игорь', 'Эльга', 'Лев', 'Геральд',\n",
       "       'Клавдия', 'Лилия', 'Георгина', 'Вадим', 'Каролина', 'Алан',\n",
       "       'Агафья', 'Лолита', 'Радим', 'Наталья', 'Рем', 'Снежана',\n",
       "       'Мануэла', 'Рэм', 'Виталий', 'Рауль', 'Степан', 'Егор', 'Демьян',\n",
       "       'Агата', 'Геннадий', 'Адам', 'Мирослава', 'Елена', 'Ева',\n",
       "       'Евфросинья', 'Арина', 'Гайдар', 'Артемий', 'Рустам', 'Ермолай',\n",
       "       'Кузьма', 'Рубен', 'Ахмет', 'Раиса', 'Денис', 'Нелли', 'Касьян',\n",
       "       'Сара', 'Роксана', 'Леон', 'Алина', 'Даниил', 'Зинаида', 'Артём',\n",
       "       'Анатолий', 'Лейла', 'Александра', 'Серафима', 'Алевтина',\n",
       "       'Эмилия', 'Мадина', 'Антонина', 'Саида', 'Трофим', 'Аким',\n",
       "       'Мальвина', 'Аурелия', 'Мстислав', 'Аксён', 'Семён', 'Валерия',\n",
       "       'Григорий', 'Таисия', 'Арсений', 'Эдита', 'Дебора', 'Олеся',\n",
       "       'Альфред', 'Тихон', 'Наида', 'Илья', 'Инесса', 'Юлия', 'Рудольф',\n",
       "       'Максим', 'Инга', 'Эсмеральда', 'Дайна', 'Джозефина', 'Тимофей',\n",
       "       'Виктор', 'Валентина', 'Анита', 'Илзе', 'Галина', 'Варвара',\n",
       "       'Анфиса', 'Доминика', 'Лаура', 'Рената', 'Оксана', 'Георгий',\n",
       "       'Лидия', 'Евгения', 'Фаддей', 'Герасим', 'Радомир', 'Ренат',\n",
       "       'Владислава', 'Роберт', 'Элина', 'Станислав', 'Элла', 'Гарри',\n",
       "       'Берта', 'Геодар', 'Эльмира', 'Клара', 'Камилла', 'Джулия',\n",
       "       'Карина', 'Нателла', 'Леонтий', 'Ростислав', 'Ангелина', 'Алёна',\n",
       "       'Ринат', 'Эллада', 'Николай', 'Руслана', 'Трифон'], dtype=object)"
      ]
     },
     "execution_count": 1646,
     "metadata": {},
     "output_type": "execute_result"
    }
   ],
   "source": [
    "# изучим значения first_name\n",
    "users.first_name.unique()"
   ]
  },
  {
   "cell_type": "code",
   "execution_count": 1647,
   "id": "b6ef8f64",
   "metadata": {},
   "outputs": [
    {
     "data": {
      "text/plain": [
       "array(['Верещагин', 'Ежов', 'Абрамович', 'Белякова', 'Авдеенко', 'Горлов',\n",
       "       'Ермолаев', 'Березина', 'Пономарёв', 'Блинова', 'Кононов',\n",
       "       'Алёшко', 'Соловьев', 'Андреенко', 'Акинфьев', 'Алюшина',\n",
       "       'Сазонова', 'Аленникова', 'Золотов', 'Круглов', 'Костина',\n",
       "       'Тихонов', 'Трофимова', 'Мельникова', 'Антипов', 'Акинин',\n",
       "       'Бородин', 'Авдеев', 'Евсеев', 'Селезнев', 'Русанова', 'Тимофеев',\n",
       "       'Игнатьева', 'Бабушкина', 'Бондарев', 'Аракина', 'Андропова',\n",
       "       'Архипова', 'Денисова', 'Одинцов', 'Кравцов', 'Добрынин',\n",
       "       'Родионова', 'Рябов', 'Карасева', 'Александрова', 'Меркулова',\n",
       "       'Мясникова', 'Ларин', 'Аничкина', 'Сомова', 'Панов', 'Фёдоров',\n",
       "       'Платонова', 'Артемьев', 'Дьячкова', 'Глушков', 'Свиридов',\n",
       "       'Рудаков', 'Ситникова', 'Коршунов', 'Климова', 'Алфеева',\n",
       "       'Игнатова', 'Малахов', 'Абашкина', 'Демьянов', 'Кочетов',\n",
       "       'Селиванова', 'Чумаков', 'Андрейкин', 'Павловский', 'Никулин',\n",
       "       'Шарапов', 'Кольцова', 'Литвинов', 'Авроров', 'Игнатьев',\n",
       "       'Терехова', 'Малышев', 'Галкин', 'Спиридонова', 'Дорофеева',\n",
       "       'Аксёнов', 'Абалакова', 'Нечаева', 'Астафьева', 'Суслова',\n",
       "       'Амельченко', 'Лапина', 'Пугачева', 'Кабанова', 'Кулешова',\n",
       "       'Озерова', 'Сергеева', 'Красильников', 'Колобов', 'Королькова',\n",
       "       'Лобанова', 'Поляков', 'Рыбакова', 'Костин', 'Воронин', 'Болдырев',\n",
       "       'Андрющенко', 'Александрович', 'Макарова', 'Казанцев', 'Булгаков',\n",
       "       'Колесова', 'Толкачев', 'Шевцова', 'Латышева', 'Сухарев',\n",
       "       'Абдулина', 'Афанасова', 'Устинов', 'Андрианов', 'Арсенкова',\n",
       "       'Ильина', 'Агаева', 'Морозов', 'Крюкова', 'Афонасьева', 'Алехина',\n",
       "       'Аникина', 'Авросимова', 'Воронина', 'Левин', 'Артёшин',\n",
       "       'Ерофеева', 'Корнеева', 'Ахматулин', 'Короткова', 'Алешкова',\n",
       "       'Покровский', 'Ефремов', 'Алешин', 'Никонов', 'Синицын', 'Киреева',\n",
       "       'Алексеенко', 'Муравьева', 'Молчанова', 'Щербакова', 'Одинцова',\n",
       "       'Тихомирова', 'Чернов', 'Белоусова', 'Андрейчук', 'Авдонюшкин',\n",
       "       'Голованова', 'Минаева', 'Вишневский', 'Лебедев', 'Медведев',\n",
       "       'Жданов', 'Ананьева', 'Карташова', 'Козлов', 'Иванова', 'Карасев',\n",
       "       'Григорьева', 'Розанова', 'Марков', 'Куприянов', 'Жарова',\n",
       "       'Астапенко', 'Мишин', 'Аврорин', 'Агаев', 'Тарасова', 'Родина',\n",
       "       'Абакумов', 'Овчинников', 'Соколов', 'Зубкова', 'Абоимов',\n",
       "       'Акиндинов', 'Мальцев', 'Безруков', 'Наумов', 'Петухова',\n",
       "       'Чернышев', 'Черняев', 'Швецов', 'Демьянова', 'Ларионова',\n",
       "       'Веселов', 'Адаменко', 'Григорьев', 'Лазарева', 'Семина',\n",
       "       'Шарапова', 'Зеленина', 'Сахарова', 'Сорокин', 'Серебрякова',\n",
       "       'Азимова', 'Пономарев', 'Муравьёв', 'Алиев', 'Малинин', 'Сазонов',\n",
       "       'Мамонтова', 'Некрасов', 'Астапов', 'Сафонова', 'Панфилов',\n",
       "       'Тарасов', 'Горбачева', 'Бобылёв', 'Калинина', 'Алфимов',\n",
       "       'Капустин', 'Авдюков', 'Ларина', 'Алфимова', 'Алексеева', 'Басова',\n",
       "       'Демидов', 'Кошелева', 'Ёрохов', 'Шарова', 'Федосеев', 'Леонтьев',\n",
       "       'Макеев', 'Коновалова', 'Минаев', 'Авдушева', 'Ракова', 'Тетерина',\n",
       "       'Масленникова', 'Сухарева', 'Пономарева', 'Панфилова', 'Беляев',\n",
       "       'Третьякова', 'Горбунов', 'Пантелеева', 'Зайцев', 'Жукова',\n",
       "       'Адамов', 'Антропова', 'Седова', 'Трошин', 'Ахмадулин',\n",
       "       'Вешнякова', 'Чижова', 'Корнилов', 'Еремин', 'Елизаров', 'Крюков',\n",
       "       'Троицкий', 'Худяков', 'Зимина', 'Аракчеев', 'Крючков', 'Давыдов',\n",
       "       'Богданова', 'Анищенко', 'Дубинина', 'Асафьева', 'Черный',\n",
       "       'Абрамцев', 'Чеснокова', 'Симонова', 'Азерников', 'Авраменко',\n",
       "       'Абаимов', 'Абакшина', 'Соловьёв', 'Лаптева', 'Попов', 'Авсейкина',\n",
       "       'Корнилова', 'Касьянова', 'Нестеров', 'Крылова', 'Поликарпова',\n",
       "       'Суслов', 'Амелишко', 'Агапеева', 'Алымова', 'Зыков', 'Парфенов',\n",
       "       'Киселёв', 'Софронов', 'Сальников', 'Носкова', 'Барсуков',\n",
       "       'Севастьянова', 'Аркадьев', 'Золотова', 'Малинина', 'Антонова',\n",
       "       'Алексеичев', 'Орлов', 'Алютин', 'Кузнецов', 'Казакова',\n",
       "       'Верещагина', 'Ёркина', 'Антропов', 'Фокина', 'Громова',\n",
       "       'Курочкин', 'Козырева', 'Румянцева', 'Кулагина', 'Абрикосова',\n",
       "       'Гончаров', 'Ермилов', 'Логинов', 'Абашкин', 'Болдырева',\n",
       "       'Вишняков', 'Фетисова', 'Антоненко', 'Гришина', 'Сысоев',\n",
       "       'Трофимов', 'Авраамова', 'Афанасенко', 'Акимычева', 'Акимов',\n",
       "       'Семин', 'Бычкова', 'Кочергина', 'Нестерова', 'Родионов', 'Зуев',\n",
       "       'Беляева', 'Беликова', 'Зубков', 'Кондратов', 'Савельева',\n",
       "       'Чистякова', 'Ахмедов', 'Абрашина', 'Артёмов', 'Васильева',\n",
       "       'Измайлова', 'Амелин', 'Уваров', 'Белова', 'Семёнов', 'Пирогова',\n",
       "       'Кукушкин', 'Ильин', 'Прокофьева', 'Афонин', 'Фролов', 'Лукин',\n",
       "       'Ёлчина', 'Макаров', 'Ахматов', 'Яшина', 'Корольков', 'Устинова',\n",
       "       'Силин', 'Ёрохова', 'Фомин', 'Азаров', 'Добрынина', 'Тимофеева',\n",
       "       'Кочетков', 'Алёшкова', 'Субботина', 'Ерофеев', 'Селезнева',\n",
       "       'Бородина', 'Афонина', 'Матвеев', 'Белозёров', 'Ковалева',\n",
       "       'Афинин', 'Иванов', 'Артемчук', 'Алешина', 'Дроздов', 'Новикова',\n",
       "       'Козлова', 'Завьялова', 'Абалдуева', 'Акуленко', 'Авринский',\n",
       "       'Авчинникова', 'Абрамычева', 'Авросинова', 'Ёркин', 'Шевцов',\n",
       "       'Александрюк', 'Авдышев', 'Абалкин', 'Лосева', 'Гаврилова',\n",
       "       'Боброва', 'Любимов', 'Фадеева', 'Семенова', 'Серов',\n",
       "       'Константинова', 'Богданов', 'Емельянова', 'Блохина', 'Борисова',\n",
       "       'Сухова', 'Моргунов', 'Кириллов', 'Филатов', 'Алесин', 'Артёменко',\n",
       "       'Ахматулина', 'Андропов', 'Фокин', 'Блохин', 'Агеева', 'Акимчин'],\n",
       "      dtype=object)"
      ]
     },
     "execution_count": 1647,
     "metadata": {},
     "output_type": "execute_result"
    }
   ],
   "source": [
    "# изучим значения last_name\n",
    "users.last_name.unique()"
   ]
  },
  {
   "cell_type": "code",
   "execution_count": 1648,
   "id": "0dc3e937",
   "metadata": {},
   "outputs": [
    {
     "data": {
      "text/plain": [
       "array(['ultra', 'smart'], dtype=object)"
      ]
     },
     "execution_count": 1648,
     "metadata": {},
     "output_type": "execute_result"
    }
   ],
   "source": [
    "# изучим значения tariff\n",
    "users.tariff.unique()"
   ]
  },
  {
   "cell_type": "markdown",
   "id": "fd087865",
   "metadata": {},
   "source": [
    "С категориальными данными в датасете users всё в порядке."
   ]
  },
  {
   "cell_type": "code",
   "execution_count": 1649,
   "id": "91ab0748",
   "metadata": {},
   "outputs": [
    {
     "data": {
      "text/plain": [
       "array([1000, 1001, 1002, 1003, 1004, 1005, 1006, 1007, 1008, 1009, 1010,\n",
       "       1011, 1012, 1013, 1014, 1015, 1016, 1017, 1018, 1019, 1020, 1021,\n",
       "       1022, 1023, 1024, 1025, 1026, 1027, 1028, 1029, 1030, 1031, 1032,\n",
       "       1033, 1034, 1035, 1036, 1037, 1038, 1039, 1040, 1041, 1042, 1043,\n",
       "       1044, 1045, 1046, 1047, 1048, 1049, 1050, 1051, 1052, 1053, 1054,\n",
       "       1055, 1056, 1057, 1058, 1059, 1060, 1061, 1062, 1063, 1064, 1065,\n",
       "       1066, 1067, 1068, 1069, 1070, 1071, 1072, 1073, 1074, 1075, 1076,\n",
       "       1077, 1078, 1079, 1080, 1081, 1082, 1083, 1084, 1085, 1086, 1087,\n",
       "       1088, 1089, 1090, 1091, 1092, 1093, 1094, 1095, 1096, 1097, 1098,\n",
       "       1099, 1100, 1101, 1102, 1103, 1104, 1105, 1106, 1107, 1108, 1109,\n",
       "       1110, 1111, 1112, 1113, 1114, 1115, 1116, 1117, 1118, 1119, 1120,\n",
       "       1121, 1122, 1123, 1124, 1125, 1126, 1127, 1128, 1129, 1130, 1131,\n",
       "       1132, 1133, 1134, 1135, 1136, 1137, 1138, 1139, 1140, 1141, 1142,\n",
       "       1143, 1144, 1145, 1146, 1147, 1148, 1149, 1150, 1151, 1152, 1153,\n",
       "       1154, 1155, 1156, 1157, 1158, 1159, 1160, 1161, 1162, 1163, 1164,\n",
       "       1165, 1166, 1167, 1168, 1169, 1170, 1171, 1172, 1173, 1174, 1175,\n",
       "       1176, 1177, 1178, 1179, 1180, 1181, 1182, 1183, 1184, 1185, 1186,\n",
       "       1187, 1188, 1189, 1190, 1191, 1192, 1193, 1194, 1195, 1196, 1197,\n",
       "       1198, 1199, 1200, 1201, 1202, 1203, 1204, 1205, 1206, 1207, 1208,\n",
       "       1209, 1210, 1211, 1212, 1213, 1214, 1215, 1216, 1217, 1218, 1219,\n",
       "       1220, 1221, 1222, 1223, 1224, 1225, 1226, 1227, 1228, 1229, 1230,\n",
       "       1231, 1232, 1233, 1234, 1235, 1236, 1237, 1238, 1239, 1240, 1241,\n",
       "       1242, 1243, 1244, 1245, 1246, 1247, 1248, 1249, 1250, 1251, 1252,\n",
       "       1253, 1254, 1255, 1256, 1257, 1258, 1259, 1260, 1261, 1262, 1263,\n",
       "       1264, 1265, 1266, 1267, 1268, 1269, 1270, 1271, 1272, 1273, 1274,\n",
       "       1275, 1276, 1277, 1278, 1279, 1280, 1281, 1282, 1283, 1284, 1285,\n",
       "       1286, 1287, 1288, 1289, 1290, 1291, 1292, 1293, 1294, 1295, 1296,\n",
       "       1297, 1298, 1299, 1300, 1301, 1302, 1303, 1304, 1305, 1306, 1307,\n",
       "       1308, 1309, 1310, 1311, 1312, 1313, 1314, 1315, 1316, 1317, 1318,\n",
       "       1319, 1320, 1321, 1322, 1323, 1324, 1325, 1326, 1327, 1328, 1329,\n",
       "       1330, 1331, 1332, 1333, 1334, 1335, 1336, 1337, 1338, 1339, 1340,\n",
       "       1341, 1342, 1343, 1344, 1345, 1346, 1347, 1348, 1349, 1350, 1351,\n",
       "       1352, 1353, 1354, 1355, 1356, 1357, 1358, 1359, 1360, 1361, 1362,\n",
       "       1363, 1364, 1365, 1366, 1367, 1368, 1369, 1370, 1371, 1372, 1373,\n",
       "       1374, 1375, 1376, 1377, 1378, 1379, 1380, 1381, 1382, 1383, 1384,\n",
       "       1385, 1386, 1387, 1388, 1389, 1390, 1391, 1392, 1393, 1394, 1395,\n",
       "       1396, 1397, 1398, 1399, 1400, 1401, 1402, 1403, 1404, 1405, 1406,\n",
       "       1407, 1408, 1409, 1410, 1411, 1412, 1413, 1414, 1415, 1416, 1417,\n",
       "       1418, 1419, 1420, 1421, 1422, 1423, 1424, 1425, 1426, 1427, 1428,\n",
       "       1429, 1430, 1431, 1432, 1433, 1434, 1435, 1436, 1437, 1438, 1439,\n",
       "       1440, 1441, 1442, 1443, 1444, 1445, 1446, 1447, 1448, 1449, 1450,\n",
       "       1451, 1452, 1453, 1454, 1455, 1456, 1457, 1458, 1459, 1460, 1461,\n",
       "       1462, 1463, 1464, 1465, 1466, 1467, 1468, 1469, 1470, 1471, 1472,\n",
       "       1473, 1474, 1475, 1476, 1477, 1478, 1479, 1480, 1481, 1482, 1483,\n",
       "       1484, 1485, 1486, 1487, 1488, 1489, 1490, 1491, 1492, 1493, 1494,\n",
       "       1495, 1496, 1497, 1498, 1499])"
      ]
     },
     "execution_count": 1649,
     "metadata": {},
     "output_type": "execute_result"
    }
   ],
   "source": [
    "# изучим значения user_id\n",
    "users.user_id.unique()"
   ]
  },
  {
   "cell_type": "markdown",
   "id": "ce399579",
   "metadata": {},
   "source": [
    "Идентификаторы в таблице представлены от 1000 до 1499."
   ]
  },
  {
   "cell_type": "code",
   "execution_count": 1650,
   "id": "3a419fb8",
   "metadata": {},
   "outputs": [
    {
     "data": {
      "text/plain": [
       "array([52, 41, 59, 23, 68, 67, 21, 65, 63, 24, 26, 44, 38, 36, 64, 58, 73,\n",
       "       71, 61, 72, 42, 56, 32, 62, 20, 51, 28, 66, 31, 37, 47, 40, 69, 48,\n",
       "       33, 39, 43, 46, 45, 55, 53, 34, 49, 25, 18, 70, 50, 19, 54, 60, 29,\n",
       "       27, 74, 22, 30, 75, 57, 35])"
      ]
     },
     "execution_count": 1650,
     "metadata": {},
     "output_type": "execute_result"
    }
   ],
   "source": [
    "# изучим значения age\n",
    "users.age.unique()"
   ]
  },
  {
   "cell_type": "code",
   "execution_count": 1651,
   "id": "49af7d16",
   "metadata": {},
   "outputs": [
    {
     "data": {
      "text/plain": [
       "count   500.000\n",
       "mean     46.588\n",
       "std      16.668\n",
       "min      18.000\n",
       "25%      32.000\n",
       "50%      46.000\n",
       "75%      62.000\n",
       "max      75.000\n",
       "Name: age, dtype: float64"
      ]
     },
     "execution_count": 1651,
     "metadata": {},
     "output_type": "execute_result"
    }
   ],
   "source": [
    "# числовое описание age\n",
    "users.age.describe()"
   ]
  },
  {
   "cell_type": "markdown",
   "id": "d493793f",
   "metadata": {},
   "source": [
    "Возраст пользователей распределяется от 18 до 75 лет. Средний возраст - 46 лет."
   ]
  },
  {
   "cell_type": "code",
   "execution_count": 1652,
   "id": "1a33ebf3",
   "metadata": {},
   "outputs": [
    {
     "data": {
      "text/plain": [
       "Index(['call_id', 'call_date', 'duration', 'user_id'], dtype='object')"
      ]
     },
     "execution_count": 1652,
     "metadata": {},
     "output_type": "execute_result"
    }
   ],
   "source": [
    "# получим все столбцы calls\n",
    "calls.columns"
   ]
  },
  {
   "cell_type": "code",
   "execution_count": 1653,
   "id": "83ba1706",
   "metadata": {},
   "outputs": [
    {
     "data": {
      "text/plain": [
       "array([  10000,   10001,   10002, ..., 1499217, 1499218, 1499219],\n",
       "      dtype=int32)"
      ]
     },
     "execution_count": 1653,
     "metadata": {},
     "output_type": "execute_result"
    }
   ],
   "source": [
    "# изучим значения call_id\n",
    "calls.call_id.unique()"
   ]
  },
  {
   "cell_type": "markdown",
   "id": "62fc9270",
   "metadata": {},
   "source": [
    "Значения идентификаторов звонков распределяются от 10000 до 1499219."
   ]
  },
  {
   "cell_type": "code",
   "execution_count": 1654,
   "id": "6b376302",
   "metadata": {},
   "outputs": [
    {
     "data": {
      "text/plain": [
       "count   202607.000\n",
       "mean         7.158\n",
       "std          5.959\n",
       "min          0.000\n",
       "25%          2.000\n",
       "50%          6.000\n",
       "75%         11.000\n",
       "max         38.000\n",
       "Name: duration, dtype: float64"
      ]
     },
     "execution_count": 1654,
     "metadata": {},
     "output_type": "execute_result"
    }
   ],
   "source": [
    "# числовое описание duration\n",
    "calls.duration.describe()"
   ]
  },
  {
   "cell_type": "markdown",
   "id": "59c5d887",
   "metadata": {},
   "source": [
    "Длительность звонков распределяется от 0 минут (это пропущенные звонки) до 38 минут. Средняя длительность - 7 минут."
   ]
  },
  {
   "cell_type": "code",
   "execution_count": 1655,
   "id": "11a90339",
   "metadata": {},
   "outputs": [
    {
     "data": {
      "text/plain": [
       "array([1000, 1001, 1002, 1003, 1004, 1005, 1006, 1007, 1008, 1009, 1010,\n",
       "       1011, 1012, 1013, 1014, 1015, 1016, 1017, 1018, 1019, 1020, 1021,\n",
       "       1022, 1023, 1024, 1025, 1026, 1027, 1028, 1029, 1030, 1031, 1032,\n",
       "       1033, 1034, 1035, 1036, 1037, 1038, 1039, 1040, 1041, 1042, 1043,\n",
       "       1044, 1045, 1046, 1047, 1048, 1049, 1050, 1051, 1052, 1053, 1054,\n",
       "       1055, 1056, 1057, 1058, 1059, 1060, 1061, 1062, 1063, 1064, 1065,\n",
       "       1066, 1067, 1068, 1069, 1070, 1071, 1072, 1073, 1074, 1075, 1076,\n",
       "       1077, 1078, 1079, 1080, 1081, 1082, 1083, 1084, 1085, 1086, 1087,\n",
       "       1088, 1089, 1090, 1092, 1093, 1094, 1095, 1096, 1097, 1098, 1099,\n",
       "       1100, 1101, 1102, 1103, 1104, 1105, 1107, 1108, 1109, 1110, 1111,\n",
       "       1112, 1113, 1114, 1115, 1116, 1117, 1118, 1119, 1120, 1121, 1122,\n",
       "       1123, 1124, 1125, 1126, 1127, 1129, 1130, 1131, 1132, 1133, 1134,\n",
       "       1135, 1136, 1137, 1138, 1139, 1140, 1141, 1142, 1143, 1144, 1145,\n",
       "       1146, 1147, 1148, 1149, 1150, 1151, 1152, 1153, 1154, 1155, 1156,\n",
       "       1157, 1158, 1159, 1160, 1161, 1162, 1163, 1164, 1165, 1166, 1167,\n",
       "       1168, 1169, 1170, 1171, 1172, 1173, 1174, 1175, 1176, 1177, 1178,\n",
       "       1179, 1180, 1181, 1182, 1183, 1184, 1185, 1186, 1187, 1188, 1189,\n",
       "       1190, 1191, 1192, 1193, 1194, 1195, 1196, 1197, 1198, 1199, 1200,\n",
       "       1201, 1202, 1203, 1204, 1205, 1206, 1207, 1208, 1209, 1210, 1211,\n",
       "       1212, 1213, 1214, 1215, 1216, 1217, 1218, 1219, 1220, 1221, 1222,\n",
       "       1223, 1224, 1225, 1226, 1227, 1228, 1229, 1230, 1232, 1233, 1234,\n",
       "       1235, 1236, 1237, 1238, 1239, 1240, 1241, 1242, 1243, 1244, 1245,\n",
       "       1246, 1247, 1248, 1249, 1250, 1251, 1252, 1253, 1254, 1255, 1256,\n",
       "       1257, 1258, 1259, 1260, 1261, 1262, 1263, 1264, 1265, 1266, 1267,\n",
       "       1268, 1269, 1270, 1271, 1272, 1273, 1274, 1275, 1276, 1277, 1278,\n",
       "       1279, 1280, 1281, 1282, 1283, 1284, 1285, 1286, 1287, 1288, 1289,\n",
       "       1290, 1291, 1292, 1293, 1294, 1295, 1296, 1297, 1298, 1299, 1300,\n",
       "       1301, 1302, 1303, 1304, 1305, 1306, 1307, 1308, 1309, 1310, 1311,\n",
       "       1312, 1313, 1314, 1315, 1316, 1317, 1318, 1319, 1320, 1321, 1322,\n",
       "       1323, 1324, 1325, 1326, 1327, 1329, 1330, 1331, 1332, 1333, 1334,\n",
       "       1335, 1336, 1337, 1338, 1339, 1340, 1341, 1342, 1343, 1344, 1345,\n",
       "       1346, 1347, 1348, 1349, 1350, 1351, 1352, 1353, 1354, 1355, 1356,\n",
       "       1357, 1358, 1359, 1360, 1361, 1362, 1363, 1364, 1365, 1366, 1367,\n",
       "       1368, 1369, 1370, 1372, 1373, 1374, 1375, 1376, 1377, 1378, 1379,\n",
       "       1380, 1381, 1382, 1383, 1384, 1385, 1386, 1387, 1388, 1389, 1390,\n",
       "       1391, 1392, 1393, 1394, 1395, 1396, 1397, 1398, 1399, 1400, 1401,\n",
       "       1402, 1403, 1404, 1405, 1406, 1407, 1408, 1409, 1410, 1411, 1412,\n",
       "       1413, 1414, 1415, 1416, 1417, 1418, 1419, 1420, 1421, 1422, 1423,\n",
       "       1424, 1425, 1426, 1427, 1428, 1429, 1430, 1431, 1432, 1433, 1434,\n",
       "       1435, 1436, 1437, 1438, 1439, 1440, 1441, 1442, 1443, 1444, 1445,\n",
       "       1446, 1447, 1448, 1449, 1450, 1451, 1452, 1453, 1454, 1455, 1456,\n",
       "       1457, 1458, 1459, 1460, 1461, 1462, 1463, 1464, 1465, 1466, 1467,\n",
       "       1468, 1469, 1470, 1471, 1472, 1474, 1475, 1476, 1477, 1478, 1479,\n",
       "       1480, 1481, 1482, 1483, 1484, 1485, 1486, 1487, 1488, 1490, 1491,\n",
       "       1492, 1493, 1494, 1495, 1496, 1497, 1498, 1499])"
      ]
     },
     "execution_count": 1655,
     "metadata": {},
     "output_type": "execute_result"
    }
   ],
   "source": [
    "# изучим значения user_id\n",
    "calls.user_id.unique()"
   ]
  },
  {
   "cell_type": "markdown",
   "id": "38b24c39",
   "metadata": {},
   "source": [
    "Нумерация id совпадает с нумерацией в датасете users."
   ]
  },
  {
   "cell_type": "code",
   "execution_count": 1656,
   "id": "f939142d",
   "metadata": {},
   "outputs": [
    {
     "data": {
      "text/plain": [
       "Index(['message_id', 'message_date', 'user_id'], dtype='object')"
      ]
     },
     "execution_count": 1656,
     "metadata": {},
     "output_type": "execute_result"
    }
   ],
   "source": [
    "# получим все названия колонок messages\n",
    "messages.columns"
   ]
  },
  {
   "cell_type": "code",
   "execution_count": 1657,
   "id": "69bcac67",
   "metadata": {},
   "outputs": [
    {
     "data": {
      "text/plain": [
       "array([  10000,   10001,   10002, ..., 1499181, 1499182, 1499183],\n",
       "      dtype=int32)"
      ]
     },
     "execution_count": 1657,
     "metadata": {},
     "output_type": "execute_result"
    }
   ],
   "source": [
    "# изучим значения message_id\n",
    "messages.message_id.unique()"
   ]
  },
  {
   "cell_type": "markdown",
   "id": "5af206e0",
   "metadata": {},
   "source": [
    "Значения распределяются от 10000 до 1499183."
   ]
  },
  {
   "cell_type": "code",
   "execution_count": 1658,
   "id": "4378bf24",
   "metadata": {},
   "outputs": [
    {
     "data": {
      "text/plain": [
       "array([1000, 1002, 1003, 1004, 1005, 1007, 1008, 1009, 1011, 1012, 1013,\n",
       "       1014, 1015, 1016, 1018, 1019, 1020, 1021, 1022, 1023, 1025, 1026,\n",
       "       1027, 1028, 1029, 1030, 1031, 1032, 1033, 1034, 1035, 1036, 1037,\n",
       "       1038, 1039, 1041, 1042, 1043, 1044, 1045, 1046, 1047, 1048, 1050,\n",
       "       1051, 1052, 1054, 1055, 1056, 1057, 1058, 1059, 1060, 1061, 1062,\n",
       "       1064, 1065, 1066, 1067, 1068, 1069, 1070, 1071, 1072, 1073, 1074,\n",
       "       1075, 1076, 1077, 1079, 1080, 1081, 1082, 1083, 1084, 1086, 1087,\n",
       "       1088, 1089, 1090, 1091, 1092, 1093, 1094, 1096, 1097, 1098, 1099,\n",
       "       1100, 1102, 1103, 1104, 1105, 1106, 1108, 1109, 1110, 1111, 1112,\n",
       "       1113, 1115, 1119, 1121, 1122, 1123, 1124, 1125, 1126, 1127, 1130,\n",
       "       1131, 1133, 1134, 1135, 1136, 1137, 1138, 1139, 1140, 1141, 1142,\n",
       "       1144, 1145, 1146, 1147, 1148, 1149, 1150, 1151, 1154, 1155, 1156,\n",
       "       1158, 1159, 1160, 1161, 1163, 1164, 1165, 1166, 1167, 1168, 1169,\n",
       "       1170, 1171, 1172, 1173, 1174, 1176, 1178, 1180, 1181, 1182, 1183,\n",
       "       1184, 1186, 1187, 1188, 1189, 1190, 1191, 1192, 1193, 1194, 1196,\n",
       "       1197, 1198, 1199, 1200, 1202, 1203, 1205, 1206, 1207, 1209, 1211,\n",
       "       1212, 1213, 1214, 1215, 1216, 1217, 1218, 1219, 1221, 1222, 1223,\n",
       "       1226, 1227, 1229, 1230, 1231, 1232, 1233, 1234, 1235, 1236, 1237,\n",
       "       1238, 1239, 1241, 1243, 1244, 1245, 1246, 1247, 1249, 1250, 1251,\n",
       "       1252, 1253, 1256, 1257, 1258, 1259, 1261, 1262, 1263, 1264, 1265,\n",
       "       1266, 1267, 1268, 1269, 1270, 1271, 1272, 1273, 1274, 1275, 1276,\n",
       "       1277, 1278, 1279, 1280, 1281, 1282, 1283, 1284, 1285, 1286, 1287,\n",
       "       1288, 1289, 1293, 1294, 1295, 1296, 1298, 1299, 1300, 1302, 1303,\n",
       "       1304, 1307, 1308, 1309, 1310, 1311, 1312, 1313, 1314, 1315, 1316,\n",
       "       1317, 1318, 1319, 1320, 1321, 1323, 1324, 1325, 1326, 1327, 1328,\n",
       "       1329, 1330, 1331, 1332, 1333, 1335, 1336, 1337, 1338, 1340, 1341,\n",
       "       1342, 1343, 1344, 1345, 1346, 1347, 1348, 1349, 1350, 1351, 1352,\n",
       "       1353, 1354, 1355, 1356, 1357, 1358, 1359, 1361, 1362, 1364, 1365,\n",
       "       1366, 1368, 1369, 1372, 1373, 1374, 1375, 1377, 1378, 1379, 1380,\n",
       "       1381, 1382, 1383, 1384, 1385, 1386, 1387, 1389, 1390, 1391, 1392,\n",
       "       1393, 1394, 1395, 1396, 1398, 1399, 1400, 1401, 1402, 1403, 1404,\n",
       "       1405, 1406, 1407, 1408, 1409, 1410, 1411, 1412, 1413, 1414, 1415,\n",
       "       1416, 1417, 1418, 1419, 1420, 1421, 1422, 1423, 1424, 1425, 1426,\n",
       "       1427, 1430, 1431, 1432, 1433, 1434, 1436, 1437, 1438, 1439, 1440,\n",
       "       1441, 1443, 1444, 1445, 1446, 1447, 1448, 1449, 1450, 1451, 1452,\n",
       "       1453, 1454, 1455, 1457, 1458, 1459, 1460, 1461, 1463, 1464, 1465,\n",
       "       1467, 1468, 1470, 1471, 1472, 1473, 1474, 1475, 1476, 1477, 1478,\n",
       "       1480, 1481, 1482, 1483, 1484, 1485, 1486, 1487, 1488, 1489, 1490,\n",
       "       1491, 1492, 1493, 1495, 1496, 1497, 1498, 1499])"
      ]
     },
     "execution_count": 1658,
     "metadata": {},
     "output_type": "execute_result"
    }
   ],
   "source": [
    "# изучим значения user_id\n",
    "messages.user_id.unique()"
   ]
  },
  {
   "cell_type": "markdown",
   "id": "c13c7ffd",
   "metadata": {},
   "source": [
    "Нумерация идентификаторов совпадает с users."
   ]
  },
  {
   "cell_type": "code",
   "execution_count": 1659,
   "id": "201190ed",
   "metadata": {},
   "outputs": [
    {
     "data": {
      "text/plain": [
       "Index(['session_id', 'mb_used', 'session_date', 'user_id'], dtype='object')"
      ]
     },
     "execution_count": 1659,
     "metadata": {},
     "output_type": "execute_result"
    }
   ],
   "source": [
    "# получим все названия колонок internet\n",
    "internet.columns "
   ]
  },
  {
   "cell_type": "code",
   "execution_count": 1660,
   "id": "a9e41c75",
   "metadata": {},
   "outputs": [
    {
     "data": {
      "text/plain": [
       "array([  10000,   10001,   10002, ..., 1499154, 1499155, 1499156],\n",
       "      dtype=int32)"
      ]
     },
     "execution_count": 1660,
     "metadata": {},
     "output_type": "execute_result"
    }
   ],
   "source": [
    "# изучим значения в session_id\n",
    "internet.session_id.unique()"
   ]
  },
  {
   "cell_type": "markdown",
   "id": "12467a6a",
   "metadata": {},
   "source": [
    "Индексы распределяются от 10000 до 1499156."
   ]
  },
  {
   "cell_type": "code",
   "execution_count": 1661,
   "id": "e1be83f4",
   "metadata": {},
   "outputs": [
    {
     "data": {
      "text/plain": [
       "count   149396.000\n",
       "mean       370.192\n",
       "std        278.301\n",
       "min          0.000\n",
       "25%        138.188\n",
       "50%        348.015\n",
       "75%        559.553\n",
       "max       1724.830\n",
       "Name: mb_used, dtype: float64"
      ]
     },
     "execution_count": 1661,
     "metadata": {},
     "output_type": "execute_result"
    }
   ],
   "source": [
    "# числовое описание mb_used\n",
    "internet.mb_used.describe()"
   ]
  },
  {
   "cell_type": "markdown",
   "id": "ce498264",
   "metadata": {},
   "source": [
    "Количество исрасходованных мБ интернет-трафика распределяется от 0 до 1725 мБ. Среднее значение - 370 мБ."
   ]
  },
  {
   "cell_type": "code",
   "execution_count": 1662,
   "id": "d9d1a5df",
   "metadata": {},
   "outputs": [
    {
     "data": {
      "text/plain": [
       "0.13118155773916304"
      ]
     },
     "execution_count": 1662,
     "metadata": {},
     "output_type": "execute_result"
    }
   ],
   "source": [
    "# посчитаем долю нулевых значений\n",
    "internet.query('mb_used == 0')['mb_used'].count() / internet.shape[0]"
   ]
  },
  {
   "cell_type": "code",
   "execution_count": 1663,
   "id": "325ef953",
   "metadata": {},
   "outputs": [
    {
     "data": {
      "text/plain": [
       "0.1193003828750435"
      ]
     },
     "execution_count": 1663,
     "metadata": {},
     "output_type": "execute_result"
    }
   ],
   "source": [
    "# посмотрим, какая доля приходится на тариф \"смарт\"\n",
    "internet.merge(users, on='user_id', how='left').query('mb_used == 0 and tariff == \"smart\"')['mb_used'].count() / internet.shape[0]"
   ]
  },
  {
   "cell_type": "markdown",
   "id": "0b83450a",
   "metadata": {},
   "source": [
    "Нулевых значений в таблице довольно много - 13%, 11 из которых приходится на тариф \"смарт\". Такие значения могут говорить о неудачных попытках в интернет. "
   ]
  },
  {
   "cell_type": "code",
   "execution_count": 1664,
   "id": "f8eee1d1",
   "metadata": {},
   "outputs": [
    {
     "data": {
      "text/plain": [
       "array([1000, 1001, 1002, 1003, 1004, 1005, 1006, 1007, 1008, 1009, 1010,\n",
       "       1011, 1012, 1013, 1014, 1015, 1016, 1017, 1018, 1019, 1020, 1021,\n",
       "       1022, 1023, 1024, 1025, 1026, 1027, 1028, 1029, 1030, 1031, 1032,\n",
       "       1033, 1034, 1035, 1036, 1037, 1038, 1039, 1040, 1041, 1042, 1043,\n",
       "       1044, 1045, 1046, 1047, 1048, 1049, 1050, 1051, 1052, 1053, 1054,\n",
       "       1055, 1056, 1057, 1058, 1059, 1060, 1061, 1062, 1063, 1064, 1065,\n",
       "       1066, 1067, 1068, 1069, 1070, 1071, 1072, 1073, 1074, 1075, 1076,\n",
       "       1077, 1078, 1079, 1080, 1081, 1082, 1083, 1084, 1085, 1086, 1087,\n",
       "       1088, 1089, 1090, 1091, 1092, 1093, 1094, 1095, 1096, 1097, 1098,\n",
       "       1099, 1100, 1101, 1102, 1103, 1104, 1105, 1106, 1107, 1108, 1109,\n",
       "       1110, 1111, 1112, 1113, 1114, 1115, 1116, 1117, 1118, 1119, 1120,\n",
       "       1121, 1122, 1123, 1124, 1125, 1126, 1127, 1129, 1130, 1131, 1132,\n",
       "       1133, 1134, 1135, 1136, 1137, 1138, 1139, 1140, 1141, 1142, 1143,\n",
       "       1144, 1145, 1146, 1147, 1148, 1149, 1150, 1151, 1152, 1153, 1154,\n",
       "       1155, 1156, 1157, 1158, 1159, 1160, 1161, 1162, 1163, 1164, 1165,\n",
       "       1166, 1167, 1168, 1169, 1170, 1171, 1172, 1173, 1174, 1175, 1176,\n",
       "       1177, 1178, 1179, 1180, 1181, 1182, 1183, 1184, 1185, 1186, 1187,\n",
       "       1188, 1189, 1190, 1191, 1192, 1193, 1194, 1195, 1196, 1197, 1198,\n",
       "       1199, 1200, 1201, 1202, 1203, 1204, 1205, 1206, 1207, 1208, 1209,\n",
       "       1210, 1211, 1212, 1213, 1214, 1215, 1216, 1217, 1218, 1219, 1220,\n",
       "       1221, 1222, 1223, 1224, 1225, 1226, 1227, 1228, 1229, 1230, 1231,\n",
       "       1232, 1233, 1234, 1235, 1236, 1237, 1238, 1239, 1240, 1241, 1242,\n",
       "       1243, 1244, 1245, 1246, 1247, 1248, 1249, 1250, 1251, 1252, 1253,\n",
       "       1254, 1255, 1256, 1257, 1258, 1259, 1260, 1261, 1262, 1263, 1264,\n",
       "       1265, 1266, 1267, 1268, 1269, 1270, 1271, 1272, 1274, 1275, 1276,\n",
       "       1277, 1278, 1279, 1280, 1281, 1282, 1283, 1284, 1285, 1286, 1287,\n",
       "       1288, 1289, 1290, 1291, 1292, 1293, 1294, 1295, 1296, 1297, 1298,\n",
       "       1299, 1300, 1301, 1302, 1303, 1304, 1305, 1306, 1307, 1308, 1309,\n",
       "       1310, 1311, 1312, 1313, 1314, 1315, 1316, 1317, 1318, 1319, 1320,\n",
       "       1321, 1322, 1323, 1324, 1325, 1326, 1327, 1328, 1329, 1330, 1331,\n",
       "       1332, 1333, 1334, 1335, 1336, 1337, 1338, 1339, 1340, 1341, 1342,\n",
       "       1343, 1344, 1345, 1346, 1347, 1348, 1349, 1350, 1351, 1352, 1353,\n",
       "       1354, 1355, 1356, 1357, 1358, 1359, 1360, 1361, 1362, 1363, 1364,\n",
       "       1365, 1366, 1367, 1368, 1369, 1370, 1372, 1373, 1374, 1375, 1376,\n",
       "       1377, 1378, 1379, 1380, 1381, 1382, 1383, 1384, 1385, 1386, 1387,\n",
       "       1388, 1389, 1390, 1391, 1392, 1393, 1394, 1395, 1396, 1397, 1398,\n",
       "       1399, 1400, 1401, 1402, 1403, 1404, 1405, 1406, 1407, 1408, 1409,\n",
       "       1410, 1411, 1412, 1413, 1414, 1415, 1416, 1417, 1418, 1419, 1420,\n",
       "       1421, 1422, 1423, 1424, 1425, 1426, 1427, 1428, 1429, 1430, 1431,\n",
       "       1432, 1433, 1434, 1435, 1436, 1437, 1438, 1439, 1440, 1441, 1442,\n",
       "       1443, 1444, 1445, 1446, 1447, 1448, 1449, 1450, 1451, 1452, 1453,\n",
       "       1454, 1455, 1456, 1457, 1458, 1459, 1460, 1461, 1462, 1463, 1464,\n",
       "       1465, 1466, 1467, 1468, 1469, 1470, 1471, 1472, 1473, 1474, 1475,\n",
       "       1476, 1477, 1478, 1479, 1480, 1481, 1482, 1483, 1484, 1485, 1486,\n",
       "       1487, 1488, 1489, 1490, 1491, 1492, 1493, 1494, 1495, 1496, 1497,\n",
       "       1498, 1499])"
      ]
     },
     "execution_count": 1664,
     "metadata": {},
     "output_type": "execute_result"
    }
   ],
   "source": [
    "# изучим значения user_id\n",
    "internet.user_id.unique()"
   ]
  },
  {
   "cell_type": "markdown",
   "id": "7af0bb19",
   "metadata": {},
   "source": [
    "Нумерация совпадает с users."
   ]
  },
  {
   "cell_type": "markdown",
   "id": "fce50fb8",
   "metadata": {},
   "source": [
    "#### Вывод"
   ]
  },
  {
   "cell_type": "markdown",
   "id": "9be748b3",
   "metadata": {},
   "source": [
    "- Идентификаторы пользователей в таблице представлены от 1000 до 1499.\n",
    "- Возраст пользователей распределяется от 18 до 75 лет. Средний возраст - 46 лет.\n",
    "- Длительность звонков распределяется от 0 минут (это пропущенные звонки) до 38 минут. Средняя длительность - 7 минут.\n",
    "- Количество исрасходованных мБ интернет-трафика распределяется от 0 до 1725 мБ. Среднее значение - 370 мБ. Нулевые значения могут говорить о неудачных попытках выхода в интернет. Таких значений 13%, из них 11 - это тариф \"смарт\"."
   ]
  },
  {
   "cell_type": "markdown",
   "id": "8266c9eb",
   "metadata": {},
   "source": [
    "### Подготовка данных"
   ]
  },
  {
   "cell_type": "code",
   "execution_count": 1665,
   "id": "f4d2253c",
   "metadata": {},
   "outputs": [
    {
     "data": {
      "text/html": [
       "<div>\n",
       "<style scoped>\n",
       "    .dataframe tbody tr th:only-of-type {\n",
       "        vertical-align: middle;\n",
       "    }\n",
       "\n",
       "    .dataframe tbody tr th {\n",
       "        vertical-align: top;\n",
       "    }\n",
       "\n",
       "    .dataframe thead th {\n",
       "        text-align: right;\n",
       "    }\n",
       "</style>\n",
       "<table border=\"1\" class=\"dataframe\">\n",
       "  <thead>\n",
       "    <tr style=\"text-align: right;\">\n",
       "      <th></th>\n",
       "      <th>call_id</th>\n",
       "      <th>call_date</th>\n",
       "      <th>duration</th>\n",
       "      <th>user_id</th>\n",
       "      <th>month</th>\n",
       "    </tr>\n",
       "  </thead>\n",
       "  <tbody>\n",
       "    <tr>\n",
       "      <th>0</th>\n",
       "      <td>10000</td>\n",
       "      <td>2018-07-25</td>\n",
       "      <td>0.000</td>\n",
       "      <td>1000</td>\n",
       "      <td>7</td>\n",
       "    </tr>\n",
       "    <tr>\n",
       "      <th>1</th>\n",
       "      <td>10001</td>\n",
       "      <td>2018-08-17</td>\n",
       "      <td>0.000</td>\n",
       "      <td>1000</td>\n",
       "      <td>8</td>\n",
       "    </tr>\n",
       "    <tr>\n",
       "      <th>2</th>\n",
       "      <td>10002</td>\n",
       "      <td>2018-06-11</td>\n",
       "      <td>3.000</td>\n",
       "      <td>1000</td>\n",
       "      <td>6</td>\n",
       "    </tr>\n",
       "    <tr>\n",
       "      <th>3</th>\n",
       "      <td>10003</td>\n",
       "      <td>2018-09-21</td>\n",
       "      <td>14.000</td>\n",
       "      <td>1000</td>\n",
       "      <td>9</td>\n",
       "    </tr>\n",
       "    <tr>\n",
       "      <th>4</th>\n",
       "      <td>10004</td>\n",
       "      <td>2018-12-15</td>\n",
       "      <td>6.000</td>\n",
       "      <td>1000</td>\n",
       "      <td>12</td>\n",
       "    </tr>\n",
       "  </tbody>\n",
       "</table>\n",
       "</div>"
      ],
      "text/plain": [
       "   call_id  call_date  duration  user_id  month\n",
       "0    10000 2018-07-25     0.000     1000      7\n",
       "1    10001 2018-08-17     0.000     1000      8\n",
       "2    10002 2018-06-11     3.000     1000      6\n",
       "3    10003 2018-09-21    14.000     1000      9\n",
       "4    10004 2018-12-15     6.000     1000     12"
      ]
     },
     "execution_count": 1665,
     "metadata": {},
     "output_type": "execute_result"
    }
   ],
   "source": [
    "# в таблице calls создадим колонку с месяцем\n",
    "calls['month'] = calls.call_date.dt.month \n",
    "calls.head()"
   ]
  },
  {
   "cell_type": "code",
   "execution_count": 1666,
   "id": "1b6dc129",
   "metadata": {
    "scrolled": false
   },
   "outputs": [
    {
     "data": {
      "text/html": [
       "<div>\n",
       "<style scoped>\n",
       "    .dataframe tbody tr th:only-of-type {\n",
       "        vertical-align: middle;\n",
       "    }\n",
       "\n",
       "    .dataframe tbody tr th {\n",
       "        vertical-align: top;\n",
       "    }\n",
       "\n",
       "    .dataframe thead th {\n",
       "        text-align: right;\n",
       "    }\n",
       "</style>\n",
       "<table border=\"1\" class=\"dataframe\">\n",
       "  <thead>\n",
       "    <tr style=\"text-align: right;\">\n",
       "      <th></th>\n",
       "      <th>user_id</th>\n",
       "      <th>month</th>\n",
       "      <th>calls_count</th>\n",
       "      <th>calls_sum</th>\n",
       "    </tr>\n",
       "  </thead>\n",
       "  <tbody>\n",
       "    <tr>\n",
       "      <th>0</th>\n",
       "      <td>1000</td>\n",
       "      <td>5</td>\n",
       "      <td>22</td>\n",
       "      <td>159.000</td>\n",
       "    </tr>\n",
       "    <tr>\n",
       "      <th>1</th>\n",
       "      <td>1000</td>\n",
       "      <td>6</td>\n",
       "      <td>43</td>\n",
       "      <td>172.000</td>\n",
       "    </tr>\n",
       "    <tr>\n",
       "      <th>2</th>\n",
       "      <td>1000</td>\n",
       "      <td>7</td>\n",
       "      <td>47</td>\n",
       "      <td>340.000</td>\n",
       "    </tr>\n",
       "    <tr>\n",
       "      <th>3</th>\n",
       "      <td>1000</td>\n",
       "      <td>8</td>\n",
       "      <td>52</td>\n",
       "      <td>408.000</td>\n",
       "    </tr>\n",
       "    <tr>\n",
       "      <th>4</th>\n",
       "      <td>1000</td>\n",
       "      <td>9</td>\n",
       "      <td>58</td>\n",
       "      <td>466.000</td>\n",
       "    </tr>\n",
       "  </tbody>\n",
       "</table>\n",
       "</div>"
      ],
      "text/plain": [
       "   user_id  month  calls_count  calls_sum\n",
       "0     1000      5           22    159.000\n",
       "1     1000      6           43    172.000\n",
       "2     1000      7           47    340.000\n",
       "3     1000      8           52    408.000\n",
       "4     1000      9           58    466.000"
      ]
     },
     "execution_count": 1666,
     "metadata": {},
     "output_type": "execute_result"
    }
   ],
   "source": [
    "# сгруппируем звонки по пользователям и месяцам\n",
    "calls = calls.pivot_table(index=['user_id', 'month'], values='duration', aggfunc=['count', 'sum']).reset_index()\n",
    "calls.columns = ['user_id', 'month', 'calls_count', 'calls_sum']\n",
    "calls.head()"
   ]
  },
  {
   "cell_type": "code",
   "execution_count": 1667,
   "id": "a4e5170d",
   "metadata": {},
   "outputs": [
    {
     "data": {
      "text/html": [
       "<div>\n",
       "<style scoped>\n",
       "    .dataframe tbody tr th:only-of-type {\n",
       "        vertical-align: middle;\n",
       "    }\n",
       "\n",
       "    .dataframe tbody tr th {\n",
       "        vertical-align: top;\n",
       "    }\n",
       "\n",
       "    .dataframe thead th {\n",
       "        text-align: right;\n",
       "    }\n",
       "</style>\n",
       "<table border=\"1\" class=\"dataframe\">\n",
       "  <thead>\n",
       "    <tr style=\"text-align: right;\">\n",
       "      <th></th>\n",
       "      <th>message_id</th>\n",
       "      <th>message_date</th>\n",
       "      <th>user_id</th>\n",
       "      <th>month</th>\n",
       "    </tr>\n",
       "  </thead>\n",
       "  <tbody>\n",
       "    <tr>\n",
       "      <th>0</th>\n",
       "      <td>10000</td>\n",
       "      <td>2018-06-27</td>\n",
       "      <td>1000</td>\n",
       "      <td>6</td>\n",
       "    </tr>\n",
       "    <tr>\n",
       "      <th>1</th>\n",
       "      <td>10001</td>\n",
       "      <td>2018-10-08</td>\n",
       "      <td>1000</td>\n",
       "      <td>10</td>\n",
       "    </tr>\n",
       "    <tr>\n",
       "      <th>2</th>\n",
       "      <td>10002</td>\n",
       "      <td>2018-08-04</td>\n",
       "      <td>1000</td>\n",
       "      <td>8</td>\n",
       "    </tr>\n",
       "    <tr>\n",
       "      <th>3</th>\n",
       "      <td>10003</td>\n",
       "      <td>2018-06-16</td>\n",
       "      <td>1000</td>\n",
       "      <td>6</td>\n",
       "    </tr>\n",
       "    <tr>\n",
       "      <th>4</th>\n",
       "      <td>10004</td>\n",
       "      <td>2018-12-05</td>\n",
       "      <td>1000</td>\n",
       "      <td>12</td>\n",
       "    </tr>\n",
       "  </tbody>\n",
       "</table>\n",
       "</div>"
      ],
      "text/plain": [
       "   message_id message_date  user_id  month\n",
       "0       10000   2018-06-27     1000      6\n",
       "1       10001   2018-10-08     1000     10\n",
       "2       10002   2018-08-04     1000      8\n",
       "3       10003   2018-06-16     1000      6\n",
       "4       10004   2018-12-05     1000     12"
      ]
     },
     "execution_count": 1667,
     "metadata": {},
     "output_type": "execute_result"
    }
   ],
   "source": [
    "# в таблице messages создадим колонку с месяцем\n",
    "messages['month'] = messages.message_date.dt.month \n",
    "messages.head()"
   ]
  },
  {
   "cell_type": "code",
   "execution_count": 1668,
   "id": "49245ee6",
   "metadata": {},
   "outputs": [
    {
     "data": {
      "text/html": [
       "<div>\n",
       "<style scoped>\n",
       "    .dataframe tbody tr th:only-of-type {\n",
       "        vertical-align: middle;\n",
       "    }\n",
       "\n",
       "    .dataframe tbody tr th {\n",
       "        vertical-align: top;\n",
       "    }\n",
       "\n",
       "    .dataframe thead th {\n",
       "        text-align: right;\n",
       "    }\n",
       "</style>\n",
       "<table border=\"1\" class=\"dataframe\">\n",
       "  <thead>\n",
       "    <tr style=\"text-align: right;\">\n",
       "      <th></th>\n",
       "      <th>user_id</th>\n",
       "      <th>month</th>\n",
       "      <th>messages_count</th>\n",
       "    </tr>\n",
       "  </thead>\n",
       "  <tbody>\n",
       "    <tr>\n",
       "      <th>0</th>\n",
       "      <td>1000</td>\n",
       "      <td>5</td>\n",
       "      <td>22</td>\n",
       "    </tr>\n",
       "    <tr>\n",
       "      <th>1</th>\n",
       "      <td>1000</td>\n",
       "      <td>6</td>\n",
       "      <td>60</td>\n",
       "    </tr>\n",
       "    <tr>\n",
       "      <th>2</th>\n",
       "      <td>1000</td>\n",
       "      <td>7</td>\n",
       "      <td>75</td>\n",
       "    </tr>\n",
       "    <tr>\n",
       "      <th>3</th>\n",
       "      <td>1000</td>\n",
       "      <td>8</td>\n",
       "      <td>81</td>\n",
       "    </tr>\n",
       "    <tr>\n",
       "      <th>4</th>\n",
       "      <td>1000</td>\n",
       "      <td>9</td>\n",
       "      <td>57</td>\n",
       "    </tr>\n",
       "  </tbody>\n",
       "</table>\n",
       "</div>"
      ],
      "text/plain": [
       "   user_id  month  messages_count\n",
       "0     1000      5              22\n",
       "1     1000      6              60\n",
       "2     1000      7              75\n",
       "3     1000      8              81\n",
       "4     1000      9              57"
      ]
     },
     "execution_count": 1668,
     "metadata": {},
     "output_type": "execute_result"
    }
   ],
   "source": [
    "# сруппируем сообщения по пользователям и месяцам\n",
    "messages = messages.pivot_table(index=['user_id', 'month'], values='message_id', aggfunc='count').reset_index()\n",
    "messages.columns = ['user_id', 'month', 'messages_count']\n",
    "messages.head()"
   ]
  },
  {
   "cell_type": "code",
   "execution_count": 1669,
   "id": "4f258f32",
   "metadata": {
    "scrolled": true
   },
   "outputs": [
    {
     "data": {
      "text/html": [
       "<div>\n",
       "<style scoped>\n",
       "    .dataframe tbody tr th:only-of-type {\n",
       "        vertical-align: middle;\n",
       "    }\n",
       "\n",
       "    .dataframe tbody tr th {\n",
       "        vertical-align: top;\n",
       "    }\n",
       "\n",
       "    .dataframe thead th {\n",
       "        text-align: right;\n",
       "    }\n",
       "</style>\n",
       "<table border=\"1\" class=\"dataframe\">\n",
       "  <thead>\n",
       "    <tr style=\"text-align: right;\">\n",
       "      <th></th>\n",
       "      <th>session_id</th>\n",
       "      <th>mb_used</th>\n",
       "      <th>session_date</th>\n",
       "      <th>user_id</th>\n",
       "      <th>month</th>\n",
       "    </tr>\n",
       "  </thead>\n",
       "  <tbody>\n",
       "    <tr>\n",
       "      <th>0</th>\n",
       "      <td>10000</td>\n",
       "      <td>112.950</td>\n",
       "      <td>2018-11-25</td>\n",
       "      <td>1000</td>\n",
       "      <td>11</td>\n",
       "    </tr>\n",
       "    <tr>\n",
       "      <th>1</th>\n",
       "      <td>10001</td>\n",
       "      <td>1052.810</td>\n",
       "      <td>2018-09-07</td>\n",
       "      <td>1000</td>\n",
       "      <td>9</td>\n",
       "    </tr>\n",
       "    <tr>\n",
       "      <th>2</th>\n",
       "      <td>10002</td>\n",
       "      <td>1197.260</td>\n",
       "      <td>2018-06-25</td>\n",
       "      <td>1000</td>\n",
       "      <td>6</td>\n",
       "    </tr>\n",
       "    <tr>\n",
       "      <th>3</th>\n",
       "      <td>10003</td>\n",
       "      <td>550.270</td>\n",
       "      <td>2018-08-22</td>\n",
       "      <td>1000</td>\n",
       "      <td>8</td>\n",
       "    </tr>\n",
       "    <tr>\n",
       "      <th>4</th>\n",
       "      <td>10004</td>\n",
       "      <td>302.560</td>\n",
       "      <td>2018-09-24</td>\n",
       "      <td>1000</td>\n",
       "      <td>9</td>\n",
       "    </tr>\n",
       "  </tbody>\n",
       "</table>\n",
       "</div>"
      ],
      "text/plain": [
       "   session_id  mb_used session_date  user_id  month\n",
       "0       10000  112.950   2018-11-25     1000     11\n",
       "1       10001 1052.810   2018-09-07     1000      9\n",
       "2       10002 1197.260   2018-06-25     1000      6\n",
       "3       10003  550.270   2018-08-22     1000      8\n",
       "4       10004  302.560   2018-09-24     1000      9"
      ]
     },
     "execution_count": 1669,
     "metadata": {},
     "output_type": "execute_result"
    }
   ],
   "source": [
    "# в таблице internet создадим колонку с месяцем\n",
    "internet['month'] = internet.session_date.dt.month \n",
    "internet.head()"
   ]
  },
  {
   "cell_type": "code",
   "execution_count": 1670,
   "id": "3a84ac2f",
   "metadata": {},
   "outputs": [
    {
     "data": {
      "text/html": [
       "<div>\n",
       "<style scoped>\n",
       "    .dataframe tbody tr th:only-of-type {\n",
       "        vertical-align: middle;\n",
       "    }\n",
       "\n",
       "    .dataframe tbody tr th {\n",
       "        vertical-align: top;\n",
       "    }\n",
       "\n",
       "    .dataframe thead th {\n",
       "        text-align: right;\n",
       "    }\n",
       "</style>\n",
       "<table border=\"1\" class=\"dataframe\">\n",
       "  <thead>\n",
       "    <tr style=\"text-align: right;\">\n",
       "      <th></th>\n",
       "      <th>user_id</th>\n",
       "      <th>month</th>\n",
       "      <th>sessions_count</th>\n",
       "      <th>mb_used</th>\n",
       "    </tr>\n",
       "  </thead>\n",
       "  <tbody>\n",
       "    <tr>\n",
       "      <th>0</th>\n",
       "      <td>1000</td>\n",
       "      <td>5</td>\n",
       "      <td>5</td>\n",
       "      <td>2253.490</td>\n",
       "    </tr>\n",
       "    <tr>\n",
       "      <th>1</th>\n",
       "      <td>1000</td>\n",
       "      <td>6</td>\n",
       "      <td>49</td>\n",
       "      <td>23233.770</td>\n",
       "    </tr>\n",
       "    <tr>\n",
       "      <th>2</th>\n",
       "      <td>1000</td>\n",
       "      <td>7</td>\n",
       "      <td>29</td>\n",
       "      <td>14003.640</td>\n",
       "    </tr>\n",
       "    <tr>\n",
       "      <th>3</th>\n",
       "      <td>1000</td>\n",
       "      <td>8</td>\n",
       "      <td>29</td>\n",
       "      <td>14055.930</td>\n",
       "    </tr>\n",
       "    <tr>\n",
       "      <th>4</th>\n",
       "      <td>1000</td>\n",
       "      <td>9</td>\n",
       "      <td>27</td>\n",
       "      <td>14568.910</td>\n",
       "    </tr>\n",
       "  </tbody>\n",
       "</table>\n",
       "</div>"
      ],
      "text/plain": [
       "   user_id  month  sessions_count   mb_used\n",
       "0     1000      5               5  2253.490\n",
       "1     1000      6              49 23233.770\n",
       "2     1000      7              29 14003.640\n",
       "3     1000      8              29 14055.930\n",
       "4     1000      9              27 14568.910"
      ]
     },
     "execution_count": 1670,
     "metadata": {},
     "output_type": "execute_result"
    }
   ],
   "source": [
    "# сгруппируем данные по пользователям и месяцам\n",
    "internet = internet.pivot_table(index=['user_id', 'month'], values='mb_used', aggfunc=['count', 'sum']).reset_index()\n",
    "internet.columns = ['user_id', 'month', 'sessions_count', 'mb_used']\n",
    "internet.head()"
   ]
  },
  {
   "cell_type": "code",
   "execution_count": 1671,
   "id": "bcbd4cd5",
   "metadata": {
    "scrolled": false
   },
   "outputs": [
    {
     "data": {
      "text/html": [
       "<div>\n",
       "<style scoped>\n",
       "    .dataframe tbody tr th:only-of-type {\n",
       "        vertical-align: middle;\n",
       "    }\n",
       "\n",
       "    .dataframe tbody tr th {\n",
       "        vertical-align: top;\n",
       "    }\n",
       "\n",
       "    .dataframe thead th {\n",
       "        text-align: right;\n",
       "    }\n",
       "</style>\n",
       "<table border=\"1\" class=\"dataframe\">\n",
       "  <thead>\n",
       "    <tr style=\"text-align: right;\">\n",
       "      <th></th>\n",
       "      <th>user_id</th>\n",
       "      <th>month</th>\n",
       "      <th>sessions_count</th>\n",
       "      <th>mb_used</th>\n",
       "      <th>gb_used</th>\n",
       "    </tr>\n",
       "  </thead>\n",
       "  <tbody>\n",
       "    <tr>\n",
       "      <th>0</th>\n",
       "      <td>1000</td>\n",
       "      <td>5</td>\n",
       "      <td>5</td>\n",
       "      <td>2253.490</td>\n",
       "      <td>3</td>\n",
       "    </tr>\n",
       "    <tr>\n",
       "      <th>1</th>\n",
       "      <td>1000</td>\n",
       "      <td>6</td>\n",
       "      <td>49</td>\n",
       "      <td>23233.770</td>\n",
       "      <td>23</td>\n",
       "    </tr>\n",
       "    <tr>\n",
       "      <th>2</th>\n",
       "      <td>1000</td>\n",
       "      <td>7</td>\n",
       "      <td>29</td>\n",
       "      <td>14003.640</td>\n",
       "      <td>14</td>\n",
       "    </tr>\n",
       "    <tr>\n",
       "      <th>3</th>\n",
       "      <td>1000</td>\n",
       "      <td>8</td>\n",
       "      <td>29</td>\n",
       "      <td>14055.930</td>\n",
       "      <td>14</td>\n",
       "    </tr>\n",
       "    <tr>\n",
       "      <th>4</th>\n",
       "      <td>1000</td>\n",
       "      <td>9</td>\n",
       "      <td>27</td>\n",
       "      <td>14568.910</td>\n",
       "      <td>15</td>\n",
       "    </tr>\n",
       "  </tbody>\n",
       "</table>\n",
       "</div>"
      ],
      "text/plain": [
       "   user_id  month  sessions_count   mb_used  gb_used\n",
       "0     1000      5               5  2253.490        3\n",
       "1     1000      6              49 23233.770       23\n",
       "2     1000      7              29 14003.640       14\n",
       "3     1000      8              29 14055.930       14\n",
       "4     1000      9              27 14568.910       15"
      ]
     },
     "execution_count": 1671,
     "metadata": {},
     "output_type": "execute_result"
    }
   ],
   "source": [
    "# добавим колонку с количеством гБ\n",
    "internet['gb_used'] = internet.mb_used.apply(lambda x: math.ceil(x / 1024))\n",
    "internet.head()"
   ]
  },
  {
   "cell_type": "markdown",
   "id": "d18d88dc",
   "metadata": {},
   "source": [
    "Объединим таблицы calls, messages, internet."
   ]
  },
  {
   "cell_type": "code",
   "execution_count": 1672,
   "id": "baf74707",
   "metadata": {},
   "outputs": [],
   "source": [
    "revenue = calls.merge(messages, on=['user_id', 'month'], how='inner')"
   ]
  },
  {
   "cell_type": "code",
   "execution_count": 1673,
   "id": "2f7edba9",
   "metadata": {},
   "outputs": [],
   "source": [
    "revenue = revenue.merge(internet, on=['user_id', 'month'], how='inner')"
   ]
  },
  {
   "cell_type": "code",
   "execution_count": 1674,
   "id": "036408e1",
   "metadata": {},
   "outputs": [
    {
     "data": {
      "text/html": [
       "<div>\n",
       "<style scoped>\n",
       "    .dataframe tbody tr th:only-of-type {\n",
       "        vertical-align: middle;\n",
       "    }\n",
       "\n",
       "    .dataframe tbody tr th {\n",
       "        vertical-align: top;\n",
       "    }\n",
       "\n",
       "    .dataframe thead th {\n",
       "        text-align: right;\n",
       "    }\n",
       "</style>\n",
       "<table border=\"1\" class=\"dataframe\">\n",
       "  <thead>\n",
       "    <tr style=\"text-align: right;\">\n",
       "      <th></th>\n",
       "      <th>month</th>\n",
       "      <th>calls_count</th>\n",
       "      <th>calls_sum</th>\n",
       "      <th>messages_count</th>\n",
       "      <th>sessions_count</th>\n",
       "      <th>mb_used</th>\n",
       "      <th>gb_used</th>\n",
       "    </tr>\n",
       "    <tr>\n",
       "      <th>user_id</th>\n",
       "      <th></th>\n",
       "      <th></th>\n",
       "      <th></th>\n",
       "      <th></th>\n",
       "      <th></th>\n",
       "      <th></th>\n",
       "      <th></th>\n",
       "    </tr>\n",
       "  </thead>\n",
       "  <tbody>\n",
       "    <tr>\n",
       "      <th>1000</th>\n",
       "      <td>5</td>\n",
       "      <td>22</td>\n",
       "      <td>159.000</td>\n",
       "      <td>22</td>\n",
       "      <td>5</td>\n",
       "      <td>2253.490</td>\n",
       "      <td>3</td>\n",
       "    </tr>\n",
       "    <tr>\n",
       "      <th>1000</th>\n",
       "      <td>6</td>\n",
       "      <td>43</td>\n",
       "      <td>172.000</td>\n",
       "      <td>60</td>\n",
       "      <td>49</td>\n",
       "      <td>23233.770</td>\n",
       "      <td>23</td>\n",
       "    </tr>\n",
       "    <tr>\n",
       "      <th>1000</th>\n",
       "      <td>7</td>\n",
       "      <td>47</td>\n",
       "      <td>340.000</td>\n",
       "      <td>75</td>\n",
       "      <td>29</td>\n",
       "      <td>14003.640</td>\n",
       "      <td>14</td>\n",
       "    </tr>\n",
       "    <tr>\n",
       "      <th>1000</th>\n",
       "      <td>8</td>\n",
       "      <td>52</td>\n",
       "      <td>408.000</td>\n",
       "      <td>81</td>\n",
       "      <td>29</td>\n",
       "      <td>14055.930</td>\n",
       "      <td>14</td>\n",
       "    </tr>\n",
       "    <tr>\n",
       "      <th>1000</th>\n",
       "      <td>9</td>\n",
       "      <td>58</td>\n",
       "      <td>466.000</td>\n",
       "      <td>57</td>\n",
       "      <td>27</td>\n",
       "      <td>14568.910</td>\n",
       "      <td>15</td>\n",
       "    </tr>\n",
       "  </tbody>\n",
       "</table>\n",
       "</div>"
      ],
      "text/plain": [
       "         month  calls_count  calls_sum  messages_count  sessions_count  \\\n",
       "user_id                                                                  \n",
       "1000         5           22    159.000              22               5   \n",
       "1000         6           43    172.000              60              49   \n",
       "1000         7           47    340.000              75              29   \n",
       "1000         8           52    408.000              81              29   \n",
       "1000         9           58    466.000              57              27   \n",
       "\n",
       "          mb_used  gb_used  \n",
       "user_id                     \n",
       "1000     2253.490        3  \n",
       "1000    23233.770       23  \n",
       "1000    14003.640       14  \n",
       "1000    14055.930       14  \n",
       "1000    14568.910       15  "
      ]
     },
     "execution_count": 1674,
     "metadata": {},
     "output_type": "execute_result"
    }
   ],
   "source": [
    "# в полученной таблице установим в качестве индекса user_id\n",
    "revenue.set_index('user_id', inplace=True)\n",
    "revenue.head()"
   ]
  },
  {
   "cell_type": "code",
   "execution_count": 1675,
   "id": "5f2924c3",
   "metadata": {
    "scrolled": false
   },
   "outputs": [
    {
     "data": {
      "text/html": [
       "<div>\n",
       "<style scoped>\n",
       "    .dataframe tbody tr th:only-of-type {\n",
       "        vertical-align: middle;\n",
       "    }\n",
       "\n",
       "    .dataframe tbody tr th {\n",
       "        vertical-align: top;\n",
       "    }\n",
       "\n",
       "    .dataframe thead th {\n",
       "        text-align: right;\n",
       "    }\n",
       "</style>\n",
       "<table border=\"1\" class=\"dataframe\">\n",
       "  <thead>\n",
       "    <tr style=\"text-align: right;\">\n",
       "      <th></th>\n",
       "      <th>age</th>\n",
       "      <th>churn_date</th>\n",
       "      <th>city</th>\n",
       "      <th>first_name</th>\n",
       "      <th>last_name</th>\n",
       "      <th>reg_date</th>\n",
       "      <th>tariff</th>\n",
       "    </tr>\n",
       "    <tr>\n",
       "      <th>user_id</th>\n",
       "      <th></th>\n",
       "      <th></th>\n",
       "      <th></th>\n",
       "      <th></th>\n",
       "      <th></th>\n",
       "      <th></th>\n",
       "      <th></th>\n",
       "    </tr>\n",
       "  </thead>\n",
       "  <tbody>\n",
       "    <tr>\n",
       "      <th>1000</th>\n",
       "      <td>52</td>\n",
       "      <td>NaT</td>\n",
       "      <td>Краснодар</td>\n",
       "      <td>Рафаил</td>\n",
       "      <td>Верещагин</td>\n",
       "      <td>2018-05-25</td>\n",
       "      <td>ultra</td>\n",
       "    </tr>\n",
       "    <tr>\n",
       "      <th>1001</th>\n",
       "      <td>41</td>\n",
       "      <td>NaT</td>\n",
       "      <td>Москва</td>\n",
       "      <td>Иван</td>\n",
       "      <td>Ежов</td>\n",
       "      <td>2018-11-01</td>\n",
       "      <td>smart</td>\n",
       "    </tr>\n",
       "    <tr>\n",
       "      <th>1002</th>\n",
       "      <td>59</td>\n",
       "      <td>NaT</td>\n",
       "      <td>Стерлитамак</td>\n",
       "      <td>Евгений</td>\n",
       "      <td>Абрамович</td>\n",
       "      <td>2018-06-17</td>\n",
       "      <td>smart</td>\n",
       "    </tr>\n",
       "    <tr>\n",
       "      <th>1003</th>\n",
       "      <td>23</td>\n",
       "      <td>NaT</td>\n",
       "      <td>Москва</td>\n",
       "      <td>Белла</td>\n",
       "      <td>Белякова</td>\n",
       "      <td>2018-08-17</td>\n",
       "      <td>ultra</td>\n",
       "    </tr>\n",
       "    <tr>\n",
       "      <th>1004</th>\n",
       "      <td>68</td>\n",
       "      <td>NaT</td>\n",
       "      <td>Новокузнецк</td>\n",
       "      <td>Татьяна</td>\n",
       "      <td>Авдеенко</td>\n",
       "      <td>2018-05-14</td>\n",
       "      <td>ultra</td>\n",
       "    </tr>\n",
       "  </tbody>\n",
       "</table>\n",
       "</div>"
      ],
      "text/plain": [
       "         age churn_date         city first_name  last_name   reg_date tariff\n",
       "user_id                                                                     \n",
       "1000      52        NaT    Краснодар     Рафаил  Верещагин 2018-05-25  ultra\n",
       "1001      41        NaT       Москва       Иван       Ежов 2018-11-01  smart\n",
       "1002      59        NaT  Стерлитамак    Евгений  Абрамович 2018-06-17  smart\n",
       "1003      23        NaT       Москва      Белла   Белякова 2018-08-17  ultra\n",
       "1004      68        NaT  Новокузнецк    Татьяна   Авдеенко 2018-05-14  ultra"
      ]
     },
     "execution_count": 1675,
     "metadata": {},
     "output_type": "execute_result"
    }
   ],
   "source": [
    "# в датасете users тоже установим в качестве индекса user_id\n",
    "users.set_index('user_id', inplace=True)\n",
    "users.head()"
   ]
  },
  {
   "cell_type": "code",
   "execution_count": 1676,
   "id": "746c656c",
   "metadata": {},
   "outputs": [
    {
     "data": {
      "text/html": [
       "<div>\n",
       "<style scoped>\n",
       "    .dataframe tbody tr th:only-of-type {\n",
       "        vertical-align: middle;\n",
       "    }\n",
       "\n",
       "    .dataframe tbody tr th {\n",
       "        vertical-align: top;\n",
       "    }\n",
       "\n",
       "    .dataframe thead th {\n",
       "        text-align: right;\n",
       "    }\n",
       "</style>\n",
       "<table border=\"1\" class=\"dataframe\">\n",
       "  <thead>\n",
       "    <tr style=\"text-align: right;\">\n",
       "      <th></th>\n",
       "      <th>month</th>\n",
       "      <th>calls_count</th>\n",
       "      <th>calls_sum</th>\n",
       "      <th>messages_count</th>\n",
       "      <th>sessions_count</th>\n",
       "      <th>mb_used</th>\n",
       "      <th>gb_used</th>\n",
       "      <th>tariff</th>\n",
       "    </tr>\n",
       "    <tr>\n",
       "      <th>user_id</th>\n",
       "      <th></th>\n",
       "      <th></th>\n",
       "      <th></th>\n",
       "      <th></th>\n",
       "      <th></th>\n",
       "      <th></th>\n",
       "      <th></th>\n",
       "      <th></th>\n",
       "    </tr>\n",
       "  </thead>\n",
       "  <tbody>\n",
       "    <tr>\n",
       "      <th>1000</th>\n",
       "      <td>5</td>\n",
       "      <td>22</td>\n",
       "      <td>159.000</td>\n",
       "      <td>22</td>\n",
       "      <td>5</td>\n",
       "      <td>2253.490</td>\n",
       "      <td>3</td>\n",
       "      <td>ultra</td>\n",
       "    </tr>\n",
       "    <tr>\n",
       "      <th>1000</th>\n",
       "      <td>6</td>\n",
       "      <td>43</td>\n",
       "      <td>172.000</td>\n",
       "      <td>60</td>\n",
       "      <td>49</td>\n",
       "      <td>23233.770</td>\n",
       "      <td>23</td>\n",
       "      <td>ultra</td>\n",
       "    </tr>\n",
       "    <tr>\n",
       "      <th>1000</th>\n",
       "      <td>7</td>\n",
       "      <td>47</td>\n",
       "      <td>340.000</td>\n",
       "      <td>75</td>\n",
       "      <td>29</td>\n",
       "      <td>14003.640</td>\n",
       "      <td>14</td>\n",
       "      <td>ultra</td>\n",
       "    </tr>\n",
       "    <tr>\n",
       "      <th>1000</th>\n",
       "      <td>8</td>\n",
       "      <td>52</td>\n",
       "      <td>408.000</td>\n",
       "      <td>81</td>\n",
       "      <td>29</td>\n",
       "      <td>14055.930</td>\n",
       "      <td>14</td>\n",
       "      <td>ultra</td>\n",
       "    </tr>\n",
       "    <tr>\n",
       "      <th>1000</th>\n",
       "      <td>9</td>\n",
       "      <td>58</td>\n",
       "      <td>466.000</td>\n",
       "      <td>57</td>\n",
       "      <td>27</td>\n",
       "      <td>14568.910</td>\n",
       "      <td>15</td>\n",
       "      <td>ultra</td>\n",
       "    </tr>\n",
       "  </tbody>\n",
       "</table>\n",
       "</div>"
      ],
      "text/plain": [
       "         month  calls_count  calls_sum  messages_count  sessions_count  \\\n",
       "user_id                                                                  \n",
       "1000         5           22    159.000              22               5   \n",
       "1000         6           43    172.000              60              49   \n",
       "1000         7           47    340.000              75              29   \n",
       "1000         8           52    408.000              81              29   \n",
       "1000         9           58    466.000              57              27   \n",
       "\n",
       "          mb_used  gb_used tariff  \n",
       "user_id                            \n",
       "1000     2253.490        3  ultra  \n",
       "1000    23233.770       23  ultra  \n",
       "1000    14003.640       14  ultra  \n",
       "1000    14055.930       14  ultra  \n",
       "1000    14568.910       15  ultra  "
      ]
     },
     "execution_count": 1676,
     "metadata": {},
     "output_type": "execute_result"
    }
   ],
   "source": [
    "# в таблицу revenue добавим название тарифа для каждого пользователя\n",
    "revenue['tariff'] = users.tariff\n",
    "revenue.head()"
   ]
  },
  {
   "cell_type": "code",
   "execution_count": 1677,
   "id": "0fb5eb8f",
   "metadata": {},
   "outputs": [],
   "source": [
    "# функция для подсчёта помесячной выручки с каждого пользователя\n",
    "def calculate_revenue(row):\n",
    "    calls_sum = row['calls_sum']\n",
    "    messages_count = row['messages_count']\n",
    "    gb_used = row['gb_used']\n",
    "    revenue = 0\n",
    "    if row['tariff'] == 'ultra':\n",
    "        if calls_sum > tariffs.minutes_included[1]:\n",
    "            revenue += (calls_sum - tariffs.minutes_included[1]) * tariffs.rub_per_minute[1]\n",
    "        if messages_count > tariffs.messages_included[1]:\n",
    "            revenue += (messages_count - tariffs.messages_included[1]) * tariffs.rub_per_message[1]\n",
    "        if gb_used > 30:\n",
    "            revenue += (gb_used - 30) * tariffs.rub_per_gb[1]\n",
    "        revenue += tariffs.rub_monthly_fee[1]\n",
    "    else:\n",
    "        if calls_sum > tariffs.minutes_included[0]:\n",
    "            revenue += (calls_sum - tariffs.minutes_included[0]) * tariffs.rub_per_minute[0]\n",
    "        if messages_count > tariffs.messages_included[0]:\n",
    "            revenue += (messages_count - tariffs.messages_included[0]) * tariffs.rub_per_message[0]\n",
    "        if gb_used > 15:\n",
    "            revenue += (gb_used - 15) * tariffs.rub_per_gb[0]\n",
    "        revenue += tariffs.rub_monthly_fee[0]\n",
    "    return revenue"
   ]
  },
  {
   "cell_type": "code",
   "execution_count": 1678,
   "id": "22615ee5",
   "metadata": {},
   "outputs": [],
   "source": [
    "# применяем функцию к таблице и создаём новый столбец с выручкой\n",
    "revenue['revenue'] = revenue.apply(calculate_revenue, axis=1)"
   ]
  },
  {
   "cell_type": "code",
   "execution_count": 1679,
   "id": "7a8342e5",
   "metadata": {},
   "outputs": [
    {
     "data": {
      "text/html": [
       "<div>\n",
       "<style scoped>\n",
       "    .dataframe tbody tr th:only-of-type {\n",
       "        vertical-align: middle;\n",
       "    }\n",
       "\n",
       "    .dataframe tbody tr th {\n",
       "        vertical-align: top;\n",
       "    }\n",
       "\n",
       "    .dataframe thead th {\n",
       "        text-align: right;\n",
       "    }\n",
       "</style>\n",
       "<table border=\"1\" class=\"dataframe\">\n",
       "  <thead>\n",
       "    <tr style=\"text-align: right;\">\n",
       "      <th></th>\n",
       "      <th>month</th>\n",
       "      <th>calls_count</th>\n",
       "      <th>calls_sum</th>\n",
       "      <th>messages_count</th>\n",
       "      <th>sessions_count</th>\n",
       "      <th>mb_used</th>\n",
       "      <th>gb_used</th>\n",
       "      <th>tariff</th>\n",
       "      <th>revenue</th>\n",
       "    </tr>\n",
       "    <tr>\n",
       "      <th>user_id</th>\n",
       "      <th></th>\n",
       "      <th></th>\n",
       "      <th></th>\n",
       "      <th></th>\n",
       "      <th></th>\n",
       "      <th></th>\n",
       "      <th></th>\n",
       "      <th></th>\n",
       "      <th></th>\n",
       "    </tr>\n",
       "  </thead>\n",
       "  <tbody>\n",
       "    <tr>\n",
       "      <th>1000</th>\n",
       "      <td>5</td>\n",
       "      <td>22</td>\n",
       "      <td>159.000</td>\n",
       "      <td>22</td>\n",
       "      <td>5</td>\n",
       "      <td>2253.490</td>\n",
       "      <td>3</td>\n",
       "      <td>ultra</td>\n",
       "      <td>1950.000</td>\n",
       "    </tr>\n",
       "    <tr>\n",
       "      <th>1000</th>\n",
       "      <td>6</td>\n",
       "      <td>43</td>\n",
       "      <td>172.000</td>\n",
       "      <td>60</td>\n",
       "      <td>49</td>\n",
       "      <td>23233.770</td>\n",
       "      <td>23</td>\n",
       "      <td>ultra</td>\n",
       "      <td>1950.000</td>\n",
       "    </tr>\n",
       "    <tr>\n",
       "      <th>1000</th>\n",
       "      <td>7</td>\n",
       "      <td>47</td>\n",
       "      <td>340.000</td>\n",
       "      <td>75</td>\n",
       "      <td>29</td>\n",
       "      <td>14003.640</td>\n",
       "      <td>14</td>\n",
       "      <td>ultra</td>\n",
       "      <td>1950.000</td>\n",
       "    </tr>\n",
       "    <tr>\n",
       "      <th>1000</th>\n",
       "      <td>8</td>\n",
       "      <td>52</td>\n",
       "      <td>408.000</td>\n",
       "      <td>81</td>\n",
       "      <td>29</td>\n",
       "      <td>14055.930</td>\n",
       "      <td>14</td>\n",
       "      <td>ultra</td>\n",
       "      <td>1950.000</td>\n",
       "    </tr>\n",
       "    <tr>\n",
       "      <th>1000</th>\n",
       "      <td>9</td>\n",
       "      <td>58</td>\n",
       "      <td>466.000</td>\n",
       "      <td>57</td>\n",
       "      <td>27</td>\n",
       "      <td>14568.910</td>\n",
       "      <td>15</td>\n",
       "      <td>ultra</td>\n",
       "      <td>1950.000</td>\n",
       "    </tr>\n",
       "  </tbody>\n",
       "</table>\n",
       "</div>"
      ],
      "text/plain": [
       "         month  calls_count  calls_sum  messages_count  sessions_count  \\\n",
       "user_id                                                                  \n",
       "1000         5           22    159.000              22               5   \n",
       "1000         6           43    172.000              60              49   \n",
       "1000         7           47    340.000              75              29   \n",
       "1000         8           52    408.000              81              29   \n",
       "1000         9           58    466.000              57              27   \n",
       "\n",
       "          mb_used  gb_used tariff  revenue  \n",
       "user_id                                     \n",
       "1000     2253.490        3  ultra 1950.000  \n",
       "1000    23233.770       23  ultra 1950.000  \n",
       "1000    14003.640       14  ultra 1950.000  \n",
       "1000    14055.930       14  ultra 1950.000  \n",
       "1000    14568.910       15  ultra 1950.000  "
      ]
     },
     "execution_count": 1679,
     "metadata": {},
     "output_type": "execute_result"
    }
   ],
   "source": [
    "revenue.head()"
   ]
  },
  {
   "cell_type": "code",
   "execution_count": 1680,
   "id": "5744371a",
   "metadata": {},
   "outputs": [
    {
     "data": {
      "text/html": [
       "<div>\n",
       "<style scoped>\n",
       "    .dataframe tbody tr th:only-of-type {\n",
       "        vertical-align: middle;\n",
       "    }\n",
       "\n",
       "    .dataframe tbody tr th {\n",
       "        vertical-align: top;\n",
       "    }\n",
       "\n",
       "    .dataframe thead th {\n",
       "        text-align: right;\n",
       "    }\n",
       "</style>\n",
       "<table border=\"1\" class=\"dataframe\">\n",
       "  <thead>\n",
       "    <tr style=\"text-align: right;\">\n",
       "      <th></th>\n",
       "      <th>calls_sum</th>\n",
       "      <th>gb_used</th>\n",
       "      <th>messages_count</th>\n",
       "      <th>revenue</th>\n",
       "    </tr>\n",
       "    <tr>\n",
       "      <th>user_id</th>\n",
       "      <th></th>\n",
       "      <th></th>\n",
       "      <th></th>\n",
       "      <th></th>\n",
       "    </tr>\n",
       "  </thead>\n",
       "  <tbody>\n",
       "    <tr>\n",
       "      <th>1000</th>\n",
       "      <td>320.750</td>\n",
       "      <td>13.625</td>\n",
       "      <td>62.000</td>\n",
       "      <td>1950.000</td>\n",
       "    </tr>\n",
       "    <tr>\n",
       "      <th>1002</th>\n",
       "      <td>216.714</td>\n",
       "      <td>16.714</td>\n",
       "      <td>10.000</td>\n",
       "      <td>1035.714</td>\n",
       "    </tr>\n",
       "    <tr>\n",
       "      <th>1003</th>\n",
       "      <td>764.400</td>\n",
       "      <td>11.800</td>\n",
       "      <td>76.000</td>\n",
       "      <td>1950.000</td>\n",
       "    </tr>\n",
       "    <tr>\n",
       "      <th>1004</th>\n",
       "      <td>123.375</td>\n",
       "      <td>18.750</td>\n",
       "      <td>149.000</td>\n",
       "      <td>1950.000</td>\n",
       "    </tr>\n",
       "    <tr>\n",
       "      <th>1005</th>\n",
       "      <td>550.417</td>\n",
       "      <td>8.583</td>\n",
       "      <td>46.000</td>\n",
       "      <td>827.000</td>\n",
       "    </tr>\n",
       "  </tbody>\n",
       "</table>\n",
       "</div>"
      ],
      "text/plain": [
       "         calls_sum  gb_used  messages_count  revenue\n",
       "user_id                                             \n",
       "1000       320.750   13.625          62.000 1950.000\n",
       "1002       216.714   16.714          10.000 1035.714\n",
       "1003       764.400   11.800          76.000 1950.000\n",
       "1004       123.375   18.750         149.000 1950.000\n",
       "1005       550.417    8.583          46.000  827.000"
      ]
     },
     "execution_count": 1680,
     "metadata": {},
     "output_type": "execute_result"
    }
   ],
   "source": [
    "# посчитаем средние значения в месяц по минутам, сообщениям, трафику и выручке для каждого пользователя\n",
    "revenue = revenue.pivot_table(index='user_id', values=['calls_sum', 'messages_count', 'gb_used', 'revenue'])\n",
    "revenue.head()"
   ]
  },
  {
   "cell_type": "code",
   "execution_count": 1681,
   "id": "0c7e3ccd",
   "metadata": {},
   "outputs": [],
   "source": [
    "# добавим полученные значения в таблицу users\n",
    "users = users.merge(revenue, on='user_id', how='inner')"
   ]
  },
  {
   "cell_type": "code",
   "execution_count": 1682,
   "id": "691ab345",
   "metadata": {},
   "outputs": [
    {
     "data": {
      "text/html": [
       "<div>\n",
       "<style scoped>\n",
       "    .dataframe tbody tr th:only-of-type {\n",
       "        vertical-align: middle;\n",
       "    }\n",
       "\n",
       "    .dataframe tbody tr th {\n",
       "        vertical-align: top;\n",
       "    }\n",
       "\n",
       "    .dataframe thead th {\n",
       "        text-align: right;\n",
       "    }\n",
       "</style>\n",
       "<table border=\"1\" class=\"dataframe\">\n",
       "  <thead>\n",
       "    <tr style=\"text-align: right;\">\n",
       "      <th></th>\n",
       "      <th>age</th>\n",
       "      <th>churn_date</th>\n",
       "      <th>city</th>\n",
       "      <th>first_name</th>\n",
       "      <th>last_name</th>\n",
       "      <th>reg_date</th>\n",
       "      <th>tariff</th>\n",
       "      <th>calls_sum</th>\n",
       "      <th>gb_used</th>\n",
       "      <th>messages_count</th>\n",
       "      <th>revenue</th>\n",
       "    </tr>\n",
       "    <tr>\n",
       "      <th>user_id</th>\n",
       "      <th></th>\n",
       "      <th></th>\n",
       "      <th></th>\n",
       "      <th></th>\n",
       "      <th></th>\n",
       "      <th></th>\n",
       "      <th></th>\n",
       "      <th></th>\n",
       "      <th></th>\n",
       "      <th></th>\n",
       "      <th></th>\n",
       "    </tr>\n",
       "  </thead>\n",
       "  <tbody>\n",
       "    <tr>\n",
       "      <th>1000</th>\n",
       "      <td>52</td>\n",
       "      <td>NaT</td>\n",
       "      <td>Краснодар</td>\n",
       "      <td>Рафаил</td>\n",
       "      <td>Верещагин</td>\n",
       "      <td>2018-05-25</td>\n",
       "      <td>ultra</td>\n",
       "      <td>320.750</td>\n",
       "      <td>13.625</td>\n",
       "      <td>62.000</td>\n",
       "      <td>1950.000</td>\n",
       "    </tr>\n",
       "    <tr>\n",
       "      <th>1002</th>\n",
       "      <td>59</td>\n",
       "      <td>NaT</td>\n",
       "      <td>Стерлитамак</td>\n",
       "      <td>Евгений</td>\n",
       "      <td>Абрамович</td>\n",
       "      <td>2018-06-17</td>\n",
       "      <td>smart</td>\n",
       "      <td>216.714</td>\n",
       "      <td>16.714</td>\n",
       "      <td>10.000</td>\n",
       "      <td>1035.714</td>\n",
       "    </tr>\n",
       "    <tr>\n",
       "      <th>1003</th>\n",
       "      <td>23</td>\n",
       "      <td>NaT</td>\n",
       "      <td>Москва</td>\n",
       "      <td>Белла</td>\n",
       "      <td>Белякова</td>\n",
       "      <td>2018-08-17</td>\n",
       "      <td>ultra</td>\n",
       "      <td>764.400</td>\n",
       "      <td>11.800</td>\n",
       "      <td>76.000</td>\n",
       "      <td>1950.000</td>\n",
       "    </tr>\n",
       "    <tr>\n",
       "      <th>1004</th>\n",
       "      <td>68</td>\n",
       "      <td>NaT</td>\n",
       "      <td>Новокузнецк</td>\n",
       "      <td>Татьяна</td>\n",
       "      <td>Авдеенко</td>\n",
       "      <td>2018-05-14</td>\n",
       "      <td>ultra</td>\n",
       "      <td>123.375</td>\n",
       "      <td>18.750</td>\n",
       "      <td>149.000</td>\n",
       "      <td>1950.000</td>\n",
       "    </tr>\n",
       "    <tr>\n",
       "      <th>1005</th>\n",
       "      <td>67</td>\n",
       "      <td>NaT</td>\n",
       "      <td>Набережные Челны</td>\n",
       "      <td>Афанасий</td>\n",
       "      <td>Горлов</td>\n",
       "      <td>2018-01-25</td>\n",
       "      <td>smart</td>\n",
       "      <td>550.417</td>\n",
       "      <td>8.583</td>\n",
       "      <td>46.000</td>\n",
       "      <td>827.000</td>\n",
       "    </tr>\n",
       "  </tbody>\n",
       "</table>\n",
       "</div>"
      ],
      "text/plain": [
       "         age churn_date              city first_name  last_name   reg_date  \\\n",
       "user_id                                                                      \n",
       "1000      52        NaT         Краснодар     Рафаил  Верещагин 2018-05-25   \n",
       "1002      59        NaT       Стерлитамак    Евгений  Абрамович 2018-06-17   \n",
       "1003      23        NaT            Москва      Белла   Белякова 2018-08-17   \n",
       "1004      68        NaT       Новокузнецк    Татьяна   Авдеенко 2018-05-14   \n",
       "1005      67        NaT  Набережные Челны   Афанасий     Горлов 2018-01-25   \n",
       "\n",
       "        tariff  calls_sum  gb_used  messages_count  revenue  \n",
       "user_id                                                      \n",
       "1000     ultra    320.750   13.625          62.000 1950.000  \n",
       "1002     smart    216.714   16.714          10.000 1035.714  \n",
       "1003     ultra    764.400   11.800          76.000 1950.000  \n",
       "1004     ultra    123.375   18.750         149.000 1950.000  \n",
       "1005     smart    550.417    8.583          46.000  827.000  "
      ]
     },
     "execution_count": 1682,
     "metadata": {},
     "output_type": "execute_result"
    }
   ],
   "source": [
    "users.head()"
   ]
  },
  {
   "cell_type": "markdown",
   "id": "1bb464bf",
   "metadata": {},
   "source": [
    "#### Вывод"
   ]
  },
  {
   "cell_type": "markdown",
   "id": "cfb95428",
   "metadata": {},
   "source": [
    "На этом этапе были посчитаны средние значения в месяц по минутам, сообщениям, трафику и выручке для каждого пользователя и добавлены в таблицу users."
   ]
  },
  {
   "cell_type": "markdown",
   "id": "70dfab37",
   "metadata": {},
   "source": [
    "## Исследовательский анализ данных"
   ]
  },
  {
   "cell_type": "markdown",
   "id": "e59e54f9",
   "metadata": {},
   "source": [
    "### Описательная статистика"
   ]
  },
  {
   "cell_type": "markdown",
   "id": "d2f7d339",
   "metadata": {},
   "source": [
    "#### Количество израсходованных минут для тарифа \"ультра\""
   ]
  },
  {
   "cell_type": "code",
   "execution_count": 1683,
   "id": "e0bf6834",
   "metadata": {},
   "outputs": [],
   "source": [
    "calls_mean_ultra = users.query('tariff == \"ultra\"')['calls_sum']"
   ]
  },
  {
   "cell_type": "code",
   "execution_count": 1684,
   "id": "9482f644",
   "metadata": {},
   "outputs": [
    {
     "data": {
      "text/plain": [
       "<AxesSubplot:>"
      ]
     },
     "execution_count": 1684,
     "metadata": {},
     "output_type": "execute_result"
    },
    {
     "data": {
      "image/png": "[encoded data removed]",
      "text/plain": [
       "<Figure size 432x288 with 1 Axes>"
      ]
     },
     "metadata": {
      "needs_background": "light"
     },
     "output_type": "display_data"
    }
   ],
   "source": [
    "# построим диаграмму размаха, чтобы оценить данные на наличие выбросов\n",
    "calls_mean_ultra.plot.box()"
   ]
  },
  {
   "cell_type": "markdown",
   "id": "0032cd30",
   "metadata": {},
   "source": [
    "В данных нет выбросов, теперь построим плотностную гистограмму."
   ]
  },
  {
   "cell_type": "code",
   "execution_count": 1685,
   "id": "d8190891",
   "metadata": {
    "scrolled": true
   },
   "outputs": [
    {
     "data": {
      "text/plain": [
       "Text(0.5, 1.0, 'Распределение минут тарифа \"ультра\"')"
      ]
     },
     "execution_count": 1685,
     "metadata": {},
     "output_type": "execute_result"
    },
    {
     "data": {
      "image/png": "[encoded data removed]",
      "text/plain": [
       "<Figure size 432x288 with 1 Axes>"
      ]
     },
     "metadata": {
      "needs_background": "light"
     },
     "output_type": "display_data"
    }
   ],
   "source": [
    "sns.histplot(data = calls_mean_ultra, kde=True, bins=30).set_title('Распределение минут тарифа \"ультра\"')"
   ]
  },
  {
   "cell_type": "markdown",
   "id": "166ced89",
   "metadata": {},
   "source": [
    "Распределение стремится к нормальному, есть небольшая скошенность вправо, виден разброс данных."
   ]
  },
  {
   "cell_type": "code",
   "execution_count": 1686,
   "id": "85fa9664",
   "metadata": {},
   "outputs": [
    {
     "data": {
      "text/plain": [
       "count    118.000\n",
       "mean     559.156\n",
       "std      274.756\n",
       "min        9.429\n",
       "25%      354.933\n",
       "50%      533.375\n",
       "75%      752.788\n",
       "max     1279.400\n",
       "Name: calls_sum, dtype: float64"
      ]
     },
     "execution_count": 1686,
     "metadata": {},
     "output_type": "execute_result"
    }
   ],
   "source": [
    "# числовое описание данных\n",
    "calls_mean_ultra.describe()"
   ]
  },
  {
   "cell_type": "markdown",
   "id": "f7e40e65",
   "metadata": {},
   "source": [
    "Среднее значение немного больше медианы, что подтверждает скошенность вправо."
   ]
  },
  {
   "cell_type": "markdown",
   "id": "a86f9365",
   "metadata": {},
   "source": [
    "Стандартное отклонение равно 275 - это очень большое отклонение, которое говорит о большом разбросе данных. Проверим распределение по правилу трёх сигм: укладываются ли 99% значений в заданный интервал."
   ]
  },
  {
   "cell_type": "code",
   "execution_count": 1687,
   "id": "7bd3e3f2",
   "metadata": {},
   "outputs": [
    {
     "data": {
      "text/plain": [
       "-265.1118441910594"
      ]
     },
     "execution_count": 1687,
     "metadata": {},
     "output_type": "execute_result"
    }
   ],
   "source": [
    "calls_mean_ultra.mean() - 3 * np.sqrt(np.var(calls_mean_ultra, ddof=1))"
   ]
  },
  {
   "cell_type": "code",
   "execution_count": 1688,
   "id": "d2dd5efb",
   "metadata": {},
   "outputs": [
    {
     "data": {
      "text/plain": [
       "1383.4235832523748"
      ]
     },
     "execution_count": 1688,
     "metadata": {},
     "output_type": "execute_result"
    }
   ],
   "source": [
    "calls_mean_ultra.mean() + 3 * np.sqrt(np.var(calls_mean_ultra, ddof=1))"
   ]
  },
  {
   "cell_type": "markdown",
   "id": "4d2b2d24",
   "metadata": {},
   "source": [
    "По правилу трёх сигм значения должны укладываться в интервал от -265 до 1383. Реальные значения лежат от 9 до 1279 и попадают в этот интервал. Это значит, что для всех пользователей выборки достаточно иметь в пакете 1279 минут разговора."
   ]
  },
  {
   "cell_type": "markdown",
   "id": "53475e6a",
   "metadata": {},
   "source": [
    "В тариф \"ультра\" включено 3000 минут разговора, но, судя по полученным данным, никто не использует столько. В тарифе \"смарт\" 500 минут разговора - оценим примерное количество пользователей тарифа \"ультра\", которые используют менее 500 минут в месяц в среднем."
   ]
  },
  {
   "cell_type": "code",
   "execution_count": 1689,
   "id": "80a37e13",
   "metadata": {
    "scrolled": true
   },
   "outputs": [
    {
     "data": {
      "text/plain": [
       "Text(0.5, 1.0, 'Распределение вероятностей для минут тарифа \"ультра\"')"
      ]
     },
     "execution_count": 1689,
     "metadata": {},
     "output_type": "execute_result"
    },
    {
     "data": {
      "image/png": "[encoded data removed]",
      "text/plain": [
       "<Figure size 432x288 with 1 Axes>"
      ]
     },
     "metadata": {
      "needs_background": "light"
     },
     "output_type": "display_data"
    }
   ],
   "source": [
    "# построим распределение вероятностей для каждого значения\n",
    "sns.histplot(data = calls_mean_ultra, stat = \"probability\", kde=True, bins=[100, 200, 300, 400, 500, 600, 700, 800, 900, 1000]).set_title('Распределение вероятностей для минут тарифа \"ультра\"')"
   ]
  },
  {
   "cell_type": "code",
   "execution_count": 1690,
   "id": "f0a39824",
   "metadata": {},
   "outputs": [
    {
     "data": {
      "text/plain": [
       "0.415060862234965"
      ]
     },
     "execution_count": 1690,
     "metadata": {},
     "output_type": "execute_result"
    }
   ],
   "source": [
    "# посчитаем вероятность попасть в интервал до 500\n",
    "mu = 559 # среднее значение распределения\n",
    "sigma = 275 # стандартное отклонение распределения\n",
    "\n",
    "x = 500 # интересующее значение\n",
    "\n",
    "distr = st.norm(mu, sigma)\n",
    "result = distr.cdf(x)\n",
    "result"
   ]
  },
  {
   "cell_type": "markdown",
   "id": "a3de4f5d",
   "metadata": {},
   "source": [
    "Вероятность пользователя уложиться в 500 минут в месяц, равна примерно 42%."
   ]
  },
  {
   "cell_type": "markdown",
   "id": "96182df8",
   "metadata": {},
   "source": [
    "##### Вывод"
   ]
  },
  {
   "cell_type": "markdown",
   "id": "6d73a21e",
   "metadata": {},
   "source": [
    "**Описательная статистика количества израсходованных минут тарифа \"ультра\":**   \n",
    "Среднее: 559 минут   \n",
    "Медиана: 533 минут    \n",
    "Стандартное отклонение: 268 минут    \n",
    "    \n",
    "Распределение стремится к нормальному, данные немного скошены вправо, большое стандартное отклонение.   \n",
    "99% значений лежат в интервале до 1279 минут, что в 2 раза меньше 3000 минут, входящих в пакет.   \n",
    "42% значений лежат в интервале до 500 минут.   \n",
    "Наибольшая вероятность (20%) приходится на интервал 500-600 минут."
   ]
  },
  {
   "cell_type": "markdown",
   "id": "71b5e971",
   "metadata": {},
   "source": [
    "#### Количество израсходованных минут для тарифа \"смарт\""
   ]
  },
  {
   "cell_type": "code",
   "execution_count": 1691,
   "id": "1e7ac179",
   "metadata": {},
   "outputs": [],
   "source": [
    "# посчитаем среднее количество израсходованных минут в месяц для каждого пользователя тарифа \"смарт\"\n",
    "calls_mean_smart = users.query('tariff == \"smart\"')['calls_sum']"
   ]
  },
  {
   "cell_type": "code",
   "execution_count": 1692,
   "id": "025dd037",
   "metadata": {},
   "outputs": [
    {
     "data": {
      "text/plain": [
       "<AxesSubplot:>"
      ]
     },
     "execution_count": 1692,
     "metadata": {},
     "output_type": "execute_result"
    },
    {
     "data": {
      "image/png": "[encoded data removed]",
      "text/plain": [
       "<Figure size 432x288 with 1 Axes>"
      ]
     },
     "metadata": {
      "needs_background": "light"
     },
     "output_type": "display_data"
    }
   ],
   "source": [
    "# построим диаграмму размаха, чтобы оценить данные на наличие выбросов\n",
    "calls_mean_smart.plot.box()"
   ]
  },
  {
   "cell_type": "markdown",
   "id": "4bc4b2d9",
   "metadata": {},
   "source": [
    "Обаружены единичные выбросы, необходимо их изучить дальше."
   ]
  },
  {
   "cell_type": "code",
   "execution_count": 1693,
   "id": "a7721824",
   "metadata": {},
   "outputs": [
    {
     "data": {
      "text/plain": [
       "user_id\n",
       "1041   861.000\n",
       "1216   891.500\n",
       "Name: calls_sum, dtype: float64"
      ]
     },
     "execution_count": 1693,
     "metadata": {},
     "output_type": "execute_result"
    }
   ],
   "source": [
    "# посмотрим на значения-выбросы\n",
    "calls_mean_smart[calls_mean_smart > 800]"
   ]
  },
  {
   "cell_type": "code",
   "execution_count": 1694,
   "id": "faab655f",
   "metadata": {
    "scrolled": false
   },
   "outputs": [
    {
     "data": {
      "text/plain": [
       "Text(0.5, 1.0, 'Распределение минут для тарифа \"смарт\"')"
      ]
     },
     "execution_count": 1694,
     "metadata": {},
     "output_type": "execute_result"
    },
    {
     "data": {
      "image/png": "[encoded data removed]",
      "text/plain": [
       "<Figure size 432x288 with 1 Axes>"
      ]
     },
     "metadata": {
      "needs_background": "light"
     },
     "output_type": "display_data"
    }
   ],
   "source": [
    "# построим плотностную гистограмму распределения\n",
    "sns.histplot(data = calls_mean_smart, kde=True, bins=30).set_title('Распределение минут для тарифа \"смарт\"')"
   ]
  },
  {
   "cell_type": "markdown",
   "id": "3dfa5d90",
   "metadata": {},
   "source": [
    "Распределение стремится к нормальному, есть небольшая скошенность влево, разброс данных небольшой."
   ]
  },
  {
   "cell_type": "code",
   "execution_count": 1695,
   "id": "b232390a",
   "metadata": {},
   "outputs": [
    {
     "data": {
      "text/plain": [
       "count   301.000\n",
       "mean    424.940\n",
       "std     148.045\n",
       "min      12.364\n",
       "25%     318.250\n",
       "50%     430.917\n",
       "75%     525.667\n",
       "max     891.500\n",
       "Name: calls_sum, dtype: float64"
      ]
     },
     "execution_count": 1695,
     "metadata": {},
     "output_type": "execute_result"
    }
   ],
   "source": [
    "# числовое описание данных\n",
    "calls_mean_smart.describe()"
   ]
  },
  {
   "cell_type": "markdown",
   "id": "ed3bff93",
   "metadata": {},
   "source": [
    "Среднее значение почти совпадает с медианой, значит, выброс не оказывает существенного влияния на среднее."
   ]
  },
  {
   "cell_type": "markdown",
   "id": "c50c3a95",
   "metadata": {},
   "source": [
    "Стандартное отклонение равно 148 минут - это в два раза меньше, чем было в тарифе \"ультра\", что говорит о меньшем разбросе данных. По правилу трёх сигм найдём интервал, в который входят 99% значений."
   ]
  },
  {
   "cell_type": "code",
   "execution_count": 1696,
   "id": "a301e434",
   "metadata": {},
   "outputs": [
    {
     "data": {
      "text/plain": [
       "-19.194232040112695"
      ]
     },
     "execution_count": 1696,
     "metadata": {},
     "output_type": "execute_result"
    }
   ],
   "source": [
    "calls_mean_smart.mean() - 3 * np.sqrt(np.var(calls_mean_smart, ddof=1))"
   ]
  },
  {
   "cell_type": "code",
   "execution_count": 1697,
   "id": "24057581",
   "metadata": {},
   "outputs": [
    {
     "data": {
      "text/plain": [
       "869.074958143098"
      ]
     },
     "execution_count": 1697,
     "metadata": {},
     "output_type": "execute_result"
    }
   ],
   "source": [
    "calls_mean_smart.mean() + 3 * np.sqrt(np.var(calls_mean_smart, ddof=1))"
   ]
  },
  {
   "cell_type": "markdown",
   "id": "17b2b649",
   "metadata": {},
   "source": [
    "Таким образом, 99% пользователей укладываются до 869 минут в месяц в среднем. В тариф \"смарт\" включено 500 минут разговора, значит, нужно оценить количество пользователей тарифа, которые используют до 500 минут в месяц в среднем."
   ]
  },
  {
   "cell_type": "code",
   "execution_count": 1698,
   "id": "2d4a837a",
   "metadata": {
    "scrolled": true
   },
   "outputs": [
    {
     "data": {
      "text/plain": [
       "Text(0.5, 1.0, 'Распределение вероятностей для минут тарифа \"смарт\"')"
      ]
     },
     "execution_count": 1698,
     "metadata": {},
     "output_type": "execute_result"
    },
    {
     "data": {
      "image/png": "[encoded data removed]",
      "text/plain": [
       "<Figure size 432x288 with 1 Axes>"
      ]
     },
     "metadata": {
      "needs_background": "light"
     },
     "output_type": "display_data"
    }
   ],
   "source": [
    "# построим распределение вероятностей для каждого значения\n",
    "sns.histplot(data = calls_mean_smart, stat = \"probability\", kde=True, bins=[100, 200, 300, 400, 500, 600, 700, 800, 900, 1000]).set_title('Распределение вероятностей для минут тарифа \"смарт\"')"
   ]
  },
  {
   "cell_type": "code",
   "execution_count": 1699,
   "id": "63c93601",
   "metadata": {},
   "outputs": [
    {
     "data": {
      "text/plain": [
       "0.6938372492396456"
      ]
     },
     "execution_count": 1699,
     "metadata": {},
     "output_type": "execute_result"
    }
   ],
   "source": [
    "# посчитаем вероятность попасть в интервал до 500\n",
    "mu = 425\n",
    "sigma = 148 # стандартное отклонение распределения\n",
    "\n",
    "x = 500 # интересующее значение\n",
    "\n",
    "distr = st.norm(mu, sigma)\n",
    "result = distr.cdf(x)\n",
    "result"
   ]
  },
  {
   "cell_type": "markdown",
   "id": "5e5bd7bd",
   "metadata": {},
   "source": [
    "Вероятность попадания в интервал до 500 минут - 69%."
   ]
  },
  {
   "cell_type": "code",
   "execution_count": 1700,
   "id": "97584c59",
   "metadata": {},
   "outputs": [
    {
     "data": {
      "text/plain": [
       "Text(0.5, 1.0, 'Распределение минут двух тарифов')"
      ]
     },
     "execution_count": 1700,
     "metadata": {},
     "output_type": "execute_result"
    },
    {
     "data": {
      "image/png": "[encoded data removed]",
      "text/plain": [
       "<Figure size 432x288 with 1 Axes>"
      ]
     },
     "metadata": {
      "needs_background": "light"
     },
     "output_type": "display_data"
    }
   ],
   "source": [
    "# построим оба тарифа на одном графике для наглядности\n",
    "ax = sns.histplot(data = calls_mean_ultra, bins=30)\n",
    "sns.histplot(data = calls_mean_smart, bins=30, ax = ax, color='green', alpha=0.3).set_title('Распределение минут двух тарифов')"
   ]
  },
  {
   "cell_type": "markdown",
   "id": "1495cd63",
   "metadata": {},
   "source": [
    "Пользователи тарифа \"ультра\" охватывают больший диапазон значений, но самое частое значение для обоих тарифов одинаково: около 500 минут."
   ]
  },
  {
   "cell_type": "markdown",
   "id": "abe2498a",
   "metadata": {},
   "source": [
    "##### Вывод"
   ]
  },
  {
   "cell_type": "markdown",
   "id": "74e0cf4a",
   "metadata": {},
   "source": [
    "**Описательная статистика количества израсходованных минут тарифа \"смарт\":**   \n",
    "Среднее: 425 минут   \n",
    "Медиана: 431 минута    \n",
    "Стандартное отклонение: 148 минут    \n",
    "    \n",
    "Распределение стремится к нормальному, данные немного скошены влево, стандартное отклонение в два раза меньше, чем у тарифа \"ультра\".   \n",
    "99% значений лежат в интервале до 869 минут.   \n",
    "69% значений лежат в интервале до 500 минут и укладываются в пакет.   \n",
    "Наибольшая вероятность (30%) приходится на интервал 400-500 минут.    \n",
    "     \n",
    "Пользователи тарифа \"ультра\" охватывают больший диапазон значений, но самое частое значение для обоих тарифов одинаково: около 500 минут."
   ]
  },
  {
   "cell_type": "markdown",
   "id": "641fe886",
   "metadata": {},
   "source": [
    "#### Количество израсходованных сообщений для тарифа \"ультра\""
   ]
  },
  {
   "cell_type": "code",
   "execution_count": 1701,
   "id": "7d77e574",
   "metadata": {},
   "outputs": [],
   "source": [
    "# посчитаем среднее количество израсходованных сообщений в месяц для каждого пользователя тарифа \"ультра\"\n",
    "messages_mean_ultra = users.query('tariff == \"ultra\"')['messages_count']"
   ]
  },
  {
   "cell_type": "code",
   "execution_count": 1702,
   "id": "37491925",
   "metadata": {},
   "outputs": [
    {
     "data": {
      "text/plain": [
       "<AxesSubplot:>"
      ]
     },
     "execution_count": 1702,
     "metadata": {},
     "output_type": "execute_result"
    },
    {
     "data": {
      "image/png": "[encoded data removed]",
      "text/plain": [
       "<Figure size 432x288 with 1 Axes>"
      ]
     },
     "metadata": {
      "needs_background": "light"
     },
     "output_type": "display_data"
    }
   ],
   "source": [
    "# построим диаграмму размаха, чтобы оценить данные на наличие выбросов\n",
    "messages_mean_ultra.plot.box()"
   ]
  },
  {
   "cell_type": "markdown",
   "id": "8f7e86e9",
   "metadata": {},
   "source": [
    "Обнаружен единичный выброс, необходимо его изучить дальше."
   ]
  },
  {
   "cell_type": "code",
   "execution_count": 1703,
   "id": "60ebe0c3",
   "metadata": {},
   "outputs": [
    {
     "data": {
      "text/plain": [
       "user_id\n",
       "1028   192.000\n",
       "1165   176.000\n",
       "Name: messages_count, dtype: float64"
      ]
     },
     "execution_count": 1703,
     "metadata": {},
     "output_type": "execute_result"
    }
   ],
   "source": [
    "# посмотрим на значение-выброс\n",
    "messages_mean_ultra[messages_mean_ultra > 175]"
   ]
  },
  {
   "cell_type": "markdown",
   "id": "680e2cef",
   "metadata": {},
   "source": [
    "192 сообщения - это выброс."
   ]
  },
  {
   "cell_type": "code",
   "execution_count": 1704,
   "id": "65248b2d",
   "metadata": {
    "scrolled": true
   },
   "outputs": [
    {
     "data": {
      "text/plain": [
       "Text(0.5, 1.0, 'Распределение сообщений для тарифа \"ультра\"')"
      ]
     },
     "execution_count": 1704,
     "metadata": {},
     "output_type": "execute_result"
    },
    {
     "data": {
      "image/png": "[encoded data removed]",
      "text/plain": [
       "<Figure size 432x288 with 1 Axes>"
      ]
     },
     "metadata": {
      "needs_background": "light"
     },
     "output_type": "display_data"
    }
   ],
   "source": [
    "# построим плотностную гистограмму распределения\n",
    "sns.histplot(data = messages_mean_ultra, kde=True, bins=30).set_title('Распределение сообщений для тарифа \"ультра\"')"
   ]
  },
  {
   "cell_type": "markdown",
   "id": "c4e5c437",
   "metadata": {},
   "source": [
    "Данные сильно скошены вправо."
   ]
  },
  {
   "cell_type": "code",
   "execution_count": 1705,
   "id": "186ead58",
   "metadata": {},
   "outputs": [
    {
     "data": {
      "text/plain": [
       "count   118.000\n",
       "mean     65.419\n",
       "std      42.411\n",
       "min       3.000\n",
       "25%      29.000\n",
       "50%      59.167\n",
       "75%      89.000\n",
       "max     192.000\n",
       "Name: messages_count, dtype: float64"
      ]
     },
     "execution_count": 1705,
     "metadata": {},
     "output_type": "execute_result"
    }
   ],
   "source": [
    "# числовое описание данных\n",
    "messages_mean_ultra.describe()"
   ]
  },
  {
   "cell_type": "markdown",
   "id": "11bd3b79",
   "metadata": {},
   "source": [
    "Среднее отличается от медианы, но не радикально."
   ]
  },
  {
   "cell_type": "markdown",
   "id": "f4f8a6aa",
   "metadata": {},
   "source": [
    "Стандартное отклонение равно 42 сообщения. По правилу трёх сигм найдём интервал, в который входят 99% значений."
   ]
  },
  {
   "cell_type": "code",
   "execution_count": 1706,
   "id": "596ea946",
   "metadata": {},
   "outputs": [
    {
     "data": {
      "text/plain": [
       "-61.81360008131324"
      ]
     },
     "execution_count": 1706,
     "metadata": {},
     "output_type": "execute_result"
    }
   ],
   "source": [
    "messages_mean_ultra.mean() - 3 * np.sqrt(np.var(messages_mean_ultra, ddof=1))"
   ]
  },
  {
   "cell_type": "code",
   "execution_count": 1707,
   "id": "26968650",
   "metadata": {},
   "outputs": [
    {
     "data": {
      "text/plain": [
       "192.65158097988737"
      ]
     },
     "execution_count": 1707,
     "metadata": {},
     "output_type": "execute_result"
    }
   ],
   "source": [
    "messages_mean_ultra.mean() + 3 * np.sqrt(np.var(messages_mean_ultra, ddof=1))"
   ]
  },
  {
   "cell_type": "markdown",
   "id": "a6cdbc18",
   "metadata": {},
   "source": [
    "Таким образом, 99% пользователей укладываются до 193 сообщений в месяц в среднем (в этот интервал вошёл даже выброс). В тариф \"ультра\" включено 1000 сообщений - пользователям явно не нужно столько и они никогда не выходят за рамки пакета."
   ]
  },
  {
   "cell_type": "code",
   "execution_count": 1708,
   "id": "e99bc267",
   "metadata": {
    "scrolled": true
   },
   "outputs": [
    {
     "data": {
      "text/plain": [
       "Text(0.5, 1.0, 'Распределение вероятностей для сообщений тарифа \"ультра\"')"
      ]
     },
     "execution_count": 1708,
     "metadata": {},
     "output_type": "execute_result"
    },
    {
     "data": {
      "image/png": "[encoded data removed]",
      "text/plain": [
       "<Figure size 432x288 with 1 Axes>"
      ]
     },
     "metadata": {
      "needs_background": "light"
     },
     "output_type": "display_data"
    }
   ],
   "source": [
    "# построим распределение вероятностей для каждого значения\n",
    "sns.histplot(data = messages_mean_ultra, stat = \"probability\", kde=True, bins=[0, 25, 50, 75, 100, 125, 150, 175, 200]).set_title('Распределение вероятностей для сообщений тарифа \"ультра\"')"
   ]
  },
  {
   "cell_type": "code",
   "execution_count": 1709,
   "id": "94d75958",
   "metadata": {},
   "outputs": [
    {
     "data": {
      "text/plain": [
       "0.3604924309508354"
      ]
     },
     "execution_count": 1709,
     "metadata": {},
     "output_type": "execute_result"
    }
   ],
   "source": [
    "# посчитаем вероятность попасть в интервал до 50\n",
    "mu = 65 # среднее значение распределения\n",
    "sigma = 42 # стандартное отклонение распределения\n",
    "\n",
    "x = 50 # интересующее значение\n",
    "\n",
    "distr = st.norm(mu, sigma)\n",
    "result = distr.cdf(x)\n",
    "result"
   ]
  },
  {
   "cell_type": "markdown",
   "id": "51c6b84e",
   "metadata": {},
   "source": [
    "Вероятность попадания в интервал до 50 сообщений равна 36%."
   ]
  },
  {
   "cell_type": "markdown",
   "id": "0da516a4",
   "metadata": {},
   "source": [
    "Наибольшая вероятность 30% приходится на интервал 25-50 сообщений."
   ]
  },
  {
   "cell_type": "markdown",
   "id": "df8fc830",
   "metadata": {},
   "source": [
    "##### Вывод"
   ]
  },
  {
   "cell_type": "markdown",
   "id": "28800559",
   "metadata": {},
   "source": [
    "**Описательная статистика количества израсходованных сообщений тарифа \"ультра\":**   \n",
    "Среднее: 65 сообщений  \n",
    "Медиана: 59 сообщений    \n",
    "Стандартное отклонение: 42 сообщения      \n",
    "    \n",
    "Данные скошены влево, есть единичный выброс, но он входит в итервалы трёх сигм.   \n",
    "99% значений лежат в интервале до 193 сообщений - это намного меньше количества сообщений в пакете.   \n",
    "36% значений лежат в интервале до 50 сообщений.   \n",
    "Наибольшая вероятность (30%) приходится на интервал 25-50 сообщений."
   ]
  },
  {
   "cell_type": "markdown",
   "id": "5fee927b",
   "metadata": {},
   "source": [
    "#### Количество израсходованных сообщений для тарифа \"смарт\""
   ]
  },
  {
   "cell_type": "code",
   "execution_count": 1710,
   "id": "c380f3ae",
   "metadata": {},
   "outputs": [],
   "source": [
    "# посчитаем среднее количество израсходованных сообщений в месяц для каждого пользователя тарифа \"смарт\"\n",
    "messages_mean_smart = users.query('tariff == \"smart\"')['messages_count']"
   ]
  },
  {
   "cell_type": "code",
   "execution_count": 1711,
   "id": "22924553",
   "metadata": {},
   "outputs": [
    {
     "data": {
      "text/plain": [
       "<AxesSubplot:>"
      ]
     },
     "execution_count": 1711,
     "metadata": {},
     "output_type": "execute_result"
    },
    {
     "data": {
      "image/png": "[encoded data removed]",
      "text/plain": [
       "<Figure size 432x288 with 1 Axes>"
      ]
     },
     "metadata": {
      "needs_background": "light"
     },
     "output_type": "display_data"
    }
   ],
   "source": [
    "# построим диаграмму размаха, чтобы оценить данные на наличие выбросов\n",
    "messages_mean_smart.plot.box()"
   ]
  },
  {
   "cell_type": "markdown",
   "id": "f527cdb0",
   "metadata": {},
   "source": [
    "В данных есть несколько выбросов, необходимо их изучить дальше."
   ]
  },
  {
   "cell_type": "code",
   "execution_count": 1712,
   "id": "75e95bf5",
   "metadata": {},
   "outputs": [
    {
     "data": {
      "text/plain": [
       "user_id\n",
       "1112   107.000\n",
       "1212   116.000\n",
       "1324   118.000\n",
       "1484   111.000\n",
       "Name: messages_count, dtype: float64"
      ]
     },
     "execution_count": 1712,
     "metadata": {},
     "output_type": "execute_result"
    }
   ],
   "source": [
    "# посмотрим на значения-выбросы\n",
    "messages_mean_smart[messages_mean_smart > 100]"
   ]
  },
  {
   "cell_type": "markdown",
   "id": "ac94e65f",
   "metadata": {},
   "source": [
    "4 выброса и все находятся недалеко друг от друга."
   ]
  },
  {
   "cell_type": "code",
   "execution_count": 1713,
   "id": "5bb4f524",
   "metadata": {
    "scrolled": true
   },
   "outputs": [
    {
     "data": {
      "text/plain": [
       "Text(0.5, 1.0, 'Распределение сообщений для тарифа \"смарт\"')"
      ]
     },
     "execution_count": 1713,
     "metadata": {},
     "output_type": "execute_result"
    },
    {
     "data": {
      "image/png": "[encoded data removed]",
      "text/plain": [
       "<Figure size 432x288 with 1 Axes>"
      ]
     },
     "metadata": {
      "needs_background": "light"
     },
     "output_type": "display_data"
    }
   ],
   "source": [
    "# построим плотностную гистограмму распределения\n",
    "sns.histplot(data = messages_mean_smart, kde=True, bins=30).set_title('Распределение сообщений для тарифа \"смарт\"')"
   ]
  },
  {
   "cell_type": "markdown",
   "id": "342dbf87",
   "metadata": {},
   "source": [
    "Данные сильно скошены вправо."
   ]
  },
  {
   "cell_type": "code",
   "execution_count": 1714,
   "id": "14b94c02",
   "metadata": {},
   "outputs": [
    {
     "data": {
      "text/plain": [
       "count   301.000\n",
       "mean     37.640\n",
       "std      24.876\n",
       "min       1.000\n",
       "25%      19.000\n",
       "50%      33.000\n",
       "75%      54.000\n",
       "max     118.000\n",
       "Name: messages_count, dtype: float64"
      ]
     },
     "execution_count": 1714,
     "metadata": {},
     "output_type": "execute_result"
    }
   ],
   "source": [
    "# числовое описание данных\n",
    "messages_mean_smart.describe()"
   ]
  },
  {
   "cell_type": "markdown",
   "id": "6dab6fdf",
   "metadata": {},
   "source": [
    "Среднее отличается от медианы, но не радикально."
   ]
  },
  {
   "cell_type": "markdown",
   "id": "691ffb82",
   "metadata": {},
   "source": [
    "Стандартное отклонение равно 25 сообщений - это не очень много. По правилу трёх сигм найдём интервал, в который входят 99% значений."
   ]
  },
  {
   "cell_type": "code",
   "execution_count": 1715,
   "id": "82fa08d1",
   "metadata": {},
   "outputs": [
    {
     "data": {
      "text/plain": [
       "-36.98636969513106"
      ]
     },
     "execution_count": 1715,
     "metadata": {},
     "output_type": "execute_result"
    }
   ],
   "source": [
    "messages_mean_smart.mean() - 3 * np.sqrt(np.var(messages_mean_smart, ddof=1))"
   ]
  },
  {
   "cell_type": "code",
   "execution_count": 1716,
   "id": "70fbac89",
   "metadata": {},
   "outputs": [
    {
     "data": {
      "text/plain": [
       "112.26704737846654"
      ]
     },
     "execution_count": 1716,
     "metadata": {},
     "output_type": "execute_result"
    }
   ],
   "source": [
    "messages_mean_smart.mean() + 3 * np.sqrt(np.var(messages_mean_smart, ddof=1))"
   ]
  },
  {
   "cell_type": "markdown",
   "id": "70daf4d0",
   "metadata": {},
   "source": [
    "Таким образом, 99% пользователей укладываются до 112 сообщений в месяц в среднем (в интервал вошли два выброса). В тариф \"смарт\" включено 50 сообщений - нужно оценить, какое количество пользователей отправляют до 50 сообщений."
   ]
  },
  {
   "cell_type": "code",
   "execution_count": 1717,
   "id": "113bafe8",
   "metadata": {
    "scrolled": true
   },
   "outputs": [
    {
     "data": {
      "text/plain": [
       "Text(0.5, 1.0, 'Распределение вероятностей для сообщений тарифа \"смарт\"')"
      ]
     },
     "execution_count": 1717,
     "metadata": {},
     "output_type": "execute_result"
    },
    {
     "data": {
      "image/png": "[encoded data removed]",
      "text/plain": [
       "<Figure size 432x288 with 1 Axes>"
      ]
     },
     "metadata": {
      "needs_background": "light"
     },
     "output_type": "display_data"
    }
   ],
   "source": [
    "# построим распределение вероятностей для каждого значения\n",
    "sns.histplot(data = messages_mean_smart, stat = \"probability\", kde=True).set_title('Распределение вероятностей для сообщений тарифа \"смарт\"')"
   ]
  },
  {
   "cell_type": "code",
   "execution_count": 1718,
   "id": "2bd6077c",
   "metadata": {},
   "outputs": [
    {
     "data": {
      "text/plain": [
       "0.6843863034837774"
      ]
     },
     "execution_count": 1718,
     "metadata": {},
     "output_type": "execute_result"
    }
   ],
   "source": [
    "# посчитаем вероятность попасть в интервал до 50\n",
    "mu = 38 # среднее значение распределения\n",
    "sigma = 25 # стандартное отклонение распределения\n",
    "\n",
    "x = 50 # интересующее значение\n",
    "\n",
    "distr = st.norm(mu, sigma)\n",
    "result = distr.cdf(x)\n",
    "result"
   ]
  },
  {
   "cell_type": "markdown",
   "id": "1d55b704",
   "metadata": {},
   "source": [
    "Вероятность того, что пользователь отправит в месяц до 50 сообщений, равно примерно 68%.   \n",
    "Наибольший вероятностный интервал (18%) - 10-20 сообщений."
   ]
  },
  {
   "cell_type": "code",
   "execution_count": 1719,
   "id": "b0639c92",
   "metadata": {},
   "outputs": [
    {
     "data": {
      "text/plain": [
       "Text(0.5, 1.0, 'Распределение сообщений двух тарифов')"
      ]
     },
     "execution_count": 1719,
     "metadata": {},
     "output_type": "execute_result"
    },
    {
     "data": {
      "image/png": "[encoded data removed]",
      "text/plain": [
       "<Figure size 432x288 with 1 Axes>"
      ]
     },
     "metadata": {
      "needs_background": "light"
     },
     "output_type": "display_data"
    }
   ],
   "source": [
    "# построим оба тарифа на одном графике для наглядности\n",
    "ax = sns.histplot(data = messages_mean_ultra, bins=30)\n",
    "sns.histplot(data = messages_mean_smart, bins=30, ax = ax, color='green', alpha=0.3).set_title('Распределение сообщений двух тарифов')"
   ]
  },
  {
   "cell_type": "markdown",
   "id": "d4afd986",
   "metadata": {},
   "source": [
    "##### Вывод"
   ]
  },
  {
   "cell_type": "markdown",
   "id": "0a38e2d4",
   "metadata": {},
   "source": [
    "**Описательная статистика количества израсходованных сообщений тарифа \"смарт\":**   \n",
    "Среднее: 38 сообщений   \n",
    "Медиана: 33 сообщения  \n",
    "Стандартное отклонение: 25 сообщений      \n",
    "    \n",
    "Данные скошены вправо, есть 4 выброса, 2 из которых входят в интервалы трёх сигм.   \n",
    "99% значений лежат в интервале до 112 сообщений.   \n",
    "68% значений лежат в интервале до 50 сообщений.   \n",
    "Наибольшая вероятность (18%) приходится на интервал 10-20 сообщений."
   ]
  },
  {
   "cell_type": "markdown",
   "id": "c8e28fb7",
   "metadata": {},
   "source": [
    "#### Объём израсходованного интернет-трафика для тарифа \"ультра\""
   ]
  },
  {
   "cell_type": "code",
   "execution_count": 1720,
   "id": "12d2b24d",
   "metadata": {},
   "outputs": [],
   "source": [
    "# посчитаем среднее количество израсходованного интернет-трафика в месяц для каждого пользователя тарифа \"ультра\"\n",
    "internet_mean_ultra = users.query('tariff == \"ultra\"')['gb_used']"
   ]
  },
  {
   "cell_type": "code",
   "execution_count": 1721,
   "id": "256d5138",
   "metadata": {},
   "outputs": [
    {
     "data": {
      "text/plain": [
       "<AxesSubplot:>"
      ]
     },
     "execution_count": 1721,
     "metadata": {},
     "output_type": "execute_result"
    },
    {
     "data": {
      "image/png": "[encoded data removed]",
      "text/plain": [
       "<Figure size 432x288 with 1 Axes>"
      ]
     },
     "metadata": {
      "needs_background": "light"
     },
     "output_type": "display_data"
    }
   ],
   "source": [
    "# построим диаграмму размаха, чтобы оценить данные на наличие выбросов\n",
    "internet_mean_ultra.plot.box()"
   ]
  },
  {
   "cell_type": "markdown",
   "id": "b6cc49f4",
   "metadata": {},
   "source": [
    "Выбросов не обнаружено."
   ]
  },
  {
   "cell_type": "code",
   "execution_count": 1722,
   "id": "41bae92d",
   "metadata": {
    "scrolled": true
   },
   "outputs": [
    {
     "data": {
      "text/plain": [
       "Text(0.5, 1.0, 'Распределение интернет-трафика для тарифа \"ультра\"')"
      ]
     },
     "execution_count": 1722,
     "metadata": {},
     "output_type": "execute_result"
    },
    {
     "data": {
      "image/png": "[encoded data removed]",
      "text/plain": [
       "<Figure size 432x288 with 1 Axes>"
      ]
     },
     "metadata": {
      "needs_background": "light"
     },
     "output_type": "display_data"
    }
   ],
   "source": [
    "# построим плотностную гистограмму распределения\n",
    "sns.histplot(data = internet_mean_ultra, kde=True, bins=30).set_title('Распределение интернет-трафика для тарифа \"ультра\"')"
   ]
  },
  {
   "cell_type": "markdown",
   "id": "e6fedae9",
   "metadata": {},
   "source": [
    "Распределение стремится к нормальному, данные немного скошены вправо."
   ]
  },
  {
   "cell_type": "code",
   "execution_count": 1723,
   "id": "134d6300",
   "metadata": {},
   "outputs": [
    {
     "data": {
      "text/plain": [
       "count   118.000\n",
       "mean     19.593\n",
       "std       7.875\n",
       "min       2.500\n",
       "25%      15.000\n",
       "50%      18.837\n",
       "75%      25.383\n",
       "max      38.500\n",
       "Name: gb_used, dtype: float64"
      ]
     },
     "execution_count": 1723,
     "metadata": {},
     "output_type": "execute_result"
    }
   ],
   "source": [
    "# числовое описание данных\n",
    "internet_mean_ultra.describe()"
   ]
  },
  {
   "cell_type": "markdown",
   "id": "957bdc30",
   "metadata": {},
   "source": [
    "Среднее немного больше медианы, как и должно быть при скошенности данных вправо."
   ]
  },
  {
   "cell_type": "markdown",
   "id": "c79a262a",
   "metadata": {},
   "source": [
    "Стандартное отклонение равно 8 гБ - это относительно немного. По правилу трёх сигм найдём интервал, в который входят 99% значений."
   ]
  },
  {
   "cell_type": "code",
   "execution_count": 1724,
   "id": "8994eed6",
   "metadata": {},
   "outputs": [
    {
     "data": {
      "text/plain": [
       "-4.030921711518847"
      ]
     },
     "execution_count": 1724,
     "metadata": {},
     "output_type": "execute_result"
    }
   ],
   "source": [
    "internet_mean_ultra.mean() - 3 * np.sqrt(np.var(internet_mean_ultra, ddof=1))"
   ]
  },
  {
   "cell_type": "code",
   "execution_count": 1725,
   "id": "20a6441f",
   "metadata": {},
   "outputs": [
    {
     "data": {
      "text/plain": [
       "43.21676073125617"
      ]
     },
     "execution_count": 1725,
     "metadata": {},
     "output_type": "execute_result"
    }
   ],
   "source": [
    "internet_mean_ultra.mean() + 3 * np.sqrt(np.var(internet_mean_ultra, ddof=1))"
   ]
  },
  {
   "cell_type": "markdown",
   "id": "d56c937a",
   "metadata": {},
   "source": [
    "Таким образом, 99% пользователей укладываются до 43 гБ в месяц в среднем, не все пользователи укладываются в 30 гБ, входящих в тариф. Теперь нужно оценить, какое количество пользователей отправляют расходуют до 30 гБ интернет-трафика."
   ]
  },
  {
   "cell_type": "code",
   "execution_count": 1726,
   "id": "e440764c",
   "metadata": {
    "scrolled": false
   },
   "outputs": [
    {
     "data": {
      "text/plain": [
       "Text(0.5, 1.0, 'Распределение вероятностей для интернет-трафика тарифа \"ультра\"')"
      ]
     },
     "execution_count": 1726,
     "metadata": {},
     "output_type": "execute_result"
    },
    {
     "data": {
      "image/png": "[encoded data removed]",
      "text/plain": [
       "<Figure size 432x288 with 1 Axes>"
      ]
     },
     "metadata": {
      "needs_background": "light"
     },
     "output_type": "display_data"
    }
   ],
   "source": [
    "# построим распределение вероятностей для каждого значения\n",
    "sns.histplot(data = internet_mean_ultra, stat = \"probability\", kde=True).set_title('Распределение вероятностей для интернет-трафика тарифа \"ультра\"')"
   ]
  },
  {
   "cell_type": "code",
   "execution_count": 1727,
   "id": "b122c170",
   "metadata": {},
   "outputs": [
    {
     "data": {
      "text/plain": [
       "0.8943502263331446"
      ]
     },
     "execution_count": 1727,
     "metadata": {},
     "output_type": "execute_result"
    }
   ],
   "source": [
    "# посчитаем вероятность попасть в интервал до 30 \n",
    "mu = 20 # среднее значение распределения\n",
    "sigma = 8 # стандартное отклонение распределения\n",
    "\n",
    "x = 30 # интересующее значение\n",
    "\n",
    "distr = st.norm(mu, sigma)\n",
    "result = distr.cdf(x)\n",
    "result"
   ]
  },
  {
   "cell_type": "markdown",
   "id": "c3a19c49",
   "metadata": {},
   "source": [
    "Вероятность того, что пользователь использует в месяц до 30 гБ и уложится в пакет, равна примерно 89%.      \n",
    "Наибольший вероятностный интервал (30%) - 15-20 гБ."
   ]
  },
  {
   "cell_type": "markdown",
   "id": "7c9b8b02",
   "metadata": {},
   "source": [
    "##### Вывод"
   ]
  },
  {
   "cell_type": "markdown",
   "id": "d5521d39",
   "metadata": {},
   "source": [
    "**Описательная статистика объёма израсходованного интернет-трафика тарифа \"ультра\":**   \n",
    "Среднее: 20 гБ    \n",
    "Медиана: 19 гБ    \n",
    "Стандартное отклонение: 8 гБ       \n",
    "    \n",
    "Данные немного скошены вправо, выбросов нет.   \n",
    "99% значений лежат в интервале до 43 гБ.  \n",
    "89% значений лежат в интервале до 30 гБ.   \n",
    "Наибольшая вероятность (30%) приходится на интервал 15-20 гБ."
   ]
  },
  {
   "cell_type": "markdown",
   "id": "f7fe12c5",
   "metadata": {},
   "source": [
    "#### Объём израсходованного интернет-трафика для тарифа \"смарт\""
   ]
  },
  {
   "cell_type": "code",
   "execution_count": 1728,
   "id": "947fded1",
   "metadata": {},
   "outputs": [],
   "source": [
    "# посчитаем среднее количество израсходованного интернет-трафика в месяц для каждого пользователя тарифа \"смарт\"\n",
    "internet_mean_smart = users.query('tariff == \"smart\"')['gb_used']"
   ]
  },
  {
   "cell_type": "code",
   "execution_count": 1729,
   "id": "b2dcf868",
   "metadata": {},
   "outputs": [
    {
     "data": {
      "text/plain": [
       "<AxesSubplot:>"
      ]
     },
     "execution_count": 1729,
     "metadata": {},
     "output_type": "execute_result"
    },
    {
     "data": {
      "image/png": "[encoded data removed]",
      "text/plain": [
       "<Figure size 432x288 with 1 Axes>"
      ]
     },
     "metadata": {
      "needs_background": "light"
     },
     "output_type": "display_data"
    }
   ],
   "source": [
    "# построим диаграмму размаха, чтобы оценить данные на наличие выбросов\n",
    "internet_mean_smart.plot.box()"
   ]
  },
  {
   "cell_type": "markdown",
   "id": "86bc2c34",
   "metadata": {},
   "source": [
    "Выбросы есть в обе стороны, изучим их подробнее."
   ]
  },
  {
   "cell_type": "code",
   "execution_count": 1730,
   "id": "b9db6faf",
   "metadata": {},
   "outputs": [
    {
     "data": {
      "text/plain": [
       "user_id\n",
       "1159   35.000\n",
       "1172   27.250\n",
       "1441   25.500\n",
       "Name: gb_used, dtype: float64"
      ]
     },
     "execution_count": 1730,
     "metadata": {},
     "output_type": "execute_result"
    }
   ],
   "source": [
    "# посмотрим на значения-выбросы\n",
    "internet_mean_smart[internet_mean_smart > 25]"
   ]
  },
  {
   "cell_type": "code",
   "execution_count": 1731,
   "id": "a3623320",
   "metadata": {},
   "outputs": [
    {
     "data": {
      "text/plain": [
       "user_id\n",
       "1062   6.000\n",
       "1285   5.727\n",
       "Name: gb_used, dtype: float64"
      ]
     },
     "execution_count": 1731,
     "metadata": {},
     "output_type": "execute_result"
    }
   ],
   "source": [
    "internet_mean_smart[internet_mean_smart < 7]"
   ]
  },
  {
   "cell_type": "markdown",
   "id": "8a14d4ab",
   "metadata": {},
   "source": [
    "Выбросы лежат не сильно далеко от остального распределения."
   ]
  },
  {
   "cell_type": "code",
   "execution_count": 1732,
   "id": "721a010e",
   "metadata": {
    "scrolled": true
   },
   "outputs": [
    {
     "data": {
      "text/plain": [
       "Text(0.5, 1.0, 'Распределение интернет-трафика для тарифа \"смарт\"')"
      ]
     },
     "execution_count": 1732,
     "metadata": {},
     "output_type": "execute_result"
    },
    {
     "data": {
      "image/png": "[encoded data removed]",
      "text/plain": [
       "<Figure size 432x288 with 1 Axes>"
      ]
     },
     "metadata": {
      "needs_background": "light"
     },
     "output_type": "display_data"
    }
   ],
   "source": [
    "# построим плотностную гистограмму распределения\n",
    "sns.histplot(data = internet_mean_smart, kde=True, bins=30).set_title('Распределение интернет-трафика для тарифа \"смарт\"')"
   ]
  },
  {
   "cell_type": "markdown",
   "id": "d78a5ed0",
   "metadata": {},
   "source": [
    "Распределение очень близко к нормальному."
   ]
  },
  {
   "cell_type": "code",
   "execution_count": 1733,
   "id": "ea86a69b",
   "metadata": {},
   "outputs": [
    {
     "data": {
      "text/plain": [
       "count   301.000\n",
       "mean     16.460\n",
       "std       3.776\n",
       "min       5.727\n",
       "25%      14.000\n",
       "50%      16.333\n",
       "75%      18.727\n",
       "max      35.000\n",
       "Name: gb_used, dtype: float64"
      ]
     },
     "execution_count": 1733,
     "metadata": {},
     "output_type": "execute_result"
    }
   ],
   "source": [
    "# числовое описание данных\n",
    "internet_mean_smart.describe()"
   ]
  },
  {
   "cell_type": "markdown",
   "id": "6182965e",
   "metadata": {},
   "source": [
    "Среднее практически совпадает с медианой, а значит, распределение максимально близко к нормальному и выбросы на него не влияют."
   ]
  },
  {
   "cell_type": "markdown",
   "id": "d0e37530",
   "metadata": {},
   "source": [
    "Стандартное отклонение равно 4 гБ - это очень небольшое отклонение. По правилу трёх сигм найдём интервал, в который входят 99% значений."
   ]
  },
  {
   "cell_type": "code",
   "execution_count": 1734,
   "id": "b701f7e2",
   "metadata": {},
   "outputs": [
    {
     "data": {
      "text/plain": [
       "5.132975708921952"
      ]
     },
     "execution_count": 1734,
     "metadata": {},
     "output_type": "execute_result"
    }
   ],
   "source": [
    "internet_mean_smart.mean() - 3 * np.sqrt(np.var(internet_mean_smart, ddof=1))"
   ]
  },
  {
   "cell_type": "code",
   "execution_count": 1735,
   "id": "aa4ce1aa",
   "metadata": {},
   "outputs": [
    {
     "data": {
      "text/plain": [
       "27.786192000445084"
      ]
     },
     "execution_count": 1735,
     "metadata": {},
     "output_type": "execute_result"
    }
   ],
   "source": [
    "internet_mean_smart.mean() + 3 * np.sqrt(np.var(internet_mean_smart, ddof=1))"
   ]
  },
  {
   "cell_type": "markdown",
   "id": "6571d8c6",
   "metadata": {},
   "source": [
    "Таким образом, 99% пользователей укладываются до 28 гБ в месяц в среднем, не все пользователи укладываются в 15 гБ, входящих в тариф. Теперь нужно оценить, какое количество пользователей отправляют расходуют до 15 гБ интернет-трафика."
   ]
  },
  {
   "cell_type": "code",
   "execution_count": 1736,
   "id": "90537e69",
   "metadata": {
    "scrolled": true
   },
   "outputs": [
    {
     "data": {
      "text/plain": [
       "Text(0.5, 1.0, 'Распределение вероятностей для интернет-трафика тарифа \"смарт\"')"
      ]
     },
     "execution_count": 1736,
     "metadata": {},
     "output_type": "execute_result"
    },
    {
     "data": {
      "image/png": "[encoded data removed]",
      "text/plain": [
       "<Figure size 432x288 with 1 Axes>"
      ]
     },
     "metadata": {
      "needs_background": "light"
     },
     "output_type": "display_data"
    }
   ],
   "source": [
    "# построим распределение вероятностей для каждого значения\n",
    "sns.histplot(data = internet_mean_smart, stat = \"probability\", kde=True).set_title('Распределение вероятностей для интернет-трафика тарифа \"смарт\"')"
   ]
  },
  {
   "cell_type": "code",
   "execution_count": 1737,
   "id": "7684bdcf",
   "metadata": {},
   "outputs": [
    {
     "data": {
      "text/plain": [
       "0.4012936743170763"
      ]
     },
     "execution_count": 1737,
     "metadata": {},
     "output_type": "execute_result"
    }
   ],
   "source": [
    "# посчитаем вероятность попасть в интервал до 15 гБ\n",
    "mu = 16 # среднее значение распределения\n",
    "sigma = 4 # стандартное отклонение распределения\n",
    "\n",
    "x = 15 # интересующее значение\n",
    "\n",
    "distr = st.norm(mu, sigma)\n",
    "result = distr.cdf(x)\n",
    "result"
   ]
  },
  {
   "cell_type": "markdown",
   "id": "973c9209",
   "metadata": {},
   "source": [
    "Вероятность того, что пользователь использует в месяц до 15 гБ и уложится в пакет, равна примерно 40%.      \n",
    "Наибольший вероятностный интервал (18%) - 15-16 гБ."
   ]
  },
  {
   "cell_type": "code",
   "execution_count": 1738,
   "id": "920ebffd",
   "metadata": {},
   "outputs": [
    {
     "data": {
      "text/plain": [
       "Text(0.5, 1.0, 'Распределение интернет-трафика двух тарифов')"
      ]
     },
     "execution_count": 1738,
     "metadata": {},
     "output_type": "execute_result"
    },
    {
     "data": {
      "image/png": "[encoded data removed]",
      "text/plain": [
       "<Figure size 432x288 with 1 Axes>"
      ]
     },
     "metadata": {
      "needs_background": "light"
     },
     "output_type": "display_data"
    }
   ],
   "source": [
    "# построим оба тарифа на одном графике для наглядности\n",
    "ax = sns.histplot(data = internet_mean_ultra, bins=30)\n",
    "sns.histplot(data = internet_mean_smart, bins=30, ax = ax, color='green', alpha=0.3).set_title('Распределение интернет-трафика двух тарифов')"
   ]
  },
  {
   "cell_type": "markdown",
   "id": "73b540f2",
   "metadata": {},
   "source": [
    "##### Вывод"
   ]
  },
  {
   "cell_type": "markdown",
   "id": "a194366e",
   "metadata": {},
   "source": [
    "**Описательная статистика объёма израсходованного интернет-трафика тарифа \"смарт\":**   \n",
    "Среднее: 16 гБ    \n",
    "Медиана: 16 гБ     \n",
    "Стандартное отклонение: 4 гБ       \n",
    "    \n",
    "Данные распределены нормально, есть небольшие выбросы в обе стороны.   \n",
    "99% значений лежат в интервале до 28 гБ.  \n",
    "40% значений лежат в интервале до 15 гБ.   \n",
    "Наибольшая вероятность (18%) приходится на интервал 15-16 гБ."
   ]
  },
  {
   "cell_type": "code",
   "execution_count": 1739,
   "id": "f13256fd",
   "metadata": {},
   "outputs": [
    {
     "data": {
      "text/html": [
       "<div>\n",
       "<style scoped>\n",
       "    .dataframe tbody tr th:only-of-type {\n",
       "        vertical-align: middle;\n",
       "    }\n",
       "\n",
       "    .dataframe tbody tr th {\n",
       "        vertical-align: top;\n",
       "    }\n",
       "\n",
       "    .dataframe thead th {\n",
       "        text-align: right;\n",
       "    }\n",
       "</style>\n",
       "<table border=\"1\" class=\"dataframe\">\n",
       "  <thead>\n",
       "    <tr style=\"text-align: right;\">\n",
       "      <th></th>\n",
       "      <th>age</th>\n",
       "      <th>churn_date</th>\n",
       "      <th>city</th>\n",
       "      <th>first_name</th>\n",
       "      <th>last_name</th>\n",
       "      <th>reg_date</th>\n",
       "      <th>tariff</th>\n",
       "      <th>calls_sum</th>\n",
       "      <th>gb_used</th>\n",
       "      <th>messages_count</th>\n",
       "      <th>revenue</th>\n",
       "    </tr>\n",
       "    <tr>\n",
       "      <th>user_id</th>\n",
       "      <th></th>\n",
       "      <th></th>\n",
       "      <th></th>\n",
       "      <th></th>\n",
       "      <th></th>\n",
       "      <th></th>\n",
       "      <th></th>\n",
       "      <th></th>\n",
       "      <th></th>\n",
       "      <th></th>\n",
       "      <th></th>\n",
       "    </tr>\n",
       "  </thead>\n",
       "  <tbody>\n",
       "    <tr>\n",
       "      <th>1000</th>\n",
       "      <td>52</td>\n",
       "      <td>NaT</td>\n",
       "      <td>Краснодар</td>\n",
       "      <td>Рафаил</td>\n",
       "      <td>Верещагин</td>\n",
       "      <td>2018-05-25</td>\n",
       "      <td>ultra</td>\n",
       "      <td>320.750</td>\n",
       "      <td>13.625</td>\n",
       "      <td>62.000</td>\n",
       "      <td>1950.000</td>\n",
       "    </tr>\n",
       "    <tr>\n",
       "      <th>1002</th>\n",
       "      <td>59</td>\n",
       "      <td>NaT</td>\n",
       "      <td>Стерлитамак</td>\n",
       "      <td>Евгений</td>\n",
       "      <td>Абрамович</td>\n",
       "      <td>2018-06-17</td>\n",
       "      <td>smart</td>\n",
       "      <td>216.714</td>\n",
       "      <td>16.714</td>\n",
       "      <td>10.000</td>\n",
       "      <td>1035.714</td>\n",
       "    </tr>\n",
       "    <tr>\n",
       "      <th>1003</th>\n",
       "      <td>23</td>\n",
       "      <td>NaT</td>\n",
       "      <td>Москва</td>\n",
       "      <td>Белла</td>\n",
       "      <td>Белякова</td>\n",
       "      <td>2018-08-17</td>\n",
       "      <td>ultra</td>\n",
       "      <td>764.400</td>\n",
       "      <td>11.800</td>\n",
       "      <td>76.000</td>\n",
       "      <td>1950.000</td>\n",
       "    </tr>\n",
       "    <tr>\n",
       "      <th>1004</th>\n",
       "      <td>68</td>\n",
       "      <td>NaT</td>\n",
       "      <td>Новокузнецк</td>\n",
       "      <td>Татьяна</td>\n",
       "      <td>Авдеенко</td>\n",
       "      <td>2018-05-14</td>\n",
       "      <td>ultra</td>\n",
       "      <td>123.375</td>\n",
       "      <td>18.750</td>\n",
       "      <td>149.000</td>\n",
       "      <td>1950.000</td>\n",
       "    </tr>\n",
       "    <tr>\n",
       "      <th>1005</th>\n",
       "      <td>67</td>\n",
       "      <td>NaT</td>\n",
       "      <td>Набережные Челны</td>\n",
       "      <td>Афанасий</td>\n",
       "      <td>Горлов</td>\n",
       "      <td>2018-01-25</td>\n",
       "      <td>smart</td>\n",
       "      <td>550.417</td>\n",
       "      <td>8.583</td>\n",
       "      <td>46.000</td>\n",
       "      <td>827.000</td>\n",
       "    </tr>\n",
       "  </tbody>\n",
       "</table>\n",
       "</div>"
      ],
      "text/plain": [
       "         age churn_date              city first_name  last_name   reg_date  \\\n",
       "user_id                                                                      \n",
       "1000      52        NaT         Краснодар     Рафаил  Верещагин 2018-05-25   \n",
       "1002      59        NaT       Стерлитамак    Евгений  Абрамович 2018-06-17   \n",
       "1003      23        NaT            Москва      Белла   Белякова 2018-08-17   \n",
       "1004      68        NaT       Новокузнецк    Татьяна   Авдеенко 2018-05-14   \n",
       "1005      67        NaT  Набережные Челны   Афанасий     Горлов 2018-01-25   \n",
       "\n",
       "        tariff  calls_sum  gb_used  messages_count  revenue  \n",
       "user_id                                                      \n",
       "1000     ultra    320.750   13.625          62.000 1950.000  \n",
       "1002     smart    216.714   16.714          10.000 1035.714  \n",
       "1003     ultra    764.400   11.800          76.000 1950.000  \n",
       "1004     ultra    123.375   18.750         149.000 1950.000  \n",
       "1005     smart    550.417    8.583          46.000  827.000  "
      ]
     },
     "execution_count": 1739,
     "metadata": {},
     "output_type": "execute_result"
    }
   ],
   "source": [
    "users.head()"
   ]
  },
  {
   "cell_type": "code",
   "execution_count": 1740,
   "id": "f8bc7184",
   "metadata": {},
   "outputs": [
    {
     "data": {
      "text/plain": [
       "47"
      ]
     },
     "execution_count": 1740,
     "metadata": {},
     "output_type": "execute_result"
    }
   ],
   "source": [
    "# посчитаем количество пользователей арифа \"смарт\", которые приносят выручку более 1950\n",
    "users.query('tariff == \"smart\" and revenue > 1950')['revenue'].count()"
   ]
  },
  {
   "cell_type": "markdown",
   "id": "a4cec20e",
   "metadata": {},
   "source": [
    "### Проверка гипотез"
   ]
  },
  {
   "cell_type": "markdown",
   "id": "bf52057b",
   "metadata": {},
   "source": [
    "#### Гипотеза 1"
   ]
  },
  {
   "cell_type": "markdown",
   "id": "3ff71b23",
   "metadata": {},
   "source": [
    "**Нулевая гипотеза**: средняя выручка пользователей тарифов «Ультра» и «Смарт» одинакова.   \n",
    "**Альтернативная гипотеза**: средняя выручка пользователей тарифов «Ультра» и «Смарт» различается.   \n",
    "    \n",
    "Это двусторонняя гипотеза, с помощью которой мы проверим, отличается ли средняя выручка от двух тарифов или нет. Если вероятность получить различные значения по выручке окажется слишком велика, чтобы быть случайностью, мы отвергаем нулевую гипотезу в пользу альтернативной."
   ]
  },
  {
   "cell_type": "markdown",
   "id": "67704e9b",
   "metadata": {},
   "source": [
    "Для проверки этой гипотезы нам понадобятся таблицы со средней выручкой отдельно по тарифам."
   ]
  },
  {
   "cell_type": "code",
   "execution_count": 1741,
   "id": "794fd8d1",
   "metadata": {},
   "outputs": [],
   "source": [
    "ultra_revenue = users.query('tariff == \"ultra\"')['revenue']"
   ]
  },
  {
   "cell_type": "code",
   "execution_count": 1742,
   "id": "8cd8ac28",
   "metadata": {},
   "outputs": [],
   "source": [
    "smart_revenue = users.query('tariff == \"smart\"')['revenue']"
   ]
  },
  {
   "cell_type": "code",
   "execution_count": 1743,
   "id": "c7a73e42",
   "metadata": {},
   "outputs": [
    {
     "data": {
      "text/plain": [
       "25.0192555784938"
      ]
     },
     "execution_count": 1743,
     "metadata": {},
     "output_type": "execute_result"
    }
   ],
   "source": [
    "# вычислим стандартную ошибку выборки тарифа \"ультра\"\n",
    "s_u = np.std(ultra_revenue)\n",
    "n_u = len(ultra_revenue)\n",
    "ese_u = s_u / np.sqrt(n_u)\n",
    "ese_u"
   ]
  },
  {
   "cell_type": "code",
   "execution_count": 1744,
   "id": "cf9552e7",
   "metadata": {},
   "outputs": [
    {
     "data": {
      "text/plain": [
       "38.13102813211151"
      ]
     },
     "execution_count": 1744,
     "metadata": {},
     "output_type": "execute_result"
    }
   ],
   "source": [
    "# вычислим стандартную ошибку выборки тарифа \"смарт\"\n",
    "s_s = np.std(smart_revenue)\n",
    "n_s = len(smart_revenue)\n",
    "ese_s = s_s / np.sqrt(n_s)\n",
    "ese_s"
   ]
  },
  {
   "cell_type": "code",
   "execution_count": 1745,
   "id": "58c6bdf1",
   "metadata": {
    "scrolled": true
   },
   "outputs": [
    {
     "data": {
      "text/plain": [
       "Text(0.5, 1.0, 'Распределение средней выручки тарифа \"ультра\"')"
      ]
     },
     "execution_count": 1745,
     "metadata": {},
     "output_type": "execute_result"
    },
    {
     "data": {
      "image/png": "[encoded data removed]",
      "text/plain": [
       "<Figure size 432x288 with 1 Axes>"
      ]
     },
     "metadata": {
      "needs_background": "light"
     },
     "output_type": "display_data"
    }
   ],
   "source": [
    "# построим график распределения средней выручки тарифа \"ультра\"\n",
    "sns.histplot(data = ultra_revenue, kde=True, bins=30, stat='probability').set_title('Распределение средней выручки тарифа \"ультра\"')"
   ]
  },
  {
   "cell_type": "code",
   "execution_count": 1746,
   "id": "90ab8c8c",
   "metadata": {},
   "outputs": [
    {
     "data": {
      "text/plain": [
       "count    118.000\n",
       "mean    2066.660\n",
       "std      272.938\n",
       "min     1950.000\n",
       "25%     1950.000\n",
       "50%     1950.000\n",
       "75%     1974.107\n",
       "max     3225.000\n",
       "Name: revenue, dtype: float64"
      ]
     },
     "execution_count": 1746,
     "metadata": {},
     "output_type": "execute_result"
    }
   ],
   "source": [
    "ultra_revenue.describe()"
   ]
  },
  {
   "cell_type": "markdown",
   "id": "776aa6a9",
   "metadata": {},
   "source": [
    "На графике видно, что более 70% пользователей тарифа \"ультра\" не переплачивают сверх тарифа. "
   ]
  },
  {
   "cell_type": "code",
   "execution_count": 1747,
   "id": "f5b0246b",
   "metadata": {},
   "outputs": [
    {
     "data": {
      "text/plain": [
       "Text(0.5, 1.0, 'Распределение средней выручки тарифа \"смарт\"')"
      ]
     },
     "execution_count": 1747,
     "metadata": {},
     "output_type": "execute_result"
    },
    {
     "data": {
      "image/png": "[encoded data removed]",
      "text/plain": [
       "<Figure size 432x288 with 1 Axes>"
      ]
     },
     "metadata": {
      "needs_background": "light"
     },
     "output_type": "display_data"
    }
   ],
   "source": [
    "# построим график распределения средней выручки тарифа \"смарт\"\n",
    "sns.histplot(data = smart_revenue, kde=True, bins=30).set_title('Распределение средней выручки тарифа \"смарт\"')"
   ]
  },
  {
   "cell_type": "code",
   "execution_count": 1748,
   "id": "f77d834c",
   "metadata": {},
   "outputs": [
    {
     "data": {
      "text/plain": [
       "count    301.000\n",
       "mean    1339.890\n",
       "std      662.650\n",
       "min      550.000\n",
       "25%      864.286\n",
       "50%     1189.800\n",
       "75%     1683.333\n",
       "max     5252.000\n",
       "Name: revenue, dtype: float64"
      ]
     },
     "execution_count": 1748,
     "metadata": {},
     "output_type": "execute_result"
    }
   ],
   "source": [
    "smart_revenue.describe()"
   ]
  },
  {
   "cell_type": "markdown",
   "id": "8645527f",
   "metadata": {},
   "source": [
    "Обе выборки не имеют нормального распределения. Это связано с тем, что они недостаточного размера. Чем больше выборка, тем больше она будет стремиться к нормальному распределению.   \n",
    "   \n",
    "Размеры выборок разные: у тарифа \"ультра\" 118 пользователей, а у тарифа \"смарт\" 301 пользователь. А так же есть основание предполагать, что дисперсии выборок не равны, и это нужно учесть при проведении статистического теста."
   ]
  },
  {
   "cell_type": "code",
   "execution_count": 1749,
   "id": "58e97c6e",
   "metadata": {},
   "outputs": [
    {
     "name": "stdout",
     "output_type": "stream",
     "text": [
      "p-значение: 8.371481258767274e-45\n",
      "Отвергаем нулевую гипотезу\n"
     ]
    }
   ],
   "source": [
    "# проведём статистический тест на равенство средних двух генеральных совокупностей\n",
    "alpha = .05 # критический уровень статистической значимости\n",
    "# если p-value окажется меньше него - отвергнем гипотезу\n",
    "\n",
    "results = st.ttest_ind(\n",
    "    ultra_revenue, \n",
    "    smart_revenue,\n",
    "    equal_var=False)\n",
    "\n",
    "print('p-значение:', results.pvalue)\n",
    "\n",
    "if results.pvalue < alpha:\n",
    "    print(\"Отвергаем нулевую гипотезу\")\n",
    "else:\n",
    "    print(\"Не получилось отвергнуть нулевую гипотезу\") "
   ]
  },
  {
   "cell_type": "markdown",
   "id": "e53ad908",
   "metadata": {},
   "source": [
    "##### Вывод"
   ]
  },
  {
   "cell_type": "markdown",
   "id": "b976787f",
   "metadata": {},
   "source": [
    "Вероятность равенства средних выручек двух тарифов стремится к нулю, значит, нулевая гипотеза отвергается в пользу альтернативной."
   ]
  },
  {
   "cell_type": "markdown",
   "id": "ef258a51",
   "metadata": {},
   "source": [
    "#### Гипотеза 2"
   ]
  },
  {
   "cell_type": "markdown",
   "id": "f0e05732",
   "metadata": {},
   "source": [
    "**Нулевая гипотеза**: средняя выручка пользователей из Москвы не отличается от выручки пользователей из других регионов.   \n",
    "**Альтернативная гипотеза**: средняя выручка пользователей из отличается от выручки пользователей из других регионов.   \n",
    "    \n",
    "Это двусторонняя гипотеза, с помощью которой мы проверим, отличается ли средняя выручка пользователей из Москвы от пользователей из других регионов или нет. Если вероятность получить различные значения выручки пользователей из и других регионов окажется слишком велика, чтобы быть случайностью, мы отвергаем нулевую гипотезу в пользу альтернативной."
   ]
  },
  {
   "cell_type": "code",
   "execution_count": 1750,
   "id": "1fc9a091",
   "metadata": {},
   "outputs": [],
   "source": [
    "# получим выборку пользователей из Москвы\n",
    "moscow_revenue = users.query('city == \"Москва\"')['revenue']"
   ]
  },
  {
   "cell_type": "code",
   "execution_count": 1751,
   "id": "9e79ee33",
   "metadata": {
    "scrolled": true
   },
   "outputs": [
    {
     "data": {
      "text/plain": [
       "count     82.000\n",
       "mean    1522.788\n",
       "std      656.685\n",
       "min      550.000\n",
       "25%      995.000\n",
       "50%     1597.616\n",
       "75%     1950.000\n",
       "max     3233.000\n",
       "Name: revenue, dtype: float64"
      ]
     },
     "execution_count": 1751,
     "metadata": {},
     "output_type": "execute_result"
    }
   ],
   "source": [
    "# числовое описание moscow_revenue\n",
    "moscow_revenue.describe()"
   ]
  },
  {
   "cell_type": "code",
   "execution_count": 1752,
   "id": "42b3c1ac",
   "metadata": {},
   "outputs": [
    {
     "data": {
      "text/plain": [
       "Text(0.5, 1.0, 'Распределение средней выручки для пользователей из Москвы')"
      ]
     },
     "execution_count": 1752,
     "metadata": {},
     "output_type": "execute_result"
    },
    {
     "data": {
      "image/png": "[encoded data removed]",
      "text/plain": [
       "<Figure size 432x288 with 1 Axes>"
      ]
     },
     "metadata": {
      "needs_background": "light"
     },
     "output_type": "display_data"
    }
   ],
   "source": [
    "# построим график распределения\n",
    "sns.histplot(data=moscow_revenue, kde=True, stat='probability', bins=30).set_title('Распределение средней выручки для пользователей из Москвы')"
   ]
  },
  {
   "cell_type": "code",
   "execution_count": 1753,
   "id": "f1bc3f08",
   "metadata": {},
   "outputs": [],
   "source": [
    "# получим выборку пользователей из других регионов\n",
    "regions_revenue = users.query('city != \"Москва\"')['revenue']"
   ]
  },
  {
   "cell_type": "code",
   "execution_count": 1754,
   "id": "f322ee2e",
   "metadata": {},
   "outputs": [
    {
     "data": {
      "text/plain": [
       "count    337.000\n",
       "mean    1549.864\n",
       "std      668.695\n",
       "min      550.000\n",
       "25%      983.600\n",
       "50%     1570.600\n",
       "75%     1950.000\n",
       "max     5252.000\n",
       "Name: revenue, dtype: float64"
      ]
     },
     "execution_count": 1754,
     "metadata": {},
     "output_type": "execute_result"
    }
   ],
   "source": [
    "# числовое описание regions_revenue\n",
    "regions_revenue.describe()"
   ]
  },
  {
   "cell_type": "code",
   "execution_count": 1755,
   "id": "015617b0",
   "metadata": {},
   "outputs": [
    {
     "data": {
      "text/plain": [
       "Text(0.5, 1.0, 'Распределение средней выручки для пользователей из других регионов')"
      ]
     },
     "execution_count": 1755,
     "metadata": {},
     "output_type": "execute_result"
    },
    {
     "data": {
      "image/png": "[encoded data removed]",
      "text/plain": [
       "<Figure size 432x288 with 1 Axes>"
      ]
     },
     "metadata": {
      "needs_background": "light"
     },
     "output_type": "display_data"
    }
   ],
   "source": [
    "# построим график распределения\n",
    "sns.histplot(data=regions_revenue, kde=True, stat='probability', bins=30).set_title('Распределение средней выручки для пользователей из других регионов')"
   ]
  },
  {
   "cell_type": "code",
   "execution_count": 1756,
   "id": "af9ae69f",
   "metadata": {},
   "outputs": [
    {
     "name": "stdout",
     "output_type": "stream",
     "text": [
      "p-значение: 0.7392147507609139\n",
      "Не получилось отвергнуть нулевую гипотезу\n"
     ]
    }
   ],
   "source": [
    "# проведём статистический тест\n",
    "alpha = .05 # критический уровень статистической значимости\n",
    "# если p-value окажется меньше него - отвергнем гипотезу\n",
    "\n",
    "results = st.ttest_ind(\n",
    "    moscow_revenue, \n",
    "    regions_revenue,\n",
    "    equal_var=False)\n",
    "\n",
    "print('p-значение:', results.pvalue)\n",
    "\n",
    "if results.pvalue < alpha:\n",
    "    print(\"Отвергаем нулевую гипотезу\")\n",
    "else:\n",
    "    print(\"Не получилось отвергнуть нулевую гипотезу\") "
   ]
  },
  {
   "cell_type": "markdown",
   "id": "5830922f",
   "metadata": {},
   "source": [
    "#####  Вывод"
   ]
  },
  {
   "cell_type": "markdown",
   "id": "71fbcc56",
   "metadata": {},
   "source": [
    "Таким образом, вероятность того, что выручка пользователей из Москвы и других регионов будет одинакова, очень велика - принимается нулевая гипотеза."
   ]
  },
  {
   "cell_type": "markdown",
   "id": "268bfe84",
   "metadata": {},
   "source": [
    "## Общий вывод"
   ]
  },
  {
   "cell_type": "markdown",
   "id": "c54845ad",
   "metadata": {},
   "source": [
    "**Заказчик исследования:** Компания «Мегалайн» — федеральный оператор сотовой связи.   \n",
    "**Описание проекта:** Клиентам предлагают два тарифных плана: «Смарт» и «Ультра». Чтобы скорректировать рекламный бюджет, коммерческий департамент хочет понять, какой тариф приносит больше денег.  \n",
    "**Данные:** В вашем распоряжении данные 500 пользователей «Мегалайна»: кто они, откуда, каким тарифом пользуются, сколько звонков и сообщений каждый отправил за 2018 год.   \n",
    "**Задача:** Проанализировать тарифы и поведение клиентов, использующих их, и сделать вывод — какой тариф лучше.  \n",
    "    \n",
    "**РАЗДЕЛ 1. ИЗУЧЕНИЕ ДАННЫХ**   \n",
    "   \n",
    "У нас есть несколько датасетов с информацией о пользователях сотовой связи: users содержит справочную информацию о самом пользователе и тарифе, который он выбрал; calls, messages и internet содержат информацию об израсходованных минутах, сообщениях, интернет-траффике соответственно. А так же есть таблица tariffs с информацией о каждом тарифе. В нашем распоряжении информация о 500 пользователях, количество строк в данных со звонками, сообщениями и интернет-траффике везде разное. В датасете internet обнаружена и удалена лишняя колонка с дубликатами индексов `Unnamed: 0`.   \n",
    "   \n",
    "**РАЗДЕЛ 2. ПРЕДОБРАБОТКА ДАННЫХ**   \n",
    "    \n",
    "**2.1 Проверка типов данных**   \n",
    "В этом разделе изучили все датасеты на типы данных: все даты привели к типу datetime, идентификационные номера - к целочисленному типу, количество минут тоже привели к целочисленному типу с округлением вверх.   \n",
    "    \n",
    "**2.2 Изучение пропусков**  \n",
    "Пропуски есть только в churn_rate - это дата прекращения пользования тарифом. Если она пропущена, значит, тариф ещё действовал на момент выгрузки данных. Больше пропусков в данных нет.   \n",
    "   \n",
    "**2.3 Изучение значений по столбцам**  \n",
    "- Идентификаторы пользователей в таблице представлены от 1000 до 1499.\n",
    "- Возраст пользователей распределяется от 18 до 75 лет. Средний возраст - 46 лет.\n",
    "- Длительность звонков распределяется от 0 минут (это пропущенные звонки) до 38 минут. Средняя длительность - 7 минут.\n",
    "- Количество исрасходованных мБ интернет-трафика распределяется от 0 до 1725 мБ. Среднее значение - 370 мБ. Нулевые значения могут говорить о неудачных попытках выхода в интернет. Таких значений 13%, из них 11 - это тариф \"смарт\".    \n",
    "   \n",
    "**2.4 Подготовка данных**   \n",
    "На этом этапе были посчитаны средние значения в месяц по минутам, сообщениям, трафику и выручке для каждого пользователя и добавлены в таблицу users.      \n",
    "    \n",
    "**РАЗДЕЛ 3. ИССЛЕДОВАТЕЛЬСКИЙ АНАЛИЗ ДАННЫХ**\n",
    "   \n",
    "**3.1 Описательная статистика**    \n",
    "     \n",
    "*3.1.1 Количество израсходованных минут для тарифа \"ультра\"*   \n",
    "    \n",
    "Среднее: 559 минут   \n",
    "Медиана: 533 минуты    \n",
    "Стандартное отклонение: 268 минут    \n",
    "    \n",
    "Распределение стремится к нормальному, данные немного скошены вправо, большое стандартное отклонение.   \n",
    "99% значений лежат в интервале до 1279 минут, что в 2 раза меньше 3000 минут, входящих в пакет.   \n",
    "42% значений лежат в интервале до 500 минут.   \n",
    "Наибольшая вероятность (20%) приходится на интервал 500-600 минут.   \n",
    "   \n",
    "*3.1.2 Количество израсходованных минут для тарифа \"смарт\"*   \n",
    "     \n",
    "Среднее: 425 минут   \n",
    "Медиана: 431 минута    \n",
    "Стандартное отклонение: 148 минут    \n",
    "    \n",
    "Распределение стремится к нормальному, данные немного скошены влево, стандартное отклонение в два раза меньше, чем у тарифа \"ультра\".   \n",
    "99% значений лежат в интервале до 869 минут.   \n",
    "69% значений лежат в интервале до 500 минут и укладываются в пакет.   \n",
    "Наибольшая вероятность (30%) приходится на интервал 400-500 минут.   \n",
    "    \n",
    "*3.1.3 Количество израсходованных сообщений для тарифа \"ультра\"*   \n",
    "      \n",
    "Среднее: 65 сообщений  \n",
    "Медиана: 59 сообщений    \n",
    "Стандартное отклонение: 42 сообщения      \n",
    "    \n",
    "Данные скошены влево, есть единичный выброс, но он входит в итервалы трёх сигм.   \n",
    "99% значений лежат в интервале до 193 сообщений - это намного меньше количества сообщений в пакете.   \n",
    "36% значений лежат в интервале до 50 сообщений.   \n",
    "Наибольшая вероятность (30%) приходится на интервал 25-50 сообщений.   \n",
    "    \n",
    "*3.1.4 Количество израсходованных сообщений для тарифа \"смарт\"*   \n",
    "      \n",
    "Среднее: 38 сообщений    \n",
    "Медиана: 33 сообщения      \n",
    "Стандартное отклонение: 25 сообщений      \n",
    "    \n",
    "Данные скошены вправо, есть 4 выброса, 2 из которых входят в интервалы трёх сигм.   \n",
    "99% значений лежат в интервале до 112 сообщений.   \n",
    "68% значений лежат в интервале до 50 сообщений.   \n",
    "Наибольшая вероятность (18%) приходится на интервал 10-20 сообщений.   \n",
    "    \n",
    "*3.1.5 Объём израсходованного интернет-трафика для тарифа \"ультра\"*   \n",
    "       \n",
    "Среднее: 20 гБ    \n",
    "Медиана: 19 гБ     \n",
    "Стандартное отклонение: 8 гБ    \n",
    "    \n",
    "Данные немного скошены вправо, выбросов нет.   \n",
    "99% значений лежат в интервале до 43 гБ.  \n",
    "89% значений лежат в интервале до 30 гБ.   \n",
    "Наибольшая вероятность (30%) приходится на интервал 15-20 гБ.   \n",
    "    \n",
    "*3.1.6 Объём израсходованного интернет-трафика для тарифа \"смарт\"*     \n",
    "     \n",
    "Среднее: 16 гБ    \n",
    "Медиана: 16 гБ    \n",
    "Стандартное отклонение: 4 гБ    \n",
    "    \n",
    "Данные распределены нормально, есть небольшие выбросы в обе стороны.   \n",
    "99% значений лежат в интервале до 28 гБ.  \n",
    "40% значений лежат в интервале до 15 гБ.   \n",
    "Наибольшая вероятность (18%) приходится на интервал 15-16 гБ.   \n",
    "    \n",
    "**3.2 Проверка гипотез**   \n",
    "*Гипотеза 1*   \n",
    "Нулевая гипотеза: средняя выручка пользователей тарифов «Ультра» и «Смарт» одинакова.  \n",
    "Альтернативная гипотеза: средняя выручка пользователей тарифов «Ультра» и «Смарт» различается.  \n",
    "   \n",
    "Вероятность равенства средних выручек двух тарифов стремится к нулю, значит, нулевая гипотеза отвергается в пользу альтернативной.   \n",
    "   \n",
    "*Гипотеза 2*   \n",
    "Нулевая гипотеза: средняя выручка пользователей из Москвы не отличается от выручки пользователей из других регионов.\n",
    "Альтернативная гипотеза: средняя выручка пользователей из Москвы отличается от выручки пользователей из других регионов. \n",
    "    \n",
    "Вероятность того, что выручка пользователей из Москвы и других регионов будет одинакова, очень велика - принимается нулевая гипотеза.    \n",
    "      \n",
    "**ИТОГ**: тариф \"ультра\" выгоднее для компании, а \"смарт\" - для пользователей. Тариф \"ультра\" стоит дороже и приносит в среднем больше выручки, потому что все пользователи выборки переплачивают за ненужные минуты, сообщения и интернет, входящие в пакет, и никогда не успевают использовать его целиком. Всего лишь 47 пользователей тарифа \"смарт\" приносят выручку больше стоимости базового пакета \"ультра\" за 1950."
   ]
  }
 ],
 "metadata": {
  "ExecuteTimeLog": [
   {
    "duration": 61,
    "start_time": "2022-07-02T09:45:33.151Z"
   },
   {
    "duration": 1655,
    "start_time": "2022-07-02T09:45:40.862Z"
   },
   {
    "duration": 186,
    "start_time": "2022-07-02T09:45:42.519Z"
   },
   {
    "duration": 0,
    "start_time": "2022-07-02T09:45:42.708Z"
   },
   {
    "duration": 0,
    "start_time": "2022-07-02T09:45:42.709Z"
   },
   {
    "duration": 0,
    "start_time": "2022-07-02T09:45:42.711Z"
   },
   {
    "duration": 0,
    "start_time": "2022-07-02T09:45:42.712Z"
   },
   {
    "duration": 0,
    "start_time": "2022-07-02T09:45:42.713Z"
   },
   {
    "duration": 0,
    "start_time": "2022-07-02T09:45:42.714Z"
   },
   {
    "duration": 0,
    "start_time": "2022-07-02T09:45:42.715Z"
   },
   {
    "duration": 0,
    "start_time": "2022-07-02T09:45:42.716Z"
   },
   {
    "duration": 0,
    "start_time": "2022-07-02T09:45:42.717Z"
   },
   {
    "duration": 0,
    "start_time": "2022-07-02T09:45:42.718Z"
   },
   {
    "duration": 0,
    "start_time": "2022-07-02T09:45:42.719Z"
   },
   {
    "duration": 0,
    "start_time": "2022-07-02T09:45:42.720Z"
   },
   {
    "duration": 0,
    "start_time": "2022-07-02T09:45:42.722Z"
   },
   {
    "duration": 0,
    "start_time": "2022-07-02T09:45:42.738Z"
   },
   {
    "duration": 1,
    "start_time": "2022-07-02T09:45:42.739Z"
   },
   {
    "duration": 0,
    "start_time": "2022-07-02T09:45:42.740Z"
   },
   {
    "duration": 0,
    "start_time": "2022-07-02T09:45:42.742Z"
   },
   {
    "duration": 0,
    "start_time": "2022-07-02T09:45:42.743Z"
   },
   {
    "duration": 0,
    "start_time": "2022-07-02T09:45:42.744Z"
   },
   {
    "duration": 0,
    "start_time": "2022-07-02T09:45:42.745Z"
   },
   {
    "duration": 0,
    "start_time": "2022-07-02T09:45:42.746Z"
   },
   {
    "duration": 0,
    "start_time": "2022-07-02T09:45:42.747Z"
   },
   {
    "duration": 0,
    "start_time": "2022-07-02T09:45:42.747Z"
   },
   {
    "duration": 0,
    "start_time": "2022-07-02T09:45:42.748Z"
   },
   {
    "duration": 0,
    "start_time": "2022-07-02T09:45:42.750Z"
   },
   {
    "duration": 0,
    "start_time": "2022-07-02T09:45:42.751Z"
   },
   {
    "duration": 0,
    "start_time": "2022-07-02T09:45:42.752Z"
   },
   {
    "duration": 0,
    "start_time": "2022-07-02T09:45:42.753Z"
   },
   {
    "duration": 0,
    "start_time": "2022-07-02T09:45:42.754Z"
   },
   {
    "duration": 0,
    "start_time": "2022-07-02T09:45:42.755Z"
   },
   {
    "duration": 0,
    "start_time": "2022-07-02T09:45:42.756Z"
   },
   {
    "duration": 0,
    "start_time": "2022-07-02T09:45:42.761Z"
   },
   {
    "duration": 0,
    "start_time": "2022-07-02T09:45:42.762Z"
   },
   {
    "duration": 0,
    "start_time": "2022-07-02T09:45:42.763Z"
   },
   {
    "duration": 0,
    "start_time": "2022-07-02T09:45:42.764Z"
   },
   {
    "duration": 0,
    "start_time": "2022-07-02T09:45:42.765Z"
   },
   {
    "duration": 0,
    "start_time": "2022-07-02T09:45:42.766Z"
   },
   {
    "duration": 0,
    "start_time": "2022-07-02T09:45:42.766Z"
   },
   {
    "duration": 0,
    "start_time": "2022-07-02T09:45:42.767Z"
   },
   {
    "duration": 0,
    "start_time": "2022-07-02T09:45:42.768Z"
   },
   {
    "duration": 0,
    "start_time": "2022-07-02T09:45:42.771Z"
   },
   {
    "duration": 0,
    "start_time": "2022-07-02T09:45:42.772Z"
   },
   {
    "duration": 0,
    "start_time": "2022-07-02T09:45:42.773Z"
   },
   {
    "duration": 0,
    "start_time": "2022-07-02T09:45:42.774Z"
   },
   {
    "duration": 0,
    "start_time": "2022-07-02T09:45:42.775Z"
   },
   {
    "duration": 0,
    "start_time": "2022-07-02T09:45:42.776Z"
   },
   {
    "duration": 0,
    "start_time": "2022-07-02T09:45:42.776Z"
   },
   {
    "duration": 0,
    "start_time": "2022-07-02T09:45:42.778Z"
   },
   {
    "duration": 0,
    "start_time": "2022-07-02T09:45:42.779Z"
   },
   {
    "duration": 0,
    "start_time": "2022-07-02T09:45:42.779Z"
   },
   {
    "duration": 0,
    "start_time": "2022-07-02T09:45:42.781Z"
   },
   {
    "duration": 0,
    "start_time": "2022-07-02T09:45:42.782Z"
   },
   {
    "duration": 2394,
    "start_time": "2022-07-02T09:46:40.350Z"
   },
   {
    "duration": 5,
    "start_time": "2022-07-02T09:46:44.253Z"
   },
   {
    "duration": 935,
    "start_time": "2022-07-02T09:46:44.264Z"
   },
   {
    "duration": 22,
    "start_time": "2022-07-02T09:46:45.203Z"
   },
   {
    "duration": 123,
    "start_time": "2022-07-02T09:46:45.228Z"
   },
   {
    "duration": 112,
    "start_time": "2022-07-02T09:46:45.353Z"
   },
   {
    "duration": 119,
    "start_time": "2022-07-02T09:46:45.467Z"
   },
   {
    "duration": 132,
    "start_time": "2022-07-02T09:46:45.589Z"
   },
   {
    "duration": 68,
    "start_time": "2022-07-02T09:46:45.728Z"
   },
   {
    "duration": 193,
    "start_time": "2022-07-02T09:46:45.804Z"
   },
   {
    "duration": 111,
    "start_time": "2022-07-02T09:46:46.007Z"
   },
   {
    "duration": 122,
    "start_time": "2022-07-02T09:46:46.124Z"
   },
   {
    "duration": 164,
    "start_time": "2022-07-02T09:46:46.248Z"
   },
   {
    "duration": 131,
    "start_time": "2022-07-02T09:46:46.420Z"
   },
   {
    "duration": 96,
    "start_time": "2022-07-02T09:46:46.553Z"
   },
   {
    "duration": 113,
    "start_time": "2022-07-02T09:46:46.651Z"
   },
   {
    "duration": 230,
    "start_time": "2022-07-02T09:46:46.767Z"
   },
   {
    "duration": 130,
    "start_time": "2022-07-02T09:46:46.999Z"
   },
   {
    "duration": 213,
    "start_time": "2022-07-02T09:46:47.131Z"
   },
   {
    "duration": 253,
    "start_time": "2022-07-02T09:46:47.348Z"
   },
   {
    "duration": 56,
    "start_time": "2022-07-02T09:46:47.610Z"
   },
   {
    "duration": 313,
    "start_time": "2022-07-02T09:46:47.671Z"
   },
   {
    "duration": 137,
    "start_time": "2022-07-02T09:46:47.995Z"
   },
   {
    "duration": 199,
    "start_time": "2022-07-02T09:46:48.139Z"
   },
   {
    "duration": 182,
    "start_time": "2022-07-02T09:46:48.356Z"
   },
   {
    "duration": 155,
    "start_time": "2022-07-02T09:46:48.544Z"
   },
   {
    "duration": 345,
    "start_time": "2022-07-02T09:46:48.709Z"
   },
   {
    "duration": 59,
    "start_time": "2022-07-02T09:46:49.065Z"
   },
   {
    "duration": 141,
    "start_time": "2022-07-02T09:46:49.130Z"
   },
   {
    "duration": 182,
    "start_time": "2022-07-02T09:46:49.276Z"
   },
   {
    "duration": 158,
    "start_time": "2022-07-02T09:46:49.467Z"
   },
   {
    "duration": 56,
    "start_time": "2022-07-02T09:46:49.635Z"
   },
   {
    "duration": 87,
    "start_time": "2022-07-02T09:46:49.699Z"
   },
   {
    "duration": 125,
    "start_time": "2022-07-02T09:46:49.796Z"
   },
   {
    "duration": 125,
    "start_time": "2022-07-02T09:46:49.923Z"
   },
   {
    "duration": 169,
    "start_time": "2022-07-02T09:46:50.050Z"
   },
   {
    "duration": 62,
    "start_time": "2022-07-02T09:46:50.221Z"
   },
   {
    "duration": 112,
    "start_time": "2022-07-02T09:46:50.287Z"
   },
   {
    "duration": 160,
    "start_time": "2022-07-02T09:46:50.401Z"
   },
   {
    "duration": 154,
    "start_time": "2022-07-02T09:46:50.565Z"
   },
   {
    "duration": 92,
    "start_time": "2022-07-02T09:46:50.721Z"
   },
   {
    "duration": 76,
    "start_time": "2022-07-02T09:46:50.817Z"
   },
   {
    "duration": 76,
    "start_time": "2022-07-02T09:46:50.895Z"
   },
   {
    "duration": 82,
    "start_time": "2022-07-02T09:46:50.974Z"
   },
   {
    "duration": 65,
    "start_time": "2022-07-02T09:46:51.059Z"
   },
   {
    "duration": 197,
    "start_time": "2022-07-02T09:46:51.134Z"
   },
   {
    "duration": 145,
    "start_time": "2022-07-02T09:46:51.333Z"
   },
   {
    "duration": 189,
    "start_time": "2022-07-02T09:46:51.480Z"
   },
   {
    "duration": 151,
    "start_time": "2022-07-02T09:46:51.671Z"
   },
   {
    "duration": 41,
    "start_time": "2022-07-02T09:46:51.829Z"
   },
   {
    "duration": 152,
    "start_time": "2022-07-02T09:46:51.873Z"
   },
   {
    "duration": 100,
    "start_time": "2022-07-02T09:46:52.032Z"
   },
   {
    "duration": 156,
    "start_time": "2022-07-02T09:46:52.137Z"
   },
   {
    "duration": 195,
    "start_time": "2022-07-02T09:46:52.299Z"
   },
   {
    "duration": 217,
    "start_time": "2022-07-02T09:46:52.500Z"
   },
   {
    "duration": 42,
    "start_time": "2022-07-02T09:46:52.723Z"
   },
   {
    "duration": 0,
    "start_time": "2022-07-02T09:46:52.782Z"
   },
   {
    "duration": 0,
    "start_time": "2022-07-02T09:46:52.787Z"
   },
   {
    "duration": 0,
    "start_time": "2022-07-02T09:46:52.792Z"
   },
   {
    "duration": 0,
    "start_time": "2022-07-02T09:46:52.801Z"
   },
   {
    "duration": 0,
    "start_time": "2022-07-02T09:46:52.806Z"
   },
   {
    "duration": 0,
    "start_time": "2022-07-02T09:46:52.810Z"
   },
   {
    "duration": 0,
    "start_time": "2022-07-02T09:46:52.812Z"
   },
   {
    "duration": 0,
    "start_time": "2022-07-02T09:46:52.818Z"
   },
   {
    "duration": 0,
    "start_time": "2022-07-02T09:46:52.819Z"
   },
   {
    "duration": 0,
    "start_time": "2022-07-02T09:46:52.820Z"
   },
   {
    "duration": 0,
    "start_time": "2022-07-02T09:46:52.822Z"
   },
   {
    "duration": 0,
    "start_time": "2022-07-02T09:46:52.826Z"
   },
   {
    "duration": 0,
    "start_time": "2022-07-02T09:46:52.827Z"
   },
   {
    "duration": 0,
    "start_time": "2022-07-02T09:46:52.828Z"
   },
   {
    "duration": 0,
    "start_time": "2022-07-02T09:46:52.835Z"
   },
   {
    "duration": 0,
    "start_time": "2022-07-02T09:46:52.836Z"
   },
   {
    "duration": 0,
    "start_time": "2022-07-02T09:46:52.837Z"
   },
   {
    "duration": 0,
    "start_time": "2022-07-02T09:46:52.839Z"
   },
   {
    "duration": 0,
    "start_time": "2022-07-02T09:46:52.840Z"
   },
   {
    "duration": 0,
    "start_time": "2022-07-02T09:46:52.842Z"
   },
   {
    "duration": 0,
    "start_time": "2022-07-02T09:46:52.846Z"
   },
   {
    "duration": 0,
    "start_time": "2022-07-02T09:46:52.847Z"
   },
   {
    "duration": 0,
    "start_time": "2022-07-02T09:46:52.848Z"
   },
   {
    "duration": 0,
    "start_time": "2022-07-02T09:46:52.852Z"
   },
   {
    "duration": 0,
    "start_time": "2022-07-02T09:46:52.853Z"
   },
   {
    "duration": 0,
    "start_time": "2022-07-02T09:46:52.870Z"
   },
   {
    "duration": 0,
    "start_time": "2022-07-02T09:46:52.872Z"
   },
   {
    "duration": 0,
    "start_time": "2022-07-02T09:46:52.874Z"
   },
   {
    "duration": 0,
    "start_time": "2022-07-02T09:46:52.875Z"
   },
   {
    "duration": 0,
    "start_time": "2022-07-02T09:46:52.876Z"
   },
   {
    "duration": 0,
    "start_time": "2022-07-02T09:46:52.878Z"
   },
   {
    "duration": 0,
    "start_time": "2022-07-02T09:46:52.879Z"
   },
   {
    "duration": 0,
    "start_time": "2022-07-02T09:46:52.880Z"
   },
   {
    "duration": 0,
    "start_time": "2022-07-02T09:46:52.881Z"
   },
   {
    "duration": 0,
    "start_time": "2022-07-02T09:46:52.883Z"
   },
   {
    "duration": 0,
    "start_time": "2022-07-02T09:46:52.884Z"
   },
   {
    "duration": 0,
    "start_time": "2022-07-02T09:46:52.886Z"
   },
   {
    "duration": 0,
    "start_time": "2022-07-02T09:46:52.887Z"
   },
   {
    "duration": 0,
    "start_time": "2022-07-02T09:46:52.888Z"
   },
   {
    "duration": 0,
    "start_time": "2022-07-02T09:46:52.890Z"
   },
   {
    "duration": 0,
    "start_time": "2022-07-02T09:46:52.891Z"
   },
   {
    "duration": 0,
    "start_time": "2022-07-02T09:46:52.892Z"
   },
   {
    "duration": 0,
    "start_time": "2022-07-02T09:46:52.894Z"
   },
   {
    "duration": 0,
    "start_time": "2022-07-02T09:46:52.895Z"
   },
   {
    "duration": 0,
    "start_time": "2022-07-02T09:46:52.897Z"
   },
   {
    "duration": 0,
    "start_time": "2022-07-02T09:46:52.898Z"
   },
   {
    "duration": 0,
    "start_time": "2022-07-02T09:46:52.899Z"
   },
   {
    "duration": 0,
    "start_time": "2022-07-02T09:46:52.901Z"
   },
   {
    "duration": 0,
    "start_time": "2022-07-02T09:46:52.902Z"
   },
   {
    "duration": 0,
    "start_time": "2022-07-02T09:46:52.904Z"
   },
   {
    "duration": 0,
    "start_time": "2022-07-02T09:46:52.906Z"
   },
   {
    "duration": 0,
    "start_time": "2022-07-02T09:46:52.929Z"
   },
   {
    "duration": 0,
    "start_time": "2022-07-02T09:46:52.931Z"
   },
   {
    "duration": 0,
    "start_time": "2022-07-02T09:46:52.932Z"
   },
   {
    "duration": 0,
    "start_time": "2022-07-02T09:46:52.934Z"
   },
   {
    "duration": 0,
    "start_time": "2022-07-02T09:46:52.935Z"
   },
   {
    "duration": 0,
    "start_time": "2022-07-02T09:46:52.936Z"
   },
   {
    "duration": 0,
    "start_time": "2022-07-02T09:46:52.949Z"
   },
   {
    "duration": 0,
    "start_time": "2022-07-02T09:46:52.957Z"
   },
   {
    "duration": 0,
    "start_time": "2022-07-02T09:46:52.959Z"
   },
   {
    "duration": 0,
    "start_time": "2022-07-02T09:46:52.965Z"
   },
   {
    "duration": 0,
    "start_time": "2022-07-02T09:46:52.973Z"
   },
   {
    "duration": 0,
    "start_time": "2022-07-02T09:46:52.976Z"
   },
   {
    "duration": 0,
    "start_time": "2022-07-02T09:46:52.985Z"
   },
   {
    "duration": 0,
    "start_time": "2022-07-02T09:46:52.988Z"
   },
   {
    "duration": 0,
    "start_time": "2022-07-02T09:46:53.009Z"
   },
   {
    "duration": 0,
    "start_time": "2022-07-02T09:46:53.011Z"
   },
   {
    "duration": 0,
    "start_time": "2022-07-02T09:46:53.012Z"
   },
   {
    "duration": 0,
    "start_time": "2022-07-02T09:46:53.012Z"
   },
   {
    "duration": 0,
    "start_time": "2022-07-02T09:46:53.015Z"
   },
   {
    "duration": 0,
    "start_time": "2022-07-02T09:46:53.016Z"
   },
   {
    "duration": 0,
    "start_time": "2022-07-02T09:46:53.016Z"
   },
   {
    "duration": 0,
    "start_time": "2022-07-02T09:46:53.022Z"
   },
   {
    "duration": 0,
    "start_time": "2022-07-02T09:46:53.023Z"
   },
   {
    "duration": 0,
    "start_time": "2022-07-02T09:46:53.024Z"
   },
   {
    "duration": 0,
    "start_time": "2022-07-02T09:46:53.025Z"
   },
   {
    "duration": 0,
    "start_time": "2022-07-02T09:46:53.026Z"
   },
   {
    "duration": 0,
    "start_time": "2022-07-02T09:46:53.027Z"
   },
   {
    "duration": 0,
    "start_time": "2022-07-02T09:46:53.045Z"
   },
   {
    "duration": 0,
    "start_time": "2022-07-02T09:46:53.046Z"
   },
   {
    "duration": 0,
    "start_time": "2022-07-02T09:46:53.047Z"
   },
   {
    "duration": 0,
    "start_time": "2022-07-02T09:46:53.048Z"
   },
   {
    "duration": 0,
    "start_time": "2022-07-02T09:46:53.049Z"
   },
   {
    "duration": 0,
    "start_time": "2022-07-02T09:46:53.058Z"
   },
   {
    "duration": 0,
    "start_time": "2022-07-02T09:46:53.059Z"
   },
   {
    "duration": 0,
    "start_time": "2022-07-02T09:46:53.060Z"
   },
   {
    "duration": 0,
    "start_time": "2022-07-02T09:46:53.061Z"
   },
   {
    "duration": 0,
    "start_time": "2022-07-02T09:46:53.066Z"
   },
   {
    "duration": 0,
    "start_time": "2022-07-02T09:46:53.067Z"
   },
   {
    "duration": 0,
    "start_time": "2022-07-02T09:46:53.073Z"
   },
   {
    "duration": 0,
    "start_time": "2022-07-02T09:46:53.074Z"
   },
   {
    "duration": 0,
    "start_time": "2022-07-02T09:46:53.075Z"
   },
   {
    "duration": 0,
    "start_time": "2022-07-02T09:46:53.076Z"
   },
   {
    "duration": 0,
    "start_time": "2022-07-02T09:46:53.077Z"
   },
   {
    "duration": 0,
    "start_time": "2022-07-02T09:46:53.083Z"
   },
   {
    "duration": 0,
    "start_time": "2022-07-02T09:46:53.084Z"
   },
   {
    "duration": 0,
    "start_time": "2022-07-02T09:46:53.085Z"
   },
   {
    "duration": 0,
    "start_time": "2022-07-02T09:46:53.086Z"
   },
   {
    "duration": 0,
    "start_time": "2022-07-02T09:46:53.087Z"
   },
   {
    "duration": 0,
    "start_time": "2022-07-02T09:46:53.098Z"
   },
   {
    "duration": 0,
    "start_time": "2022-07-02T09:46:53.104Z"
   },
   {
    "duration": 0,
    "start_time": "2022-07-02T09:46:53.107Z"
   },
   {
    "duration": 0,
    "start_time": "2022-07-02T09:46:53.111Z"
   },
   {
    "duration": 0,
    "start_time": "2022-07-02T09:46:53.114Z"
   },
   {
    "duration": 0,
    "start_time": "2022-07-02T09:46:53.117Z"
   },
   {
    "duration": 0,
    "start_time": "2022-07-02T09:46:53.120Z"
   },
   {
    "duration": 0,
    "start_time": "2022-07-02T09:46:53.126Z"
   },
   {
    "duration": 0,
    "start_time": "2022-07-02T09:46:53.127Z"
   },
   {
    "duration": 0,
    "start_time": "2022-07-02T09:46:53.131Z"
   },
   {
    "duration": 0,
    "start_time": "2022-07-02T09:46:53.132Z"
   },
   {
    "duration": 0,
    "start_time": "2022-07-02T09:46:53.136Z"
   },
   {
    "duration": 0,
    "start_time": "2022-07-02T09:46:53.139Z"
   },
   {
    "duration": 19,
    "start_time": "2022-07-02T09:47:59.798Z"
   },
   {
    "duration": 27,
    "start_time": "2022-07-02T09:48:39.886Z"
   },
   {
    "duration": 6,
    "start_time": "2022-07-02T09:48:48.093Z"
   },
   {
    "duration": 1181,
    "start_time": "2022-07-02T09:48:48.101Z"
   },
   {
    "duration": 13,
    "start_time": "2022-07-02T09:48:49.284Z"
   },
   {
    "duration": 240,
    "start_time": "2022-07-02T09:48:49.303Z"
   },
   {
    "duration": 145,
    "start_time": "2022-07-02T09:48:49.556Z"
   },
   {
    "duration": 196,
    "start_time": "2022-07-02T09:48:49.715Z"
   },
   {
    "duration": 91,
    "start_time": "2022-07-02T09:48:49.923Z"
   },
   {
    "duration": 165,
    "start_time": "2022-07-02T09:48:50.022Z"
   },
   {
    "duration": 204,
    "start_time": "2022-07-02T09:48:50.193Z"
   },
   {
    "duration": 137,
    "start_time": "2022-07-02T09:48:50.403Z"
   },
   {
    "duration": 173,
    "start_time": "2022-07-02T09:48:50.548Z"
   },
   {
    "duration": 178,
    "start_time": "2022-07-02T09:48:50.727Z"
   },
   {
    "duration": 173,
    "start_time": "2022-07-02T09:48:50.916Z"
   },
   {
    "duration": 143,
    "start_time": "2022-07-02T09:48:51.099Z"
   },
   {
    "duration": 102,
    "start_time": "2022-07-02T09:48:51.256Z"
   },
   {
    "duration": 173,
    "start_time": "2022-07-02T09:48:51.363Z"
   },
   {
    "duration": 71,
    "start_time": "2022-07-02T09:48:51.543Z"
   },
   {
    "duration": 131,
    "start_time": "2022-07-02T09:48:51.622Z"
   },
   {
    "duration": 177,
    "start_time": "2022-07-02T09:48:51.759Z"
   },
   {
    "duration": 94,
    "start_time": "2022-07-02T09:48:51.942Z"
   },
   {
    "duration": 259,
    "start_time": "2022-07-02T09:48:52.042Z"
   },
   {
    "duration": 8,
    "start_time": "2022-07-02T09:48:52.306Z"
   },
   {
    "duration": 142,
    "start_time": "2022-07-02T09:48:52.319Z"
   },
   {
    "duration": 213,
    "start_time": "2022-07-02T09:48:52.472Z"
   },
   {
    "duration": 241,
    "start_time": "2022-07-02T09:48:52.690Z"
   },
   {
    "duration": 197,
    "start_time": "2022-07-02T09:48:52.943Z"
   },
   {
    "duration": 53,
    "start_time": "2022-07-02T09:48:53.160Z"
   },
   {
    "duration": 214,
    "start_time": "2022-07-02T09:48:53.219Z"
   },
   {
    "duration": 92,
    "start_time": "2022-07-02T09:48:53.465Z"
   },
   {
    "duration": 103,
    "start_time": "2022-07-02T09:48:53.578Z"
   },
   {
    "duration": 120,
    "start_time": "2022-07-02T09:48:53.704Z"
   },
   {
    "duration": 147,
    "start_time": "2022-07-02T09:48:53.838Z"
   },
   {
    "duration": 152,
    "start_time": "2022-07-02T09:48:54.005Z"
   },
   {
    "duration": 171,
    "start_time": "2022-07-02T09:48:54.170Z"
   },
   {
    "duration": 194,
    "start_time": "2022-07-02T09:48:54.350Z"
   },
   {
    "duration": 209,
    "start_time": "2022-07-02T09:48:54.550Z"
   },
   {
    "duration": 212,
    "start_time": "2022-07-02T09:48:54.769Z"
   },
   {
    "duration": 191,
    "start_time": "2022-07-02T09:48:54.996Z"
   },
   {
    "duration": 212,
    "start_time": "2022-07-02T09:48:55.193Z"
   },
   {
    "duration": 148,
    "start_time": "2022-07-02T09:48:55.413Z"
   },
   {
    "duration": 148,
    "start_time": "2022-07-02T09:48:55.565Z"
   },
   {
    "duration": 118,
    "start_time": "2022-07-02T09:48:55.722Z"
   },
   {
    "duration": 112,
    "start_time": "2022-07-02T09:48:55.847Z"
   },
   {
    "duration": 204,
    "start_time": "2022-07-02T09:48:55.973Z"
   },
   {
    "duration": 127,
    "start_time": "2022-07-02T09:48:56.184Z"
   },
   {
    "duration": 135,
    "start_time": "2022-07-02T09:48:56.324Z"
   },
   {
    "duration": 168,
    "start_time": "2022-07-02T09:48:56.468Z"
   },
   {
    "duration": 151,
    "start_time": "2022-07-02T09:48:56.642Z"
   },
   {
    "duration": 128,
    "start_time": "2022-07-02T09:48:56.805Z"
   },
   {
    "duration": 107,
    "start_time": "2022-07-02T09:48:56.952Z"
   },
   {
    "duration": 159,
    "start_time": "2022-07-02T09:48:57.069Z"
   },
   {
    "duration": 193,
    "start_time": "2022-07-02T09:48:57.235Z"
   },
   {
    "duration": 138,
    "start_time": "2022-07-02T09:48:57.436Z"
   },
   {
    "duration": 84,
    "start_time": "2022-07-02T09:49:03.386Z"
   },
   {
    "duration": 3,
    "start_time": "2022-07-02T09:50:13.768Z"
   },
   {
    "duration": 3,
    "start_time": "2022-07-02T09:51:04.124Z"
   },
   {
    "duration": 4,
    "start_time": "2022-07-02T09:51:19.580Z"
   },
   {
    "duration": 3,
    "start_time": "2022-07-02T09:51:46.023Z"
   },
   {
    "duration": 54,
    "start_time": "2022-07-02T09:54:09.034Z"
   },
   {
    "duration": 34,
    "start_time": "2022-07-02T09:55:37.916Z"
   },
   {
    "duration": 9,
    "start_time": "2022-07-02T09:56:27.953Z"
   },
   {
    "duration": 21,
    "start_time": "2022-07-02T09:57:33.485Z"
   },
   {
    "duration": 63,
    "start_time": "2022-07-02T09:59:20.159Z"
   },
   {
    "duration": 17,
    "start_time": "2022-07-02T10:02:31.531Z"
   },
   {
    "duration": 9,
    "start_time": "2022-07-02T10:16:44.929Z"
   },
   {
    "duration": 25,
    "start_time": "2022-07-02T10:16:57.956Z"
   },
   {
    "duration": 11,
    "start_time": "2022-07-02T10:19:22.115Z"
   },
   {
    "duration": 12,
    "start_time": "2022-07-02T10:19:32.699Z"
   },
   {
    "duration": 13,
    "start_time": "2022-07-02T10:21:20.376Z"
   },
   {
    "duration": 91,
    "start_time": "2022-07-02T10:23:59.157Z"
   },
   {
    "duration": 94,
    "start_time": "2022-07-02T10:24:17.655Z"
   },
   {
    "duration": 74,
    "start_time": "2022-07-02T10:24:41.256Z"
   },
   {
    "duration": 132,
    "start_time": "2022-07-02T10:25:57.346Z"
   },
   {
    "duration": 29,
    "start_time": "2022-07-02T10:26:10.634Z"
   },
   {
    "duration": 11,
    "start_time": "2022-07-02T10:26:27.288Z"
   },
   {
    "duration": 24,
    "start_time": "2022-07-02T10:26:37.382Z"
   },
   {
    "duration": 20,
    "start_time": "2022-07-02T10:27:30.099Z"
   },
   {
    "duration": 7,
    "start_time": "2022-07-02T10:28:03.499Z"
   },
   {
    "duration": 6,
    "start_time": "2022-07-02T10:28:52.440Z"
   },
   {
    "duration": 10,
    "start_time": "2022-07-02T10:29:00.580Z"
   },
   {
    "duration": 3,
    "start_time": "2022-07-02T10:29:22.914Z"
   },
   {
    "duration": 566,
    "start_time": "2022-07-02T10:29:22.921Z"
   },
   {
    "duration": 7,
    "start_time": "2022-07-02T10:29:23.489Z"
   },
   {
    "duration": 41,
    "start_time": "2022-07-02T10:29:23.498Z"
   },
   {
    "duration": 14,
    "start_time": "2022-07-02T10:29:23.543Z"
   },
   {
    "duration": 37,
    "start_time": "2022-07-02T10:29:23.560Z"
   },
   {
    "duration": 6,
    "start_time": "2022-07-02T10:29:23.599Z"
   },
   {
    "duration": 9,
    "start_time": "2022-07-02T10:29:23.606Z"
   },
   {
    "duration": 36,
    "start_time": "2022-07-02T10:29:23.616Z"
   },
   {
    "duration": 27,
    "start_time": "2022-07-02T10:29:23.654Z"
   },
   {
    "duration": 13,
    "start_time": "2022-07-02T10:29:23.684Z"
   },
   {
    "duration": 12,
    "start_time": "2022-07-02T10:29:23.698Z"
   },
   {
    "duration": 21,
    "start_time": "2022-07-02T10:29:23.711Z"
   },
   {
    "duration": 51,
    "start_time": "2022-07-02T10:29:23.736Z"
   },
   {
    "duration": 5,
    "start_time": "2022-07-02T10:29:23.789Z"
   },
   {
    "duration": 20,
    "start_time": "2022-07-02T10:29:23.797Z"
   },
   {
    "duration": 36,
    "start_time": "2022-07-02T10:29:23.819Z"
   },
   {
    "duration": 43,
    "start_time": "2022-07-02T10:29:23.857Z"
   },
   {
    "duration": 54,
    "start_time": "2022-07-02T10:29:23.902Z"
   },
   {
    "duration": 3,
    "start_time": "2022-07-02T10:29:23.958Z"
   },
   {
    "duration": 124,
    "start_time": "2022-07-02T10:29:23.963Z"
   },
   {
    "duration": 5,
    "start_time": "2022-07-02T10:29:24.089Z"
   },
   {
    "duration": 21,
    "start_time": "2022-07-02T10:29:24.095Z"
   },
   {
    "duration": 27,
    "start_time": "2022-07-02T10:29:24.118Z"
   },
   {
    "duration": 37,
    "start_time": "2022-07-02T10:29:24.149Z"
   },
   {
    "duration": 43,
    "start_time": "2022-07-02T10:29:24.188Z"
   },
   {
    "duration": 6,
    "start_time": "2022-07-02T10:29:24.233Z"
   },
   {
    "duration": 44,
    "start_time": "2022-07-02T10:29:24.241Z"
   },
   {
    "duration": 6,
    "start_time": "2022-07-02T10:29:24.288Z"
   },
   {
    "duration": 9,
    "start_time": "2022-07-02T10:29:24.296Z"
   },
   {
    "duration": 6,
    "start_time": "2022-07-02T10:29:24.306Z"
   },
   {
    "duration": 5,
    "start_time": "2022-07-02T10:29:24.313Z"
   },
   {
    "duration": 12,
    "start_time": "2022-07-02T10:29:24.319Z"
   },
   {
    "duration": 64,
    "start_time": "2022-07-02T10:29:24.333Z"
   },
   {
    "duration": 7,
    "start_time": "2022-07-02T10:29:24.398Z"
   },
   {
    "duration": 7,
    "start_time": "2022-07-02T10:29:24.407Z"
   },
   {
    "duration": 7,
    "start_time": "2022-07-02T10:29:24.416Z"
   },
   {
    "duration": 42,
    "start_time": "2022-07-02T10:29:24.425Z"
   },
   {
    "duration": 27,
    "start_time": "2022-07-02T10:29:24.469Z"
   },
   {
    "duration": 5,
    "start_time": "2022-07-02T10:29:24.498Z"
   },
   {
    "duration": 39,
    "start_time": "2022-07-02T10:29:24.505Z"
   },
   {
    "duration": 20,
    "start_time": "2022-07-02T10:29:24.546Z"
   },
   {
    "duration": 26,
    "start_time": "2022-07-02T10:29:24.568Z"
   },
   {
    "duration": 6,
    "start_time": "2022-07-02T10:29:24.596Z"
   },
   {
    "duration": 15,
    "start_time": "2022-07-02T10:29:24.603Z"
   },
   {
    "duration": 9,
    "start_time": "2022-07-02T10:29:24.620Z"
   },
   {
    "duration": 35,
    "start_time": "2022-07-02T10:29:24.631Z"
   },
   {
    "duration": 21,
    "start_time": "2022-07-02T10:29:24.668Z"
   },
   {
    "duration": 14,
    "start_time": "2022-07-02T10:29:24.690Z"
   },
   {
    "duration": 6,
    "start_time": "2022-07-02T10:29:24.705Z"
   },
   {
    "duration": 7,
    "start_time": "2022-07-02T10:29:24.712Z"
   },
   {
    "duration": 62,
    "start_time": "2022-07-02T10:29:24.720Z"
   },
   {
    "duration": 31,
    "start_time": "2022-07-02T10:29:24.784Z"
   },
   {
    "duration": 70,
    "start_time": "2022-07-02T10:29:24.817Z"
   },
   {
    "duration": 4,
    "start_time": "2022-07-02T10:29:24.888Z"
   },
   {
    "duration": 24,
    "start_time": "2022-07-02T10:29:24.894Z"
   },
   {
    "duration": 55,
    "start_time": "2022-07-02T10:29:24.919Z"
   },
   {
    "duration": 9,
    "start_time": "2022-07-02T10:29:32.183Z"
   },
   {
    "duration": 8,
    "start_time": "2022-07-02T10:29:55.186Z"
   },
   {
    "duration": 1147,
    "start_time": "2022-07-02T10:30:23.279Z"
   },
   {
    "duration": 229,
    "start_time": "2022-07-02T10:32:26.490Z"
   },
   {
    "duration": 10,
    "start_time": "2022-07-02T10:34:35.311Z"
   },
   {
    "duration": 22,
    "start_time": "2022-07-02T10:36:16.355Z"
   },
   {
    "duration": 12,
    "start_time": "2022-07-02T10:36:32.471Z"
   },
   {
    "duration": 4,
    "start_time": "2022-07-02T10:36:44.287Z"
   },
   {
    "duration": 409,
    "start_time": "2022-07-02T10:36:44.294Z"
   },
   {
    "duration": 7,
    "start_time": "2022-07-02T10:36:44.705Z"
   },
   {
    "duration": 60,
    "start_time": "2022-07-02T10:36:44.714Z"
   },
   {
    "duration": 7,
    "start_time": "2022-07-02T10:36:44.777Z"
   },
   {
    "duration": 28,
    "start_time": "2022-07-02T10:36:44.786Z"
   },
   {
    "duration": 6,
    "start_time": "2022-07-02T10:36:44.815Z"
   },
   {
    "duration": 15,
    "start_time": "2022-07-02T10:36:44.822Z"
   },
   {
    "duration": 57,
    "start_time": "2022-07-02T10:36:44.839Z"
   },
   {
    "duration": 10,
    "start_time": "2022-07-02T10:36:44.898Z"
   },
   {
    "duration": 9,
    "start_time": "2022-07-02T10:36:44.911Z"
   },
   {
    "duration": 11,
    "start_time": "2022-07-02T10:36:44.922Z"
   },
   {
    "duration": 44,
    "start_time": "2022-07-02T10:36:44.934Z"
   },
   {
    "duration": 13,
    "start_time": "2022-07-02T10:36:44.980Z"
   },
   {
    "duration": 4,
    "start_time": "2022-07-02T10:36:44.995Z"
   },
   {
    "duration": 62,
    "start_time": "2022-07-02T10:36:45.001Z"
   },
   {
    "duration": 8,
    "start_time": "2022-07-02T10:36:45.066Z"
   },
   {
    "duration": 25,
    "start_time": "2022-07-02T10:36:45.076Z"
   },
   {
    "duration": 35,
    "start_time": "2022-07-02T10:36:45.103Z"
   },
   {
    "duration": 2,
    "start_time": "2022-07-02T10:36:45.141Z"
   },
   {
    "duration": 137,
    "start_time": "2022-07-02T10:36:45.146Z"
   },
   {
    "duration": 5,
    "start_time": "2022-07-02T10:36:45.284Z"
   },
   {
    "duration": 25,
    "start_time": "2022-07-02T10:36:45.291Z"
   },
   {
    "duration": 48,
    "start_time": "2022-07-02T10:36:45.318Z"
   },
   {
    "duration": 6,
    "start_time": "2022-07-02T10:36:45.371Z"
   },
   {
    "duration": 36,
    "start_time": "2022-07-02T10:36:45.379Z"
   },
   {
    "duration": 5,
    "start_time": "2022-07-02T10:36:45.417Z"
   },
   {
    "duration": 33,
    "start_time": "2022-07-02T10:36:45.433Z"
   },
   {
    "duration": 11,
    "start_time": "2022-07-02T10:36:45.469Z"
   },
   {
    "duration": 5,
    "start_time": "2022-07-02T10:36:45.481Z"
   },
   {
    "duration": 7,
    "start_time": "2022-07-02T10:36:45.487Z"
   },
   {
    "duration": 4,
    "start_time": "2022-07-02T10:36:45.496Z"
   },
   {
    "duration": 16,
    "start_time": "2022-07-02T10:36:45.501Z"
   },
   {
    "duration": 6,
    "start_time": "2022-07-02T10:36:45.519Z"
   },
   {
    "duration": 47,
    "start_time": "2022-07-02T10:36:45.528Z"
   },
   {
    "duration": 10,
    "start_time": "2022-07-02T10:36:45.577Z"
   },
   {
    "duration": 8,
    "start_time": "2022-07-02T10:36:45.589Z"
   },
   {
    "duration": 6,
    "start_time": "2022-07-02T10:36:45.598Z"
   },
   {
    "duration": 10,
    "start_time": "2022-07-02T10:36:45.606Z"
   },
   {
    "duration": 10,
    "start_time": "2022-07-02T10:36:45.617Z"
   },
   {
    "duration": 60,
    "start_time": "2022-07-02T10:36:45.633Z"
   },
   {
    "duration": 12,
    "start_time": "2022-07-02T10:36:45.695Z"
   },
   {
    "duration": 11,
    "start_time": "2022-07-02T10:36:45.710Z"
   },
   {
    "duration": 19,
    "start_time": "2022-07-02T10:36:45.724Z"
   },
   {
    "duration": 40,
    "start_time": "2022-07-02T10:36:45.747Z"
   },
   {
    "duration": 4,
    "start_time": "2022-07-02T10:36:45.789Z"
   },
   {
    "duration": 6,
    "start_time": "2022-07-02T10:36:45.794Z"
   },
   {
    "duration": 11,
    "start_time": "2022-07-02T10:36:45.801Z"
   },
   {
    "duration": 13,
    "start_time": "2022-07-02T10:36:45.813Z"
   },
   {
    "duration": 12,
    "start_time": "2022-07-02T10:36:45.833Z"
   },
   {
    "duration": 26,
    "start_time": "2022-07-02T10:36:45.849Z"
   },
   {
    "duration": 23,
    "start_time": "2022-07-02T10:36:45.876Z"
   },
   {
    "duration": 24,
    "start_time": "2022-07-02T10:36:45.900Z"
   },
   {
    "duration": 46,
    "start_time": "2022-07-02T10:36:52.563Z"
   },
   {
    "duration": 13,
    "start_time": "2022-07-02T10:41:00.697Z"
   },
   {
    "duration": 14,
    "start_time": "2022-07-02T10:41:12.452Z"
   },
   {
    "duration": 567,
    "start_time": "2022-07-02T10:41:12.469Z"
   },
   {
    "duration": 9,
    "start_time": "2022-07-02T10:41:13.038Z"
   },
   {
    "duration": 61,
    "start_time": "2022-07-02T10:41:13.048Z"
   },
   {
    "duration": 9,
    "start_time": "2022-07-02T10:41:13.112Z"
   },
   {
    "duration": 71,
    "start_time": "2022-07-02T10:41:13.123Z"
   },
   {
    "duration": 7,
    "start_time": "2022-07-02T10:41:13.196Z"
   },
   {
    "duration": 16,
    "start_time": "2022-07-02T10:41:13.206Z"
   },
   {
    "duration": 96,
    "start_time": "2022-07-02T10:41:13.225Z"
   },
   {
    "duration": 43,
    "start_time": "2022-07-02T10:41:13.324Z"
   },
   {
    "duration": 26,
    "start_time": "2022-07-02T10:41:13.370Z"
   },
   {
    "duration": 14,
    "start_time": "2022-07-02T10:41:13.398Z"
   },
   {
    "duration": 14,
    "start_time": "2022-07-02T10:41:13.414Z"
   },
   {
    "duration": 68,
    "start_time": "2022-07-02T10:41:13.432Z"
   },
   {
    "duration": 6,
    "start_time": "2022-07-02T10:41:13.502Z"
   },
   {
    "duration": 9,
    "start_time": "2022-07-02T10:41:13.510Z"
   },
   {
    "duration": 19,
    "start_time": "2022-07-02T10:41:13.520Z"
   },
   {
    "duration": 68,
    "start_time": "2022-07-02T10:41:13.541Z"
   },
   {
    "duration": 71,
    "start_time": "2022-07-02T10:41:13.611Z"
   },
   {
    "duration": 3,
    "start_time": "2022-07-02T10:41:13.685Z"
   },
   {
    "duration": 110,
    "start_time": "2022-07-02T10:41:13.690Z"
   },
   {
    "duration": 12,
    "start_time": "2022-07-02T10:41:13.803Z"
   },
   {
    "duration": 21,
    "start_time": "2022-07-02T10:41:13.818Z"
   },
   {
    "duration": 66,
    "start_time": "2022-07-02T10:41:13.841Z"
   },
   {
    "duration": 9,
    "start_time": "2022-07-02T10:41:13.909Z"
   },
   {
    "duration": 90,
    "start_time": "2022-07-02T10:41:13.921Z"
   },
   {
    "duration": 7,
    "start_time": "2022-07-02T10:41:14.014Z"
   },
   {
    "duration": 22,
    "start_time": "2022-07-02T10:41:14.023Z"
   },
   {
    "duration": 47,
    "start_time": "2022-07-02T10:41:14.047Z"
   },
   {
    "duration": 6,
    "start_time": "2022-07-02T10:41:14.096Z"
   },
   {
    "duration": 10,
    "start_time": "2022-07-02T10:41:14.104Z"
   },
   {
    "duration": 6,
    "start_time": "2022-07-02T10:41:14.116Z"
   },
   {
    "duration": 57,
    "start_time": "2022-07-02T10:41:14.129Z"
   },
   {
    "duration": 8,
    "start_time": "2022-07-02T10:41:14.188Z"
   },
   {
    "duration": 11,
    "start_time": "2022-07-02T10:41:14.198Z"
   },
   {
    "duration": 7,
    "start_time": "2022-07-02T10:41:14.211Z"
   },
   {
    "duration": 17,
    "start_time": "2022-07-02T10:41:14.220Z"
   },
   {
    "duration": 51,
    "start_time": "2022-07-02T10:41:14.239Z"
   },
   {
    "duration": 14,
    "start_time": "2022-07-02T10:41:14.292Z"
   },
   {
    "duration": 7,
    "start_time": "2022-07-02T10:41:14.308Z"
   },
   {
    "duration": 49,
    "start_time": "2022-07-02T10:41:14.320Z"
   },
   {
    "duration": 36,
    "start_time": "2022-07-02T10:41:14.370Z"
   },
   {
    "duration": 10,
    "start_time": "2022-07-02T10:41:14.408Z"
   },
   {
    "duration": 4,
    "start_time": "2022-07-02T10:41:14.420Z"
   },
   {
    "duration": 73,
    "start_time": "2022-07-02T10:41:14.426Z"
   },
   {
    "duration": 7,
    "start_time": "2022-07-02T10:41:14.501Z"
   },
   {
    "duration": 7,
    "start_time": "2022-07-02T10:41:14.509Z"
   },
   {
    "duration": 19,
    "start_time": "2022-07-02T10:41:14.517Z"
   },
   {
    "duration": 52,
    "start_time": "2022-07-02T10:41:14.543Z"
   },
   {
    "duration": 8,
    "start_time": "2022-07-02T10:41:14.598Z"
   },
   {
    "duration": 9,
    "start_time": "2022-07-02T10:41:14.607Z"
   },
   {
    "duration": 50,
    "start_time": "2022-07-02T10:41:14.618Z"
   },
   {
    "duration": 34,
    "start_time": "2022-07-02T10:41:14.682Z"
   },
   {
    "duration": 69,
    "start_time": "2022-07-02T10:41:30.447Z"
   },
   {
    "duration": 20,
    "start_time": "2022-07-02T10:42:30.279Z"
   },
   {
    "duration": 27,
    "start_time": "2022-07-02T10:42:50.884Z"
   },
   {
    "duration": 16,
    "start_time": "2022-07-02T10:43:52.185Z"
   },
   {
    "duration": 3,
    "start_time": "2022-07-02T10:44:04.500Z"
   },
   {
    "duration": 570,
    "start_time": "2022-07-02T10:44:04.509Z"
   },
   {
    "duration": 9,
    "start_time": "2022-07-02T10:44:05.081Z"
   },
   {
    "duration": 69,
    "start_time": "2022-07-02T10:44:05.092Z"
   },
   {
    "duration": 12,
    "start_time": "2022-07-02T10:44:05.168Z"
   },
   {
    "duration": 24,
    "start_time": "2022-07-02T10:44:05.185Z"
   },
   {
    "duration": 8,
    "start_time": "2022-07-02T10:44:05.211Z"
   },
   {
    "duration": 38,
    "start_time": "2022-07-02T10:44:05.221Z"
   },
   {
    "duration": 54,
    "start_time": "2022-07-02T10:44:05.262Z"
   },
   {
    "duration": 12,
    "start_time": "2022-07-02T10:44:05.318Z"
   },
   {
    "duration": 48,
    "start_time": "2022-07-02T10:44:05.338Z"
   },
   {
    "duration": 9,
    "start_time": "2022-07-02T10:44:05.388Z"
   },
   {
    "duration": 14,
    "start_time": "2022-07-02T10:44:05.399Z"
   },
   {
    "duration": 30,
    "start_time": "2022-07-02T10:44:05.414Z"
   },
   {
    "duration": 12,
    "start_time": "2022-07-02T10:44:05.450Z"
   },
   {
    "duration": 17,
    "start_time": "2022-07-02T10:44:05.463Z"
   },
   {
    "duration": 9,
    "start_time": "2022-07-02T10:44:05.482Z"
   },
   {
    "duration": 59,
    "start_time": "2022-07-02T10:44:05.493Z"
   },
   {
    "duration": 53,
    "start_time": "2022-07-02T10:44:05.554Z"
   },
   {
    "duration": 3,
    "start_time": "2022-07-02T10:44:05.609Z"
   },
   {
    "duration": 108,
    "start_time": "2022-07-02T10:44:05.614Z"
   },
   {
    "duration": 15,
    "start_time": "2022-07-02T10:44:05.723Z"
   },
   {
    "duration": 51,
    "start_time": "2022-07-02T10:44:05.741Z"
   },
   {
    "duration": 18,
    "start_time": "2022-07-02T10:44:05.794Z"
   },
   {
    "duration": 4,
    "start_time": "2022-07-02T10:44:05.814Z"
   },
   {
    "duration": 69,
    "start_time": "2022-07-02T10:44:05.820Z"
   },
   {
    "duration": 5,
    "start_time": "2022-07-02T10:44:05.891Z"
   },
   {
    "duration": 8,
    "start_time": "2022-07-02T10:44:05.898Z"
   },
   {
    "duration": 9,
    "start_time": "2022-07-02T10:44:05.910Z"
   },
   {
    "duration": 20,
    "start_time": "2022-07-02T10:44:05.920Z"
   },
   {
    "duration": 41,
    "start_time": "2022-07-02T10:44:05.942Z"
   },
   {
    "duration": 6,
    "start_time": "2022-07-02T10:44:05.985Z"
   },
   {
    "duration": 9,
    "start_time": "2022-07-02T10:44:05.992Z"
   },
   {
    "duration": 14,
    "start_time": "2022-07-02T10:44:06.002Z"
   },
   {
    "duration": 56,
    "start_time": "2022-07-02T10:44:06.018Z"
   },
   {
    "duration": 8,
    "start_time": "2022-07-02T10:44:06.076Z"
   },
   {
    "duration": 8,
    "start_time": "2022-07-02T10:44:06.086Z"
   },
   {
    "duration": 8,
    "start_time": "2022-07-02T10:44:06.095Z"
   },
   {
    "duration": 11,
    "start_time": "2022-07-02T10:44:06.104Z"
   },
   {
    "duration": 8,
    "start_time": "2022-07-02T10:44:06.117Z"
   },
   {
    "duration": 68,
    "start_time": "2022-07-02T10:44:06.126Z"
   },
   {
    "duration": 15,
    "start_time": "2022-07-02T10:44:06.197Z"
   },
   {
    "duration": 8,
    "start_time": "2022-07-02T10:44:06.214Z"
   },
   {
    "duration": 4,
    "start_time": "2022-07-02T10:44:06.224Z"
   },
   {
    "duration": 15,
    "start_time": "2022-07-02T10:44:06.234Z"
   },
   {
    "duration": 50,
    "start_time": "2022-07-02T10:44:06.250Z"
   },
   {
    "duration": 14,
    "start_time": "2022-07-02T10:44:06.302Z"
   },
   {
    "duration": 24,
    "start_time": "2022-07-02T10:44:06.318Z"
   },
   {
    "duration": 45,
    "start_time": "2022-07-02T10:44:06.343Z"
   },
   {
    "duration": 16,
    "start_time": "2022-07-02T10:44:06.390Z"
   },
   {
    "duration": 10,
    "start_time": "2022-07-02T10:44:06.409Z"
   },
   {
    "duration": 39,
    "start_time": "2022-07-02T10:44:06.421Z"
   },
   {
    "duration": 63,
    "start_time": "2022-07-02T10:44:06.461Z"
   },
   {
    "duration": 89,
    "start_time": "2022-07-02T10:44:06.526Z"
   },
   {
    "duration": 33,
    "start_time": "2022-07-02T10:44:06.617Z"
   },
   {
    "duration": 56,
    "start_time": "2022-07-02T10:44:06.655Z"
   },
   {
    "duration": 22,
    "start_time": "2022-07-02T10:44:14.294Z"
   },
   {
    "duration": 17,
    "start_time": "2022-07-02T10:46:57.318Z"
   },
   {
    "duration": 17,
    "start_time": "2022-07-02T10:48:04.054Z"
   },
   {
    "duration": 28,
    "start_time": "2022-07-02T10:48:07.451Z"
   },
   {
    "duration": 58,
    "start_time": "2022-07-02T10:48:08.028Z"
   },
   {
    "duration": 10,
    "start_time": "2022-07-02T10:49:27.597Z"
   },
   {
    "duration": 15,
    "start_time": "2022-07-02T10:52:26.870Z"
   },
   {
    "duration": 15,
    "start_time": "2022-07-02T10:54:24.112Z"
   },
   {
    "duration": 8,
    "start_time": "2022-07-02T10:58:17.186Z"
   },
   {
    "duration": 5,
    "start_time": "2022-07-02T10:58:21.818Z"
   },
   {
    "duration": 2,
    "start_time": "2022-07-02T10:58:43.488Z"
   },
   {
    "duration": 3,
    "start_time": "2022-07-02T10:59:03.754Z"
   },
   {
    "duration": 3,
    "start_time": "2022-07-02T10:59:30.136Z"
   },
   {
    "duration": 8,
    "start_time": "2022-07-02T11:03:47.654Z"
   },
   {
    "duration": 11,
    "start_time": "2022-07-02T11:04:36.301Z"
   },
   {
    "duration": 17,
    "start_time": "2022-07-02T11:04:50.643Z"
   },
   {
    "duration": 9,
    "start_time": "2022-07-02T11:05:00.503Z"
   },
   {
    "duration": 4,
    "start_time": "2022-07-02T11:05:30.821Z"
   },
   {
    "duration": 4,
    "start_time": "2022-07-02T11:05:42.680Z"
   },
   {
    "duration": 444,
    "start_time": "2022-07-02T11:05:42.689Z"
   },
   {
    "duration": 9,
    "start_time": "2022-07-02T11:05:43.135Z"
   },
   {
    "duration": 37,
    "start_time": "2022-07-02T11:05:43.146Z"
   },
   {
    "duration": 10,
    "start_time": "2022-07-02T11:05:43.186Z"
   },
   {
    "duration": 48,
    "start_time": "2022-07-02T11:05:43.198Z"
   },
   {
    "duration": 11,
    "start_time": "2022-07-02T11:05:43.248Z"
   },
   {
    "duration": 14,
    "start_time": "2022-07-02T11:05:43.261Z"
   },
   {
    "duration": 30,
    "start_time": "2022-07-02T11:05:43.277Z"
   },
   {
    "duration": 8,
    "start_time": "2022-07-02T11:05:43.310Z"
   },
   {
    "duration": 31,
    "start_time": "2022-07-02T11:05:43.321Z"
   },
   {
    "duration": 11,
    "start_time": "2022-07-02T11:05:43.353Z"
   },
   {
    "duration": 14,
    "start_time": "2022-07-02T11:05:43.366Z"
   },
   {
    "duration": 16,
    "start_time": "2022-07-02T11:05:43.381Z"
   },
   {
    "duration": 5,
    "start_time": "2022-07-02T11:05:43.399Z"
   },
   {
    "duration": 36,
    "start_time": "2022-07-02T11:05:43.405Z"
   },
   {
    "duration": 9,
    "start_time": "2022-07-02T11:05:43.443Z"
   },
   {
    "duration": 26,
    "start_time": "2022-07-02T11:05:43.454Z"
   },
   {
    "duration": 34,
    "start_time": "2022-07-02T11:05:43.482Z"
   },
   {
    "duration": 3,
    "start_time": "2022-07-02T11:05:43.517Z"
   },
   {
    "duration": 79,
    "start_time": "2022-07-02T11:05:43.528Z"
   },
   {
    "duration": 4,
    "start_time": "2022-07-02T11:05:43.609Z"
   },
   {
    "duration": 33,
    "start_time": "2022-07-02T11:05:43.615Z"
   },
   {
    "duration": 20,
    "start_time": "2022-07-02T11:05:43.649Z"
   },
   {
    "duration": 5,
    "start_time": "2022-07-02T11:05:43.670Z"
   },
   {
    "duration": 60,
    "start_time": "2022-07-02T11:05:43.676Z"
   },
   {
    "duration": 6,
    "start_time": "2022-07-02T11:05:43.737Z"
   },
   {
    "duration": 8,
    "start_time": "2022-07-02T11:05:43.747Z"
   },
   {
    "duration": 10,
    "start_time": "2022-07-02T11:05:43.759Z"
   },
   {
    "duration": 6,
    "start_time": "2022-07-02T11:05:43.771Z"
   },
   {
    "duration": 7,
    "start_time": "2022-07-02T11:05:43.778Z"
   },
   {
    "duration": 5,
    "start_time": "2022-07-02T11:05:43.787Z"
   },
   {
    "duration": 45,
    "start_time": "2022-07-02T11:05:43.793Z"
   },
   {
    "duration": 7,
    "start_time": "2022-07-02T11:05:43.846Z"
   },
   {
    "duration": 10,
    "start_time": "2022-07-02T11:05:43.855Z"
   },
   {
    "duration": 8,
    "start_time": "2022-07-02T11:05:43.866Z"
   },
   {
    "duration": 25,
    "start_time": "2022-07-02T11:05:43.876Z"
   },
   {
    "duration": 9,
    "start_time": "2022-07-02T11:05:43.904Z"
   },
   {
    "duration": 11,
    "start_time": "2022-07-02T11:05:43.914Z"
   },
   {
    "duration": 22,
    "start_time": "2022-07-02T11:05:43.927Z"
   },
   {
    "duration": 25,
    "start_time": "2022-07-02T11:05:43.951Z"
   },
   {
    "duration": 13,
    "start_time": "2022-07-02T11:05:43.978Z"
   },
   {
    "duration": 6,
    "start_time": "2022-07-02T11:05:43.993Z"
   },
   {
    "duration": 6,
    "start_time": "2022-07-02T11:05:44.000Z"
   },
   {
    "duration": 35,
    "start_time": "2022-07-02T11:05:44.007Z"
   },
   {
    "duration": 5,
    "start_time": "2022-07-02T11:05:44.044Z"
   },
   {
    "duration": 6,
    "start_time": "2022-07-02T11:05:44.051Z"
   },
   {
    "duration": 15,
    "start_time": "2022-07-02T11:05:44.059Z"
   },
   {
    "duration": 13,
    "start_time": "2022-07-02T11:05:44.076Z"
   },
   {
    "duration": 5,
    "start_time": "2022-07-02T11:05:44.091Z"
   },
   {
    "duration": 35,
    "start_time": "2022-07-02T11:05:44.098Z"
   },
   {
    "duration": 32,
    "start_time": "2022-07-02T11:05:44.135Z"
   },
   {
    "duration": 28,
    "start_time": "2022-07-02T11:05:44.169Z"
   },
   {
    "duration": 56,
    "start_time": "2022-07-02T11:05:44.198Z"
   },
   {
    "duration": 14,
    "start_time": "2022-07-02T11:05:44.256Z"
   },
   {
    "duration": 6,
    "start_time": "2022-07-02T11:05:44.271Z"
   },
   {
    "duration": 22,
    "start_time": "2022-07-02T11:05:44.279Z"
   },
   {
    "duration": 45,
    "start_time": "2022-07-02T11:05:44.303Z"
   },
   {
    "duration": 12,
    "start_time": "2022-07-02T11:05:44.350Z"
   },
   {
    "duration": 3,
    "start_time": "2022-07-02T11:05:44.364Z"
   },
   {
    "duration": 26,
    "start_time": "2022-07-02T11:05:44.368Z"
   },
   {
    "duration": 58,
    "start_time": "2022-07-02T11:05:44.396Z"
   },
   {
    "duration": 9,
    "start_time": "2022-07-02T11:05:44.455Z"
   },
   {
    "duration": 15,
    "start_time": "2022-07-02T11:05:44.466Z"
   },
   {
    "duration": 2,
    "start_time": "2022-07-02T11:05:44.483Z"
   },
   {
    "duration": 3,
    "start_time": "2022-07-02T11:05:53.021Z"
   },
   {
    "duration": 4,
    "start_time": "2022-07-02T11:05:54.175Z"
   },
   {
    "duration": 8,
    "start_time": "2022-07-02T11:05:59.596Z"
   },
   {
    "duration": 3,
    "start_time": "2022-07-02T11:06:08.099Z"
   },
   {
    "duration": 8,
    "start_time": "2022-07-02T11:06:34.342Z"
   },
   {
    "duration": 4,
    "start_time": "2022-07-02T11:06:38.483Z"
   },
   {
    "duration": 3,
    "start_time": "2022-07-02T11:06:50.709Z"
   },
   {
    "duration": 5,
    "start_time": "2022-07-02T11:07:04.187Z"
   },
   {
    "duration": 5,
    "start_time": "2022-07-02T11:07:06.462Z"
   },
   {
    "duration": 3,
    "start_time": "2022-07-02T11:08:24.065Z"
   },
   {
    "duration": 426,
    "start_time": "2022-07-02T11:08:24.071Z"
   },
   {
    "duration": 6,
    "start_time": "2022-07-02T11:08:24.499Z"
   },
   {
    "duration": 43,
    "start_time": "2022-07-02T11:08:24.507Z"
   },
   {
    "duration": 8,
    "start_time": "2022-07-02T11:08:24.551Z"
   },
   {
    "duration": 26,
    "start_time": "2022-07-02T11:08:24.560Z"
   },
   {
    "duration": 7,
    "start_time": "2022-07-02T11:08:24.587Z"
   },
   {
    "duration": 31,
    "start_time": "2022-07-02T11:08:24.596Z"
   },
   {
    "duration": 38,
    "start_time": "2022-07-02T11:08:24.629Z"
   },
   {
    "duration": 7,
    "start_time": "2022-07-02T11:08:24.669Z"
   },
   {
    "duration": 12,
    "start_time": "2022-07-02T11:08:24.679Z"
   },
   {
    "duration": 14,
    "start_time": "2022-07-02T11:08:24.692Z"
   },
   {
    "duration": 14,
    "start_time": "2022-07-02T11:08:24.708Z"
   },
   {
    "duration": 42,
    "start_time": "2022-07-02T11:08:24.727Z"
   },
   {
    "duration": 6,
    "start_time": "2022-07-02T11:08:24.770Z"
   },
   {
    "duration": 12,
    "start_time": "2022-07-02T11:08:24.778Z"
   },
   {
    "duration": 8,
    "start_time": "2022-07-02T11:08:24.791Z"
   },
   {
    "duration": 41,
    "start_time": "2022-07-02T11:08:24.800Z"
   },
   {
    "duration": 35,
    "start_time": "2022-07-02T11:08:24.843Z"
   },
   {
    "duration": 2,
    "start_time": "2022-07-02T11:08:24.880Z"
   },
   {
    "duration": 92,
    "start_time": "2022-07-02T11:08:24.884Z"
   },
   {
    "duration": 5,
    "start_time": "2022-07-02T11:08:24.978Z"
   },
   {
    "duration": 20,
    "start_time": "2022-07-02T11:08:24.984Z"
   },
   {
    "duration": 41,
    "start_time": "2022-07-02T11:08:25.006Z"
   },
   {
    "duration": 5,
    "start_time": "2022-07-02T11:08:25.049Z"
   },
   {
    "duration": 40,
    "start_time": "2022-07-02T11:08:25.055Z"
   },
   {
    "duration": 4,
    "start_time": "2022-07-02T11:08:25.097Z"
   },
   {
    "duration": 7,
    "start_time": "2022-07-02T11:08:25.103Z"
   },
   {
    "duration": 20,
    "start_time": "2022-07-02T11:08:25.129Z"
   },
   {
    "duration": 10,
    "start_time": "2022-07-02T11:08:25.151Z"
   },
   {
    "duration": 8,
    "start_time": "2022-07-02T11:08:25.163Z"
   },
   {
    "duration": 8,
    "start_time": "2022-07-02T11:08:25.172Z"
   },
   {
    "duration": 6,
    "start_time": "2022-07-02T11:08:25.182Z"
   },
   {
    "duration": 7,
    "start_time": "2022-07-02T11:08:25.189Z"
   },
   {
    "duration": 15,
    "start_time": "2022-07-02T11:08:25.197Z"
   },
   {
    "duration": 29,
    "start_time": "2022-07-02T11:08:25.214Z"
   },
   {
    "duration": 11,
    "start_time": "2022-07-02T11:08:25.244Z"
   },
   {
    "duration": 8,
    "start_time": "2022-07-02T11:08:25.256Z"
   },
   {
    "duration": 14,
    "start_time": "2022-07-02T11:08:25.266Z"
   },
   {
    "duration": 19,
    "start_time": "2022-07-02T11:08:25.282Z"
   },
   {
    "duration": 38,
    "start_time": "2022-07-02T11:08:25.303Z"
   },
   {
    "duration": 13,
    "start_time": "2022-07-02T11:08:25.343Z"
   },
   {
    "duration": 6,
    "start_time": "2022-07-02T11:08:25.357Z"
   },
   {
    "duration": 5,
    "start_time": "2022-07-02T11:08:25.364Z"
   },
   {
    "duration": 15,
    "start_time": "2022-07-02T11:08:25.371Z"
   },
   {
    "duration": 8,
    "start_time": "2022-07-02T11:08:25.388Z"
   },
   {
    "duration": 6,
    "start_time": "2022-07-02T11:08:25.398Z"
   },
   {
    "duration": 13,
    "start_time": "2022-07-02T11:08:25.431Z"
   },
   {
    "duration": 16,
    "start_time": "2022-07-02T11:08:25.446Z"
   },
   {
    "duration": 5,
    "start_time": "2022-07-02T11:08:25.464Z"
   },
   {
    "duration": 3,
    "start_time": "2022-07-02T11:08:25.471Z"
   },
   {
    "duration": 54,
    "start_time": "2022-07-02T11:08:25.476Z"
   },
   {
    "duration": 35,
    "start_time": "2022-07-02T11:08:25.532Z"
   },
   {
    "duration": 61,
    "start_time": "2022-07-02T11:08:25.568Z"
   },
   {
    "duration": 17,
    "start_time": "2022-07-02T11:08:25.632Z"
   },
   {
    "duration": 7,
    "start_time": "2022-07-02T11:08:25.650Z"
   },
   {
    "duration": 21,
    "start_time": "2022-07-02T11:08:25.659Z"
   },
   {
    "duration": 20,
    "start_time": "2022-07-02T11:08:25.681Z"
   },
   {
    "duration": 19,
    "start_time": "2022-07-02T11:08:25.729Z"
   },
   {
    "duration": 11,
    "start_time": "2022-07-02T11:08:25.750Z"
   },
   {
    "duration": 28,
    "start_time": "2022-07-02T11:08:25.763Z"
   },
   {
    "duration": 57,
    "start_time": "2022-07-02T11:08:25.793Z"
   },
   {
    "duration": 10,
    "start_time": "2022-07-02T11:08:25.852Z"
   },
   {
    "duration": 19,
    "start_time": "2022-07-02T11:08:25.865Z"
   },
   {
    "duration": 3,
    "start_time": "2022-07-02T11:08:25.886Z"
   },
   {
    "duration": 10,
    "start_time": "2022-07-02T11:08:25.891Z"
   },
   {
    "duration": 4,
    "start_time": "2022-07-02T11:08:31.643Z"
   },
   {
    "duration": 9,
    "start_time": "2022-07-02T11:08:32.939Z"
   },
   {
    "duration": 5,
    "start_time": "2022-07-02T11:08:33.898Z"
   },
   {
    "duration": 5,
    "start_time": "2022-07-02T11:08:35.661Z"
   },
   {
    "duration": 11,
    "start_time": "2022-07-02T11:09:36.630Z"
   },
   {
    "duration": 4,
    "start_time": "2022-07-02T11:09:46.093Z"
   },
   {
    "duration": 19,
    "start_time": "2022-07-02T11:14:46.515Z"
   },
   {
    "duration": 12,
    "start_time": "2022-07-02T11:20:06.177Z"
   },
   {
    "duration": 4,
    "start_time": "2022-07-02T11:20:16.508Z"
   },
   {
    "duration": 451,
    "start_time": "2022-07-02T11:20:16.516Z"
   },
   {
    "duration": 8,
    "start_time": "2022-07-02T11:20:16.968Z"
   },
   {
    "duration": 29,
    "start_time": "2022-07-02T11:20:16.977Z"
   },
   {
    "duration": 8,
    "start_time": "2022-07-02T11:20:17.008Z"
   },
   {
    "duration": 36,
    "start_time": "2022-07-02T11:20:17.018Z"
   },
   {
    "duration": 6,
    "start_time": "2022-07-02T11:20:17.056Z"
   },
   {
    "duration": 15,
    "start_time": "2022-07-02T11:20:17.063Z"
   },
   {
    "duration": 21,
    "start_time": "2022-07-02T11:20:17.079Z"
   },
   {
    "duration": 7,
    "start_time": "2022-07-02T11:20:17.102Z"
   },
   {
    "duration": 14,
    "start_time": "2022-07-02T11:20:17.135Z"
   },
   {
    "duration": 9,
    "start_time": "2022-07-02T11:20:17.151Z"
   },
   {
    "duration": 12,
    "start_time": "2022-07-02T11:20:17.162Z"
   },
   {
    "duration": 16,
    "start_time": "2022-07-02T11:20:17.175Z"
   },
   {
    "duration": 5,
    "start_time": "2022-07-02T11:20:17.193Z"
   },
   {
    "duration": 33,
    "start_time": "2022-07-02T11:20:17.199Z"
   },
   {
    "duration": 16,
    "start_time": "2022-07-02T11:20:17.234Z"
   },
   {
    "duration": 38,
    "start_time": "2022-07-02T11:20:17.252Z"
   },
   {
    "duration": 31,
    "start_time": "2022-07-02T11:20:17.292Z"
   },
   {
    "duration": 6,
    "start_time": "2022-07-02T11:20:17.325Z"
   },
   {
    "duration": 79,
    "start_time": "2022-07-02T11:20:17.336Z"
   },
   {
    "duration": 5,
    "start_time": "2022-07-02T11:20:17.416Z"
   },
   {
    "duration": 24,
    "start_time": "2022-07-02T11:20:17.430Z"
   },
   {
    "duration": 19,
    "start_time": "2022-07-02T11:20:17.455Z"
   },
   {
    "duration": 4,
    "start_time": "2022-07-02T11:20:17.476Z"
   },
   {
    "duration": 68,
    "start_time": "2022-07-02T11:20:17.482Z"
   },
   {
    "duration": 5,
    "start_time": "2022-07-02T11:20:17.553Z"
   },
   {
    "duration": 10,
    "start_time": "2022-07-02T11:20:17.560Z"
   },
   {
    "duration": 8,
    "start_time": "2022-07-02T11:20:17.575Z"
   },
   {
    "duration": 8,
    "start_time": "2022-07-02T11:20:17.584Z"
   },
   {
    "duration": 40,
    "start_time": "2022-07-02T11:20:17.594Z"
   },
   {
    "duration": 9,
    "start_time": "2022-07-02T11:20:17.637Z"
   },
   {
    "duration": 10,
    "start_time": "2022-07-02T11:20:17.647Z"
   },
   {
    "duration": 7,
    "start_time": "2022-07-02T11:20:17.659Z"
   },
   {
    "duration": 6,
    "start_time": "2022-07-02T11:20:17.668Z"
   },
   {
    "duration": 9,
    "start_time": "2022-07-02T11:20:17.676Z"
   },
   {
    "duration": 7,
    "start_time": "2022-07-02T11:20:17.686Z"
   },
   {
    "duration": 41,
    "start_time": "2022-07-02T11:20:17.695Z"
   },
   {
    "duration": 18,
    "start_time": "2022-07-02T11:20:17.739Z"
   },
   {
    "duration": 5,
    "start_time": "2022-07-02T11:20:17.759Z"
   },
   {
    "duration": 25,
    "start_time": "2022-07-02T11:20:17.766Z"
   },
   {
    "duration": 13,
    "start_time": "2022-07-02T11:20:17.793Z"
   },
   {
    "duration": 24,
    "start_time": "2022-07-02T11:20:17.807Z"
   },
   {
    "duration": 7,
    "start_time": "2022-07-02T11:20:17.833Z"
   },
   {
    "duration": 18,
    "start_time": "2022-07-02T11:20:17.842Z"
   },
   {
    "duration": 6,
    "start_time": "2022-07-02T11:20:17.861Z"
   },
   {
    "duration": 8,
    "start_time": "2022-07-02T11:20:17.868Z"
   },
   {
    "duration": 14,
    "start_time": "2022-07-02T11:20:17.878Z"
   },
   {
    "duration": 47,
    "start_time": "2022-07-02T11:20:17.894Z"
   },
   {
    "duration": 5,
    "start_time": "2022-07-02T11:20:17.943Z"
   },
   {
    "duration": 3,
    "start_time": "2022-07-02T11:20:17.950Z"
   },
   {
    "duration": 28,
    "start_time": "2022-07-02T11:20:17.955Z"
   },
   {
    "duration": 49,
    "start_time": "2022-07-02T11:20:17.985Z"
   },
   {
    "duration": 49,
    "start_time": "2022-07-02T11:20:18.036Z"
   },
   {
    "duration": 14,
    "start_time": "2022-07-02T11:20:18.087Z"
   },
   {
    "duration": 49,
    "start_time": "2022-07-02T11:20:18.103Z"
   },
   {
    "duration": 22,
    "start_time": "2022-07-02T11:20:18.154Z"
   },
   {
    "duration": 14,
    "start_time": "2022-07-02T11:20:18.178Z"
   },
   {
    "duration": 51,
    "start_time": "2022-07-02T11:20:18.193Z"
   },
   {
    "duration": 36,
    "start_time": "2022-07-02T11:20:18.246Z"
   },
   {
    "duration": 15,
    "start_time": "2022-07-02T11:20:18.284Z"
   },
   {
    "duration": 47,
    "start_time": "2022-07-02T11:20:18.300Z"
   },
   {
    "duration": 16,
    "start_time": "2022-07-02T11:20:26.565Z"
   },
   {
    "duration": 11,
    "start_time": "2022-07-02T11:22:00.299Z"
   },
   {
    "duration": 7,
    "start_time": "2022-07-02T11:22:12.700Z"
   },
   {
    "duration": 4,
    "start_time": "2022-07-02T11:23:44.303Z"
   },
   {
    "duration": 413,
    "start_time": "2022-07-02T11:23:44.310Z"
   },
   {
    "duration": 15,
    "start_time": "2022-07-02T11:23:44.726Z"
   },
   {
    "duration": 33,
    "start_time": "2022-07-02T11:23:44.743Z"
   },
   {
    "duration": 8,
    "start_time": "2022-07-02T11:23:44.779Z"
   },
   {
    "duration": 49,
    "start_time": "2022-07-02T11:23:44.790Z"
   },
   {
    "duration": 8,
    "start_time": "2022-07-02T11:23:44.841Z"
   },
   {
    "duration": 17,
    "start_time": "2022-07-02T11:23:44.852Z"
   },
   {
    "duration": 32,
    "start_time": "2022-07-02T11:23:44.872Z"
   },
   {
    "duration": 30,
    "start_time": "2022-07-02T11:23:44.905Z"
   },
   {
    "duration": 29,
    "start_time": "2022-07-02T11:23:44.938Z"
   },
   {
    "duration": 13,
    "start_time": "2022-07-02T11:23:44.969Z"
   },
   {
    "duration": 16,
    "start_time": "2022-07-02T11:23:44.983Z"
   },
   {
    "duration": 26,
    "start_time": "2022-07-02T11:23:45.001Z"
   },
   {
    "duration": 8,
    "start_time": "2022-07-02T11:23:45.030Z"
   },
   {
    "duration": 28,
    "start_time": "2022-07-02T11:23:45.040Z"
   },
   {
    "duration": 13,
    "start_time": "2022-07-02T11:23:45.070Z"
   },
   {
    "duration": 40,
    "start_time": "2022-07-02T11:23:45.084Z"
   },
   {
    "duration": 59,
    "start_time": "2022-07-02T11:23:45.126Z"
   },
   {
    "duration": 3,
    "start_time": "2022-07-02T11:23:45.187Z"
   },
   {
    "duration": 105,
    "start_time": "2022-07-02T11:23:45.192Z"
   },
   {
    "duration": 7,
    "start_time": "2022-07-02T11:23:45.299Z"
   },
   {
    "duration": 33,
    "start_time": "2022-07-02T11:23:45.308Z"
   },
   {
    "duration": 32,
    "start_time": "2022-07-02T11:23:45.343Z"
   },
   {
    "duration": 17,
    "start_time": "2022-07-02T11:23:45.377Z"
   },
   {
    "duration": 69,
    "start_time": "2022-07-02T11:23:45.397Z"
   },
   {
    "duration": 5,
    "start_time": "2022-07-02T11:23:45.468Z"
   },
   {
    "duration": 10,
    "start_time": "2022-07-02T11:23:45.475Z"
   },
   {
    "duration": 6,
    "start_time": "2022-07-02T11:23:45.489Z"
   },
   {
    "duration": 16,
    "start_time": "2022-07-02T11:23:45.496Z"
   },
   {
    "duration": 21,
    "start_time": "2022-07-02T11:23:45.513Z"
   },
   {
    "duration": 19,
    "start_time": "2022-07-02T11:23:45.536Z"
   },
   {
    "duration": 9,
    "start_time": "2022-07-02T11:23:45.558Z"
   },
   {
    "duration": 9,
    "start_time": "2022-07-02T11:23:45.569Z"
   },
   {
    "duration": 10,
    "start_time": "2022-07-02T11:23:45.579Z"
   },
   {
    "duration": 10,
    "start_time": "2022-07-02T11:23:45.591Z"
   },
   {
    "duration": 24,
    "start_time": "2022-07-02T11:23:45.603Z"
   },
   {
    "duration": 20,
    "start_time": "2022-07-02T11:23:45.630Z"
   },
   {
    "duration": 10,
    "start_time": "2022-07-02T11:23:45.652Z"
   },
   {
    "duration": 6,
    "start_time": "2022-07-02T11:23:45.664Z"
   },
   {
    "duration": 21,
    "start_time": "2022-07-02T11:23:45.671Z"
   },
   {
    "duration": 13,
    "start_time": "2022-07-02T11:23:45.693Z"
   },
   {
    "duration": 9,
    "start_time": "2022-07-02T11:23:45.727Z"
   },
   {
    "duration": 19,
    "start_time": "2022-07-02T11:23:45.738Z"
   },
   {
    "duration": 14,
    "start_time": "2022-07-02T11:23:45.759Z"
   },
   {
    "duration": 5,
    "start_time": "2022-07-02T11:23:45.775Z"
   },
   {
    "duration": 9,
    "start_time": "2022-07-02T11:23:45.781Z"
   },
   {
    "duration": 12,
    "start_time": "2022-07-02T11:23:45.792Z"
   },
   {
    "duration": 21,
    "start_time": "2022-07-02T11:23:45.826Z"
   },
   {
    "duration": 13,
    "start_time": "2022-07-02T11:23:45.850Z"
   },
   {
    "duration": 4,
    "start_time": "2022-07-02T11:23:45.865Z"
   },
   {
    "duration": 28,
    "start_time": "2022-07-02T11:23:45.871Z"
   },
   {
    "duration": 80,
    "start_time": "2022-07-02T11:23:45.901Z"
   },
   {
    "duration": 15,
    "start_time": "2022-07-02T11:23:45.983Z"
   },
   {
    "duration": 48,
    "start_time": "2022-07-02T11:23:45.999Z"
   },
   {
    "duration": 30,
    "start_time": "2022-07-02T11:23:46.049Z"
   },
   {
    "duration": 14,
    "start_time": "2022-07-02T11:23:46.082Z"
   },
   {
    "duration": 46,
    "start_time": "2022-07-02T11:23:46.098Z"
   },
   {
    "duration": 43,
    "start_time": "2022-07-02T11:23:46.146Z"
   },
   {
    "duration": 12,
    "start_time": "2022-07-02T11:23:46.193Z"
   },
   {
    "duration": 23,
    "start_time": "2022-07-02T11:23:46.228Z"
   },
   {
    "duration": 34,
    "start_time": "2022-07-02T11:23:46.253Z"
   },
   {
    "duration": 24,
    "start_time": "2022-07-02T11:23:46.289Z"
   },
   {
    "duration": 25,
    "start_time": "2022-07-02T11:23:53.045Z"
   },
   {
    "duration": 23,
    "start_time": "2022-07-02T11:25:01.772Z"
   },
   {
    "duration": 3,
    "start_time": "2022-07-02T11:36:04.740Z"
   },
   {
    "duration": 2,
    "start_time": "2022-07-02T11:36:20.662Z"
   },
   {
    "duration": 2,
    "start_time": "2022-07-02T11:36:34.068Z"
   },
   {
    "duration": 4,
    "start_time": "2022-07-02T11:36:42.572Z"
   },
   {
    "duration": 404,
    "start_time": "2022-07-02T11:36:42.580Z"
   },
   {
    "duration": 7,
    "start_time": "2022-07-02T11:36:42.986Z"
   },
   {
    "duration": 27,
    "start_time": "2022-07-02T11:36:42.994Z"
   },
   {
    "duration": 11,
    "start_time": "2022-07-02T11:36:43.022Z"
   },
   {
    "duration": 28,
    "start_time": "2022-07-02T11:36:43.035Z"
   },
   {
    "duration": 5,
    "start_time": "2022-07-02T11:36:43.064Z"
   },
   {
    "duration": 9,
    "start_time": "2022-07-02T11:36:43.071Z"
   },
   {
    "duration": 19,
    "start_time": "2022-07-02T11:36:43.081Z"
   },
   {
    "duration": 7,
    "start_time": "2022-07-02T11:36:43.101Z"
   },
   {
    "duration": 16,
    "start_time": "2022-07-02T11:36:43.129Z"
   },
   {
    "duration": 12,
    "start_time": "2022-07-02T11:36:43.147Z"
   },
   {
    "duration": 10,
    "start_time": "2022-07-02T11:36:43.161Z"
   },
   {
    "duration": 16,
    "start_time": "2022-07-02T11:36:43.173Z"
   },
   {
    "duration": 5,
    "start_time": "2022-07-02T11:36:43.190Z"
   },
   {
    "duration": 32,
    "start_time": "2022-07-02T11:36:43.196Z"
   },
   {
    "duration": 22,
    "start_time": "2022-07-02T11:36:43.230Z"
   },
   {
    "duration": 26,
    "start_time": "2022-07-02T11:36:43.254Z"
   },
   {
    "duration": 32,
    "start_time": "2022-07-02T11:36:43.282Z"
   },
   {
    "duration": 3,
    "start_time": "2022-07-02T11:36:43.315Z"
   },
   {
    "duration": 80,
    "start_time": "2022-07-02T11:36:43.319Z"
   },
   {
    "duration": 5,
    "start_time": "2022-07-02T11:36:43.400Z"
   },
   {
    "duration": 34,
    "start_time": "2022-07-02T11:36:43.406Z"
   },
   {
    "duration": 18,
    "start_time": "2022-07-02T11:36:43.442Z"
   },
   {
    "duration": 4,
    "start_time": "2022-07-02T11:36:43.462Z"
   },
   {
    "duration": 34,
    "start_time": "2022-07-02T11:36:43.468Z"
   },
   {
    "duration": 24,
    "start_time": "2022-07-02T11:36:43.504Z"
   },
   {
    "duration": 13,
    "start_time": "2022-07-02T11:36:43.530Z"
   },
   {
    "duration": 7,
    "start_time": "2022-07-02T11:36:43.547Z"
   },
   {
    "duration": 6,
    "start_time": "2022-07-02T11:36:43.555Z"
   },
   {
    "duration": 7,
    "start_time": "2022-07-02T11:36:43.563Z"
   },
   {
    "duration": 4,
    "start_time": "2022-07-02T11:36:43.572Z"
   },
   {
    "duration": 5,
    "start_time": "2022-07-02T11:36:43.578Z"
   },
   {
    "duration": 49,
    "start_time": "2022-07-02T11:36:43.584Z"
   },
   {
    "duration": 14,
    "start_time": "2022-07-02T11:36:43.636Z"
   },
   {
    "duration": 5,
    "start_time": "2022-07-02T11:36:43.652Z"
   },
   {
    "duration": 7,
    "start_time": "2022-07-02T11:36:43.658Z"
   },
   {
    "duration": 6,
    "start_time": "2022-07-02T11:36:43.666Z"
   },
   {
    "duration": 8,
    "start_time": "2022-07-02T11:36:43.673Z"
   },
   {
    "duration": 6,
    "start_time": "2022-07-02T11:36:43.682Z"
   },
   {
    "duration": 43,
    "start_time": "2022-07-02T11:36:43.690Z"
   },
   {
    "duration": 15,
    "start_time": "2022-07-02T11:36:43.736Z"
   },
   {
    "duration": 6,
    "start_time": "2022-07-02T11:36:43.752Z"
   },
   {
    "duration": 4,
    "start_time": "2022-07-02T11:36:43.759Z"
   },
   {
    "duration": 13,
    "start_time": "2022-07-02T11:36:43.764Z"
   },
   {
    "duration": 5,
    "start_time": "2022-07-02T11:36:43.778Z"
   },
   {
    "duration": 4,
    "start_time": "2022-07-02T11:36:43.784Z"
   },
   {
    "duration": 15,
    "start_time": "2022-07-02T11:36:43.832Z"
   },
   {
    "duration": 16,
    "start_time": "2022-07-02T11:36:43.849Z"
   },
   {
    "duration": 6,
    "start_time": "2022-07-02T11:36:43.867Z"
   },
   {
    "duration": 8,
    "start_time": "2022-07-02T11:36:43.874Z"
   },
   {
    "duration": 54,
    "start_time": "2022-07-02T11:36:43.884Z"
   },
   {
    "duration": 47,
    "start_time": "2022-07-02T11:36:43.940Z"
   },
   {
    "duration": 2,
    "start_time": "2022-07-02T11:36:43.988Z"
   },
   {
    "duration": 37,
    "start_time": "2022-07-02T11:36:43.991Z"
   },
   {
    "duration": 25,
    "start_time": "2022-07-02T11:36:44.030Z"
   },
   {
    "duration": 2,
    "start_time": "2022-07-02T11:36:44.057Z"
   },
   {
    "duration": 24,
    "start_time": "2022-07-02T11:36:44.060Z"
   },
   {
    "duration": 63,
    "start_time": "2022-07-02T11:36:44.085Z"
   },
   {
    "duration": 10,
    "start_time": "2022-07-02T11:36:44.149Z"
   },
   {
    "duration": 23,
    "start_time": "2022-07-02T11:37:22.820Z"
   },
   {
    "duration": 14,
    "start_time": "2022-07-02T11:41:36.969Z"
   },
   {
    "duration": 10,
    "start_time": "2022-07-02T11:44:27.670Z"
   },
   {
    "duration": 9,
    "start_time": "2022-07-02T11:44:51.493Z"
   },
   {
    "duration": 8,
    "start_time": "2022-07-02T11:44:55.806Z"
   },
   {
    "duration": 4,
    "start_time": "2022-07-02T11:46:34.760Z"
   },
   {
    "duration": 381,
    "start_time": "2022-07-02T11:46:34.767Z"
   },
   {
    "duration": 8,
    "start_time": "2022-07-02T11:46:35.150Z"
   },
   {
    "duration": 27,
    "start_time": "2022-07-02T11:46:35.160Z"
   },
   {
    "duration": 8,
    "start_time": "2022-07-02T11:46:35.189Z"
   },
   {
    "duration": 29,
    "start_time": "2022-07-02T11:46:35.199Z"
   },
   {
    "duration": 6,
    "start_time": "2022-07-02T11:46:35.230Z"
   },
   {
    "duration": 9,
    "start_time": "2022-07-02T11:46:35.238Z"
   },
   {
    "duration": 27,
    "start_time": "2022-07-02T11:46:35.249Z"
   },
   {
    "duration": 7,
    "start_time": "2022-07-02T11:46:35.278Z"
   },
   {
    "duration": 11,
    "start_time": "2022-07-02T11:46:35.288Z"
   },
   {
    "duration": 34,
    "start_time": "2022-07-02T11:46:35.300Z"
   },
   {
    "duration": 12,
    "start_time": "2022-07-02T11:46:35.336Z"
   },
   {
    "duration": 27,
    "start_time": "2022-07-02T11:46:35.349Z"
   },
   {
    "duration": 5,
    "start_time": "2022-07-02T11:46:35.378Z"
   },
   {
    "duration": 6,
    "start_time": "2022-07-02T11:46:35.384Z"
   },
   {
    "duration": 7,
    "start_time": "2022-07-02T11:46:35.392Z"
   },
   {
    "duration": 46,
    "start_time": "2022-07-02T11:46:35.400Z"
   },
   {
    "duration": 28,
    "start_time": "2022-07-02T11:46:35.448Z"
   },
   {
    "duration": 3,
    "start_time": "2022-07-02T11:46:35.478Z"
   },
   {
    "duration": 81,
    "start_time": "2022-07-02T11:46:35.483Z"
   },
   {
    "duration": 5,
    "start_time": "2022-07-02T11:46:35.565Z"
   },
   {
    "duration": 15,
    "start_time": "2022-07-02T11:46:35.572Z"
   },
   {
    "duration": 19,
    "start_time": "2022-07-02T11:46:35.589Z"
   },
   {
    "duration": 5,
    "start_time": "2022-07-02T11:46:35.626Z"
   },
   {
    "duration": 37,
    "start_time": "2022-07-02T11:46:35.633Z"
   },
   {
    "duration": 5,
    "start_time": "2022-07-02T11:46:35.671Z"
   },
   {
    "duration": 8,
    "start_time": "2022-07-02T11:46:35.679Z"
   },
   {
    "duration": 8,
    "start_time": "2022-07-02T11:46:35.690Z"
   },
   {
    "duration": 29,
    "start_time": "2022-07-02T11:46:35.699Z"
   },
   {
    "duration": 7,
    "start_time": "2022-07-02T11:46:35.729Z"
   },
   {
    "duration": 5,
    "start_time": "2022-07-02T11:46:35.737Z"
   },
   {
    "duration": 6,
    "start_time": "2022-07-02T11:46:35.744Z"
   },
   {
    "duration": 13,
    "start_time": "2022-07-02T11:46:35.752Z"
   },
   {
    "duration": 15,
    "start_time": "2022-07-02T11:46:35.767Z"
   },
   {
    "duration": 14,
    "start_time": "2022-07-02T11:46:35.784Z"
   },
   {
    "duration": 11,
    "start_time": "2022-07-02T11:46:35.800Z"
   },
   {
    "duration": 16,
    "start_time": "2022-07-02T11:46:35.812Z"
   },
   {
    "duration": 7,
    "start_time": "2022-07-02T11:46:35.829Z"
   },
   {
    "duration": 6,
    "start_time": "2022-07-02T11:46:35.837Z"
   },
   {
    "duration": 23,
    "start_time": "2022-07-02T11:46:35.844Z"
   },
   {
    "duration": 11,
    "start_time": "2022-07-02T11:46:35.868Z"
   },
   {
    "duration": 6,
    "start_time": "2022-07-02T11:46:35.881Z"
   },
   {
    "duration": 5,
    "start_time": "2022-07-02T11:46:35.889Z"
   },
   {
    "duration": 41,
    "start_time": "2022-07-02T11:46:35.895Z"
   },
   {
    "duration": 4,
    "start_time": "2022-07-02T11:46:35.937Z"
   },
   {
    "duration": 4,
    "start_time": "2022-07-02T11:46:35.943Z"
   },
   {
    "duration": 10,
    "start_time": "2022-07-02T11:46:35.948Z"
   },
   {
    "duration": 15,
    "start_time": "2022-07-02T11:46:35.959Z"
   },
   {
    "duration": 4,
    "start_time": "2022-07-02T11:46:35.975Z"
   },
   {
    "duration": 4,
    "start_time": "2022-07-02T11:46:35.981Z"
   },
   {
    "duration": 58,
    "start_time": "2022-07-02T11:46:35.987Z"
   },
   {
    "duration": 44,
    "start_time": "2022-07-02T11:46:36.046Z"
   },
   {
    "duration": 8,
    "start_time": "2022-07-02T11:46:41.587Z"
   },
   {
    "duration": 2,
    "start_time": "2022-07-02T11:49:19.016Z"
   },
   {
    "duration": 3,
    "start_time": "2022-07-02T11:50:25.748Z"
   },
   {
    "duration": 3,
    "start_time": "2022-07-02T11:50:35.630Z"
   },
   {
    "duration": 376,
    "start_time": "2022-07-02T11:50:35.637Z"
   },
   {
    "duration": 8,
    "start_time": "2022-07-02T11:50:36.014Z"
   },
   {
    "duration": 28,
    "start_time": "2022-07-02T11:50:36.024Z"
   },
   {
    "duration": 8,
    "start_time": "2022-07-02T11:50:36.054Z"
   },
   {
    "duration": 37,
    "start_time": "2022-07-02T11:50:36.063Z"
   },
   {
    "duration": 28,
    "start_time": "2022-07-02T11:50:36.102Z"
   },
   {
    "duration": 15,
    "start_time": "2022-07-02T11:50:36.132Z"
   },
   {
    "duration": 25,
    "start_time": "2022-07-02T11:50:36.148Z"
   },
   {
    "duration": 11,
    "start_time": "2022-07-02T11:50:36.175Z"
   },
   {
    "duration": 17,
    "start_time": "2022-07-02T11:50:36.190Z"
   },
   {
    "duration": 22,
    "start_time": "2022-07-02T11:50:36.209Z"
   },
   {
    "duration": 24,
    "start_time": "2022-07-02T11:50:36.234Z"
   },
   {
    "duration": 33,
    "start_time": "2022-07-02T11:50:36.260Z"
   },
   {
    "duration": 6,
    "start_time": "2022-07-02T11:50:36.295Z"
   },
   {
    "duration": 18,
    "start_time": "2022-07-02T11:50:36.302Z"
   },
   {
    "duration": 20,
    "start_time": "2022-07-02T11:50:36.322Z"
   },
   {
    "duration": 38,
    "start_time": "2022-07-02T11:50:36.344Z"
   },
   {
    "duration": 38,
    "start_time": "2022-07-02T11:50:36.384Z"
   },
   {
    "duration": 3,
    "start_time": "2022-07-02T11:50:36.424Z"
   },
   {
    "duration": 94,
    "start_time": "2022-07-02T11:50:36.428Z"
   },
   {
    "duration": 5,
    "start_time": "2022-07-02T11:50:36.524Z"
   },
   {
    "duration": 16,
    "start_time": "2022-07-02T11:50:36.530Z"
   },
   {
    "duration": 20,
    "start_time": "2022-07-02T11:50:36.548Z"
   },
   {
    "duration": 5,
    "start_time": "2022-07-02T11:50:36.569Z"
   },
   {
    "duration": 52,
    "start_time": "2022-07-02T11:50:36.575Z"
   },
   {
    "duration": 4,
    "start_time": "2022-07-02T11:50:36.629Z"
   },
   {
    "duration": 7,
    "start_time": "2022-07-02T11:50:36.635Z"
   },
   {
    "duration": 11,
    "start_time": "2022-07-02T11:50:36.645Z"
   },
   {
    "duration": 6,
    "start_time": "2022-07-02T11:50:36.658Z"
   },
   {
    "duration": 7,
    "start_time": "2022-07-02T11:50:36.665Z"
   },
   {
    "duration": 4,
    "start_time": "2022-07-02T11:50:36.674Z"
   },
   {
    "duration": 10,
    "start_time": "2022-07-02T11:50:36.680Z"
   },
   {
    "duration": 9,
    "start_time": "2022-07-02T11:50:36.691Z"
   },
   {
    "duration": 5,
    "start_time": "2022-07-02T11:50:36.727Z"
   },
   {
    "duration": 9,
    "start_time": "2022-07-02T11:50:36.734Z"
   },
   {
    "duration": 12,
    "start_time": "2022-07-02T11:50:36.745Z"
   },
   {
    "duration": 20,
    "start_time": "2022-07-02T11:50:36.758Z"
   },
   {
    "duration": 9,
    "start_time": "2022-07-02T11:50:36.779Z"
   },
   {
    "duration": 7,
    "start_time": "2022-07-02T11:50:36.790Z"
   },
   {
    "duration": 19,
    "start_time": "2022-07-02T11:50:36.798Z"
   },
   {
    "duration": 18,
    "start_time": "2022-07-02T11:50:36.819Z"
   },
   {
    "duration": 5,
    "start_time": "2022-07-02T11:50:36.838Z"
   },
   {
    "duration": 4,
    "start_time": "2022-07-02T11:50:36.845Z"
   },
   {
    "duration": 15,
    "start_time": "2022-07-02T11:50:36.851Z"
   },
   {
    "duration": 6,
    "start_time": "2022-07-02T11:50:36.867Z"
   },
   {
    "duration": 4,
    "start_time": "2022-07-02T11:50:36.875Z"
   },
   {
    "duration": 48,
    "start_time": "2022-07-02T11:50:36.880Z"
   },
   {
    "duration": 14,
    "start_time": "2022-07-02T11:50:36.929Z"
   },
   {
    "duration": 5,
    "start_time": "2022-07-02T11:50:36.944Z"
   },
   {
    "duration": 6,
    "start_time": "2022-07-02T11:50:36.951Z"
   },
   {
    "duration": 32,
    "start_time": "2022-07-02T11:50:36.958Z"
   },
   {
    "duration": 69,
    "start_time": "2022-07-02T11:50:36.991Z"
   },
   {
    "duration": 2,
    "start_time": "2022-07-02T11:50:37.062Z"
   },
   {
    "duration": 26,
    "start_time": "2022-07-02T11:50:37.066Z"
   },
   {
    "duration": 34,
    "start_time": "2022-07-02T11:50:37.094Z"
   },
   {
    "duration": 3,
    "start_time": "2022-07-02T11:50:37.129Z"
   },
   {
    "duration": 29,
    "start_time": "2022-07-02T11:50:37.133Z"
   },
   {
    "duration": 35,
    "start_time": "2022-07-02T11:50:37.163Z"
   },
   {
    "duration": 9,
    "start_time": "2022-07-02T11:50:37.200Z"
   },
   {
    "duration": 11,
    "start_time": "2022-07-02T11:50:49.967Z"
   },
   {
    "duration": 7,
    "start_time": "2022-07-02T11:50:56.614Z"
   },
   {
    "duration": 21,
    "start_time": "2022-07-02T11:51:25.098Z"
   },
   {
    "duration": 6,
    "start_time": "2022-07-02T11:51:52.767Z"
   },
   {
    "duration": 21,
    "start_time": "2022-07-02T11:52:26.801Z"
   },
   {
    "duration": 22,
    "start_time": "2022-07-02T11:52:56.268Z"
   },
   {
    "duration": 9,
    "start_time": "2022-07-02T11:53:16.262Z"
   },
   {
    "duration": 8,
    "start_time": "2022-07-02T11:53:39.663Z"
   },
   {
    "duration": 17,
    "start_time": "2022-07-02T11:53:46.918Z"
   },
   {
    "duration": 7,
    "start_time": "2022-07-02T12:00:32.004Z"
   },
   {
    "duration": 6,
    "start_time": "2022-07-02T12:06:27.208Z"
   },
   {
    "duration": 12,
    "start_time": "2022-07-02T12:06:28.075Z"
   },
   {
    "duration": 5,
    "start_time": "2022-07-02T12:12:36.897Z"
   },
   {
    "duration": 25,
    "start_time": "2022-07-02T12:13:38.985Z"
   },
   {
    "duration": 6,
    "start_time": "2022-07-02T12:14:45.980Z"
   },
   {
    "duration": 134,
    "start_time": "2022-07-02T12:14:46.914Z"
   },
   {
    "duration": 13,
    "start_time": "2022-07-02T12:14:55.114Z"
   },
   {
    "duration": 17,
    "start_time": "2022-07-02T12:17:07.374Z"
   },
   {
    "duration": 65,
    "start_time": "2022-07-02T12:18:03.838Z"
   },
   {
    "duration": 23,
    "start_time": "2022-07-02T12:18:15.195Z"
   },
   {
    "duration": 6,
    "start_time": "2022-07-02T12:20:13.986Z"
   },
   {
    "duration": 130,
    "start_time": "2022-07-02T12:20:14.635Z"
   },
   {
    "duration": 22,
    "start_time": "2022-07-02T12:20:15.895Z"
   },
   {
    "duration": 15,
    "start_time": "2022-07-02T12:20:24.017Z"
   },
   {
    "duration": 10,
    "start_time": "2022-07-02T12:21:17.123Z"
   },
   {
    "duration": 14,
    "start_time": "2022-07-02T12:21:33.351Z"
   },
   {
    "duration": 12,
    "start_time": "2022-07-02T12:23:56.772Z"
   },
   {
    "duration": 13,
    "start_time": "2022-07-02T12:23:57.348Z"
   },
   {
    "duration": 29,
    "start_time": "2022-07-02T12:24:12.188Z"
   },
   {
    "duration": 13,
    "start_time": "2022-07-02T12:24:32.804Z"
   },
   {
    "duration": 21,
    "start_time": "2022-07-02T12:24:39.629Z"
   },
   {
    "duration": 4,
    "start_time": "2022-07-02T12:24:47.437Z"
   },
   {
    "duration": 436,
    "start_time": "2022-07-02T12:24:47.449Z"
   },
   {
    "duration": 8,
    "start_time": "2022-07-02T12:24:47.887Z"
   },
   {
    "duration": 28,
    "start_time": "2022-07-02T12:24:47.896Z"
   },
   {
    "duration": 19,
    "start_time": "2022-07-02T12:24:47.925Z"
   },
   {
    "duration": 24,
    "start_time": "2022-07-02T12:24:47.946Z"
   },
   {
    "duration": 6,
    "start_time": "2022-07-02T12:24:47.972Z"
   },
   {
    "duration": 12,
    "start_time": "2022-07-02T12:24:47.979Z"
   },
   {
    "duration": 20,
    "start_time": "2022-07-02T12:24:47.993Z"
   },
   {
    "duration": 17,
    "start_time": "2022-07-02T12:24:48.027Z"
   },
   {
    "duration": 12,
    "start_time": "2022-07-02T12:24:48.048Z"
   },
   {
    "duration": 11,
    "start_time": "2022-07-02T12:24:48.061Z"
   },
   {
    "duration": 11,
    "start_time": "2022-07-02T12:24:48.074Z"
   },
   {
    "duration": 43,
    "start_time": "2022-07-02T12:24:48.086Z"
   },
   {
    "duration": 8,
    "start_time": "2022-07-02T12:24:48.131Z"
   },
   {
    "duration": 12,
    "start_time": "2022-07-02T12:24:48.142Z"
   },
   {
    "duration": 9,
    "start_time": "2022-07-02T12:24:48.156Z"
   },
   {
    "duration": 26,
    "start_time": "2022-07-02T12:24:48.166Z"
   },
   {
    "duration": 52,
    "start_time": "2022-07-02T12:24:48.193Z"
   },
   {
    "duration": 5,
    "start_time": "2022-07-02T12:24:48.247Z"
   },
   {
    "duration": 76,
    "start_time": "2022-07-02T12:24:48.254Z"
   },
   {
    "duration": 7,
    "start_time": "2022-07-02T12:24:48.333Z"
   },
   {
    "duration": 19,
    "start_time": "2022-07-02T12:24:48.345Z"
   },
   {
    "duration": 19,
    "start_time": "2022-07-02T12:24:48.366Z"
   },
   {
    "duration": 5,
    "start_time": "2022-07-02T12:24:48.386Z"
   },
   {
    "duration": 56,
    "start_time": "2022-07-02T12:24:48.392Z"
   },
   {
    "duration": 6,
    "start_time": "2022-07-02T12:24:48.450Z"
   },
   {
    "duration": 13,
    "start_time": "2022-07-02T12:24:48.458Z"
   },
   {
    "duration": 18,
    "start_time": "2022-07-02T12:24:48.478Z"
   },
   {
    "duration": 5,
    "start_time": "2022-07-02T12:24:48.498Z"
   },
   {
    "duration": 6,
    "start_time": "2022-07-02T12:24:48.505Z"
   },
   {
    "duration": 17,
    "start_time": "2022-07-02T12:24:48.513Z"
   },
   {
    "duration": 7,
    "start_time": "2022-07-02T12:24:48.532Z"
   },
   {
    "duration": 9,
    "start_time": "2022-07-02T12:24:48.541Z"
   },
   {
    "duration": 9,
    "start_time": "2022-07-02T12:24:48.552Z"
   },
   {
    "duration": 8,
    "start_time": "2022-07-02T12:24:48.563Z"
   },
   {
    "duration": 7,
    "start_time": "2022-07-02T12:24:48.573Z"
   },
   {
    "duration": 6,
    "start_time": "2022-07-02T12:24:48.582Z"
   },
   {
    "duration": 14,
    "start_time": "2022-07-02T12:24:48.589Z"
   },
   {
    "duration": 5,
    "start_time": "2022-07-02T12:24:48.627Z"
   },
   {
    "duration": 22,
    "start_time": "2022-07-02T12:24:48.634Z"
   },
   {
    "duration": 15,
    "start_time": "2022-07-02T12:24:48.658Z"
   },
   {
    "duration": 7,
    "start_time": "2022-07-02T12:24:48.675Z"
   },
   {
    "duration": 5,
    "start_time": "2022-07-02T12:24:48.684Z"
   },
   {
    "duration": 54,
    "start_time": "2022-07-02T12:24:48.691Z"
   },
   {
    "duration": 7,
    "start_time": "2022-07-02T12:24:48.747Z"
   },
   {
    "duration": 4,
    "start_time": "2022-07-02T12:24:48.756Z"
   },
   {
    "duration": 14,
    "start_time": "2022-07-02T12:24:48.762Z"
   },
   {
    "duration": 12,
    "start_time": "2022-07-02T12:24:48.778Z"
   },
   {
    "duration": 5,
    "start_time": "2022-07-02T12:24:48.791Z"
   },
   {
    "duration": 5,
    "start_time": "2022-07-02T12:24:48.797Z"
   },
   {
    "duration": 54,
    "start_time": "2022-07-02T12:24:48.803Z"
   },
   {
    "duration": 47,
    "start_time": "2022-07-02T12:24:48.858Z"
   },
   {
    "duration": 2,
    "start_time": "2022-07-02T12:24:48.907Z"
   },
   {
    "duration": 36,
    "start_time": "2022-07-02T12:24:48.910Z"
   },
   {
    "duration": 32,
    "start_time": "2022-07-02T12:24:48.948Z"
   },
   {
    "duration": 2,
    "start_time": "2022-07-02T12:24:48.982Z"
   },
   {
    "duration": 54,
    "start_time": "2022-07-02T12:24:48.985Z"
   },
   {
    "duration": 51,
    "start_time": "2022-07-02T12:24:49.041Z"
   },
   {
    "duration": 22,
    "start_time": "2022-07-02T12:24:49.094Z"
   },
   {
    "duration": 21,
    "start_time": "2022-07-02T12:24:49.127Z"
   },
   {
    "duration": 8,
    "start_time": "2022-07-02T12:24:49.150Z"
   },
   {
    "duration": 9,
    "start_time": "2022-07-02T12:24:49.159Z"
   },
   {
    "duration": 8,
    "start_time": "2022-07-02T12:24:59.952Z"
   },
   {
    "duration": 24,
    "start_time": "2022-07-02T12:25:06.916Z"
   },
   {
    "duration": 4,
    "start_time": "2022-07-02T12:32:14.199Z"
   },
   {
    "duration": 401,
    "start_time": "2022-07-02T12:32:14.205Z"
   },
   {
    "duration": 8,
    "start_time": "2022-07-02T12:32:14.608Z"
   },
   {
    "duration": 29,
    "start_time": "2022-07-02T12:32:14.618Z"
   },
   {
    "duration": 10,
    "start_time": "2022-07-02T12:32:14.650Z"
   },
   {
    "duration": 21,
    "start_time": "2022-07-02T12:32:14.662Z"
   },
   {
    "duration": 6,
    "start_time": "2022-07-02T12:32:14.685Z"
   },
   {
    "duration": 10,
    "start_time": "2022-07-02T12:32:14.693Z"
   },
   {
    "duration": 20,
    "start_time": "2022-07-02T12:32:14.726Z"
   },
   {
    "duration": 8,
    "start_time": "2022-07-02T12:32:14.747Z"
   },
   {
    "duration": 10,
    "start_time": "2022-07-02T12:32:14.757Z"
   },
   {
    "duration": 18,
    "start_time": "2022-07-02T12:32:14.769Z"
   },
   {
    "duration": 39,
    "start_time": "2022-07-02T12:32:14.789Z"
   },
   {
    "duration": 24,
    "start_time": "2022-07-02T12:32:14.830Z"
   },
   {
    "duration": 12,
    "start_time": "2022-07-02T12:32:14.855Z"
   },
   {
    "duration": 11,
    "start_time": "2022-07-02T12:32:14.868Z"
   },
   {
    "duration": 12,
    "start_time": "2022-07-02T12:32:14.880Z"
   },
   {
    "duration": 37,
    "start_time": "2022-07-02T12:32:14.894Z"
   },
   {
    "duration": 30,
    "start_time": "2022-07-02T12:32:14.933Z"
   },
   {
    "duration": 3,
    "start_time": "2022-07-02T12:32:14.964Z"
   },
   {
    "duration": 116,
    "start_time": "2022-07-02T12:32:14.969Z"
   },
   {
    "duration": 5,
    "start_time": "2022-07-02T12:32:15.087Z"
   },
   {
    "duration": 17,
    "start_time": "2022-07-02T12:32:15.094Z"
   },
   {
    "duration": 32,
    "start_time": "2022-07-02T12:32:15.113Z"
   },
   {
    "duration": 6,
    "start_time": "2022-07-02T12:32:15.146Z"
   },
   {
    "duration": 45,
    "start_time": "2022-07-02T12:32:15.153Z"
   },
   {
    "duration": 6,
    "start_time": "2022-07-02T12:32:15.200Z"
   },
   {
    "duration": 24,
    "start_time": "2022-07-02T12:32:15.208Z"
   },
   {
    "duration": 9,
    "start_time": "2022-07-02T12:32:15.237Z"
   },
   {
    "duration": 7,
    "start_time": "2022-07-02T12:32:15.248Z"
   },
   {
    "duration": 17,
    "start_time": "2022-07-02T12:32:15.257Z"
   },
   {
    "duration": 5,
    "start_time": "2022-07-02T12:32:15.276Z"
   },
   {
    "duration": 10,
    "start_time": "2022-07-02T12:32:15.283Z"
   },
   {
    "duration": 37,
    "start_time": "2022-07-02T12:32:15.295Z"
   },
   {
    "duration": 11,
    "start_time": "2022-07-02T12:32:15.334Z"
   },
   {
    "duration": 6,
    "start_time": "2022-07-02T12:32:15.347Z"
   },
   {
    "duration": 6,
    "start_time": "2022-07-02T12:32:15.355Z"
   },
   {
    "duration": 6,
    "start_time": "2022-07-02T12:32:15.363Z"
   },
   {
    "duration": 11,
    "start_time": "2022-07-02T12:32:15.370Z"
   },
   {
    "duration": 5,
    "start_time": "2022-07-02T12:32:15.383Z"
   },
   {
    "duration": 55,
    "start_time": "2022-07-02T12:32:15.390Z"
   },
   {
    "duration": 15,
    "start_time": "2022-07-02T12:32:15.447Z"
   },
   {
    "duration": 8,
    "start_time": "2022-07-02T12:32:15.463Z"
   },
   {
    "duration": 5,
    "start_time": "2022-07-02T12:32:15.472Z"
   },
   {
    "duration": 13,
    "start_time": "2022-07-02T12:32:15.479Z"
   },
   {
    "duration": 34,
    "start_time": "2022-07-02T12:32:15.494Z"
   },
   {
    "duration": 4,
    "start_time": "2022-07-02T12:32:15.529Z"
   },
   {
    "duration": 15,
    "start_time": "2022-07-02T12:32:15.534Z"
   },
   {
    "duration": 14,
    "start_time": "2022-07-02T12:32:15.551Z"
   },
   {
    "duration": 6,
    "start_time": "2022-07-02T12:32:15.567Z"
   },
   {
    "duration": 3,
    "start_time": "2022-07-02T12:32:15.575Z"
   },
   {
    "duration": 58,
    "start_time": "2022-07-02T12:32:15.580Z"
   },
   {
    "duration": 47,
    "start_time": "2022-07-02T12:32:15.640Z"
   },
   {
    "duration": 2,
    "start_time": "2022-07-02T12:32:15.689Z"
   },
   {
    "duration": 46,
    "start_time": "2022-07-02T12:32:15.693Z"
   },
   {
    "duration": 31,
    "start_time": "2022-07-02T12:32:15.741Z"
   },
   {
    "duration": 2,
    "start_time": "2022-07-02T12:32:15.775Z"
   },
   {
    "duration": 24,
    "start_time": "2022-07-02T12:32:15.779Z"
   },
   {
    "duration": 58,
    "start_time": "2022-07-02T12:32:15.805Z"
   },
   {
    "duration": 9,
    "start_time": "2022-07-02T12:32:15.864Z"
   },
   {
    "duration": 15,
    "start_time": "2022-07-02T12:32:15.874Z"
   },
   {
    "duration": 11,
    "start_time": "2022-07-02T12:32:23.619Z"
   },
   {
    "duration": 7,
    "start_time": "2022-07-02T12:32:25.027Z"
   },
   {
    "duration": 7,
    "start_time": "2022-07-02T12:33:17.181Z"
   },
   {
    "duration": 10,
    "start_time": "2022-07-02T12:33:21.916Z"
   },
   {
    "duration": 7,
    "start_time": "2022-07-02T12:33:48.390Z"
   },
   {
    "duration": 10,
    "start_time": "2022-07-02T12:33:59.781Z"
   },
   {
    "duration": 10,
    "start_time": "2022-07-02T12:34:27.600Z"
   },
   {
    "duration": 8,
    "start_time": "2022-07-02T12:34:32.931Z"
   },
   {
    "duration": 9,
    "start_time": "2022-07-02T12:37:15.087Z"
   },
   {
    "duration": 8,
    "start_time": "2022-07-02T12:37:48.403Z"
   },
   {
    "duration": 12,
    "start_time": "2022-07-02T12:37:52.678Z"
   },
   {
    "duration": 6,
    "start_time": "2022-07-02T12:38:25.619Z"
   },
   {
    "duration": 1301,
    "start_time": "2022-07-02T12:38:49.440Z"
   },
   {
    "duration": 4,
    "start_time": "2022-07-02T12:39:29.641Z"
   },
   {
    "duration": 9,
    "start_time": "2022-07-02T12:39:40.336Z"
   },
   {
    "duration": 6,
    "start_time": "2022-07-02T12:39:44.181Z"
   },
   {
    "duration": 122,
    "start_time": "2022-07-02T12:39:45.359Z"
   },
   {
    "duration": 12,
    "start_time": "2022-07-02T12:39:53.432Z"
   },
   {
    "duration": 14,
    "start_time": "2022-07-02T12:40:33.555Z"
   },
   {
    "duration": 19,
    "start_time": "2022-07-02T12:42:38.887Z"
   },
   {
    "duration": 16,
    "start_time": "2022-07-02T12:43:55.581Z"
   },
   {
    "duration": 22,
    "start_time": "2022-07-02T12:44:36.541Z"
   },
   {
    "duration": 15,
    "start_time": "2022-07-02T12:44:46.071Z"
   },
   {
    "duration": 7,
    "start_time": "2022-07-02T12:45:36.989Z"
   },
   {
    "duration": 11,
    "start_time": "2022-07-02T12:45:44.672Z"
   },
   {
    "duration": 3,
    "start_time": "2022-07-02T12:48:14.263Z"
   },
   {
    "duration": 391,
    "start_time": "2022-07-02T12:48:14.268Z"
   },
   {
    "duration": 8,
    "start_time": "2022-07-02T12:48:14.661Z"
   },
   {
    "duration": 34,
    "start_time": "2022-07-02T12:48:14.671Z"
   },
   {
    "duration": 7,
    "start_time": "2022-07-02T12:48:14.707Z"
   },
   {
    "duration": 22,
    "start_time": "2022-07-02T12:48:14.715Z"
   },
   {
    "duration": 6,
    "start_time": "2022-07-02T12:48:14.738Z"
   },
   {
    "duration": 10,
    "start_time": "2022-07-02T12:48:14.745Z"
   },
   {
    "duration": 21,
    "start_time": "2022-07-02T12:48:14.756Z"
   },
   {
    "duration": 7,
    "start_time": "2022-07-02T12:48:14.779Z"
   },
   {
    "duration": 12,
    "start_time": "2022-07-02T12:48:14.790Z"
   },
   {
    "duration": 12,
    "start_time": "2022-07-02T12:48:14.827Z"
   },
   {
    "duration": 18,
    "start_time": "2022-07-02T12:48:14.840Z"
   },
   {
    "duration": 29,
    "start_time": "2022-07-02T12:48:14.860Z"
   },
   {
    "duration": 4,
    "start_time": "2022-07-02T12:48:14.891Z"
   },
   {
    "duration": 6,
    "start_time": "2022-07-02T12:48:14.897Z"
   },
   {
    "duration": 8,
    "start_time": "2022-07-02T12:48:14.904Z"
   },
   {
    "duration": 26,
    "start_time": "2022-07-02T12:48:14.926Z"
   },
   {
    "duration": 30,
    "start_time": "2022-07-02T12:48:14.953Z"
   },
   {
    "duration": 3,
    "start_time": "2022-07-02T12:48:14.984Z"
   },
   {
    "duration": 93,
    "start_time": "2022-07-02T12:48:14.988Z"
   },
   {
    "duration": 5,
    "start_time": "2022-07-02T12:48:15.082Z"
   },
   {
    "duration": 20,
    "start_time": "2022-07-02T12:48:15.088Z"
   },
   {
    "duration": 27,
    "start_time": "2022-07-02T12:48:15.110Z"
   },
   {
    "duration": 5,
    "start_time": "2022-07-02T12:48:15.139Z"
   },
   {
    "duration": 43,
    "start_time": "2022-07-02T12:48:15.145Z"
   },
   {
    "duration": 4,
    "start_time": "2022-07-02T12:48:15.190Z"
   },
   {
    "duration": 9,
    "start_time": "2022-07-02T12:48:15.195Z"
   },
   {
    "duration": 21,
    "start_time": "2022-07-02T12:48:15.208Z"
   },
   {
    "duration": 5,
    "start_time": "2022-07-02T12:48:15.231Z"
   },
   {
    "duration": 7,
    "start_time": "2022-07-02T12:48:15.238Z"
   },
   {
    "duration": 6,
    "start_time": "2022-07-02T12:48:15.246Z"
   },
   {
    "duration": 9,
    "start_time": "2022-07-02T12:48:15.253Z"
   },
   {
    "duration": 6,
    "start_time": "2022-07-02T12:48:15.264Z"
   },
   {
    "duration": 12,
    "start_time": "2022-07-02T12:48:15.272Z"
   },
   {
    "duration": 41,
    "start_time": "2022-07-02T12:48:15.286Z"
   },
   {
    "duration": 4,
    "start_time": "2022-07-02T12:48:15.329Z"
   },
   {
    "duration": 6,
    "start_time": "2022-07-02T12:48:15.335Z"
   },
   {
    "duration": 15,
    "start_time": "2022-07-02T12:48:15.343Z"
   },
   {
    "duration": 7,
    "start_time": "2022-07-02T12:48:15.360Z"
   },
   {
    "duration": 24,
    "start_time": "2022-07-02T12:48:15.368Z"
   },
   {
    "duration": 13,
    "start_time": "2022-07-02T12:48:15.393Z"
   },
   {
    "duration": 21,
    "start_time": "2022-07-02T12:48:15.407Z"
   },
   {
    "duration": 20,
    "start_time": "2022-07-02T12:48:15.430Z"
   },
   {
    "duration": 17,
    "start_time": "2022-07-02T12:48:15.452Z"
   },
   {
    "duration": 18,
    "start_time": "2022-07-02T12:48:15.471Z"
   },
   {
    "duration": 28,
    "start_time": "2022-07-02T12:48:15.491Z"
   },
   {
    "duration": 23,
    "start_time": "2022-07-02T12:48:15.521Z"
   },
   {
    "duration": 23,
    "start_time": "2022-07-02T12:48:15.546Z"
   },
   {
    "duration": 10,
    "start_time": "2022-07-02T12:48:15.571Z"
   },
   {
    "duration": 22,
    "start_time": "2022-07-02T12:48:15.583Z"
   },
   {
    "duration": 44,
    "start_time": "2022-07-02T12:48:15.607Z"
   },
   {
    "duration": 46,
    "start_time": "2022-07-02T12:48:15.653Z"
   },
   {
    "duration": 2,
    "start_time": "2022-07-02T12:48:15.701Z"
   },
   {
    "duration": 38,
    "start_time": "2022-07-02T12:48:15.705Z"
   },
   {
    "duration": 32,
    "start_time": "2022-07-02T12:48:15.744Z"
   },
   {
    "duration": 2,
    "start_time": "2022-07-02T12:48:15.778Z"
   },
   {
    "duration": 38,
    "start_time": "2022-07-02T12:48:15.782Z"
   },
   {
    "duration": 40,
    "start_time": "2022-07-02T12:48:15.822Z"
   },
   {
    "duration": 8,
    "start_time": "2022-07-02T12:48:15.864Z"
   },
   {
    "duration": 19,
    "start_time": "2022-07-02T12:48:15.874Z"
   },
   {
    "duration": 22,
    "start_time": "2022-07-02T12:48:15.894Z"
   },
   {
    "duration": 24,
    "start_time": "2022-07-02T12:48:15.918Z"
   },
   {
    "duration": 13,
    "start_time": "2022-07-02T12:48:15.944Z"
   },
   {
    "duration": 24,
    "start_time": "2022-07-02T12:48:15.958Z"
   },
   {
    "duration": 15,
    "start_time": "2022-07-02T12:48:15.984Z"
   },
   {
    "duration": 45,
    "start_time": "2022-07-02T12:48:16.000Z"
   },
   {
    "duration": 16,
    "start_time": "2022-07-02T12:48:16.047Z"
   },
   {
    "duration": 129,
    "start_time": "2022-07-02T12:48:16.065Z"
   },
   {
    "duration": 11,
    "start_time": "2022-07-02T12:48:16.196Z"
   },
   {
    "duration": 42,
    "start_time": "2022-07-02T12:48:16.209Z"
   },
   {
    "duration": 32,
    "start_time": "2022-07-02T12:48:16.253Z"
   },
   {
    "duration": 39,
    "start_time": "2022-07-02T12:48:16.287Z"
   },
   {
    "duration": 10,
    "start_time": "2022-07-02T12:49:55.740Z"
   },
   {
    "duration": 3,
    "start_time": "2022-07-02T12:50:03.468Z"
   },
   {
    "duration": 409,
    "start_time": "2022-07-02T12:50:03.473Z"
   },
   {
    "duration": 9,
    "start_time": "2022-07-02T12:50:03.883Z"
   },
   {
    "duration": 34,
    "start_time": "2022-07-02T12:50:03.894Z"
   },
   {
    "duration": 8,
    "start_time": "2022-07-02T12:50:03.930Z"
   },
   {
    "duration": 25,
    "start_time": "2022-07-02T12:50:03.939Z"
   },
   {
    "duration": 7,
    "start_time": "2022-07-02T12:50:03.966Z"
   },
   {
    "duration": 14,
    "start_time": "2022-07-02T12:50:03.974Z"
   },
   {
    "duration": 39,
    "start_time": "2022-07-02T12:50:03.989Z"
   },
   {
    "duration": 9,
    "start_time": "2022-07-02T12:50:04.030Z"
   },
   {
    "duration": 15,
    "start_time": "2022-07-02T12:50:04.042Z"
   },
   {
    "duration": 12,
    "start_time": "2022-07-02T12:50:04.059Z"
   },
   {
    "duration": 15,
    "start_time": "2022-07-02T12:50:04.072Z"
   },
   {
    "duration": 39,
    "start_time": "2022-07-02T12:50:04.088Z"
   },
   {
    "duration": 6,
    "start_time": "2022-07-02T12:50:04.129Z"
   },
   {
    "duration": 11,
    "start_time": "2022-07-02T12:50:04.136Z"
   },
   {
    "duration": 8,
    "start_time": "2022-07-02T12:50:04.149Z"
   },
   {
    "duration": 27,
    "start_time": "2022-07-02T12:50:04.159Z"
   },
   {
    "duration": 48,
    "start_time": "2022-07-02T12:50:04.188Z"
   },
   {
    "duration": 2,
    "start_time": "2022-07-02T12:50:04.238Z"
   },
   {
    "duration": 85,
    "start_time": "2022-07-02T12:50:04.242Z"
   },
   {
    "duration": 5,
    "start_time": "2022-07-02T12:50:04.329Z"
   },
   {
    "duration": 17,
    "start_time": "2022-07-02T12:50:04.336Z"
   },
   {
    "duration": 20,
    "start_time": "2022-07-02T12:50:04.354Z"
   },
   {
    "duration": 4,
    "start_time": "2022-07-02T12:50:04.376Z"
   },
   {
    "duration": 63,
    "start_time": "2022-07-02T12:50:04.382Z"
   },
   {
    "duration": 5,
    "start_time": "2022-07-02T12:50:04.446Z"
   },
   {
    "duration": 8,
    "start_time": "2022-07-02T12:50:04.452Z"
   },
   {
    "duration": 7,
    "start_time": "2022-07-02T12:50:04.464Z"
   },
   {
    "duration": 6,
    "start_time": "2022-07-02T12:50:04.472Z"
   },
   {
    "duration": 8,
    "start_time": "2022-07-02T12:50:04.479Z"
   },
   {
    "duration": 4,
    "start_time": "2022-07-02T12:50:04.489Z"
   },
   {
    "duration": 5,
    "start_time": "2022-07-02T12:50:04.528Z"
   },
   {
    "duration": 12,
    "start_time": "2022-07-02T12:50:04.535Z"
   },
   {
    "duration": 14,
    "start_time": "2022-07-02T12:50:04.549Z"
   },
   {
    "duration": 16,
    "start_time": "2022-07-02T12:50:04.565Z"
   },
   {
    "duration": 7,
    "start_time": "2022-07-02T12:50:04.583Z"
   },
   {
    "duration": 9,
    "start_time": "2022-07-02T12:50:04.592Z"
   },
   {
    "duration": 10,
    "start_time": "2022-07-02T12:50:04.602Z"
   },
   {
    "duration": 7,
    "start_time": "2022-07-02T12:50:04.613Z"
   },
   {
    "duration": 21,
    "start_time": "2022-07-02T12:50:04.627Z"
   },
   {
    "duration": 13,
    "start_time": "2022-07-02T12:50:04.649Z"
   },
   {
    "duration": 6,
    "start_time": "2022-07-02T12:50:04.664Z"
   },
   {
    "duration": 4,
    "start_time": "2022-07-02T12:50:04.672Z"
   },
   {
    "duration": 17,
    "start_time": "2022-07-02T12:50:04.678Z"
   },
   {
    "duration": 36,
    "start_time": "2022-07-02T12:50:04.697Z"
   },
   {
    "duration": 5,
    "start_time": "2022-07-02T12:50:04.735Z"
   },
   {
    "duration": 11,
    "start_time": "2022-07-02T12:50:04.741Z"
   },
   {
    "duration": 14,
    "start_time": "2022-07-02T12:50:04.754Z"
   },
   {
    "duration": 7,
    "start_time": "2022-07-02T12:50:04.770Z"
   },
   {
    "duration": 65,
    "start_time": "2022-07-02T12:50:04.779Z"
   },
   {
    "duration": 52,
    "start_time": "2022-07-02T12:50:04.846Z"
   },
   {
    "duration": 37,
    "start_time": "2022-07-02T12:50:04.900Z"
   },
   {
    "duration": 25,
    "start_time": "2022-07-02T12:50:04.938Z"
   },
   {
    "duration": 23,
    "start_time": "2022-07-02T12:50:04.964Z"
   },
   {
    "duration": 74,
    "start_time": "2022-07-02T12:50:04.988Z"
   },
   {
    "duration": 10,
    "start_time": "2022-07-02T12:50:05.064Z"
   },
   {
    "duration": 13,
    "start_time": "2022-07-02T12:50:05.075Z"
   },
   {
    "duration": 7,
    "start_time": "2022-07-02T12:50:05.090Z"
   },
   {
    "duration": 8,
    "start_time": "2022-07-02T12:50:07.544Z"
   },
   {
    "duration": 12,
    "start_time": "2022-07-02T12:50:08.045Z"
   },
   {
    "duration": 11,
    "start_time": "2022-07-02T12:50:36.584Z"
   },
   {
    "duration": 11,
    "start_time": "2022-07-02T12:51:02.351Z"
   },
   {
    "duration": 5,
    "start_time": "2022-07-02T12:51:30.066Z"
   },
   {
    "duration": 933,
    "start_time": "2022-07-02T12:52:04.209Z"
   },
   {
    "duration": 10,
    "start_time": "2022-07-02T12:53:05.211Z"
   },
   {
    "duration": 3,
    "start_time": "2022-07-02T12:53:36.111Z"
   },
   {
    "duration": 435,
    "start_time": "2022-07-02T12:53:36.117Z"
   },
   {
    "duration": 7,
    "start_time": "2022-07-02T12:53:36.553Z"
   },
   {
    "duration": 25,
    "start_time": "2022-07-02T12:53:36.562Z"
   },
   {
    "duration": 7,
    "start_time": "2022-07-02T12:53:36.589Z"
   },
   {
    "duration": 25,
    "start_time": "2022-07-02T12:53:36.597Z"
   },
   {
    "duration": 7,
    "start_time": "2022-07-02T12:53:36.624Z"
   },
   {
    "duration": 11,
    "start_time": "2022-07-02T12:53:36.632Z"
   },
   {
    "duration": 29,
    "start_time": "2022-07-02T12:53:36.644Z"
   },
   {
    "duration": 9,
    "start_time": "2022-07-02T12:53:36.674Z"
   },
   {
    "duration": 13,
    "start_time": "2022-07-02T12:53:36.684Z"
   },
   {
    "duration": 11,
    "start_time": "2022-07-02T12:53:36.698Z"
   },
   {
    "duration": 21,
    "start_time": "2022-07-02T12:53:36.711Z"
   },
   {
    "duration": 13,
    "start_time": "2022-07-02T12:53:36.735Z"
   },
   {
    "duration": 4,
    "start_time": "2022-07-02T12:53:36.750Z"
   },
   {
    "duration": 8,
    "start_time": "2022-07-02T12:53:36.755Z"
   },
   {
    "duration": 8,
    "start_time": "2022-07-02T12:53:36.763Z"
   },
   {
    "duration": 24,
    "start_time": "2022-07-02T12:53:36.773Z"
   },
   {
    "duration": 50,
    "start_time": "2022-07-02T12:53:36.799Z"
   },
   {
    "duration": 2,
    "start_time": "2022-07-02T12:53:36.851Z"
   },
   {
    "duration": 80,
    "start_time": "2022-07-02T12:53:36.855Z"
   },
   {
    "duration": 5,
    "start_time": "2022-07-02T12:53:36.936Z"
   },
   {
    "duration": 18,
    "start_time": "2022-07-02T12:53:36.942Z"
   },
   {
    "duration": 18,
    "start_time": "2022-07-02T12:53:36.962Z"
   },
   {
    "duration": 5,
    "start_time": "2022-07-02T12:53:36.981Z"
   },
   {
    "duration": 55,
    "start_time": "2022-07-02T12:53:36.988Z"
   },
   {
    "duration": 5,
    "start_time": "2022-07-02T12:53:37.045Z"
   },
   {
    "duration": 10,
    "start_time": "2022-07-02T12:53:37.051Z"
   },
   {
    "duration": 8,
    "start_time": "2022-07-02T12:53:37.062Z"
   },
   {
    "duration": 6,
    "start_time": "2022-07-02T12:53:37.071Z"
   },
   {
    "duration": 7,
    "start_time": "2022-07-02T12:53:37.078Z"
   },
   {
    "duration": 5,
    "start_time": "2022-07-02T12:53:37.086Z"
   },
   {
    "duration": 37,
    "start_time": "2022-07-02T12:53:37.092Z"
   },
   {
    "duration": 5,
    "start_time": "2022-07-02T12:53:37.130Z"
   },
   {
    "duration": 10,
    "start_time": "2022-07-02T12:53:37.136Z"
   },
   {
    "duration": 8,
    "start_time": "2022-07-02T12:53:37.147Z"
   },
   {
    "duration": 14,
    "start_time": "2022-07-02T12:53:37.156Z"
   },
   {
    "duration": 8,
    "start_time": "2022-07-02T12:53:37.171Z"
   },
   {
    "duration": 22,
    "start_time": "2022-07-02T12:53:37.180Z"
   },
   {
    "duration": 6,
    "start_time": "2022-07-02T12:53:37.204Z"
   },
   {
    "duration": 30,
    "start_time": "2022-07-02T12:53:37.214Z"
   },
   {
    "duration": 13,
    "start_time": "2022-07-02T12:53:37.245Z"
   },
   {
    "duration": 5,
    "start_time": "2022-07-02T12:53:37.260Z"
   },
   {
    "duration": 5,
    "start_time": "2022-07-02T12:53:37.267Z"
   },
   {
    "duration": 18,
    "start_time": "2022-07-02T12:53:37.273Z"
   },
   {
    "duration": 4,
    "start_time": "2022-07-02T12:53:37.293Z"
   },
   {
    "duration": 4,
    "start_time": "2022-07-02T12:53:37.327Z"
   },
   {
    "duration": 12,
    "start_time": "2022-07-02T12:53:37.333Z"
   },
   {
    "duration": 14,
    "start_time": "2022-07-02T12:53:37.346Z"
   },
   {
    "duration": 6,
    "start_time": "2022-07-02T12:53:37.361Z"
   },
   {
    "duration": 60,
    "start_time": "2022-07-02T12:53:37.369Z"
   },
   {
    "duration": 54,
    "start_time": "2022-07-02T12:53:37.430Z"
   },
   {
    "duration": 20,
    "start_time": "2022-07-02T12:53:37.486Z"
   },
   {
    "duration": 46,
    "start_time": "2022-07-02T12:53:37.508Z"
   },
   {
    "duration": 22,
    "start_time": "2022-07-02T12:53:37.556Z"
   },
   {
    "duration": 63,
    "start_time": "2022-07-02T12:53:37.580Z"
   },
   {
    "duration": 9,
    "start_time": "2022-07-02T12:53:37.644Z"
   },
   {
    "duration": 8,
    "start_time": "2022-07-02T12:53:37.655Z"
   },
   {
    "duration": 6,
    "start_time": "2022-07-02T12:53:37.665Z"
   },
   {
    "duration": 8,
    "start_time": "2022-07-02T12:53:37.672Z"
   },
   {
    "duration": 12,
    "start_time": "2022-07-02T12:53:37.682Z"
   },
   {
    "duration": 9,
    "start_time": "2022-07-02T12:53:43.817Z"
   },
   {
    "duration": 9,
    "start_time": "2022-07-02T12:53:45.389Z"
   },
   {
    "duration": 5,
    "start_time": "2022-07-02T12:53:51.076Z"
   },
   {
    "duration": 8,
    "start_time": "2022-07-02T12:53:53.449Z"
   },
   {
    "duration": 114,
    "start_time": "2022-07-02T12:53:57.321Z"
   },
   {
    "duration": 145,
    "start_time": "2022-07-02T12:54:16.301Z"
   },
   {
    "duration": 11,
    "start_time": "2022-07-02T12:54:17.906Z"
   },
   {
    "duration": 18,
    "start_time": "2022-07-02T12:55:03.871Z"
   },
   {
    "duration": 7,
    "start_time": "2022-07-02T12:55:27.368Z"
   },
   {
    "duration": 11,
    "start_time": "2022-07-02T12:55:30.410Z"
   },
   {
    "duration": 8,
    "start_time": "2022-07-02T13:06:49.384Z"
   },
   {
    "duration": 12,
    "start_time": "2022-07-02T13:07:24.637Z"
   },
   {
    "duration": 27,
    "start_time": "2022-07-02T13:07:25.423Z"
   },
   {
    "duration": 929,
    "start_time": "2022-07-02T13:07:40.503Z"
   },
   {
    "duration": 4,
    "start_time": "2022-07-02T13:08:01.700Z"
   },
   {
    "duration": 461,
    "start_time": "2022-07-02T13:08:01.707Z"
   },
   {
    "duration": 10,
    "start_time": "2022-07-02T13:08:02.170Z"
   },
   {
    "duration": 52,
    "start_time": "2022-07-02T13:08:02.182Z"
   },
   {
    "duration": 15,
    "start_time": "2022-07-02T13:08:02.238Z"
   },
   {
    "duration": 24,
    "start_time": "2022-07-02T13:08:02.255Z"
   },
   {
    "duration": 6,
    "start_time": "2022-07-02T13:08:02.281Z"
   },
   {
    "duration": 21,
    "start_time": "2022-07-02T13:08:02.289Z"
   },
   {
    "duration": 31,
    "start_time": "2022-07-02T13:08:02.311Z"
   },
   {
    "duration": 13,
    "start_time": "2022-07-02T13:08:02.344Z"
   },
   {
    "duration": 19,
    "start_time": "2022-07-02T13:08:02.359Z"
   },
   {
    "duration": 12,
    "start_time": "2022-07-02T13:08:02.380Z"
   },
   {
    "duration": 16,
    "start_time": "2022-07-02T13:08:02.394Z"
   },
   {
    "duration": 32,
    "start_time": "2022-07-02T13:08:02.412Z"
   },
   {
    "duration": 12,
    "start_time": "2022-07-02T13:08:02.446Z"
   },
   {
    "duration": 17,
    "start_time": "2022-07-02T13:08:02.459Z"
   },
   {
    "duration": 10,
    "start_time": "2022-07-02T13:08:02.477Z"
   },
   {
    "duration": 26,
    "start_time": "2022-07-02T13:08:02.489Z"
   },
   {
    "duration": 39,
    "start_time": "2022-07-02T13:08:02.517Z"
   },
   {
    "duration": 3,
    "start_time": "2022-07-02T13:08:02.557Z"
   },
   {
    "duration": 85,
    "start_time": "2022-07-02T13:08:02.561Z"
   },
   {
    "duration": 6,
    "start_time": "2022-07-02T13:08:02.647Z"
   },
   {
    "duration": 95,
    "start_time": "2022-07-02T13:08:02.654Z"
   },
   {
    "duration": 21,
    "start_time": "2022-07-02T13:08:02.750Z"
   },
   {
    "duration": 6,
    "start_time": "2022-07-02T13:08:02.772Z"
   },
   {
    "duration": 69,
    "start_time": "2022-07-02T13:08:02.780Z"
   },
   {
    "duration": 6,
    "start_time": "2022-07-02T13:08:02.851Z"
   },
   {
    "duration": 32,
    "start_time": "2022-07-02T13:08:02.858Z"
   },
   {
    "duration": 7,
    "start_time": "2022-07-02T13:08:02.895Z"
   },
   {
    "duration": 10,
    "start_time": "2022-07-02T13:08:02.904Z"
   },
   {
    "duration": 6,
    "start_time": "2022-07-02T13:08:02.915Z"
   },
   {
    "duration": 11,
    "start_time": "2022-07-02T13:08:02.931Z"
   },
   {
    "duration": 9,
    "start_time": "2022-07-02T13:08:02.944Z"
   },
   {
    "duration": 6,
    "start_time": "2022-07-02T13:08:02.955Z"
   },
   {
    "duration": 8,
    "start_time": "2022-07-02T13:08:02.962Z"
   },
   {
    "duration": 7,
    "start_time": "2022-07-02T13:08:02.971Z"
   },
   {
    "duration": 8,
    "start_time": "2022-07-02T13:08:02.980Z"
   },
   {
    "duration": 13,
    "start_time": "2022-07-02T13:08:02.989Z"
   },
   {
    "duration": 24,
    "start_time": "2022-07-02T13:08:03.003Z"
   },
   {
    "duration": 12,
    "start_time": "2022-07-02T13:08:03.033Z"
   },
   {
    "duration": 34,
    "start_time": "2022-07-02T13:08:03.047Z"
   },
   {
    "duration": 13,
    "start_time": "2022-07-02T13:08:03.083Z"
   },
   {
    "duration": 6,
    "start_time": "2022-07-02T13:08:03.097Z"
   },
   {
    "duration": 10,
    "start_time": "2022-07-02T13:08:03.104Z"
   },
   {
    "duration": 20,
    "start_time": "2022-07-02T13:08:03.128Z"
   },
   {
    "duration": 12,
    "start_time": "2022-07-02T13:08:03.150Z"
   },
   {
    "duration": 4,
    "start_time": "2022-07-02T13:08:03.164Z"
   },
   {
    "duration": 12,
    "start_time": "2022-07-02T13:08:03.170Z"
   },
   {
    "duration": 14,
    "start_time": "2022-07-02T13:08:03.184Z"
   },
   {
    "duration": 32,
    "start_time": "2022-07-02T13:08:03.200Z"
   },
   {
    "duration": 38,
    "start_time": "2022-07-02T13:08:03.234Z"
   },
   {
    "duration": 80,
    "start_time": "2022-07-02T13:08:03.274Z"
   },
   {
    "duration": 19,
    "start_time": "2022-07-02T13:08:03.355Z"
   },
   {
    "duration": 28,
    "start_time": "2022-07-02T13:08:03.376Z"
   },
   {
    "duration": 48,
    "start_time": "2022-07-02T13:08:03.405Z"
   },
   {
    "duration": 45,
    "start_time": "2022-07-02T13:08:03.455Z"
   },
   {
    "duration": 38,
    "start_time": "2022-07-02T13:08:03.502Z"
   },
   {
    "duration": 14,
    "start_time": "2022-07-02T13:08:03.542Z"
   },
   {
    "duration": 13,
    "start_time": "2022-07-02T13:08:03.558Z"
   },
   {
    "duration": 19,
    "start_time": "2022-07-02T13:08:03.574Z"
   },
   {
    "duration": 17,
    "start_time": "2022-07-02T13:08:03.595Z"
   },
   {
    "duration": 20,
    "start_time": "2022-07-02T13:08:03.615Z"
   },
   {
    "duration": 6,
    "start_time": "2022-07-02T13:08:03.636Z"
   },
   {
    "duration": 193,
    "start_time": "2022-07-02T13:08:03.644Z"
   },
   {
    "duration": 13,
    "start_time": "2022-07-02T13:08:03.843Z"
   },
   {
    "duration": 20,
    "start_time": "2022-07-02T13:08:03.857Z"
   },
   {
    "duration": 8,
    "start_time": "2022-07-02T13:08:03.879Z"
   },
   {
    "duration": 13,
    "start_time": "2022-07-02T13:08:06.695Z"
   },
   {
    "duration": 11,
    "start_time": "2022-07-02T13:08:15.681Z"
   },
   {
    "duration": 8,
    "start_time": "2022-07-02T13:08:40.035Z"
   },
   {
    "duration": 7,
    "start_time": "2022-07-02T13:08:59.818Z"
   },
   {
    "duration": 152,
    "start_time": "2022-07-02T13:09:04.068Z"
   },
   {
    "duration": 222,
    "start_time": "2022-07-02T13:09:13.602Z"
   },
   {
    "duration": 142,
    "start_time": "2022-07-02T13:09:26.623Z"
   },
   {
    "duration": 241,
    "start_time": "2022-07-02T13:09:37.325Z"
   },
   {
    "duration": 180,
    "start_time": "2022-07-02T13:10:14.744Z"
   },
   {
    "duration": 182,
    "start_time": "2022-07-02T13:11:23.054Z"
   },
   {
    "duration": 8,
    "start_time": "2022-07-02T13:11:41.784Z"
   },
   {
    "duration": 5,
    "start_time": "2022-07-02T13:12:03.414Z"
   },
   {
    "duration": 5,
    "start_time": "2022-07-02T13:12:04.584Z"
   },
   {
    "duration": 168,
    "start_time": "2022-07-02T13:13:03.899Z"
   },
   {
    "duration": 165,
    "start_time": "2022-07-02T13:13:39.333Z"
   },
   {
    "duration": 6,
    "start_time": "2022-07-02T13:14:22.208Z"
   },
   {
    "duration": 7,
    "start_time": "2022-07-02T13:16:13.346Z"
   },
   {
    "duration": 88,
    "start_time": "2022-07-02T13:16:15.639Z"
   },
   {
    "duration": 5,
    "start_time": "2022-07-02T13:16:54.278Z"
   },
   {
    "duration": 192,
    "start_time": "2022-07-02T13:17:20.624Z"
   },
   {
    "duration": 7,
    "start_time": "2022-07-02T13:17:57.495Z"
   },
   {
    "duration": 5,
    "start_time": "2022-07-02T13:18:17.244Z"
   },
   {
    "duration": 11,
    "start_time": "2022-07-02T13:18:18.333Z"
   },
   {
    "duration": 263,
    "start_time": "2022-07-02T13:19:07.179Z"
   },
   {
    "duration": 6,
    "start_time": "2022-07-02T13:19:28.990Z"
   },
   {
    "duration": 5,
    "start_time": "2022-07-02T13:21:33.077Z"
   },
   {
    "duration": 112,
    "start_time": "2022-07-02T13:21:34.339Z"
   },
   {
    "duration": 5,
    "start_time": "2022-07-02T13:21:42.651Z"
   },
   {
    "duration": 196,
    "start_time": "2022-07-02T13:22:22.700Z"
   },
   {
    "duration": 7,
    "start_time": "2022-07-02T13:22:27.900Z"
   },
   {
    "duration": 5,
    "start_time": "2022-07-02T13:22:42.650Z"
   },
   {
    "duration": 4,
    "start_time": "2022-07-02T13:22:43.519Z"
   },
   {
    "duration": 185,
    "start_time": "2022-07-02T13:23:24.779Z"
   },
   {
    "duration": 9,
    "start_time": "2022-07-02T13:23:47.242Z"
   },
   {
    "duration": 6,
    "start_time": "2022-07-02T13:28:29.487Z"
   },
   {
    "duration": 101,
    "start_time": "2022-07-02T13:28:32.699Z"
   },
   {
    "duration": 4,
    "start_time": "2022-07-02T13:28:41.482Z"
   },
   {
    "duration": 205,
    "start_time": "2022-07-02T13:29:06.057Z"
   },
   {
    "duration": 7,
    "start_time": "2022-07-02T13:29:11.110Z"
   },
   {
    "duration": 5,
    "start_time": "2022-07-02T13:29:23.696Z"
   },
   {
    "duration": 9,
    "start_time": "2022-07-02T13:29:24.533Z"
   },
   {
    "duration": 193,
    "start_time": "2022-07-02T13:30:00.125Z"
   },
   {
    "duration": 5,
    "start_time": "2022-07-02T13:30:23.631Z"
   },
   {
    "duration": 6,
    "start_time": "2022-07-02T13:32:22.715Z"
   },
   {
    "duration": 98,
    "start_time": "2022-07-02T13:32:24.240Z"
   },
   {
    "duration": 176,
    "start_time": "2022-07-02T13:33:09.587Z"
   },
   {
    "duration": 8,
    "start_time": "2022-07-02T13:33:20.379Z"
   },
   {
    "duration": 5,
    "start_time": "2022-07-02T13:33:38.331Z"
   },
   {
    "duration": 4,
    "start_time": "2022-07-02T13:33:39.475Z"
   },
   {
    "duration": 145,
    "start_time": "2022-07-02T13:34:47.434Z"
   },
   {
    "duration": 6,
    "start_time": "2022-07-02T13:35:35.471Z"
   },
   {
    "duration": 5,
    "start_time": "2022-07-02T13:37:42.421Z"
   },
   {
    "duration": 96,
    "start_time": "2022-07-02T13:37:43.486Z"
   },
   {
    "duration": 5,
    "start_time": "2022-07-02T13:37:53.139Z"
   },
   {
    "duration": 5,
    "start_time": "2022-07-02T13:38:07.181Z"
   },
   {
    "duration": 6,
    "start_time": "2022-07-02T13:38:14.183Z"
   },
   {
    "duration": 213,
    "start_time": "2022-07-02T13:38:54.667Z"
   },
   {
    "duration": 8,
    "start_time": "2022-07-02T13:38:59.182Z"
   },
   {
    "duration": 5,
    "start_time": "2022-07-02T13:39:17.551Z"
   },
   {
    "duration": 7,
    "start_time": "2022-07-02T13:39:18.172Z"
   },
   {
    "duration": 298,
    "start_time": "2022-07-02T13:40:11.879Z"
   },
   {
    "duration": 7,
    "start_time": "2022-07-02T13:40:52.479Z"
   },
   {
    "duration": 8,
    "start_time": "2022-07-02T13:42:54.882Z"
   },
   {
    "duration": 6,
    "start_time": "2022-07-02T13:44:33.446Z"
   },
   {
    "duration": 5,
    "start_time": "2022-07-02T13:44:49.585Z"
   },
   {
    "duration": 5,
    "start_time": "2022-07-02T13:45:08.734Z"
   },
   {
    "duration": 6,
    "start_time": "2022-07-02T13:45:16.939Z"
   },
   {
    "duration": 202,
    "start_time": "2022-07-02T13:45:49.016Z"
   },
   {
    "duration": 8,
    "start_time": "2022-07-02T13:45:56.913Z"
   },
   {
    "duration": 9,
    "start_time": "2022-07-02T13:46:33.807Z"
   },
   {
    "duration": 157,
    "start_time": "2022-07-02T13:46:40.188Z"
   },
   {
    "duration": 10,
    "start_time": "2022-07-02T13:46:46.526Z"
   },
   {
    "duration": 5,
    "start_time": "2022-07-02T13:47:12.290Z"
   },
   {
    "duration": 5,
    "start_time": "2022-07-02T13:48:38.416Z"
   },
   {
    "duration": 8,
    "start_time": "2022-07-02T13:48:39.338Z"
   },
   {
    "duration": 205,
    "start_time": "2022-07-02T13:49:04.917Z"
   },
   {
    "duration": 6,
    "start_time": "2022-07-02T13:49:24.012Z"
   },
   {
    "duration": 7,
    "start_time": "2022-07-02T13:49:30.079Z"
   },
   {
    "duration": 165,
    "start_time": "2022-07-02T13:49:53.404Z"
   },
   {
    "duration": 7,
    "start_time": "2022-07-02T13:50:01.593Z"
   },
   {
    "duration": 455,
    "start_time": "2022-07-02T13:52:59.225Z"
   },
   {
    "duration": 7,
    "start_time": "2022-07-02T13:53:07.324Z"
   },
   {
    "duration": 475,
    "start_time": "2022-07-02T13:53:07.339Z"
   },
   {
    "duration": 8,
    "start_time": "2022-07-02T13:53:07.815Z"
   },
   {
    "duration": 71,
    "start_time": "2022-07-02T13:53:07.825Z"
   },
   {
    "duration": 25,
    "start_time": "2022-07-02T13:53:12.699Z"
   },
   {
    "duration": 8,
    "start_time": "2022-07-02T13:53:13.575Z"
   },
   {
    "duration": 30,
    "start_time": "2022-07-02T13:55:00.217Z"
   },
   {
    "duration": 10,
    "start_time": "2022-07-02T13:57:55.688Z"
   },
   {
    "duration": 11,
    "start_time": "2022-07-02T13:58:07.925Z"
   },
   {
    "duration": 3,
    "start_time": "2022-07-02T13:58:12.765Z"
   },
   {
    "duration": 402,
    "start_time": "2022-07-02T13:58:12.770Z"
   },
   {
    "duration": 8,
    "start_time": "2022-07-02T13:58:13.174Z"
   },
   {
    "duration": 40,
    "start_time": "2022-07-02T13:58:13.184Z"
   },
   {
    "duration": 8,
    "start_time": "2022-07-02T13:58:13.226Z"
   },
   {
    "duration": 53,
    "start_time": "2022-07-02T13:58:13.236Z"
   },
   {
    "duration": 10,
    "start_time": "2022-07-02T13:58:13.291Z"
   },
   {
    "duration": 19,
    "start_time": "2022-07-02T13:58:13.302Z"
   },
   {
    "duration": 8,
    "start_time": "2022-07-02T13:58:13.323Z"
   },
   {
    "duration": 30,
    "start_time": "2022-07-02T13:58:13.333Z"
   },
   {
    "duration": 9,
    "start_time": "2022-07-02T13:58:13.365Z"
   },
   {
    "duration": 11,
    "start_time": "2022-07-02T13:58:13.376Z"
   },
   {
    "duration": 15,
    "start_time": "2022-07-02T13:58:13.389Z"
   },
   {
    "duration": 5,
    "start_time": "2022-07-02T13:58:13.406Z"
   },
   {
    "duration": 15,
    "start_time": "2022-07-02T13:58:13.412Z"
   },
   {
    "duration": 13,
    "start_time": "2022-07-02T13:58:13.432Z"
   },
   {
    "duration": 22,
    "start_time": "2022-07-02T13:58:44.168Z"
   },
   {
    "duration": 7,
    "start_time": "2022-07-02T14:01:35.625Z"
   },
   {
    "duration": 5,
    "start_time": "2022-07-02T14:01:56.411Z"
   },
   {
    "duration": 22,
    "start_time": "2022-07-02T14:02:30.726Z"
   },
   {
    "duration": 42,
    "start_time": "2022-07-02T14:03:10.435Z"
   },
   {
    "duration": 15,
    "start_time": "2022-07-02T14:04:47.375Z"
   },
   {
    "duration": 10,
    "start_time": "2022-07-02T14:05:03.186Z"
   },
   {
    "duration": 11,
    "start_time": "2022-07-02T14:05:40.635Z"
   },
   {
    "duration": 9,
    "start_time": "2022-07-02T14:05:59.491Z"
   },
   {
    "duration": 8,
    "start_time": "2022-07-02T14:06:19.492Z"
   },
   {
    "duration": 16,
    "start_time": "2022-07-02T14:06:51.230Z"
   },
   {
    "duration": 66,
    "start_time": "2022-07-02T14:08:40.593Z"
   },
   {
    "duration": 90,
    "start_time": "2022-07-02T14:09:22.395Z"
   },
   {
    "duration": 80,
    "start_time": "2022-07-02T14:10:02.015Z"
   },
   {
    "duration": 88,
    "start_time": "2022-07-02T14:10:24.457Z"
   },
   {
    "duration": 88,
    "start_time": "2022-07-02T14:11:04.547Z"
   },
   {
    "duration": 176,
    "start_time": "2022-07-02T14:16:29.003Z"
   },
   {
    "duration": 216,
    "start_time": "2022-07-02T14:16:45.734Z"
   },
   {
    "duration": 228,
    "start_time": "2022-07-02T14:17:45.992Z"
   },
   {
    "duration": 214,
    "start_time": "2022-07-02T14:20:01.322Z"
   },
   {
    "duration": 53,
    "start_time": "2022-07-02T14:20:57.053Z"
   },
   {
    "duration": 53,
    "start_time": "2022-07-02T14:22:47.211Z"
   },
   {
    "duration": 85,
    "start_time": "2022-07-02T14:22:58.480Z"
   },
   {
    "duration": 301,
    "start_time": "2022-07-02T14:24:11.384Z"
   },
   {
    "duration": 58,
    "start_time": "2022-07-02T14:24:35.499Z"
   },
   {
    "duration": 248,
    "start_time": "2022-07-02T14:24:42.189Z"
   },
   {
    "duration": 225,
    "start_time": "2022-07-02T14:24:53.998Z"
   },
   {
    "duration": 220,
    "start_time": "2022-07-02T14:25:08.831Z"
   },
   {
    "duration": 218,
    "start_time": "2022-07-02T14:25:27.709Z"
   },
   {
    "duration": 223,
    "start_time": "2022-07-02T14:25:43.577Z"
   },
   {
    "duration": 215,
    "start_time": "2022-07-02T14:25:52.283Z"
   },
   {
    "duration": 214,
    "start_time": "2022-07-02T14:25:57.832Z"
   },
   {
    "duration": 208,
    "start_time": "2022-07-02T14:26:17.284Z"
   },
   {
    "duration": 214,
    "start_time": "2022-07-02T14:26:43.545Z"
   },
   {
    "duration": 370,
    "start_time": "2022-07-02T14:26:48.803Z"
   },
   {
    "duration": 231,
    "start_time": "2022-07-02T14:39:01.652Z"
   },
   {
    "duration": 217,
    "start_time": "2022-07-02T14:39:14.587Z"
   },
   {
    "duration": 218,
    "start_time": "2022-07-02T14:39:28.405Z"
   },
   {
    "duration": 158,
    "start_time": "2022-07-02T15:33:36.758Z"
   },
   {
    "duration": 223,
    "start_time": "2022-07-02T15:33:55.344Z"
   },
   {
    "duration": 513,
    "start_time": "2022-07-02T15:34:33.148Z"
   },
   {
    "duration": 1171,
    "start_time": "2022-07-02T15:34:47.561Z"
   },
   {
    "duration": 1965,
    "start_time": "2022-07-02T15:34:54.515Z"
   },
   {
    "duration": 3314,
    "start_time": "2022-07-02T15:35:00.216Z"
   },
   {
    "duration": 2091,
    "start_time": "2022-07-02T15:35:07.939Z"
   },
   {
    "duration": 1077,
    "start_time": "2022-07-02T15:35:15.607Z"
   },
   {
    "duration": 1135,
    "start_time": "2022-07-02T15:35:23.129Z"
   },
   {
    "duration": 206,
    "start_time": "2022-07-02T15:35:32.838Z"
   },
   {
    "duration": 162,
    "start_time": "2022-07-02T15:36:27.550Z"
   },
   {
    "duration": 196,
    "start_time": "2022-07-02T15:36:41.013Z"
   },
   {
    "duration": 207,
    "start_time": "2022-07-02T15:39:39.877Z"
   },
   {
    "duration": 219,
    "start_time": "2022-07-02T15:46:32.921Z"
   },
   {
    "duration": 242,
    "start_time": "2022-07-02T15:48:44.343Z"
   },
   {
    "duration": 9,
    "start_time": "2022-07-02T15:49:37.279Z"
   },
   {
    "duration": 213,
    "start_time": "2022-07-02T15:50:12.046Z"
   },
   {
    "duration": 6,
    "start_time": "2022-07-02T15:53:19.962Z"
   },
   {
    "duration": 6,
    "start_time": "2022-07-02T15:53:53.419Z"
   },
   {
    "duration": 4,
    "start_time": "2022-07-02T15:54:03.791Z"
   },
   {
    "duration": 5,
    "start_time": "2022-07-02T15:58:23.962Z"
   },
   {
    "duration": 5,
    "start_time": "2022-07-02T15:59:57.779Z"
   },
   {
    "duration": 34,
    "start_time": "2022-07-02T17:01:41.582Z"
   },
   {
    "duration": 11,
    "start_time": "2022-07-02T17:02:06.997Z"
   },
   {
    "duration": 4,
    "start_time": "2022-07-02T17:02:29.880Z"
   },
   {
    "duration": 493,
    "start_time": "2022-07-02T17:02:29.886Z"
   },
   {
    "duration": 9,
    "start_time": "2022-07-02T17:02:30.380Z"
   },
   {
    "duration": 62,
    "start_time": "2022-07-02T17:02:30.391Z"
   },
   {
    "duration": 22,
    "start_time": "2022-07-02T17:02:30.455Z"
   },
   {
    "duration": 48,
    "start_time": "2022-07-02T17:02:30.479Z"
   },
   {
    "duration": 20,
    "start_time": "2022-07-02T17:02:30.529Z"
   },
   {
    "duration": 25,
    "start_time": "2022-07-02T17:02:30.551Z"
   },
   {
    "duration": 25,
    "start_time": "2022-07-02T17:02:30.578Z"
   },
   {
    "duration": 29,
    "start_time": "2022-07-02T17:02:30.605Z"
   },
   {
    "duration": 39,
    "start_time": "2022-07-02T17:02:30.636Z"
   },
   {
    "duration": 39,
    "start_time": "2022-07-02T17:02:30.676Z"
   },
   {
    "duration": 45,
    "start_time": "2022-07-02T17:02:30.716Z"
   },
   {
    "duration": 24,
    "start_time": "2022-07-02T17:02:30.762Z"
   },
   {
    "duration": 26,
    "start_time": "2022-07-02T17:02:30.788Z"
   },
   {
    "duration": 25,
    "start_time": "2022-07-02T17:02:30.817Z"
   },
   {
    "duration": 45,
    "start_time": "2022-07-02T17:02:30.844Z"
   },
   {
    "duration": 64,
    "start_time": "2022-07-02T17:02:30.891Z"
   },
   {
    "duration": 12,
    "start_time": "2022-07-02T17:02:30.957Z"
   },
   {
    "duration": 24,
    "start_time": "2022-07-02T17:02:30.971Z"
   },
   {
    "duration": 41,
    "start_time": "2022-07-02T17:02:30.997Z"
   },
   {
    "duration": 77,
    "start_time": "2022-07-02T17:02:31.040Z"
   },
   {
    "duration": 24,
    "start_time": "2022-07-02T17:02:31.119Z"
   },
   {
    "duration": 71,
    "start_time": "2022-07-02T17:02:31.148Z"
   },
   {
    "duration": 14,
    "start_time": "2022-07-02T17:02:31.221Z"
   },
   {
    "duration": 43,
    "start_time": "2022-07-02T17:02:31.236Z"
   },
   {
    "duration": 21,
    "start_time": "2022-07-02T17:02:31.281Z"
   },
   {
    "duration": 18,
    "start_time": "2022-07-02T17:02:31.304Z"
   },
   {
    "duration": 24,
    "start_time": "2022-07-02T17:02:31.323Z"
   },
   {
    "duration": 25,
    "start_time": "2022-07-02T17:02:31.349Z"
   },
   {
    "duration": 29,
    "start_time": "2022-07-02T17:02:31.376Z"
   },
   {
    "duration": 21,
    "start_time": "2022-07-02T17:02:31.407Z"
   },
   {
    "duration": 22,
    "start_time": "2022-07-02T17:02:31.430Z"
   },
   {
    "duration": 22,
    "start_time": "2022-07-02T17:02:31.454Z"
   },
   {
    "duration": 33,
    "start_time": "2022-07-02T17:02:31.477Z"
   },
   {
    "duration": 25,
    "start_time": "2022-07-02T17:02:31.512Z"
   },
   {
    "duration": 14,
    "start_time": "2022-07-02T17:02:31.538Z"
   },
   {
    "duration": 37,
    "start_time": "2022-07-02T17:02:31.554Z"
   },
   {
    "duration": 49,
    "start_time": "2022-07-02T17:02:31.593Z"
   },
   {
    "duration": 15,
    "start_time": "2022-07-02T17:02:31.644Z"
   },
   {
    "duration": 10,
    "start_time": "2022-07-02T17:02:31.661Z"
   },
   {
    "duration": 30,
    "start_time": "2022-07-02T17:02:31.673Z"
   },
   {
    "duration": 24,
    "start_time": "2022-07-02T17:02:31.705Z"
   },
   {
    "duration": 15,
    "start_time": "2022-07-02T17:02:31.731Z"
   },
   {
    "duration": 28,
    "start_time": "2022-07-02T17:02:31.747Z"
   },
   {
    "duration": 25,
    "start_time": "2022-07-02T17:02:31.777Z"
   },
   {
    "duration": 33,
    "start_time": "2022-07-02T17:02:31.804Z"
   },
   {
    "duration": 9,
    "start_time": "2022-07-02T17:02:31.839Z"
   },
   {
    "duration": 90,
    "start_time": "2022-07-02T17:02:31.849Z"
   },
   {
    "duration": 5,
    "start_time": "2022-07-02T17:02:31.941Z"
   },
   {
    "duration": 57,
    "start_time": "2022-07-02T17:02:31.948Z"
   },
   {
    "duration": 54,
    "start_time": "2022-07-02T17:02:32.007Z"
   },
   {
    "duration": 19,
    "start_time": "2022-07-02T17:02:32.063Z"
   },
   {
    "duration": 36,
    "start_time": "2022-07-02T17:02:32.083Z"
   },
   {
    "duration": 24,
    "start_time": "2022-07-02T17:02:32.121Z"
   },
   {
    "duration": 37,
    "start_time": "2022-07-02T17:02:32.146Z"
   },
   {
    "duration": 10,
    "start_time": "2022-07-02T17:02:32.184Z"
   },
   {
    "duration": 21,
    "start_time": "2022-07-02T17:02:32.195Z"
   },
   {
    "duration": 25,
    "start_time": "2022-07-02T17:02:32.218Z"
   },
   {
    "duration": 25,
    "start_time": "2022-07-02T17:02:32.244Z"
   },
   {
    "duration": 18,
    "start_time": "2022-07-02T17:02:32.271Z"
   },
   {
    "duration": 24,
    "start_time": "2022-07-02T17:02:32.291Z"
   },
   {
    "duration": 38,
    "start_time": "2022-07-02T17:02:32.317Z"
   },
   {
    "duration": 144,
    "start_time": "2022-07-02T17:02:32.357Z"
   },
   {
    "duration": 11,
    "start_time": "2022-07-02T17:02:32.502Z"
   },
   {
    "duration": 41,
    "start_time": "2022-07-02T17:02:32.514Z"
   },
   {
    "duration": 7,
    "start_time": "2022-07-02T17:02:32.557Z"
   },
   {
    "duration": 55,
    "start_time": "2022-07-02T17:02:32.566Z"
   },
   {
    "duration": 37,
    "start_time": "2022-07-02T17:02:32.628Z"
   },
   {
    "duration": 115,
    "start_time": "2022-07-02T17:02:32.667Z"
   },
   {
    "duration": 192,
    "start_time": "2022-07-02T17:02:32.784Z"
   },
   {
    "duration": 8,
    "start_time": "2022-07-02T17:02:32.978Z"
   },
   {
    "duration": 30,
    "start_time": "2022-07-02T17:02:32.988Z"
   },
   {
    "duration": 30,
    "start_time": "2022-07-02T17:02:33.020Z"
   },
   {
    "duration": 184,
    "start_time": "2022-07-02T17:02:33.052Z"
   },
   {
    "duration": 14,
    "start_time": "2022-07-02T17:02:33.238Z"
   },
   {
    "duration": 24,
    "start_time": "2022-07-02T17:02:33.256Z"
   },
   {
    "duration": 138,
    "start_time": "2022-07-02T17:02:33.282Z"
   },
   {
    "duration": 5,
    "start_time": "2022-07-02T17:02:33.428Z"
   },
   {
    "duration": 225,
    "start_time": "2022-07-02T17:02:33.435Z"
   },
   {
    "duration": 7,
    "start_time": "2022-07-02T17:02:33.662Z"
   },
   {
    "duration": 37,
    "start_time": "2022-07-02T17:02:33.671Z"
   },
   {
    "duration": 31,
    "start_time": "2022-07-02T17:02:33.709Z"
   },
   {
    "duration": 178,
    "start_time": "2022-07-02T17:02:33.742Z"
   },
   {
    "duration": 6,
    "start_time": "2022-07-02T17:02:33.922Z"
   },
   {
    "duration": 256,
    "start_time": "2022-07-02T17:02:33.929Z"
   },
   {
    "duration": 6,
    "start_time": "2022-07-02T17:02:34.187Z"
   },
   {
    "duration": 117,
    "start_time": "2022-07-02T17:02:34.195Z"
   },
   {
    "duration": 15,
    "start_time": "2022-07-02T17:02:34.313Z"
   },
   {
    "duration": 193,
    "start_time": "2022-07-02T17:02:34.330Z"
   },
   {
    "duration": 9,
    "start_time": "2022-07-02T17:02:34.524Z"
   },
   {
    "duration": 11,
    "start_time": "2022-07-02T17:02:34.535Z"
   },
   {
    "duration": 7,
    "start_time": "2022-07-02T17:02:34.547Z"
   },
   {
    "duration": 175,
    "start_time": "2022-07-02T17:02:34.555Z"
   },
   {
    "duration": 6,
    "start_time": "2022-07-02T17:02:34.732Z"
   },
   {
    "duration": 9,
    "start_time": "2022-07-02T17:02:34.739Z"
   },
   {
    "duration": 134,
    "start_time": "2022-07-02T17:02:34.750Z"
   },
   {
    "duration": 6,
    "start_time": "2022-07-02T17:02:34.886Z"
   },
   {
    "duration": 210,
    "start_time": "2022-07-02T17:02:34.894Z"
   },
   {
    "duration": 9,
    "start_time": "2022-07-02T17:02:35.106Z"
   },
   {
    "duration": 15,
    "start_time": "2022-07-02T17:02:35.116Z"
   },
   {
    "duration": 8,
    "start_time": "2022-07-02T17:02:35.133Z"
   },
   {
    "duration": 218,
    "start_time": "2022-07-02T17:02:35.143Z"
   },
   {
    "duration": 6,
    "start_time": "2022-07-02T17:02:35.363Z"
   },
   {
    "duration": 244,
    "start_time": "2022-07-02T17:02:35.371Z"
   },
   {
    "duration": 12,
    "start_time": "2022-07-02T17:02:35.616Z"
   },
   {
    "duration": 121,
    "start_time": "2022-07-02T17:02:35.630Z"
   },
   {
    "duration": 191,
    "start_time": "2022-07-02T17:02:35.753Z"
   },
   {
    "duration": 7,
    "start_time": "2022-07-02T17:02:35.946Z"
   },
   {
    "duration": 15,
    "start_time": "2022-07-02T17:02:35.956Z"
   },
   {
    "duration": 18,
    "start_time": "2022-07-02T17:02:35.973Z"
   },
   {
    "duration": 208,
    "start_time": "2022-07-02T17:02:35.993Z"
   },
   {
    "duration": 10,
    "start_time": "2022-07-02T17:02:36.203Z"
   },
   {
    "duration": 22,
    "start_time": "2022-07-02T17:02:36.215Z"
   },
   {
    "duration": 132,
    "start_time": "2022-07-02T17:02:36.239Z"
   },
   {
    "duration": 7,
    "start_time": "2022-07-02T17:02:36.373Z"
   },
   {
    "duration": 10,
    "start_time": "2022-07-02T17:02:36.381Z"
   },
   {
    "duration": 225,
    "start_time": "2022-07-02T17:02:36.393Z"
   },
   {
    "duration": 8,
    "start_time": "2022-07-02T17:02:36.620Z"
   },
   {
    "duration": 6,
    "start_time": "2022-07-02T17:02:36.629Z"
   },
   {
    "duration": 6,
    "start_time": "2022-07-02T17:02:36.636Z"
   },
   {
    "duration": 202,
    "start_time": "2022-07-02T17:02:36.643Z"
   },
   {
    "duration": 6,
    "start_time": "2022-07-02T17:02:36.847Z"
   },
   {
    "duration": 239,
    "start_time": "2022-07-02T17:02:36.854Z"
   },
   {
    "duration": 13,
    "start_time": "2022-07-02T17:02:52.016Z"
   },
   {
    "duration": 23,
    "start_time": "2022-07-02T17:02:58.387Z"
   },
   {
    "duration": 14,
    "start_time": "2022-07-02T17:03:08.948Z"
   },
   {
    "duration": 8,
    "start_time": "2022-07-02T17:03:37.726Z"
   },
   {
    "duration": 8,
    "start_time": "2022-07-02T17:04:08.744Z"
   },
   {
    "duration": 4,
    "start_time": "2022-07-02T17:05:09.462Z"
   },
   {
    "duration": 458,
    "start_time": "2022-07-02T17:05:09.472Z"
   },
   {
    "duration": 8,
    "start_time": "2022-07-02T17:05:09.932Z"
   },
   {
    "duration": 33,
    "start_time": "2022-07-02T17:05:09.942Z"
   },
   {
    "duration": 8,
    "start_time": "2022-07-02T17:05:09.977Z"
   },
   {
    "duration": 47,
    "start_time": "2022-07-02T17:05:09.986Z"
   },
   {
    "duration": 8,
    "start_time": "2022-07-02T17:05:10.035Z"
   },
   {
    "duration": 32,
    "start_time": "2022-07-02T17:05:10.045Z"
   },
   {
    "duration": 8,
    "start_time": "2022-07-02T17:05:10.079Z"
   },
   {
    "duration": 14,
    "start_time": "2022-07-02T17:05:10.089Z"
   },
   {
    "duration": 11,
    "start_time": "2022-07-02T17:05:10.126Z"
   },
   {
    "duration": 12,
    "start_time": "2022-07-02T17:05:10.139Z"
   },
   {
    "duration": 25,
    "start_time": "2022-07-02T17:05:10.152Z"
   },
   {
    "duration": 5,
    "start_time": "2022-07-02T17:05:10.179Z"
   },
   {
    "duration": 8,
    "start_time": "2022-07-02T17:05:10.185Z"
   },
   {
    "duration": 5,
    "start_time": "2022-07-02T17:05:10.228Z"
   },
   {
    "duration": 26,
    "start_time": "2022-07-02T17:05:10.234Z"
   },
   {
    "duration": 30,
    "start_time": "2022-07-02T17:05:10.262Z"
   },
   {
    "duration": 35,
    "start_time": "2022-07-02T17:05:10.294Z"
   },
   {
    "duration": 7,
    "start_time": "2022-07-02T17:05:10.331Z"
   },
   {
    "duration": 20,
    "start_time": "2022-07-02T17:05:10.339Z"
   },
   {
    "duration": 26,
    "start_time": "2022-07-02T17:05:10.361Z"
   },
   {
    "duration": 6,
    "start_time": "2022-07-02T17:05:10.388Z"
   },
   {
    "duration": 74,
    "start_time": "2022-07-02T17:05:10.395Z"
   },
   {
    "duration": 5,
    "start_time": "2022-07-02T17:05:10.471Z"
   },
   {
    "duration": 18,
    "start_time": "2022-07-02T17:05:10.479Z"
   },
   {
    "duration": 29,
    "start_time": "2022-07-02T17:05:10.499Z"
   },
   {
    "duration": 7,
    "start_time": "2022-07-02T17:05:10.530Z"
   },
   {
    "duration": 9,
    "start_time": "2022-07-02T17:05:10.541Z"
   },
   {
    "duration": 5,
    "start_time": "2022-07-02T17:05:10.552Z"
   },
   {
    "duration": 12,
    "start_time": "2022-07-02T17:05:10.558Z"
   },
   {
    "duration": 11,
    "start_time": "2022-07-02T17:05:10.572Z"
   },
   {
    "duration": 7,
    "start_time": "2022-07-02T17:05:10.585Z"
   },
   {
    "duration": 34,
    "start_time": "2022-07-02T17:05:10.594Z"
   },
   {
    "duration": 11,
    "start_time": "2022-07-02T17:05:10.630Z"
   },
   {
    "duration": 14,
    "start_time": "2022-07-02T17:05:10.642Z"
   },
   {
    "duration": 11,
    "start_time": "2022-07-02T17:05:10.658Z"
   },
   {
    "duration": 7,
    "start_time": "2022-07-02T17:05:10.671Z"
   },
   {
    "duration": 29,
    "start_time": "2022-07-02T17:05:10.680Z"
   },
   {
    "duration": 16,
    "start_time": "2022-07-02T17:05:10.728Z"
   },
   {
    "duration": 6,
    "start_time": "2022-07-02T17:05:10.746Z"
   },
   {
    "duration": 6,
    "start_time": "2022-07-02T17:05:10.754Z"
   },
   {
    "duration": 22,
    "start_time": "2022-07-02T17:05:10.762Z"
   },
   {
    "duration": 6,
    "start_time": "2022-07-02T17:05:10.785Z"
   },
   {
    "duration": 34,
    "start_time": "2022-07-02T17:05:10.793Z"
   },
   {
    "duration": 21,
    "start_time": "2022-07-02T17:05:10.830Z"
   },
   {
    "duration": 14,
    "start_time": "2022-07-02T17:05:10.853Z"
   },
   {
    "duration": 9,
    "start_time": "2022-07-02T17:05:10.869Z"
   },
   {
    "duration": 98,
    "start_time": "2022-07-02T17:05:10.880Z"
   },
   {
    "duration": 6,
    "start_time": "2022-07-02T17:05:10.979Z"
   },
   {
    "duration": 42,
    "start_time": "2022-07-02T17:05:10.987Z"
   },
   {
    "duration": 55,
    "start_time": "2022-07-02T17:05:11.030Z"
   },
   {
    "duration": 18,
    "start_time": "2022-07-02T17:05:11.087Z"
   },
   {
    "duration": 46,
    "start_time": "2022-07-02T17:05:11.107Z"
   },
   {
    "duration": 23,
    "start_time": "2022-07-02T17:05:11.154Z"
   },
   {
    "duration": 72,
    "start_time": "2022-07-02T17:05:11.179Z"
   },
   {
    "duration": 12,
    "start_time": "2022-07-02T17:05:11.253Z"
   },
   {
    "duration": 21,
    "start_time": "2022-07-02T17:05:11.267Z"
   },
   {
    "duration": 10,
    "start_time": "2022-07-02T17:05:11.290Z"
   },
   {
    "duration": 26,
    "start_time": "2022-07-02T17:05:11.302Z"
   },
   {
    "duration": 15,
    "start_time": "2022-07-02T17:05:11.330Z"
   },
   {
    "duration": 17,
    "start_time": "2022-07-02T17:05:11.347Z"
   },
   {
    "duration": 10,
    "start_time": "2022-07-02T17:05:11.366Z"
   },
   {
    "duration": 164,
    "start_time": "2022-07-02T17:05:11.377Z"
   },
   {
    "duration": 10,
    "start_time": "2022-07-02T17:05:11.544Z"
   },
   {
    "duration": 27,
    "start_time": "2022-07-02T17:05:11.556Z"
   },
   {
    "duration": 8,
    "start_time": "2022-07-02T17:05:11.585Z"
   },
   {
    "duration": 24,
    "start_time": "2022-07-02T17:05:11.595Z"
   },
   {
    "duration": 6,
    "start_time": "2022-07-02T17:05:11.627Z"
   },
   {
    "duration": 125,
    "start_time": "2022-07-02T17:05:11.635Z"
   },
   {
    "duration": 205,
    "start_time": "2022-07-02T17:05:11.762Z"
   },
   {
    "duration": 7,
    "start_time": "2022-07-02T17:05:11.969Z"
   },
   {
    "duration": 8,
    "start_time": "2022-07-02T17:05:11.978Z"
   },
   {
    "duration": 8,
    "start_time": "2022-07-02T17:05:11.988Z"
   },
   {
    "duration": 197,
    "start_time": "2022-07-02T17:05:11.998Z"
   },
   {
    "duration": 8,
    "start_time": "2022-07-02T17:05:12.197Z"
   },
   {
    "duration": 21,
    "start_time": "2022-07-02T17:05:12.207Z"
   },
   {
    "duration": 725,
    "start_time": "2022-07-02T17:05:12.231Z"
   },
   {
    "duration": 6,
    "start_time": "2022-07-02T17:05:12.958Z"
   },
   {
    "duration": 196,
    "start_time": "2022-07-02T17:05:12.966Z"
   },
   {
    "duration": 8,
    "start_time": "2022-07-02T17:05:13.164Z"
   },
   {
    "duration": 9,
    "start_time": "2022-07-02T17:05:13.173Z"
   },
   {
    "duration": 5,
    "start_time": "2022-07-02T17:05:13.189Z"
   },
   {
    "duration": 196,
    "start_time": "2022-07-02T17:05:13.196Z"
   },
   {
    "duration": 8,
    "start_time": "2022-07-02T17:05:13.394Z"
   },
   {
    "duration": 284,
    "start_time": "2022-07-02T17:05:13.403Z"
   },
   {
    "duration": 6,
    "start_time": "2022-07-02T17:05:13.689Z"
   },
   {
    "duration": 141,
    "start_time": "2022-07-02T17:05:13.697Z"
   },
   {
    "duration": 6,
    "start_time": "2022-07-02T17:05:13.840Z"
   },
   {
    "duration": 255,
    "start_time": "2022-07-02T17:05:13.848Z"
   },
   {
    "duration": 8,
    "start_time": "2022-07-02T17:05:14.106Z"
   },
   {
    "duration": 6,
    "start_time": "2022-07-02T17:05:14.126Z"
   },
   {
    "duration": 6,
    "start_time": "2022-07-02T17:05:14.135Z"
   },
   {
    "duration": 197,
    "start_time": "2022-07-02T17:05:14.142Z"
   },
   {
    "duration": 6,
    "start_time": "2022-07-02T17:05:14.341Z"
   },
   {
    "duration": 8,
    "start_time": "2022-07-02T17:05:14.349Z"
   },
   {
    "duration": 128,
    "start_time": "2022-07-02T17:05:14.358Z"
   },
   {
    "duration": 5,
    "start_time": "2022-07-02T17:05:14.488Z"
   },
   {
    "duration": 206,
    "start_time": "2022-07-02T17:05:14.495Z"
   },
   {
    "duration": 9,
    "start_time": "2022-07-02T17:05:14.703Z"
   },
   {
    "duration": 20,
    "start_time": "2022-07-02T17:05:14.713Z"
   },
   {
    "duration": 8,
    "start_time": "2022-07-02T17:05:14.735Z"
   },
   {
    "duration": 207,
    "start_time": "2022-07-02T17:05:14.745Z"
   },
   {
    "duration": 6,
    "start_time": "2022-07-02T17:05:14.954Z"
   },
   {
    "duration": 255,
    "start_time": "2022-07-02T17:05:14.962Z"
   },
   {
    "duration": 12,
    "start_time": "2022-07-02T17:05:15.219Z"
   },
   {
    "duration": 154,
    "start_time": "2022-07-02T17:05:15.233Z"
   },
   {
    "duration": 201,
    "start_time": "2022-07-02T17:05:15.389Z"
   },
   {
    "duration": 8,
    "start_time": "2022-07-02T17:05:15.592Z"
   },
   {
    "duration": 13,
    "start_time": "2022-07-02T17:05:15.602Z"
   },
   {
    "duration": 8,
    "start_time": "2022-07-02T17:05:15.628Z"
   },
   {
    "duration": 175,
    "start_time": "2022-07-02T17:05:15.638Z"
   },
   {
    "duration": 6,
    "start_time": "2022-07-02T17:05:15.815Z"
   },
   {
    "duration": 10,
    "start_time": "2022-07-02T17:05:15.826Z"
   },
   {
    "duration": 124,
    "start_time": "2022-07-02T17:05:15.837Z"
   },
   {
    "duration": 7,
    "start_time": "2022-07-02T17:05:15.963Z"
   },
   {
    "duration": 15,
    "start_time": "2022-07-02T17:05:15.972Z"
   },
   {
    "duration": 250,
    "start_time": "2022-07-02T17:05:15.990Z"
   },
   {
    "duration": 8,
    "start_time": "2022-07-02T17:05:16.242Z"
   },
   {
    "duration": 8,
    "start_time": "2022-07-02T17:05:16.252Z"
   },
   {
    "duration": 8,
    "start_time": "2022-07-02T17:05:16.263Z"
   },
   {
    "duration": 297,
    "start_time": "2022-07-02T17:05:16.273Z"
   },
   {
    "duration": 11,
    "start_time": "2022-07-02T17:05:16.572Z"
   },
   {
    "duration": 273,
    "start_time": "2022-07-02T17:05:16.584Z"
   },
   {
    "duration": 12,
    "start_time": "2022-07-02T17:05:16.859Z"
   },
   {
    "duration": 12,
    "start_time": "2022-07-02T17:05:16.873Z"
   },
   {
    "duration": 12,
    "start_time": "2022-07-02T17:05:16.886Z"
   },
   {
    "duration": 9,
    "start_time": "2022-07-02T17:05:16.900Z"
   },
   {
    "duration": 7,
    "start_time": "2022-07-02T17:05:16.926Z"
   },
   {
    "duration": 21,
    "start_time": "2022-07-02T17:05:16.935Z"
   },
   {
    "duration": 216,
    "start_time": "2022-07-02T17:05:16.959Z"
   },
   {
    "duration": 9,
    "start_time": "2022-07-02T17:05:17.177Z"
   },
   {
    "duration": 206,
    "start_time": "2022-07-02T17:05:17.187Z"
   },
   {
    "duration": 8,
    "start_time": "2022-07-02T17:05:17.395Z"
   },
   {
    "duration": 7,
    "start_time": "2022-07-02T17:05:17.405Z"
   },
   {
    "duration": 7,
    "start_time": "2022-07-02T17:05:17.428Z"
   },
   {
    "duration": 14,
    "start_time": "2022-07-02T17:05:17.436Z"
   },
   {
    "duration": 204,
    "start_time": "2022-07-02T17:05:17.451Z"
   },
   {
    "duration": 7,
    "start_time": "2022-07-02T17:05:17.657Z"
   },
   {
    "duration": 16,
    "start_time": "2022-07-02T17:05:17.666Z"
   },
   {
    "duration": 196,
    "start_time": "2022-07-02T17:05:17.684Z"
   },
   {
    "duration": 6,
    "start_time": "2022-07-02T17:05:17.883Z"
   }
  ],
  "kernelspec": {
   "display_name": "Python 3 (ipykernel)",
   "language": "python",
   "name": "python3"
  },
  "language_info": {
   "codemirror_mode": {
    "name": "ipython",
    "version": 3
   },
   "file_extension": ".py",
   "mimetype": "text/x-python",
   "name": "python",
   "nbconvert_exporter": "python",
   "pygments_lexer": "ipython3",
   "version": "3.9.12"
  },
  "toc": {
   "base_numbering": 1,
   "nav_menu": {
    "height": "190px",
    "width": "238px"
   },
   "number_sections": true,
   "sideBar": true,
   "skip_h1_title": false,
   "title_cell": "Table of Contents",
   "title_sidebar": "Contents",
   "toc_cell": false,
   "toc_position": {},
   "toc_section_display": true,
   "toc_window_display": true
  }
 },
 "nbformat": 4,
 "nbformat_minor": 5
}
